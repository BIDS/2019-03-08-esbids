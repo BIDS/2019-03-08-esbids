{
 "cells": [
  {
   "cell_type": "code",
   "execution_count": null,
   "metadata": {},
   "outputs": [],
   "source": [
    "g = @ode_def begin\n",
    "    dx[:] .= σ*(y-x[:])\n",
    "    dy = x*(ρ-z) - y\n",
    "    dz = x*y - β*z\n",
    "end σ ρ β"
   ]
  },
  {
   "cell_type": "code",
   "execution_count": 1,
   "metadata": {},
   "outputs": [
    {
     "ename": "ErrorException",
     "evalue": "syntax: unexpected semicolon in array expression",
     "output_type": "error",
     "traceback": [
      "syntax: unexpected semicolon in array expression",
      ""
     ]
    }
   ],
   "source": [
    "u0 = [[1.,2.];[1.,2.;3.,4.];0.]\n",
    "tspan = (0.,1.)\n",
    "p = [10., 28., 8/3]\n",
    "prob = ODEProblem(g, u0, tspan, p)"
   ]
  },
  {
   "cell_type": "code",
   "execution_count": null,
   "metadata": {},
   "outputs": [],
   "source": [
    "u0 = ArrayPartion(zeros(4,6), zeros(8,6), )"
   ]
  },
  {
   "cell_type": "code",
   "execution_count": null,
   "metadata": {},
   "outputs": [],
   "source": [
    "        # Eggs\n",
    "        du.x[1][1,j]\n",
    "        du[1,j] = eggsnew - E1[j]*(μE + qE*nE) \n",
    "        du[2,j] = qE*nE*E1[j] - E2[j]*(μE + qE*nE)\n",
    "        du[3,j] = qE*nE*E2[j] - E3[j]*(μE + qE*nE)\n",
    "        du[4,j] = qE*nE*E3[j] - E4[j]*(μE + qE*nE)\n",
    "        \n",
    "        # Larvae \n",
    "        du.x[2][1,j]\n",
    "        du[5,j] = qE*nE*E4[j] - L1[j]*(μL*(1 + (sum(L)/K)) + qL*nL)"
   ]
  },
  {
   "cell_type": "code",
   "execution_count": null,
   "metadata": {},
   "outputs": [],
   "source": [
    "m = reshape(1:16, (4,4)) |> collect"
   ]
  },
  {
   "cell_type": "code",
   "execution_count": null,
   "metadata": {},
   "outputs": [],
   "source": [
    "m2 = view(m, 2,:)"
   ]
  },
  {
   "cell_type": "code",
   "execution_count": null,
   "metadata": {},
   "outputs": [],
   "source": [
    "m2[3]"
   ]
  },
  {
   "cell_type": "code",
   "execution_count": null,
   "metadata": {},
   "outputs": [],
   "source": [
    "m[2,3] = 99"
   ]
  },
  {
   "cell_type": "code",
   "execution_count": null,
   "metadata": {},
   "outputs": [],
   "source": [
    "m2[3]"
   ]
  },
  {
   "cell_type": "code",
   "execution_count": null,
   "metadata": {},
   "outputs": [],
   "source": [
    "m = view(m, 2:3, 2:4)"
   ]
  },
  {
   "cell_type": "code",
   "execution_count": null,
   "metadata": {},
   "outputs": [],
   "source": [
    "for i=1:5\n",
    "    for j=1:5\n",
    "        @show i\n",
    "        @show j\n",
    "    end\n",
    "    \n",
    "    for j=1:5\n",
    "        @show i\n",
    "        @show j\n",
    "    end\n",
    "    println()\n",
    "end"
   ]
  },
  {
   "cell_type": "code",
   "execution_count": null,
   "metadata": {},
   "outputs": [],
   "source": [
    "# not like this \n",
    "\n",
    "        du[5,j] = qE*nE*E4[j] - L[1,j]*(μL*(1 + (sum(L)/K)) + qL*nL)    \n",
    "        for i=1:size(du.x[2])[1]\n",
    "            du.x[2][i,j] = qL*nL*L[i,j] - L[i+1,j]*(μL*(1 + (sum(L)/K)) + qL*nL)\n",
    "        end"
   ]
  },
  {
   "cell_type": "code",
   "execution_count": 5,
   "metadata": {},
   "outputs": [
    {
     "data": {
      "text/plain": [
       "4×4 Array{Float64,2}:\n",
       " 0.0  0.0  0.0  0.0\n",
       " 0.0  0.0  0.0  0.0\n",
       " 0.0  0.0  0.0  0.0\n",
       " 0.0  0.0  0.0  0.0"
      ]
     },
     "execution_count": 5,
     "metadata": {},
     "output_type": "execute_result"
    }
   ],
   "source": [
    "test = zeros(4,4)"
   ]
  },
  {
   "cell_type": "code",
   "execution_count": 6,
   "metadata": {},
   "outputs": [
    {
     "data": {
      "text/plain": [
       "4"
      ]
     },
     "execution_count": 6,
     "metadata": {},
     "output_type": "execute_result"
    }
   ],
   "source": [
    "test[4,1] = 4"
   ]
  },
  {
   "cell_type": "code",
   "execution_count": 7,
   "metadata": {},
   "outputs": [
    {
     "data": {
      "text/plain": [
       "4×4 Array{Float64,2}:\n",
       " 0.0  0.0  0.0  0.0\n",
       " 0.0  0.0  0.0  0.0\n",
       " 0.0  0.0  0.0  0.0\n",
       " 4.0  0.0  0.0  0.0"
      ]
     },
     "execution_count": 7,
     "metadata": {},
     "output_type": "execute_result"
    }
   ],
   "source": [
    "test"
   ]
  },
  {
   "cell_type": "code",
   "execution_count": 8,
   "metadata": {},
   "outputs": [
    {
     "data": {
      "text/plain": [
       "4.0"
      ]
     },
     "execution_count": 8,
     "metadata": {},
     "output_type": "execute_result"
    }
   ],
   "source": [
    "test[end,1]"
   ]
  },
  {
   "cell_type": "code",
   "execution_count": null,
   "metadata": {},
   "outputs": [],
   "source": [
    "using Random"
   ]
  },
  {
   "cell_type": "code",
   "execution_count": null,
   "metadata": {},
   "outputs": [],
   "source": [
    "t = rand(10,10)\n",
    "t .*(t .< 0.5)"
   ]
  }
 ],
 "metadata": {
  "kernelspec": {
   "display_name": "Julia 1.1.0",
   "language": "julia",
   "name": "julia-1.1"
  },
  "language_info": {
   "file_extension": ".jl",
   "mimetype": "application/julia",
   "name": "julia",
   "version": "1.1.0"
  }
 },
 "nbformat": 4,
 "nbformat_minor": 2
}
