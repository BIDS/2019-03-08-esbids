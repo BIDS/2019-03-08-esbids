{
 "cells": [
  {
   "cell_type": "markdown",
   "metadata": {},
   "source": [
    "###### Description: \n",
    "This notebook features a script for a single-node, deterministic, continuous time version of MGDrivE with genetics included. \n",
    "\n",
    "###### Improvement over MGDrivE: \n",
    "Checks equilibrium values with NLSolve; analytical solutions are used as \"initial guesses.\" \n",
    "\n",
    "DiffEq with is used for the ODE implementation, employing callbacks for controlled release simulation. \n",
    "\n",
    "###### Releases for this version are tested using M.\n",
    "(Previously, used F where [i,j] = [1,1] but this has arguable meaning given that j of F matrix = M genotype. Need to think more about this.) \n",
    "\n",
    "###### Next steps: \n",
    "(1) Create structs + develop new approach to \"cube\" (via structs?) \n",
    "\n",
    "(2) Update ArrayPartition usage for loops if the package is fixed (Chris R is on the case...)  "
   ]
  },
  {
   "cell_type": "markdown",
   "metadata": {},
   "source": [
    "## Necessary packages "
   ]
  },
  {
   "cell_type": "code",
   "execution_count": 1,
   "metadata": {},
   "outputs": [
    {
     "name": "stderr",
     "output_type": "stream",
     "text": [
      "┌ Info: Recompiling stale cache file /Users/vnvasquez/.julia/compiled/v1.1/DifferentialEquations/UQdwS.ji for DifferentialEquations [0c46a032-eb83-5123-abaf-570d42b7fbaa]\n",
      "└ @ Base loading.jl:1184\n",
      "WARNING: Method definition nlsolve_f(Any) in module OrdinaryDiffEq at /Users/vnvasquez/.julia/packages/OrdinaryDiffEq/TUKTm/src/integrators/integrator_utils.jl:359 overwritten in module StochasticDiffEq at /Users/vnvasquez/.julia/packages/StochasticDiffEq/Y07eQ/src/integrators/integrator_utils.jl:340.\n",
      "WARNING: Method definition nlsolve_f(Any, Any) in module OrdinaryDiffEq at /Users/vnvasquez/.julia/packages/OrdinaryDiffEq/TUKTm/src/integrators/integrator_utils.jl:358 overwritten in module StochasticDiffEq at /Users/vnvasquez/.julia/packages/StochasticDiffEq/Y07eQ/src/integrators/integrator_utils.jl:339.\n",
      "┌ Info: Recompiling stale cache file /Users/vnvasquez/.julia/compiled/v1.1/Plots/ld3vC.ji for Plots [91a5bcdd-55d7-5caf-9e0b-520d859cae80]\n",
      "└ @ Base loading.jl:1184\n",
      "┌ Info: Recompiling stale cache file /Users/vnvasquez/.julia/compiled/v1.1/DiffEqSensitivity/02xYn.ji for DiffEqSensitivity [41bf760c-e81c-5289-8e54-58b1f1f8abe2]\n",
      "└ @ Base loading.jl:1184\n"
     ]
    }
   ],
   "source": [
    "using DifferentialEquations \n",
    "using AxisArrays\n",
    "using NLsolve\n",
    "using Plots\n",
    "gr()\n",
    "using LinearAlgebra\n",
    "using RecursiveArrayTools\n",
    "using ParameterizedFunctions\n",
    "using Sundials\n",
    "using DiffEqSensitivity\n",
    "\n",
    ";\n",
    "\n",
    "# using DiffEqUncertainty"
   ]
  },
  {
   "cell_type": "markdown",
   "metadata": {},
   "source": [
    "## Parameter values "
   ]
  },
  {
   "cell_type": "code",
   "execution_count": 2,
   "metadata": {},
   "outputs": [],
   "source": [
    "\n",
    "nG = 6     # number of potential genotypes (mostly used for accounting purposes in females, possibly other stuff too)\n",
    "\n",
    "########### \"Theta\" list of parameters from 4/3/2019 version\n",
    "\n",
    "β = 16.0   # fecundity\n",
    "TE = 4     # Total stage duration \n",
    "qE = 1/TE  # \"q\" vars also called \"r\"; represent total time in each \"bin\"/substage  \n",
    "nE = 4     # number of \"bins\"/substages in this stage \n",
    "μE = 0.05  # mortality aka probability of dying in this stage \n",
    "\n",
    "TL = 3     \n",
    "qL = 1/TL\n",
    "nL = 8\n",
    "μL = 0.15\n",
    "\n",
    "TP = 6\n",
    "qP = 1/TP \n",
    "nP = 6\n",
    "μP = 0.05 \n",
    "\n",
    "NF = 500.0 \n",
    "μF = 0.09 \n",
    "μM = 0.09  \n",
    "ϕ = 0.5    # gender \n",
    "\n",
    "########### Density dependence options \n",
    "γ = 0.001  # linear case; value from Hancock paper\n",
    "K = 355.0  # logistic case; carrying capacity also listed as \"1\" elsewhere \n",
    "\n",
    "########### Include cube-related parameters\n",
    "s = ones(6)\n",
    "β_s = beta_s = β*s\n",
    "τ = tau = ones(6,6,6)\n",
    "η = ones(6)\n",
    "# cube = see construction and values below\n",
    "; \n"
   ]
  },
  {
   "cell_type": "markdown",
   "metadata": {},
   "source": [
    "## Calculate \"guesses\" for NLSolve"
   ]
  },
  {
   "cell_type": "code",
   "execution_count": 3,
   "metadata": {},
   "outputs": [],
   "source": [
    "# Pupae\n",
    "function init_P(NF, μF, nP, qP, ϕ, μP)  \n",
    "    P0 = zeros(6)  \n",
    "    P0[end] = (NF*μF) / (nP*qP*ϕ)    \n",
    "    for i in length(P0)-1:-1:1\n",
    "        P0[i] = ((μP + qP*nP)/(qP*nP)) * P0[i+1]\n",
    "    end   \n",
    "    return P0    \n",
    "end\n",
    "\n",
    "\n",
    "# Eggs\n",
    "function init_E(β, NF, μE, qE, nE)\n",
    "    # placeholder for each day of history \n",
    "    E0 = zeros(4)    \n",
    "    # initialize at equilibrium  \n",
    "    E0[1] = β*NF / (μE + qE*nE)   \n",
    "    # obtain values for each day of history based on eq \n",
    "    for i in 2:length(E0)\n",
    "        E0[i] = (qE*nE*E0[i-1]) / (μE + qE*nE)\n",
    "    end    \n",
    "    # show result\n",
    "    return E0\n",
    "end\n",
    "\n",
    "\n",
    "# Larvae \n",
    "function init_L(μP, qP, nP, qL, nL, P0, qE, nE)  \n",
    "    L0 = zeros(8)\n",
    "    L0[end] = ((μP + qP*nP)/(qL*nL)) * P0[1] \n",
    "    Lend = L0[end]\n",
    "    Eend = E0[end]  \n",
    "    for i in length(L0)-1:-1:1\n",
    "        L0[i] = ((Lend^(i/nL)) * (Eend^((nL-i)/nL)) * (nE^((nL-i)/nL)) * (qE^((nL-i)/nL))) / \n",
    "        ((nL^((nL-i)/nL)) * (qL^((nL-i)/nL)))\n",
    "    end    \n",
    "    return L0   \n",
    "end\n",
    "\n",
    "\n",
    "# Adult Males   \n",
    "function init_NM(ϕ, qP, nP, P0, μM)\n",
    "    NM = ((1-ϕ)*qP*nP*P0[end]) / μM\n",
    "    return NM  \n",
    "end\n",
    "\n",
    "# Adult Females: EQ NOT CALCULATED; SIMPLY ASSIGNED A VALUE (NF = 500.0)\n",
    "\n",
    "E0 = init_E(β, NF, μE, qE, nE)\n",
    "P0 = init_P(NF, μF, nP, qP, ϕ, μP) \n",
    "L0 = init_L(μP, qP, nP, qL, nL, P0, qE, nE)\n",
    "NM = init_NM(ϕ, qP, nP, P0, μM)\n",
    "\n",
    "#= Check against comparison values from version of 4-3-2019: correct! \n",
    "$init\n",
    "    E1         E2         E3         E4         L1         L2         L3         L4         L5         L6         L7 \n",
    "7619.04762 7256.23583 6910.70079 6581.61980 1497.07910  908.08277  550.81547  334.10795  202.65975  122.92726 74.56395 \n",
    "    L8         P1         P2         P3         P4         P5         P6         NF         NM \n",
    "45.22823  114.86534  109.39556  104.18625   99.22500   94.50000   90.00000  500.00000  500.00000 \n",
    "=#\n",
    "; \n"
   ]
  },
  {
   "cell_type": "markdown",
   "metadata": {},
   "source": [
    "## Create life stage structures; initialize with eq \"guesses\" (wildtype values)"
   ]
  },
  {
   "cell_type": "code",
   "execution_count": 4,
   "metadata": {},
   "outputs": [],
   "source": [
    "# Empty structures\n",
    "eggs = zeros(4,6)\n",
    "larvae = zeros(8,6)\n",
    "pupae = zeros(6,6)\n",
    "NM = zeros(6)\n",
    "NF = zeros(6,6)\n",
    "\n",
    "# Format values from equilibrium equations above \n",
    "init_eggs = [7619.04  7256.24  6910.7  6581.62]'\n",
    "init_larvae = [1497.08  908.083  550.815  334.108  202.66  122.927  74.5639  45.2282]'\n",
    "init_pupae = [114.865  109.396  104.186  99.225  94.5  90.0]'\n",
    "\n",
    "# Insert values \n",
    "eggs[:, 4] = init_eggs\n",
    "larvae[:, 4] = init_larvae\n",
    "pupae[:, 4] = init_pupae\n",
    "NM[4] = 500.0\n",
    "NF[4,4] = 500.0\n",
    ";"
   ]
  },
  {
   "cell_type": "code",
   "execution_count": 5,
   "metadata": {},
   "outputs": [
    {
     "data": {
      "text/plain": [
       "Array{Float64,2}"
      ]
     },
     "execution_count": 5,
     "metadata": {},
     "output_type": "execute_result"
    }
   ],
   "source": [
    "# Put it together (transpose NM for shape alignment)\n",
    "u0_orig = vcat(eggs, larvae, pupae, transpose(NM), NF)\n",
    ";\n",
    "\n",
    "typeof(u0_orig)\n",
    "\n",
    "#u0_array = ArrayPartition(eggs, larvae, pupae, NM, NF)"
   ]
  },
  {
   "cell_type": "markdown",
   "metadata": {},
   "source": [
    "## Build \"ih\" cube"
   ]
  },
  {
   "cell_type": "code",
   "execution_count": 6,
   "metadata": {},
   "outputs": [],
   "source": [
    "# Create empty cube \n",
    "cube = zeros(6,6,6)  \n",
    "\n",
    "# Make each layer \n",
    "layer1 = [1.0 1.0 0.50  0  0  0; 1.0 1.0 0.50  0  0  0; 0.5 0.5 0.25  0  0  0; \n",
    "        0.0 0.0 0.00  0  0  0; 0.0 0.0 0.00  0  0  0; 0.0 0.0 0.00  0  0  0]\n",
    "\n",
    "layer2 = [0.0 0.0 0.00 1.0 0.50  0; 0.0 0.0 0.00 1.0 0.50  0; 0.0 0.0 0.00 0.5 0.25  0; \n",
    "        1.0 1.0 0.50 0.0 0.00  0; 0.5 0.5 0.25 0.0 0.00  0; 0.0 0.0 0.00 0.0 0.00  0]\n",
    "\n",
    "layer3 = [0.0 0.0 0.50  0 0.50 1.0; 0.0 0.0 0.50  0 0.50 1.0; 0.5 0.5 0.50  0 0.25 0.5;\n",
    "        0.0 0.0 0.00  0 0.00 0.0; 0.5 0.5 0.25  0 0.00 0.0; 1.0 1.0 0.50  0 0.00 0.0]\n",
    "\n",
    "layer4 = [0  0  0 0.0 0.00  0; 0  0  0 0.0 0.00  0; 0  0  0 0.0 0.00  0; \n",
    "        0  0  0 1.0 0.50  0; 0  0  0 0.5 0.25  0; 0  0  0 0.0 0.00  0]\n",
    "\n",
    "layer5 = [0  0  0 0.0 0.00  0; 0  0  0 0.0 0.00  0; 0  0 0.00 0.5 0.25 0.0; \n",
    "        0  0 0.50 0.0 0.50 1.0; 0  0 0.25 0.5 0.50 0.5; 0  0 0.00 1.0 0.50 0.0]\n",
    "\n",
    "layer6 = [0  0  0 0.0 0.00  0; 0  0  0 0.0 0.00  0; 0  0 0.25  0 0.25 0.5; \n",
    "        0  0 0.00  0 0.00 0.0; 0  0 0.25  0 0.25 0.5; 0  0 0.50  0 0.50 1.0]\n",
    "\n",
    "# Populate the cube \n",
    "cube[:,:,1] = layer1\n",
    "cube[:,:,2] = layer2\n",
    "cube[:,:,3] = layer3\n",
    "cube[:,:,4] = layer4\n",
    "cube[:,:,5] = layer5\n",
    "cube[:,:,6] = layer6\n",
    "\n",
    "# Each cell of \"check\" should add to one if correct\n",
    "check = layer1 + layer2 + layer3 + layer4 + layer5 + layer6  \n",
    ";\n"
   ]
  },
  {
   "cell_type": "markdown",
   "metadata": {},
   "source": [
    "## Use NLSolve to check eq values"
   ]
  },
  {
   "cell_type": "code",
   "execution_count": 7,
   "metadata": {},
   "outputs": [],
   "source": [
    "function init(du, u, params, t)\n",
    "    \n",
    "    ##################\n",
    "    # State space\n",
    "    ##################\n",
    "    \n",
    "    # Question -> how to make the legnth of each stage flexible in the absence of ArrayPartitions? \n",
    "    # Thought1: length(stage) for juvenile x3, length(genes) for female, and always = 1 for males. \n",
    "    # Thought2: @show size(du)\n",
    "    \n",
    "    \n",
    "    # Eggs \n",
    "    E = u[1:4,:]\n",
    "    dE = du[1:4,:]\n",
    "    \n",
    "    # Larvae\n",
    "    L = u[5:12,:]\n",
    "    dL = du[5:12,:]\n",
    "\n",
    "    # Pupae\n",
    "    P = u[13:18,:]\n",
    "    dP = du[13:18,:]\n",
    "    \n",
    "    # Males \n",
    "    NM = u[19,:]\n",
    "    dNM = du[19,:]\n",
    "    \n",
    "    # Females \n",
    "    NF = u[20:25,:]\n",
    "    dNF = du[20:25,:]\n",
    "    \n",
    "    \n",
    "    ##################\n",
    "    # Parameters \n",
    "    ##################\n",
    "    \n",
    "    nG, qE, nE, μE, qL, nL, μL, qP, nP, μP, μF, μM, ϕ, β, γ, s, τ, cube, η, K = params \n",
    "    \n",
    "    ##################\n",
    "    # Equations \n",
    "    ##################\n",
    "    \n",
    "    # Loop over genes in each life stage & substage  \n",
    "    for j in 1:6    \n",
    "        \n",
    "        ## Oviposition \n",
    "        eggsnew = sum(cube[:,:,j].*τ[:,:,j].*s*β.*NF)\n",
    "          \n",
    "        \n",
    "        ## Eggs\n",
    "        dE[1,j] = eggsnew - E[1,j]*(μE + qE*nE) \n",
    "        \n",
    "        for i in 2:size(dE)[1]  \n",
    "            dE[i,j] = qE*nE*E[i-1,j] - E[i,j]*(μE + qE*nE)\n",
    "        end\n",
    "        \n",
    "        \n",
    "        ##Larvae \n",
    "        dL[1,j] = qE*nE*E[end,j] - L[1,j]*(μL*(1 + (sum(L)/K)) + qL*nL)\n",
    "\n",
    "        \n",
    "        for i in 2:size(dL)[1]\n",
    "            dL[i,j] = qL*nL*L[i-1,j] - L[i,j]*(μL*(1 + (sum(L)/K)) + qL*nL)\n",
    "        end\n",
    "        \n",
    "     \n",
    "        ## Pupae \n",
    "        dP[1,j] = qL*nL*L[end, j] - P[1,j]*(μP + qP*nP)\n",
    "        \n",
    "        for i in 2:size(dP)[1]\n",
    "            dP[i,j] = qP*nP*P[i-1,j] - P[i,j]*(μP + qP*nP)\n",
    "        end\n",
    "        \n",
    "        \n",
    "        ## Males \n",
    "        if j == 1\n",
    "            dNM[j] = (1-ϕ)*qP*nP*P[end,j] - μM*NM[j]\n",
    "        else\n",
    "            dNM[j] = (1-ϕ)*qP*nP*P[end,j] - μM*NM[j]\n",
    "        end\n",
    "        \n",
    "        #@show t, u.f1\n",
    "    \n",
    "        ## Mating\n",
    "        nowmate = NM.*η\n",
    "        nowmate = normalize(nowmate)\n",
    "        matematrix = nowmate*(ϕ*qP*nP*P[end,:]')\n",
    "\n",
    "    \n",
    "        ## Females\n",
    "        for i in 1:size(dNF)[1]\n",
    "\n",
    "                dNF[i,j] = matematrix[i,j] - μF*NF[i,j]   \n",
    "        \n",
    "        end # for i loop (females)\n",
    "\n",
    "    end #for j loop (genes)   \n",
    "\n",
    "end # for function \n",
    "\n",
    "\n",
    "# same params as used elswhere in this notebook \n",
    "params = [nG, qE, nE, μE, qL, nL, μL, qP, nP, μP, μF, μM, ϕ, β, γ, s, τ, cube, η, K]\n",
    "\n",
    "# New u0 calculated using NLSolve -> use previous u0 as initial \"guesses\"\n",
    "nlsol = nlsolve((du,u) -> init(du, u, params, 0), u0_orig);\n",
    "\n",
    "# Examine \"new\" u0 \n",
    "u0_new = nlsol.zero \n",
    "\n",
    ";"
   ]
  },
  {
   "cell_type": "markdown",
   "metadata": {},
   "source": [
    "## Create mutable struct employing DEDataVectors"
   ]
  },
  {
   "cell_type": "code",
   "execution_count": 8,
   "metadata": {},
   "outputs": [],
   "source": [
    "mutable struct SimType{T} <: DEDataMatrix{T}\n",
    "    x::Array{T,2}\n",
    "    f1::T\n",
    "end\n",
    "\n",
    "# x::ArrayPartition{T}"
   ]
  },
  {
   "cell_type": "markdown",
   "metadata": {},
   "source": [
    "## Define initial conditions for u.f1 and larger problem "
   ]
  },
  {
   "cell_type": "code",
   "execution_count": 9,
   "metadata": {},
   "outputs": [],
   "source": [
    "# Include the starting point for u.f1 in u0: \n",
    "u0 = SimType(u0_new, 0.0)\n",
    "\n",
    "tspan = (0.0,300.0) \n",
    "\n",
    "params = [nG, qE, nE, μE, qL, nL, μL, qP, nP, μP, μF, μM, ϕ, β, γ, s, τ, cube, η, K]\n",
    "\n",
    "typeof(u0)\n",
    ";"
   ]
  },
  {
   "cell_type": "markdown",
   "metadata": {},
   "source": [
    "## Create modified (u.f1) ODE function"
   ]
  },
  {
   "cell_type": "code",
   "execution_count": 14,
   "metadata": {},
   "outputs": [
    {
     "data": {
      "text/plain": [
       "ode_contNL (generic function with 1 method)"
      ]
     },
     "execution_count": 14,
     "metadata": {},
     "output_type": "execute_result"
    }
   ],
   "source": [
    "function ode_contNL(du, u, params, t)\n",
    "    \n",
    "    ##################\n",
    "    # State space\n",
    "    ##################\n",
    "    \n",
    "    # view(du, 1:4, :) -> constructs abstract syntax tree \n",
    "    # macro = like a function but runs earlier than the code \n",
    "    # macro runs only once \n",
    "    \n",
    "    ###### NB: [nE+1 : nE+nL]  can't do arithmetic to fix length of each stage; throws error: \"nE\" etc not recognized\n",
    "    \n",
    "    # Eggs \n",
    "    E = u[1:4,:]\n",
    "    dE = @view du[1:4,:]\n",
    "    \n",
    "    # Larvae\n",
    "    L = u[5:12,:]\n",
    "    dL = @view du[5:12,:]\n",
    "\n",
    "    # Pupae\n",
    "    P = u[13:18,:]\n",
    "    dP = @view du[13:18,:]\n",
    "    \n",
    "    # Males \n",
    "    NM = u[19,:]\n",
    "    dNM = @view du[19,:]\n",
    "    \n",
    "    # Females \n",
    "    NF = u[20:25,:]\n",
    "    dNF = @view du[20:25,:]\n",
    "    \n",
    "    \n",
    "    ##################\n",
    "    # Parameters \n",
    "    ##################\n",
    "    \n",
    "    nG, qE, nE, μE, qL, nL, μL, qP, nP, μP, μF, μM, ϕ, β, γ, s, τ, cube, η, K = params \n",
    "    \n",
    "    \n",
    "    ##################\n",
    "    # Equations \n",
    "    ##################\n",
    "    \n",
    "    # Loop over genes in each life stage & substage  \n",
    "    for j in 1:6    \n",
    "        \n",
    "        ## Oviposition \n",
    "        eggsnew = sum(cube[:,:,j].*τ[:,:,j].*s*β.*NF)\n",
    "        \n",
    "        ## Eggs\n",
    "        dE[1,j] = eggsnew - E[1,j]*(μE + qE*nE) \n",
    "        \n",
    "        for i in 2:size(dE)[1]  \n",
    "            dE[i,j] = qE*nE*E[i-1,j] - E[i,j]*(μE + qE*nE)\n",
    "        end\n",
    "        \n",
    "        ##Larvae \n",
    "        dL[1,j] = qE*nE*E[end,j] - L[1,j]*(μL*(1 + (sum(L)/K)) + qL*nL)\n",
    "\n",
    "        \n",
    "        for i in 2:size(dL)[1]\n",
    "            dL[i,j] = qL*nL*L[i-1,j] - L[i,j]*(μL*(1 + (sum(L)/K)) + qL*nL)\n",
    "        end\n",
    "        \n",
    "     \n",
    "        ## Pupae \n",
    "        dP[1,j] = qL*nL*L[end, j] - P[1,j]*(μP + qP*nP)\n",
    "        \n",
    "        for i in 2:size(dP)[1]\n",
    "            dP[i,j] = qP*nP*P[i-1,j] - P[i,j]*(μP + qP*nP)\n",
    "        end\n",
    "        \n",
    "        \n",
    "        ## Males \n",
    "        if j == 1\n",
    "            dNM[j] = (1-ϕ)*qP*nP*P[end,j] - μM*NM[j] + u.f1\n",
    "        else\n",
    "            dNM[j] = (1-ϕ)*qP*nP*P[end,j] - μM*NM[j]\n",
    "        end\n",
    "        \n",
    "        #@show t, u.f1\n",
    "    \n",
    "        ## Mating\n",
    "        nowmate = NM.*η\n",
    "        nowmate = normalize(nowmate)\n",
    "        matematrix = nowmate*(ϕ*qP*nP*P[end,:]')\n",
    "\n",
    "    \n",
    "        ## Females\n",
    "        for i in 1:size(dNF)[1]\n",
    "\n",
    "                dNF[i,j] = matematrix[i,j] - μF*NF[i,j] \n",
    "        \n",
    "        end # for i loop (females)\n",
    "\n",
    "    end #for j loop (genes)   \n",
    "\n",
    "end # for function \n"
   ]
  },
  {
   "cell_type": "markdown",
   "metadata": {},
   "source": [
    "## Set up control mechanism"
   ]
  },
  {
   "cell_type": "code",
   "execution_count": 25,
   "metadata": {},
   "outputs": [
    {
     "name": "stderr",
     "output_type": "stream",
     "text": [
      "WARNING: redefining constant tstop1\n",
      "WARNING: redefining constant tstop2\n",
      "WARNING: redefining constant tstops\n"
     ]
    },
    {
     "data": {
      "text/plain": [
       "CallbackSet{Tuple{},Tuple{DiscreteCallback{typeof(condition1),typeof(effect1!),typeof(DiffEqBase.INITIALIZE_DEFAULT)},DiscreteCallback{typeof(condition2),typeof(effect2!),typeof(DiffEqBase.INITIALIZE_DEFAULT)}}}((), (DiscreteCallback{typeof(condition1),typeof(effect1!),typeof(DiffEqBase.INITIALIZE_DEFAULT)}(condition1, effect1!, DiffEqBase.INITIALIZE_DEFAULT, Bool[true, true]), DiscreteCallback{typeof(condition2),typeof(effect2!),typeof(DiffEqBase.INITIALIZE_DEFAULT)}(condition2, effect2!, DiffEqBase.INITIALIZE_DEFAULT, Bool[true, true])))"
      ]
     },
     "execution_count": 25,
     "metadata": {},
     "output_type": "execute_result"
    }
   ],
   "source": [
    "# Time points at which f1 will change (cond1 v cond2)\n",
    "const tstop1 = [25.,35.,45.,55.,65.]\n",
    "const tstop2 = [26.,36.,46.,56.,66.]\n",
    "\n",
    "# First \n",
    "function condition1(u, t, integrator, ison)\n",
    "    for t in tstop1 \n",
    "        ison == true\n",
    "    end\n",
    "end\n",
    "\n",
    "\n",
    "function effect1!(integrator,ison)\n",
    "    for c in full_cache(integrator)\n",
    "        if ison == true\n",
    "            c.f1 = 50.\n",
    "        end \n",
    "    end\n",
    "end\n",
    "\n",
    "# Second \n",
    "function condition2(u, t, integrator, ison)\n",
    "    for t in tstop2 \n",
    "        ison == false\n",
    "    end\n",
    "end\n",
    "\n",
    "\n",
    "function effect2!(integrator,ison)\n",
    "    for c in full_cache(integrator)\n",
    "        if ison == false\n",
    "            c.f1 = 0.\n",
    "        end \n",
    "    end\n",
    "end\n",
    "\n",
    "# All together \n",
    "const tstops = [25.,26.,35.,36.,45.,46.,55., 56., 65., 66.]\n",
    "ison = [true,false] \n",
    "save_positions = (true, true)\n",
    "\n",
    "cb1 = DiscreteCallback(condition1, effect1!, save_positions = save_positions)\n",
    "cb2 = DiscreteCallback(condition2, effect2!, save_positions = save_positions)    \n",
    "cbs = CallbackSet(cb1, cb2)        \n",
    "\n",
    "\n",
    "\n",
    "#=================================================================================#\n",
    "\n",
    "# Another example/suggestion see from slack conversation:  \n",
    "# https://stackoverflow.com/questions/55585048/is-there-an-idiomatic-way-to-terminate-integration-after-n-callbacks-in-differen/55591154#55591154 \n",
    "\n",
    "\n",
    "#= Basis EXAMPLE of code above: \n",
    "\n",
    "function condition_on(u,t,integrator,ison)\n",
    "    ison[1] ? func_on(u) : 50  # release\n",
    "end\n",
    "\n",
    "function condition_off(u,t,integrator,ison)\n",
    "    ison[2] ? func_off(u) : 1e-12  # stop release \n",
    "end\n",
    "\n",
    "function effect!(integrator,ison)\n",
    "    # update integrator\n",
    "    ison .= .!ison\n",
    "end\n",
    "\n",
    "ison = [true,false] \n",
    "\n",
    "cb1 = DiscreteCallback((u,t,integrator)->condition_on(u,t,integrator, Ref(ison)), \n",
    "                                            integrator -> effect!(integrator, Ref(ison))\n",
    "    \n",
    "cb2 = DiscreteCallback((u,t,integrator)->condition_off(u,t,integrator, Ref(ison)), \n",
    "                                            integrator -> effect!(integrator, Ref(ison))\n",
    "        \n",
    "cbs = CallbackSet(cb1, cb2)\n",
    "        \n",
    "=#\n",
    "\n"
   ]
  },
  {
   "cell_type": "markdown",
   "metadata": {},
   "source": [
    "## Construct ODE control problem "
   ]
  },
  {
   "cell_type": "code",
   "execution_count": 26,
   "metadata": {},
   "outputs": [
    {
     "data": {
      "text/plain": [
       "\u001b[36mODEProblem\u001b[0m with uType \u001b[36mSimType{Float64}\u001b[0m and tType \u001b[36mFloat64\u001b[0m. In-place: \u001b[36mtrue\u001b[0m\n",
       "timespan: (0.0, 300.0)\n",
       "u0: [0.0 0.0 … 0.0 0.0; 0.0 0.0 … 0.0 0.0; … ; 0.0 0.0 … 0.0 0.0; 0.0 0.0 … 0.0 0.0]"
      ]
     },
     "execution_count": 26,
     "metadata": {},
     "output_type": "execute_result"
    }
   ],
   "source": [
    "prob_odecontNL = ODEProblem(ode_contNL, u0, tspan, params) "
   ]
  },
  {
   "cell_type": "markdown",
   "metadata": {},
   "source": [
    "## Choose algorithm and solve"
   ]
  },
  {
   "cell_type": "code",
   "execution_count": 27,
   "metadata": {},
   "outputs": [
    {
     "ename": "MethodError",
     "evalue": "MethodError: no method matching condition1(::SimType{Float64}, ::Float64, ::OrdinaryDiffEq.ODEIntegrator{Tsit5,true,SimType{Float64},Float64,Array{Any,1},Float64,Float64,Float64,Array{SimType{Float64},1},ODESolution{Float64,3,Array{SimType{Float64},1},Nothing,Nothing,Array{Float64,1},Array{Array{SimType{Float64},1},1},ODEProblem{SimType{Float64},Tuple{Float64,Float64},true,Array{Any,1},ODEFunction{true,typeof(ode_contNL),UniformScaling{Bool},Nothing,Nothing,Nothing,Nothing,Nothing,Nothing,Nothing,Nothing},Nothing,DiffEqBase.StandardODEProblem},Tsit5,OrdinaryDiffEq.InterpolationData{ODEFunction{true,typeof(ode_contNL),UniformScaling{Bool},Nothing,Nothing,Nothing,Nothing,Nothing,Nothing,Nothing,Nothing},Array{SimType{Float64},1},Array{Float64,1},Array{Array{SimType{Float64},1},1},OrdinaryDiffEq.Tsit5Cache{SimType{Float64},SimType{Float64},SimType{Float64},OrdinaryDiffEq.Tsit5ConstantCache{Float64,Float64}}}},ODEFunction{true,typeof(ode_contNL),UniformScaling{Bool},Nothing,Nothing,Nothing,Nothing,Nothing,Nothing,Nothing,Nothing},OrdinaryDiffEq.Tsit5Cache{SimType{Float64},SimType{Float64},SimType{Float64},OrdinaryDiffEq.Tsit5ConstantCache{Float64,Float64}},OrdinaryDiffEq.DEOptions{Float64,Float64,Float64,Float64,typeof(DiffEqBase.ODE_DEFAULT_NORM),typeof(opnorm),CallbackSet{Tuple{},Tuple{DiscreteCallback{typeof(condition1),typeof(effect1!),typeof(DiffEqBase.INITIALIZE_DEFAULT)},DiscreteCallback{typeof(condition2),typeof(effect2!),typeof(DiffEqBase.INITIALIZE_DEFAULT)}}},typeof(DiffEqBase.ODE_DEFAULT_ISOUTOFDOMAIN),typeof(DiffEqBase.ODE_DEFAULT_PROG_MESSAGE),typeof(DiffEqBase.ODE_DEFAULT_UNSTABLE_CHECK),DataStructures.BinaryHeap{Float64,DataStructures.LessThan},DataStructures.BinaryHeap{Float64,DataStructures.LessThan},Nothing,Nothing,Int64,Array{Float64,1},Array{Float64,1},Array{Float64,1}},SimType{Float64},Float64})\nClosest candidates are:\n  condition1(::Any, ::Any, ::Any, !Matched::Any) at In[25]:7",
     "output_type": "error",
     "traceback": [
      "MethodError: no method matching condition1(::SimType{Float64}, ::Float64, ::OrdinaryDiffEq.ODEIntegrator{Tsit5,true,SimType{Float64},Float64,Array{Any,1},Float64,Float64,Float64,Array{SimType{Float64},1},ODESolution{Float64,3,Array{SimType{Float64},1},Nothing,Nothing,Array{Float64,1},Array{Array{SimType{Float64},1},1},ODEProblem{SimType{Float64},Tuple{Float64,Float64},true,Array{Any,1},ODEFunction{true,typeof(ode_contNL),UniformScaling{Bool},Nothing,Nothing,Nothing,Nothing,Nothing,Nothing,Nothing,Nothing},Nothing,DiffEqBase.StandardODEProblem},Tsit5,OrdinaryDiffEq.InterpolationData{ODEFunction{true,typeof(ode_contNL),UniformScaling{Bool},Nothing,Nothing,Nothing,Nothing,Nothing,Nothing,Nothing,Nothing},Array{SimType{Float64},1},Array{Float64,1},Array{Array{SimType{Float64},1},1},OrdinaryDiffEq.Tsit5Cache{SimType{Float64},SimType{Float64},SimType{Float64},OrdinaryDiffEq.Tsit5ConstantCache{Float64,Float64}}}},ODEFunction{true,typeof(ode_contNL),UniformScaling{Bool},Nothing,Nothing,Nothing,Nothing,Nothing,Nothing,Nothing,Nothing},OrdinaryDiffEq.Tsit5Cache{SimType{Float64},SimType{Float64},SimType{Float64},OrdinaryDiffEq.Tsit5ConstantCache{Float64,Float64}},OrdinaryDiffEq.DEOptions{Float64,Float64,Float64,Float64,typeof(DiffEqBase.ODE_DEFAULT_NORM),typeof(opnorm),CallbackSet{Tuple{},Tuple{DiscreteCallback{typeof(condition1),typeof(effect1!),typeof(DiffEqBase.INITIALIZE_DEFAULT)},DiscreteCallback{typeof(condition2),typeof(effect2!),typeof(DiffEqBase.INITIALIZE_DEFAULT)}}},typeof(DiffEqBase.ODE_DEFAULT_ISOUTOFDOMAIN),typeof(DiffEqBase.ODE_DEFAULT_PROG_MESSAGE),typeof(DiffEqBase.ODE_DEFAULT_UNSTABLE_CHECK),DataStructures.BinaryHeap{Float64,DataStructures.LessThan},DataStructures.BinaryHeap{Float64,DataStructures.LessThan},Nothing,Nothing,Int64,Array{Float64,1},Array{Float64,1},Array{Float64,1}},SimType{Float64},Float64})\nClosest candidates are:\n  condition1(::Any, ::Any, ::Any, !Matched::Any) at In[25]:7",
      "",
      "Stacktrace:",
      " [1] apply_discrete_callback! at /Users/vnvasquez/.julia/packages/DiffEqBase/s4c9b/src/callbacks.jl:346 [inlined]",
      " [2] apply_discrete_callback! at /Users/vnvasquez/.julia/packages/DiffEqBase/s4c9b/src/callbacks.jl:367 [inlined]",
      " [3] handle_callbacks!(::OrdinaryDiffEq.ODEIntegrator{Tsit5,true,SimType{Float64},Float64,Array{Any,1},Float64,Float64,Float64,Array{SimType{Float64},1},ODESolution{Float64,3,Array{SimType{Float64},1},Nothing,Nothing,Array{Float64,1},Array{Array{SimType{Float64},1},1},ODEProblem{SimType{Float64},Tuple{Float64,Float64},true,Array{Any,1},ODEFunction{true,typeof(ode_contNL),UniformScaling{Bool},Nothing,Nothing,Nothing,Nothing,Nothing,Nothing,Nothing,Nothing},Nothing,DiffEqBase.StandardODEProblem},Tsit5,OrdinaryDiffEq.InterpolationData{ODEFunction{true,typeof(ode_contNL),UniformScaling{Bool},Nothing,Nothing,Nothing,Nothing,Nothing,Nothing,Nothing,Nothing},Array{SimType{Float64},1},Array{Float64,1},Array{Array{SimType{Float64},1},1},OrdinaryDiffEq.Tsit5Cache{SimType{Float64},SimType{Float64},SimType{Float64},OrdinaryDiffEq.Tsit5ConstantCache{Float64,Float64}}}},ODEFunction{true,typeof(ode_contNL),UniformScaling{Bool},Nothing,Nothing,Nothing,Nothing,Nothing,Nothing,Nothing,Nothing},OrdinaryDiffEq.Tsit5Cache{SimType{Float64},SimType{Float64},SimType{Float64},OrdinaryDiffEq.Tsit5ConstantCache{Float64,Float64}},OrdinaryDiffEq.DEOptions{Float64,Float64,Float64,Float64,typeof(DiffEqBase.ODE_DEFAULT_NORM),typeof(opnorm),CallbackSet{Tuple{},Tuple{DiscreteCallback{typeof(condition1),typeof(effect1!),typeof(DiffEqBase.INITIALIZE_DEFAULT)},DiscreteCallback{typeof(condition2),typeof(effect2!),typeof(DiffEqBase.INITIALIZE_DEFAULT)}}},typeof(DiffEqBase.ODE_DEFAULT_ISOUTOFDOMAIN),typeof(DiffEqBase.ODE_DEFAULT_PROG_MESSAGE),typeof(DiffEqBase.ODE_DEFAULT_UNSTABLE_CHECK),DataStructures.BinaryHeap{Float64,DataStructures.LessThan},DataStructures.BinaryHeap{Float64,DataStructures.LessThan},Nothing,Nothing,Int64,Array{Float64,1},Array{Float64,1},Array{Float64,1}},SimType{Float64},Float64}) at /Users/vnvasquez/.julia/packages/OrdinaryDiffEq/TUKTm/src/integrators/integrator_utils.jl:240",
      " [4] loopfooter!(::OrdinaryDiffEq.ODEIntegrator{Tsit5,true,SimType{Float64},Float64,Array{Any,1},Float64,Float64,Float64,Array{SimType{Float64},1},ODESolution{Float64,3,Array{SimType{Float64},1},Nothing,Nothing,Array{Float64,1},Array{Array{SimType{Float64},1},1},ODEProblem{SimType{Float64},Tuple{Float64,Float64},true,Array{Any,1},ODEFunction{true,typeof(ode_contNL),UniformScaling{Bool},Nothing,Nothing,Nothing,Nothing,Nothing,Nothing,Nothing,Nothing},Nothing,DiffEqBase.StandardODEProblem},Tsit5,OrdinaryDiffEq.InterpolationData{ODEFunction{true,typeof(ode_contNL),UniformScaling{Bool},Nothing,Nothing,Nothing,Nothing,Nothing,Nothing,Nothing,Nothing},Array{SimType{Float64},1},Array{Float64,1},Array{Array{SimType{Float64},1},1},OrdinaryDiffEq.Tsit5Cache{SimType{Float64},SimType{Float64},SimType{Float64},OrdinaryDiffEq.Tsit5ConstantCache{Float64,Float64}}}},ODEFunction{true,typeof(ode_contNL),UniformScaling{Bool},Nothing,Nothing,Nothing,Nothing,Nothing,Nothing,Nothing,Nothing},OrdinaryDiffEq.Tsit5Cache{SimType{Float64},SimType{Float64},SimType{Float64},OrdinaryDiffEq.Tsit5ConstantCache{Float64,Float64}},OrdinaryDiffEq.DEOptions{Float64,Float64,Float64,Float64,typeof(DiffEqBase.ODE_DEFAULT_NORM),typeof(opnorm),CallbackSet{Tuple{},Tuple{DiscreteCallback{typeof(condition1),typeof(effect1!),typeof(DiffEqBase.INITIALIZE_DEFAULT)},DiscreteCallback{typeof(condition2),typeof(effect2!),typeof(DiffEqBase.INITIALIZE_DEFAULT)}}},typeof(DiffEqBase.ODE_DEFAULT_ISOUTOFDOMAIN),typeof(DiffEqBase.ODE_DEFAULT_PROG_MESSAGE),typeof(DiffEqBase.ODE_DEFAULT_UNSTABLE_CHECK),DataStructures.BinaryHeap{Float64,DataStructures.LessThan},DataStructures.BinaryHeap{Float64,DataStructures.LessThan},Nothing,Nothing,Int64,Array{Float64,1},Array{Float64,1},Array{Float64,1}},SimType{Float64},Float64}) at /Users/vnvasquez/.julia/packages/OrdinaryDiffEq/TUKTm/src/integrators/integrator_utils.jl:189",
      " [5] solve!(::OrdinaryDiffEq.ODEIntegrator{Tsit5,true,SimType{Float64},Float64,Array{Any,1},Float64,Float64,Float64,Array{SimType{Float64},1},ODESolution{Float64,3,Array{SimType{Float64},1},Nothing,Nothing,Array{Float64,1},Array{Array{SimType{Float64},1},1},ODEProblem{SimType{Float64},Tuple{Float64,Float64},true,Array{Any,1},ODEFunction{true,typeof(ode_contNL),UniformScaling{Bool},Nothing,Nothing,Nothing,Nothing,Nothing,Nothing,Nothing,Nothing},Nothing,DiffEqBase.StandardODEProblem},Tsit5,OrdinaryDiffEq.InterpolationData{ODEFunction{true,typeof(ode_contNL),UniformScaling{Bool},Nothing,Nothing,Nothing,Nothing,Nothing,Nothing,Nothing,Nothing},Array{SimType{Float64},1},Array{Float64,1},Array{Array{SimType{Float64},1},1},OrdinaryDiffEq.Tsit5Cache{SimType{Float64},SimType{Float64},SimType{Float64},OrdinaryDiffEq.Tsit5ConstantCache{Float64,Float64}}}},ODEFunction{true,typeof(ode_contNL),UniformScaling{Bool},Nothing,Nothing,Nothing,Nothing,Nothing,Nothing,Nothing,Nothing},OrdinaryDiffEq.Tsit5Cache{SimType{Float64},SimType{Float64},SimType{Float64},OrdinaryDiffEq.Tsit5ConstantCache{Float64,Float64}},OrdinaryDiffEq.DEOptions{Float64,Float64,Float64,Float64,typeof(DiffEqBase.ODE_DEFAULT_NORM),typeof(opnorm),CallbackSet{Tuple{},Tuple{DiscreteCallback{typeof(condition1),typeof(effect1!),typeof(DiffEqBase.INITIALIZE_DEFAULT)},DiscreteCallback{typeof(condition2),typeof(effect2!),typeof(DiffEqBase.INITIALIZE_DEFAULT)}}},typeof(DiffEqBase.ODE_DEFAULT_ISOUTOFDOMAIN),typeof(DiffEqBase.ODE_DEFAULT_PROG_MESSAGE),typeof(DiffEqBase.ODE_DEFAULT_UNSTABLE_CHECK),DataStructures.BinaryHeap{Float64,DataStructures.LessThan},DataStructures.BinaryHeap{Float64,DataStructures.LessThan},Nothing,Nothing,Int64,Array{Float64,1},Array{Float64,1},Array{Float64,1}},SimType{Float64},Float64}) at /Users/vnvasquez/.julia/packages/OrdinaryDiffEq/TUKTm/src/solve.jl:346",
      " [6] #__solve#291(::Base.Iterators.Pairs{Symbol,Any,Tuple{Symbol,Symbol},NamedTuple{(:callback, :tstops),Tuple{CallbackSet{Tuple{},Tuple{DiscreteCallback{typeof(condition1),typeof(effect1!),typeof(DiffEqBase.INITIALIZE_DEFAULT)},DiscreteCallback{typeof(condition2),typeof(effect2!),typeof(DiffEqBase.INITIALIZE_DEFAULT)}}},Array{Float64,1}}}}, ::Function, ::ODEProblem{SimType{Float64},Tuple{Float64,Float64},true,Array{Any,1},ODEFunction{true,typeof(ode_contNL),UniformScaling{Bool},Nothing,Nothing,Nothing,Nothing,Nothing,Nothing,Nothing,Nothing},Nothing,DiffEqBase.StandardODEProblem}, ::Tsit5, ::Array{Any,1}, ::Array{Any,1}, ::Array{Any,1}, ::Type{Val{true}}) at /Users/vnvasquez/.julia/packages/OrdinaryDiffEq/TUKTm/src/solve.jl:7",
      " [7] #__solve at ./none:0 [inlined] (repeats 5 times)",
      " [8] #solve#435(::Base.Iterators.Pairs{Symbol,Any,Tuple{Symbol,Symbol},NamedTuple{(:callback, :tstops),Tuple{CallbackSet{Tuple{},Tuple{DiscreteCallback{typeof(condition1),typeof(effect1!),typeof(DiffEqBase.INITIALIZE_DEFAULT)},DiscreteCallback{typeof(condition2),typeof(effect2!),typeof(DiffEqBase.INITIALIZE_DEFAULT)}}},Array{Float64,1}}}}, ::Function, ::ODEProblem{SimType{Float64},Tuple{Float64,Float64},true,Array{Any,1},ODEFunction{true,typeof(ode_contNL),UniformScaling{Bool},Nothing,Nothing,Nothing,Nothing,Nothing,Nothing,Nothing,Nothing},Nothing,DiffEqBase.StandardODEProblem}, ::Tsit5) at /Users/vnvasquez/.julia/packages/DiffEqBase/s4c9b/src/solve.jl:39",
      " [9] (::getfield(DiffEqBase, Symbol(\"#kw##solve\")))(::NamedTuple{(:callback, :tstops),Tuple{CallbackSet{Tuple{},Tuple{DiscreteCallback{typeof(condition1),typeof(effect1!),typeof(DiffEqBase.INITIALIZE_DEFAULT)},DiscreteCallback{typeof(condition2),typeof(effect2!),typeof(DiffEqBase.INITIALIZE_DEFAULT)}}},Array{Float64,1}}}, ::typeof(solve), ::ODEProblem{SimType{Float64},Tuple{Float64,Float64},true,Array{Any,1},ODEFunction{true,typeof(ode_contNL),UniformScaling{Bool},Nothing,Nothing,Nothing,Nothing,Nothing,Nothing,Nothing,Nothing},Nothing,DiffEqBase.StandardODEProblem}, ::Tsit5) at ./none:0",
      " [10] top-level scope at In[27]:3"
     ]
    }
   ],
   "source": [
    "#alg = Vern8()\n",
    "alg = Tsit5() \n",
    "sol_odecontNL = solve(prob_odecontNL, alg, callback = cbs, tstops = tstops) \n"
   ]
  },
  {
   "cell_type": "markdown",
   "metadata": {},
   "source": [
    "## Examine results"
   ]
  },
  {
   "cell_type": "code",
   "execution_count": 14,
   "metadata": {},
   "outputs": [
    {
     "ename": "UndefVarError",
     "evalue": "UndefVarError: sol_odecontNL not defined",
     "output_type": "error",
     "traceback": [
      "UndefVarError: sol_odecontNL not defined",
      "",
      "Stacktrace:",
      " [1] top-level scope at In[14]:1"
     ]
    }
   ],
   "source": [
    "sol_odecontNL.u[end]"
   ]
  },
  {
   "cell_type": "code",
   "execution_count": 15,
   "metadata": {},
   "outputs": [
    {
     "ename": "UndefVarError",
     "evalue": "UndefVarError: sol_odecontNL not defined",
     "output_type": "error",
     "traceback": [
      "UndefVarError: sol_odecontNL not defined",
      "",
      "Stacktrace:",
      " [1] top-level scope at In[15]:1"
     ]
    }
   ],
   "source": [
    "plot(sol_odecontNL)"
   ]
  },
  {
   "cell_type": "code",
   "execution_count": 16,
   "metadata": {},
   "outputs": [
    {
     "ename": "UndefVarError",
     "evalue": "UndefVarError: sol_odecontNL not defined",
     "output_type": "error",
     "traceback": [
      "UndefVarError: sol_odecontNL not defined",
      "",
      "Stacktrace:",
      " [1] top-level scope at In[16]:1"
     ]
    }
   ],
   "source": [
    "males_HH = [val[19,1] for val in sol_odecontNL.u]\n",
    "males_Hh = [val[19,2] for val in sol_odecontNL.u]\n",
    "males_HR = [val[19,3] for val in sol_odecontNL.u]\n",
    "males_hh = [val[19,4] for val in sol_odecontNL.u]\n",
    "males_hR = [val[19,5] for val in sol_odecontNL.u]\n",
    "males_RR = [val[19,6] for val in sol_odecontNL.u]\n",
    ";"
   ]
  },
  {
   "cell_type": "code",
   "execution_count": 17,
   "metadata": {},
   "outputs": [
    {
     "ename": "UndefVarError",
     "evalue": "UndefVarError: sol_odecontNL not defined",
     "output_type": "error",
     "traceback": [
      "UndefVarError: sol_odecontNL not defined",
      "",
      "Stacktrace:",
      " [1] top-level scope at In[17]:1"
     ]
    }
   ],
   "source": [
    "plot(sol_odecontNL.t, males_HH, label = \"Males_HH\", title = \"Males by Genotype (Full Time)\")\n",
    "plot!(sol_odecontNL.t, males_Hh, label = \"Males_Hh\")\n",
    "plot!(sol_odecontNL.t, males_HR, label = \"Males_HR\")\n",
    "plot!(sol_odecontNL.t, males_hh, label = \"Males_hh\")\n",
    "plot!(sol_odecontNL.t, males_hR, label = \"Males_hR\")\n",
    "plot!(sol_odecontNL.t, males_RR, label = \"Males_RR\")"
   ]
  },
  {
   "cell_type": "code",
   "execution_count": 18,
   "metadata": {},
   "outputs": [
    {
     "ename": "UndefVarError",
     "evalue": "UndefVarError: sol_odecontNL not defined",
     "output_type": "error",
     "traceback": [
      "UndefVarError: sol_odecontNL not defined",
      "",
      "Stacktrace:",
      " [1] top-level scope at In[18]:1"
     ]
    }
   ],
   "source": [
    "# list comprehensions return arrays; hence brackets\n",
    "sumfemales_HH = [sum(val[20,:]) for val in sol_odecontNL.u]   \n",
    "sumfemales_Hh = [sum(val[21,:]) for val in sol_odecontNL.u]\n",
    "sumfemales_HR = [sum(val[22,:]) for val in sol_odecontNL.u]\n",
    "sumfemales_hh = [sum(val[23,:]) for val in sol_odecontNL.u]\n",
    "sumfemales_hR = [sum(val[24,:]) for val in sol_odecontNL.u]\n",
    "sumfemales_RR = [sum(val[25,:]) for val in sol_odecontNL.u]\n",
    ";"
   ]
  },
  {
   "cell_type": "code",
   "execution_count": 19,
   "metadata": {},
   "outputs": [
    {
     "ename": "UndefVarError",
     "evalue": "UndefVarError: sol_odecontNL not defined",
     "output_type": "error",
     "traceback": [
      "UndefVarError: sol_odecontNL not defined",
      "",
      "Stacktrace:",
      " [1] top-level scope at In[19]:1"
     ]
    }
   ],
   "source": [
    "plot(sol_odecontNL.t, sumfemales_HH, label = \"HH\", title = \"All Females by Genotype (Full Time)\")\n",
    "plot!(sol_odecontNL.t, sumfemales_Hh, label = \"Hh\")\n",
    "plot!(sol_odecontNL.t, sumfemales_HR, label = \"HR\")\n",
    "plot!(sol_odecontNL.t, sumfemales_hh, label = \"hh\")\n",
    "plot!(sol_odecontNL.t, sumfemales_hR, label = \"hR\")\n",
    "plot!(sol_odecontNL.t, sumfemales_RR, label = \"RR\")"
   ]
  },
  {
   "cell_type": "code",
   "execution_count": 20,
   "metadata": {},
   "outputs": [],
   "source": [
    "#=\n",
    "\n",
    "# Better way to set up the call backs from \n",
    "# https://discourse.julialang.org/t/integral-saturation-limits-w-differentialequations-jl/22143/8\n",
    "\n",
    "\n",
    "# see also pakg fix at \n",
    "# https://github.com/JuliaDiffEq/DiffEqBase.jl/pull/207/commits/47d87398506e562e13c2e5083545568fb707145b\n",
    "\n",
    "function condition1(u,t,integrator, ison)\n",
    "    ison[1] ? func1(u)  :    # some default non-zero value?\n",
    "end\n",
    "\n",
    "function condition2(u,t,integrator, ison)\n",
    "    ison[2] ? func2(u)  :    # some default non-zero value?\n",
    "end\n",
    "\n",
    "function affect(integrator, ison)\n",
    "    # update integrator\n",
    "    ison .= .!ison\n",
    "end\n",
    "\n",
    "ison = [true, false]\n",
    "cb1 = ContinuousCallback((u,t,integrator)->condition1(u,t,integrator, Ref(ison)), \n",
    "                                            integrator -> affect(integrator, Ref(ison))\n",
    "cb2 = ContinuousCallback((u,t,integrator)->condition2(u,t,integrator, Ref(ison)), \n",
    "                                            integrator -> affect(integrator, Ref(ison))\n",
    "\n",
    "=#\n",
    "\n",
    "# trying alternative to hard-coded du and u matrices \n",
    "\n",
    "    #=\n",
    "    # Eggs \n",
    "    E = u[1:nE,:]   \n",
    "    dE = @view du[1:nE,:]\n",
    "    \n",
    "    # Larvae\n",
    "    L = u[nE+1 : nE+nL, :]             \n",
    "    dL = @view du[nE+1 : nE+nL, :]\n",
    "\n",
    "    # Pupae\n",
    "    P = u[nE+nL+1 : nE+nL+nP,:] \n",
    "    dP = @view du[nE+nL+1 : nE+nL+nP, :]\n",
    "    \n",
    "    # Males \n",
    "    NM = u[nE+nL+nP+1, :]\n",
    "    dNM = @view du[nE+nL+nP+1, :]\n",
    "    \n",
    "    # Females \n",
    "    NF = u[nE+nL+nP+2 : nE+nL+nP+2+nG,:]\n",
    "    dNF = @view du[nE+nL+nP+2 : nE+nL+nP+2+nG,:]\n",
    "    =#"
   ]
  },
  {
   "cell_type": "code",
   "execution_count": 21,
   "metadata": {},
   "outputs": [],
   "source": [
    "\n",
    "#=\n",
    "\n",
    "include(\"filepath_tofoo1\")\n",
    "\n",
    "function foo2()\n",
    "    foo1()\n",
    "end\n",
    "\n",
    "=#"
   ]
  },
  {
   "cell_type": "code",
   "execution_count": null,
   "metadata": {},
   "outputs": [],
   "source": []
  }
 ],
 "metadata": {
  "@webio": {
   "lastCommId": null,
   "lastKernelId": null
  },
  "kernelspec": {
   "display_name": "Julia 1.1.0",
   "language": "julia",
   "name": "julia-1.1"
  },
  "language_info": {
   "file_extension": ".jl",
   "mimetype": "application/julia",
   "name": "julia",
   "version": "1.1.0"
  }
 },
 "nbformat": 4,
 "nbformat_minor": 2
}
