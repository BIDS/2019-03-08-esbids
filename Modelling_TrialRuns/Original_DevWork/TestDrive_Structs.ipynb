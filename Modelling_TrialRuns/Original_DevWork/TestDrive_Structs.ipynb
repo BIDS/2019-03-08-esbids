{
 "cells": [
  {
   "cell_type": "markdown",
   "metadata": {},
   "source": [
    "### Create structs: Density, stage, genetics, drive, node, network\n",
    "    "
   ]
  },
  {
   "cell_type": "code",
   "execution_count": 1,
   "metadata": {},
   "outputs": [],
   "source": [
    "abstract type LifeStage end\n",
    "abstract type Genotype end\n",
    "# abstract type DensityDependence end"
   ]
  },
  {
   "cell_type": "code",
   "execution_count": 2,
   "metadata": {},
   "outputs": [],
   "source": [
    "# Preserve modularity with Density struct separate from Stage\n",
    "\n",
    "struct Density # {D <: DensityDependence}\n",
    "    K::Union{Nothing, Float64} # Logistic dependence\n",
    "    γ::Union{Nothing, Float64} # Linear dependence\n",
    "end\n"
   ]
  },
  {
   "cell_type": "code",
   "execution_count": 3,
   "metadata": {},
   "outputs": [],
   "source": [
    "\n",
    "struct Stage{L <: LifeStage}\n",
    "    stage::Type{L}\n",
    "    t::Union{Nothing, Float64} # Total stage duration\n",
    "    q::Union{Nothing, Float64} # 1/duration = total time in each substage \n",
    "    n::Union{Nothing, Int64}   # Number of substages \n",
    "    μ::Float64                 # Mortality \n",
    "    d::Union{Nothing, Float64} # Enables flexible density dependence specification for each stage \n",
    "end\n"
   ]
  },
  {
   "cell_type": "code",
   "execution_count": 4,
   "metadata": {},
   "outputs": [],
   "source": [
    "# Drive = one genotype at a time (subsets Genetics)\n",
    "\n",
    "struct Drive{G <: Genotype} \n",
    "    genotype::Type{G}            # single genotype \n",
    "    cube_slice::Array{Float64,2}      \n",
    "    s::Float64          \n",
    "    τ::Array{Float64,2} \n",
    "    ϕ::Float64            \n",
    "    β::Float64            \n",
    "    η::Float64     \n",
    "end\n",
    "    "
   ]
  },
  {
   "cell_type": "code",
   "execution_count": 5,
   "metadata": {},
   "outputs": [],
   "source": [
    "# All genotype-specific aspects, including Reproduction parameters \n",
    "\n",
    "struct Genetics \n",
    "    \n",
    "    all_genotypes::Array{Drive{<:Genotype}}\n",
    "    cube::Array{Float64, 3}        # offspring likelihoods **, per genotype \n",
    "    S::Array{Float64,1}            # fractional reduction in fertility, per genotype \n",
    "    Τ::Array{Float64,3}            # offspring viability, per genotype  \n",
    "    Φ::Array{Float64,1}            # male to female emergence ratio (gender), per genotype \n",
    "    Β::Array{Float64,1}            # female fecundity, per genotype  \n",
    "    Η::Array{Float64,1}            # male mating fitness, per genotype \n",
    "        \n",
    "        function Genetics(all_genotypes::Array{Drive{<:Genotype}}) \n",
    "            \n",
    "            gN = length(all_genotypes) # number of different genes being considered \n",
    "            cube = Array{Float64, 3}(undef, gN, gN, gN)            \n",
    "            S = Array{Float64,1}(undef, gN)\n",
    "            Τ = Array{Float64, 3}(undef, gN, gN, gN)\n",
    "            Φ = Array{Float64,1}(undef, gN)\n",
    "            Β = Array{Float64,1}(undef, gN)\n",
    "            Η = Array{Float64,1}(undef, gN)\n",
    "        \n",
    "            for (index, g) in enumerate(all_genotypes)\n",
    "                cube[:,:,index] = g.cube_slice\n",
    "                S[index] = g.s\n",
    "                Τ[:,:,index] = g.τ\n",
    "                Φ[index] = g.ϕ\n",
    "                Β[index] = g.β\n",
    "                Η[index] = g.η\n",
    "            end\n",
    "            \n",
    "            new(all_genotypes, cube, S, Τ, Φ, Β, Η)\n",
    "        \n",
    "        end\n",
    "    \n",
    "end\n",
    "   \n",
    "\n",
    "# ** depth = distribution of offspring, horizontal slice = XX offspring for all parental combos\n",
    "# Depth is genetically correct, horizontal slice more convenient mathematically and same result \n",
    "# NB instead of \"Real\" can do Vector{Float64} and Array{Float64,N}"
   ]
  },
  {
   "cell_type": "code",
   "execution_count": 6,
   "metadata": {},
   "outputs": [],
   "source": [
    "# The fully mixing population in a single patch\n",
    "\n",
    "struct Node \n",
    "    name::Symbol\n",
    "    gene_data::Genetics      \n",
    "    all_stages::Vector{Stage}\n",
    "    location::Tuple{Float64,Float64}\n",
    "    migration::Array{Float64,3} # tensor with each slice applicable to one state's movement  \n",
    "end\n"
   ]
  },
  {
   "cell_type": "code",
   "execution_count": 7,
   "metadata": {},
   "outputs": [],
   "source": [
    "# Network = collects all Nodes \n",
    "\n",
    "struct Network\n",
    "    \n",
    "    all_nodes::Vector{Node}\n",
    "    all_locations::Vector{Tuple{Float64, Float64}}                      \n",
    "    net_migration::Array{Float64,4}  # Need one matrix per \"state\" (genotype x stage pair) -> \n",
    "                                     # therefore one cube per node (migration for all states) ->\n",
    "                                     # therefore must add a fourth dimension to encompass network \n",
    "    \n",
    "    function Network(all_nodes::Vector{Node}, n_states::Int64)   \n",
    "        \n",
    "        n_nodes = length(all_nodes)\n",
    "        all_locations = Vector{Tuple{Float64,Float64}}(undef, n_nodes)     \n",
    "        net_migration = Array{Float64,4}(undef, n_nodes, n_states, n_nodes, n_nodes) \n",
    "        \n",
    "        for (index, n) in enumerate(all_nodes) \n",
    "            all_locations[index] = n.location\n",
    "            net_migration[index, :, :, :] = n.migration # returns a 3x3 tensor specific to each node \n",
    "        end\n",
    "        \n",
    "        new(all_nodes, all_locations, net_migration) \n",
    "        \n",
    "    end\n",
    "    \n",
    "end\n",
    "\n",
    "# Question: Best way to save \"meta info\" on eg node name?\n",
    "# Question: How to change migration % at each time point? \n",
    "# Question: Use continuous callbacks to implement -> make sense if also using discrete for releases? Alternatives?"
   ]
  },
  {
   "cell_type": "markdown",
   "metadata": {},
   "source": [
    "### Generate stage/drive specific structs "
   ]
  },
  {
   "cell_type": "code",
   "execution_count": 8,
   "metadata": {},
   "outputs": [],
   "source": [
    "# Stage specific \n",
    "\n",
    "struct Egg <: LifeStage end\n",
    "struct Larvae <: LifeStage end\n",
    "struct Pupae <: LifeStage end\n",
    "struct Male <: LifeStage end\n",
    "struct Female <: LifeStage end\n"
   ]
  },
  {
   "cell_type": "code",
   "execution_count": 9,
   "metadata": {},
   "outputs": [],
   "source": [
    "# Genotype (drive characteristics) specific \n",
    "\n",
    "struct HH <: Genotype end \n",
    "struct Hh <: Genotype end \n",
    "struct HR <: Genotype end\n",
    "struct hh <: Genotype end \n",
    "struct hR <: Genotype end \n",
    "struct RR <: Genotype end\n"
   ]
  },
  {
   "cell_type": "markdown",
   "metadata": {},
   "source": [
    "### Insert data and build out groups "
   ]
  },
  {
   "cell_type": "code",
   "execution_count": 10,
   "metadata": {},
   "outputs": [
    {
     "data": {
      "text/plain": [
       "5-element Array{Stage,1}:\n",
       " Stage{Egg}(Egg, 4.0, 0.25, 4, 0.5, nothing)                    \n",
       " Stage{Larvae}(Larvae, 3.0, 0.3333333333333333, 8, 0.15, 355.0) \n",
       " Stage{Pupae}(Pupae, 6.0, 0.16666666666666666, 6, 0.05, nothing)\n",
       " Stage{Male}(Male, nothing, nothing, nothing, 0.09, nothing)    \n",
       " Stage{Female}(Female, nothing, nothing, nothing, 0.09, nothing)"
      ]
     },
     "execution_count": 10,
     "metadata": {},
     "output_type": "execute_result"
    }
   ],
   "source": [
    "# Life stages: total duration, substages, mortality, density \n",
    "\n",
    "stages = [\n",
    "    Stage(Egg, 4., (1/4.), 4, 0.5, nothing),\n",
    "    Stage(Larvae, 3., (1/3.), 8, 0.15, 355.0), \n",
    "    Stage(Pupae, 6., (1/6.), 6, 0.05, nothing),\n",
    "    Stage(Male, nothing, nothing, nothing, 0.09, nothing),\n",
    "    Stage(Female, nothing, nothing, nothing, 0.09, nothing),\n",
    "    ]\n"
   ]
  },
  {
   "cell_type": "code",
   "execution_count": 11,
   "metadata": {},
   "outputs": [],
   "source": [
    "# Cube slices \n",
    "\n",
    "layer1 = [1.0 1.0 0.50  0  0  0; 1.0 1.0 0.50  0  0  0; 0.5 0.5 0.25  0  0  0; \n",
    "        0.0 0.0 0.00  0  0  0; 0.0 0.0 0.00  0  0  0; 0.0 0.0 0.00  0  0  0]\n",
    "\n",
    "layer2 = [0.0 0.0 0.00 1.0 0.50  0; 0.0 0.0 0.00 1.0 0.50  0; 0.0 0.0 0.00 0.5 0.25  0; \n",
    "        1.0 1.0 0.50 0.0 0.00  0; 0.5 0.5 0.25 0.0 0.00  0; 0.0 0.0 0.00 0.0 0.00  0]\n",
    "\n",
    "layer3 = [0.0 0.0 0.50  0 0.50 1.0; 0.0 0.0 0.50  0 0.50 1.0; 0.5 0.5 0.50  0 0.25 0.5;\n",
    "        0.0 0.0 0.00  0 0.00 0.0; 0.5 0.5 0.25  0 0.00 0.0; 1.0 1.0 0.50  0 0.00 0.0]\n",
    "\n",
    "layer4 = [0  0  0 0.0 0.00  0; 0  0  0 0.0 0.00  0; 0  0  0 0.0 0.00  0; \n",
    "        0  0  0 1.0 0.50  0; 0  0  0 0.5 0.25  0; 0  0  0 0.0 0.00  0]\n",
    "\n",
    "layer5 = [0  0  0 0.0 0.00  0; 0  0  0 0.0 0.00  0; 0  0 0.00 0.5 0.25 0.0; \n",
    "        0  0 0.50 0.0 0.50 1.0; 0  0 0.25 0.5 0.50 0.5; 0  0 0.00 1.0 0.50 0.0]\n",
    "\n",
    "layer6 = [0  0  0 0.0 0.00  0; 0  0  0 0.0 0.00  0; 0  0 0.25  0 0.25 0.5; \n",
    "        0  0 0.00  0 0.00 0.0; 0  0 0.25  0 0.25 0.5; 0  0 0.50  0 0.50 1.0]\n",
    "\n",
    ";"
   ]
  },
  {
   "cell_type": "code",
   "execution_count": 12,
   "metadata": {},
   "outputs": [],
   "source": [
    "# Build drives = genotype, cube_slice, s, τ, ϕ, β, η \n",
    "\n",
    "drives = [\n",
    "    Drive(HH, layer1, 1.0, ones(6,6), 0.5, 16.0, 1.0),\n",
    "    Drive(Hh, layer2, 1.0, ones(6,6), 0.5, 16.0, 1.0), \n",
    "    Drive(HR, layer3, 1.0, ones(6,6), 0.5, 16.0, 1.0),\n",
    "    Drive(hh, layer4, 1.0, ones(6,6), 0.5, 16.0, 1.0),\n",
    "    Drive(hR, layer5, 1.0, ones(6,6), 0.5, 16.0, 1.0),\n",
    "    Drive(RR, layer6, 1.0, ones(6,6), 0.5, 16.0, 1.0)    \n",
    "]\n",
    "\n",
    ";"
   ]
  },
  {
   "cell_type": "code",
   "execution_count": 13,
   "metadata": {},
   "outputs": [],
   "source": [
    "testgenetics = Genetics(drives)\n",
    ";"
   ]
  },
  {
   "cell_type": "code",
   "execution_count": 14,
   "metadata": {},
   "outputs": [
    {
     "data": {
      "text/plain": [
       "16.0"
      ]
     },
     "execution_count": 14,
     "metadata": {},
     "output_type": "execute_result"
    }
   ],
   "source": [
    "testgenetics.Β[1]"
   ]
  },
  {
   "cell_type": "code",
   "execution_count": 15,
   "metadata": {},
   "outputs": [
    {
     "data": {
      "text/plain": [
       "Genetics"
      ]
     },
     "execution_count": 15,
     "metadata": {},
     "output_type": "execute_result"
    }
   ],
   "source": [
    "typeof(testgenetics)"
   ]
  },
  {
   "cell_type": "code",
   "execution_count": 1,
   "metadata": {},
   "outputs": [
    {
     "data": {
      "text/plain": [
       "1×4 Array{Int64,2}:\n",
       " 1  2  3  4"
      ]
     },
     "execution_count": 1,
     "metadata": {},
     "output_type": "execute_result"
    }
   ],
   "source": [
    "test = [1 2 3 4]"
   ]
  },
  {
   "cell_type": "code",
   "execution_count": 3,
   "metadata": {},
   "outputs": [
    {
     "data": {
      "text/plain": [
       "3"
      ]
     },
     "execution_count": 3,
     "metadata": {},
     "output_type": "execute_result"
    }
   ],
   "source": [
    "sum(test[1:2])"
   ]
  },
  {
   "cell_type": "code",
   "execution_count": null,
   "metadata": {},
   "outputs": [],
   "source": [
    "Φ"
   ]
  },
  {
   "cell_type": "code",
   "execution_count": 16,
   "metadata": {},
   "outputs": [],
   "source": [
    "using Random"
   ]
  },
  {
   "cell_type": "code",
   "execution_count": 17,
   "metadata": {},
   "outputs": [
    {
     "data": {
      "text/plain": [
       ":SecondNode"
      ]
     },
     "execution_count": 17,
     "metadata": {},
     "output_type": "execute_result"
    }
   ],
   "source": [
    "# migration_matrix = number of states (stages x genotypes), number of nodes, number of nodes\n",
    "\n",
    "migrate_matrix_node1 = rand((6*(4+8+6+1+6)), 2, 2) \n",
    "migrate_matrix_node2 = rand((6*(4+8+6+1+6)), 2, 2)\n",
    ";\n",
    "\n",
    "firstnode = :FirstNode\n",
    "secondnode = :SecondNode"
   ]
  },
  {
   "cell_type": "code",
   "execution_count": 18,
   "metadata": {},
   "outputs": [],
   "source": [
    "# Build nodes = Name, gene_data, stages, location, migration matrix\n",
    "\n",
    "Nodes = [Node(:FirstNode, testgenetics, stages, (37.87, 122.27), migrate_matrix_node1),\n",
    "         Node(:SecomdNode, testgenetics, stages, (35.87, 120.27), migrate_matrix_node2)]\n",
    "\n",
    ";"
   ]
  },
  {
   "cell_type": "code",
   "execution_count": 19,
   "metadata": {},
   "outputs": [],
   "source": [
    "networktest = Network(Nodes, 150)\n",
    "\n",
    ";"
   ]
  },
  {
   "cell_type": "code",
   "execution_count": 56,
   "metadata": {},
   "outputs": [
    {
     "data": {
      "text/plain": [
       "6-element Array{Float64,1}:\n",
       " 0.5\n",
       " 0.5\n",
       " 0.5\n",
       " 0.5\n",
       " 0.5\n",
       " 0.5"
      ]
     },
     "execution_count": 56,
     "metadata": {},
     "output_type": "execute_result"
    }
   ],
   "source": [
    "Nodes[1].gene_data.Φ"
   ]
  },
  {
   "cell_type": "code",
   "execution_count": 21,
   "metadata": {},
   "outputs": [
    {
     "ename": "LoadError",
     "evalue": "syntax: incomplete: premature end of input",
     "output_type": "error",
     "traceback": [
      "syntax: incomplete: premature end of input",
      ""
     ]
    }
   ],
   "source": [
    "Nodes[1].gene_data.all_genotypes.\\"
   ]
  },
  {
   "cell_type": "code",
   "execution_count": 22,
   "metadata": {},
   "outputs": [
    {
     "data": {
      "text/plain": [
       "2-element Array{Tuple{Float64,Float64},1}:\n",
       " (37.87, 122.27)\n",
       " (35.87, 120.27)"
      ]
     },
     "execution_count": 22,
     "metadata": {},
     "output_type": "execute_result"
    }
   ],
   "source": [
    "networktest.all_locations"
   ]
  },
  {
   "cell_type": "code",
   "execution_count": 23,
   "metadata": {},
   "outputs": [
    {
     "data": {
      "text/plain": [
       "2-element Array{Tuple{Float64,Float64},1}:\n",
       " (37.87, 122.27)\n",
       " (35.87, 120.27)"
      ]
     },
     "execution_count": 23,
     "metadata": {},
     "output_type": "execute_result"
    }
   ],
   "source": [
    "networktest.all_locations"
   ]
  },
  {
   "cell_type": "code",
   "execution_count": 24,
   "metadata": {},
   "outputs": [
    {
     "data": {
      "text/plain": [
       "150×2×2 Array{Float64,3}:\n",
       "[:, :, 1] =\n",
       " 0.00838028  0.145618 \n",
       " 0.204132    0.826394 \n",
       " 0.763481    0.909471 \n",
       " 0.484945    0.375307 \n",
       " 0.156321    0.0392183\n",
       " 0.0130681   0.321497 \n",
       " 0.81195     0.249531 \n",
       " 0.149414    0.193938 \n",
       " 0.0133579   0.865424 \n",
       " 0.279998    0.392699 \n",
       " 0.360389    0.0569097\n",
       " 0.0329383   0.160036 \n",
       " 0.422093    0.993683 \n",
       " ⋮                    \n",
       " 0.219175    0.778076 \n",
       " 0.420166    0.261648 \n",
       " 0.673056    0.641826 \n",
       " 0.974306    0.284972 \n",
       " 0.910672    0.648087 \n",
       " 0.0481828   0.0535147\n",
       " 0.921435    0.171782 \n",
       " 0.10155     0.247762 \n",
       " 0.759252    0.738587 \n",
       " 0.696316    0.645946 \n",
       " 0.422864    0.53803  \n",
       " 0.444801    0.736826 \n",
       "\n",
       "[:, :, 2] =\n",
       " 0.919352   0.961327  \n",
       " 0.974005   0.483321  \n",
       " 0.0791198  0.250359  \n",
       " 0.900824   0.0207954 \n",
       " 0.826918   0.877952  \n",
       " 0.0284573  0.605508  \n",
       " 0.199479   0.586295  \n",
       " 0.973647   0.959592  \n",
       " 0.838611   0.473167  \n",
       " 0.238336   0.00982556\n",
       " 0.53331    0.289724  \n",
       " 0.5957     0.95652   \n",
       " 0.293204   0.00746403\n",
       " ⋮                    \n",
       " 0.141522   0.97963   \n",
       " 0.597845   0.594018  \n",
       " 0.732054   0.0344297 \n",
       " 0.0222966  0.794454  \n",
       " 0.164976   0.316661  \n",
       " 0.479226   0.124566  \n",
       " 0.894979   0.877606  \n",
       " 0.442366   0.142517  \n",
       " 0.514026   0.858142  \n",
       " 0.759263   0.0685228 \n",
       " 0.149508   0.434721  \n",
       " 0.217284   0.479298  "
      ]
     },
     "execution_count": 24,
     "metadata": {},
     "output_type": "execute_result"
    }
   ],
   "source": [
    "networktest.net_migration[1,:,:,:]"
   ]
  },
  {
   "cell_type": "code",
   "execution_count": null,
   "metadata": {},
   "outputs": [],
   "source": []
  },
  {
   "cell_type": "code",
   "execution_count": null,
   "metadata": {},
   "outputs": [],
   "source": []
  },
  {
   "cell_type": "code",
   "execution_count": null,
   "metadata": {},
   "outputs": [],
   "source": []
  },
  {
   "cell_type": "code",
   "execution_count": null,
   "metadata": {},
   "outputs": [],
   "source": []
  },
  {
   "cell_type": "code",
   "execution_count": null,
   "metadata": {},
   "outputs": [],
   "source": []
  },
  {
   "cell_type": "code",
   "execution_count": null,
   "metadata": {},
   "outputs": [],
   "source": []
  },
  {
   "cell_type": "code",
   "execution_count": null,
   "metadata": {},
   "outputs": [],
   "source": []
  },
  {
   "cell_type": "code",
   "execution_count": null,
   "metadata": {},
   "outputs": [],
   "source": []
  },
  {
   "cell_type": "markdown",
   "metadata": {},
   "source": [
    "### EXAMPLES "
   ]
  },
  {
   "cell_type": "code",
   "execution_count": 25,
   "metadata": {},
   "outputs": [],
   "source": [
    "abstract type car_part end"
   ]
  },
  {
   "cell_type": "code",
   "execution_count": 26,
   "metadata": {},
   "outputs": [],
   "source": [
    "struct spare_part{CP <: car_part}\n",
    "    part_type::Type{CP}\n",
    "    location::String\n",
    "    quantity::Int64\n",
    "    available::Bool\n",
    "end"
   ]
  },
  {
   "cell_type": "code",
   "execution_count": 27,
   "metadata": {},
   "outputs": [],
   "source": [
    "struct light_bulb <: car_part end\n",
    "struct tire <: car_part end\n",
    "struct gas_pump <: car_part end"
   ]
  },
  {
   "cell_type": "code",
   "execution_count": 28,
   "metadata": {},
   "outputs": [
    {
     "data": {
      "text/plain": [
       "3-element Array{spare_part,1}:\n",
       " spare_part{light_bulb}(light_bulb, \"front\", 10, true) \n",
       " spare_part{tire}(tire, \"back\", 1, true)               \n",
       " spare_part{gas_pump}(gas_pump, \"under hood\", 0, false)"
      ]
     },
     "execution_count": 28,
     "metadata": {},
     "output_type": "execute_result"
    }
   ],
   "source": [
    "parts = [\n",
    "    spare_part(light_bulb, \"front\", 10, true),\n",
    "    spare_part(tire, \"back\", 1, true),\n",
    "    spare_part(gas_pump, \"under hood\", 0, false)\n",
    "]"
   ]
  },
  {
   "cell_type": "code",
   "execution_count": 29,
   "metadata": {},
   "outputs": [
    {
     "data": {
      "text/plain": [
       "emergency (generic function with 1 method)"
      ]
     },
     "execution_count": 29,
     "metadata": {},
     "output_type": "execute_result"
    }
   ],
   "source": [
    "function emergency(part::spare_part{light_bulb})\n",
    "    return \"Replace light bulb\"\n",
    "end"
   ]
  },
  {
   "cell_type": "code",
   "execution_count": 30,
   "metadata": {},
   "outputs": [
    {
     "data": {
      "text/plain": [
       "emergency (generic function with 2 methods)"
      ]
     },
     "execution_count": 30,
     "metadata": {},
     "output_type": "execute_result"
    }
   ],
   "source": [
    "function emergency(part::spare_part{gas_pump})\n",
    "    return \"Panic\"\n",
    "end"
   ]
  },
  {
   "cell_type": "code",
   "execution_count": 31,
   "metadata": {},
   "outputs": [
    {
     "data": {
      "text/plain": [
       "emergency (generic function with 3 methods)"
      ]
     },
     "execution_count": 31,
     "metadata": {},
     "output_type": "execute_result"
    }
   ],
   "source": [
    "function emergency(part::spare_part{tire})\n",
    "    return \"stop and change the tire\"\n",
    "end"
   ]
  },
  {
   "cell_type": "code",
   "execution_count": 32,
   "metadata": {},
   "outputs": [
    {
     "data": {
      "text/plain": [
       "emergency (generic function with 4 methods)"
      ]
     },
     "execution_count": 32,
     "metadata": {},
     "output_type": "execute_result"
    }
   ],
   "source": [
    "function emergency(part::spare_part{CP}) where {CP <: car_part}\n",
    "    return \"I don't know this part\"\n",
    "end"
   ]
  },
  {
   "cell_type": "code",
   "execution_count": 33,
   "metadata": {},
   "outputs": [
    {
     "name": "stdout",
     "output_type": "stream",
     "text": [
      "Replace light bulb\n",
      "stop and change the tire\n",
      "Panic\n"
     ]
    }
   ],
   "source": [
    "for p in parts\n",
    "    println(emergency(p))\n",
    "end"
   ]
  },
  {
   "cell_type": "code",
   "execution_count": 34,
   "metadata": {},
   "outputs": [
    {
     "data": {
      "text/plain": [
       "spare_part{bonnet}(bonnet, \"fron\", 1, false)"
      ]
     },
     "execution_count": 34,
     "metadata": {},
     "output_type": "execute_result"
    }
   ],
   "source": [
    "struct bonnet <: car_part end\n",
    "hood = spare_part(bonnet, \"fron\", 1, false)"
   ]
  },
  {
   "cell_type": "code",
   "execution_count": 35,
   "metadata": {},
   "outputs": [
    {
     "data": {
      "text/plain": [
       "\"I don't know this part\""
      ]
     },
     "execution_count": 35,
     "metadata": {},
     "output_type": "execute_result"
    }
   ],
   "source": [
    "emergency(hood)"
   ]
  },
  {
   "cell_type": "code",
   "execution_count": 36,
   "metadata": {},
   "outputs": [
    {
     "data": {
      "text/plain": [
       "emergency (generic function with 5 methods)"
      ]
     },
     "execution_count": 36,
     "metadata": {},
     "output_type": "execute_result"
    }
   ],
   "source": [
    "function emergency(part::spare_part{bonnet})\n",
    "    return \"if your bonnet is on fire, run\"\n",
    "\n",
    "end"
   ]
  },
  {
   "cell_type": "code",
   "execution_count": 37,
   "metadata": {},
   "outputs": [
    {
     "ename": "UndefVarError",
     "evalue": "UndefVarError: du not defined",
     "output_type": "error",
     "traceback": [
      "UndefVarError: du not defined",
      "",
      "Stacktrace:",
      " [1] top-level scope at In[37]:1"
     ]
    }
   ],
   "source": [
    "\n",
    "stages = @view du[1:10]\n",
    "for i in genotypes\n",
    "    \n",
    "    for s in stages\n",
    "      stages= build_stage(u, s)\n",
    "    end\n",
    "    mate()\n",
    "end"
   ]
  },
  {
   "cell_type": "code",
   "execution_count": 38,
   "metadata": {},
   "outputs": [],
   "source": [
    "abstract type LifeStageofBug end\n",
    "abstract type Aquatic <: LifeStageofBug end"
   ]
  },
  {
   "cell_type": "code",
   "execution_count": 39,
   "metadata": {},
   "outputs": [],
   "source": [
    "struct StageofBug{LF <: LifeStageofBug}\n",
    "    stage_type::Type{LF}\n",
    "    param1\n",
    "    param2\n",
    "end"
   ]
  },
  {
   "cell_type": "code",
   "execution_count": 40,
   "metadata": {},
   "outputs": [],
   "source": [
    "struct egg <: Aquatic end\n",
    "struct pupae <: Aquatic end\n",
    "struct Adult <: LifeStageofBug end\n",
    "struct Worm <: LifeStageofBug end"
   ]
  },
  {
   "cell_type": "code",
   "execution_count": 41,
   "metadata": {},
   "outputs": [
    {
     "data": {
      "text/plain": [
       "4-element Array{StageofBug,1}:\n",
       " StageofBug{egg}(egg, 10, 2)   \n",
       " StageofBug{pupae}(pupae, 2, 4)\n",
       " StageofBug{Adult}(Adult, 2, 3)\n",
       " StageofBug{Worm}(Worm, 2, 30) "
      ]
     },
     "execution_count": 41,
     "metadata": {},
     "output_type": "execute_result"
    }
   ],
   "source": [
    "stages =[\n",
    "    StageofBug(egg, 10, 2),\n",
    "    StageofBug(pupae, 2, 4),\n",
    "    StageofBug(Adult, 2, 3),\n",
    "    StageofBug(Worm, 2,30)\n",
    "]"
   ]
  },
  {
   "cell_type": "code",
   "execution_count": 42,
   "metadata": {},
   "outputs": [
    {
     "data": {
      "text/plain": [
       "stage_model (generic function with 1 method)"
      ]
     },
     "execution_count": 42,
     "metadata": {},
     "output_type": "execute_result"
    }
   ],
   "source": [
    "function stage_model(stage::StageofBug{A}) where {A <: Aquatic}\n",
    "    for i in 1:stage.param1\n",
    "        println(stage.param2)\n",
    "    end\n",
    "    return\n",
    "end"
   ]
  },
  {
   "cell_type": "code",
   "execution_count": 43,
   "metadata": {},
   "outputs": [
    {
     "data": {
      "text/plain": [
       "stage_model (generic function with 2 methods)"
      ]
     },
     "execution_count": 43,
     "metadata": {},
     "output_type": "execute_result"
    }
   ],
   "source": [
    "function stage_model(stage::StageofBug{Adult})\n",
    "    return \"Here is an adult\"\n",
    "end"
   ]
  },
  {
   "cell_type": "code",
   "execution_count": 44,
   "metadata": {},
   "outputs": [
    {
     "data": {
      "text/plain": [
       "stage_model (generic function with 3 methods)"
      ]
     },
     "execution_count": 44,
     "metadata": {},
     "output_type": "execute_result"
    }
   ],
   "source": [
    "function stage_model(stage::StageofBug{Worm})\n",
    "end"
   ]
  },
  {
   "cell_type": "code",
   "execution_count": 45,
   "metadata": {},
   "outputs": [
    {
     "name": "stdout",
     "output_type": "stream",
     "text": [
      "2\n",
      "2\n",
      "2\n",
      "2\n",
      "2\n",
      "2\n",
      "2\n",
      "2\n",
      "2\n",
      "2\n",
      "4\n",
      "4\n"
     ]
    }
   ],
   "source": [
    "for s in stages\n",
    "    (stage_model(s))\n",
    "end"
   ]
  },
  {
   "cell_type": "code",
   "execution_count": 46,
   "metadata": {},
   "outputs": [
    {
     "data": {
      "text/plain": [
       "ode_model (generic function with 1 method)"
      ]
     },
     "execution_count": 46,
     "metadata": {},
     "output_type": "execute_result"
    }
   ],
   "source": [
    "function ode_model(du, u, params, t)\n",
    "    #slice u and du\n",
    "    for p in population\n",
    "        du[slice] = build_stages(u, p)\n",
    "    end\n",
    "end"
   ]
  },
  {
   "cell_type": "code",
   "execution_count": 47,
   "metadata": {},
   "outputs": [
    {
     "ename": "LoadError",
     "evalue": "syntax: space before \"(\" not allowed in \"vector (\"",
     "output_type": "error",
     "traceback": [
      "syntax: space before \"(\" not allowed in \"vector (\"",
      ""
     ]
    }
   ],
   "source": [
    "function build_stages(u, p)\n",
    "    vector (same size as your du slice)\n",
    "    \n",
    "    for i in stage\n",
    "        vector[slice] = stage(u[slice], i)\n",
    "    end\n",
    "\n",
    "    return vector\n",
    "end"
   ]
  },
  {
   "cell_type": "code",
   "execution_count": 48,
   "metadata": {},
   "outputs": [
    {
     "ename": "LoadError",
     "evalue": "syntax: missing comma or ) in argument list",
     "output_type": "error",
     "traceback": [
      "syntax: missing comma or ) in argument list",
      ""
     ]
    }
   ],
   "source": [
    "function stage(u, p::T) where {T <: something}\n",
    "    vector\n",
    "    for n in p.number_of_substages\n",
    "        vector[n] = f(n....)\n",
    "    end\n",
    "    \n",
    "    return vector\n",
    "end"
   ]
  },
  {
   "cell_type": "code",
   "execution_count": 49,
   "metadata": {},
   "outputs": [],
   "source": [
    "using Random"
   ]
  },
  {
   "cell_type": "code",
   "execution_count": 50,
   "metadata": {},
   "outputs": [
    {
     "data": {
      "text/plain": [
       "10-element Array{Float64,1}:\n",
       " 0.8151836178209804  \n",
       " 0.010063031371303044\n",
       " 0.27753046335290654 \n",
       " 0.34288870115506564 \n",
       " 0.46059320482955113 \n",
       " 0.003935771472909799\n",
       " 0.02498929368481173 \n",
       " 0.629033453982742   \n",
       " 0.5447409841154298  \n",
       " 0.5562464970876599  "
      ]
     },
     "execution_count": 50,
     "metadata": {},
     "output_type": "execute_result"
    }
   ],
   "source": [
    "t = rand(10)"
   ]
  },
  {
   "cell_type": "code",
   "execution_count": 51,
   "metadata": {},
   "outputs": [
    {
     "data": {
      "text/plain": [
       "3-element Array{Float64,1}:\n",
       " 0.27753046335290654\n",
       " 0.34288870115506564\n",
       " 0.46059320482955113"
      ]
     },
     "execution_count": 51,
     "metadata": {},
     "output_type": "execute_result"
    }
   ],
   "source": [
    "t[3:5]"
   ]
  },
  {
   "cell_type": "code",
   "execution_count": null,
   "metadata": {},
   "outputs": [],
   "source": []
  },
  {
   "cell_type": "code",
   "execution_count": null,
   "metadata": {},
   "outputs": [],
   "source": []
  }
 ],
 "metadata": {
  "@webio": {
   "lastCommId": null,
   "lastKernelId": null
  },
  "kernelspec": {
   "display_name": "Julia 1.1.1",
   "language": "julia",
   "name": "julia-1.1"
  },
  "language_info": {
   "file_extension": ".jl",
   "mimetype": "application/julia",
   "name": "julia",
   "version": "1.1.1"
  }
 },
 "nbformat": 4,
 "nbformat_minor": 2
}
