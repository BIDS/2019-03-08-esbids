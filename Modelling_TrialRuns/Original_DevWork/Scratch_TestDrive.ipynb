{
 "cells": [
  {
   "cell_type": "code",
   "execution_count": null,
   "metadata": {},
   "outputs": [],
   "source": [
    "# All genotype-specific aspects, including Reproduction parameters \n",
    "\n",
    "struct Genetics \n",
    "    \n",
    "    all_genotypes::Vector{Drive{<:Genotype}}\n",
    "    cube::Array{Float64,3}         # offspring likelihoods **, per genotype \n",
    "    S::Array{Float64,1}            # fractional reduction in fertility, per genotype \n",
    "    Τ::Array{Float64,3}            # offspring viability, per genotype  \n",
    "    Φ::Array{Float64,1}            # male to female emergence ratio (gender), per genotype \n",
    "    Β::Array{Float64,1}            # female fecundity, per genotype  \n",
    "    Η::Array{Float64,1}            # male mating fitness, per genotype \n",
    "        \n",
    "        function Genetics(all_genotypes::Vector{Drive{<:Genotype}})\n",
    "        #(genotypes, cube, S, Τ, Φ, Β, Η)\n",
    "            \n",
    "            gN = length(all_genotypes) # number of different genes being considered \n",
    "            cube = Array{Float64, 3}(undef, gN, gN, gN)\n",
    "            S = Array{Float64,1}(undef, gN)\n",
    "            Τ = Array{Float64,3}(undef, gN, gN, gN)\n",
    "            Φ = Array{Float64,1}(undef, gN)\n",
    "            Β = Array{Float64,1}(undef, gN)\n",
    "            Η = Array{Float64,1}(undef, gN)\n",
    "        \n",
    "            for (index, g) in enumerate(all_genotypes)\n",
    "                cube[:,:,index] = g.cube_slice\n",
    "                S[index] = g.s\n",
    "                Τ[:,:,index] = g.τ\n",
    "                Φ[index] = g.ϕ\n",
    "                Β[index] = g.β\n",
    "                Η[index] = g.η\n",
    "            end\n",
    "            \n",
    "            new(cube, S, Τ, Φ, Β, Η)\n",
    "    \n",
    "        end\n",
    "    \n",
    "end"
   ]
  }
 ],
 "metadata": {
  "kernelspec": {
   "display_name": "Julia 1.1.0",
   "language": "julia",
   "name": "julia-1.1"
  },
  "language_info": {
   "file_extension": ".jl",
   "mimetype": "application/julia",
   "name": "julia",
   "version": "1.1.0"
  }
 },
 "nbformat": 4,
 "nbformat_minor": 2
}
