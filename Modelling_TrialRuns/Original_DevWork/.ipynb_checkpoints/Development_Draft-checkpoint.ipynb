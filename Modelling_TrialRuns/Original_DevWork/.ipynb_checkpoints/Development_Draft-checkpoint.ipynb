{
 "cells": [
  {
   "cell_type": "code",
   "execution_count": 12,
   "metadata": {},
   "outputs": [],
   "source": [
    "#import Pkg; Pkg.add(\"AxisArrays\")\n",
    "using AxisArrays\n",
    "include(\"DraftDrive/DraftDrive.jl\");"
   ]
  },
  {
   "cell_type": "code",
   "execution_count": 16,
   "metadata": {},
   "outputs": [
    {
     "name": "stderr",
     "output_type": "stream",
     "text": [
      "┌ Info: Precompiling Plots [91a5bcdd-55d7-5caf-9e0b-520d859cae80]\n",
      "└ @ Base loading.jl:1186\n"
     ]
    },
    {
     "data": {
      "text/plain": [
       "Plots.GRBackend()"
      ]
     },
     "execution_count": 16,
     "metadata": {},
     "output_type": "execute_result"
    }
   ],
   "source": [
    "using Plots\n",
    "gr()"
   ]
  },
  {
   "cell_type": "code",
   "execution_count": 22,
   "metadata": {},
   "outputs": [
    {
     "ename": "ErrorException",
     "evalue": "type PopulationType has no field ϕ",
     "output_type": "error",
     "traceback": [
      "type PopulationType has no field ϕ",
      "",
      "Stacktrace:",
      " [1] getproperty(::Any, ::Symbol) at .\\sysimg.jl:18",
      " [2] top-level scope at In[22]:1"
     ]
    }
   ],
   "source": [
    "seebase = base_population.ϕ"
   ]
  },
  {
   "cell_type": "code",
   "execution_count": 18,
   "metadata": {},
   "outputs": [
    {
     "ename": "MethodError",
     "evalue": "MethodError: no method matching getindex(::GenesDefineLife{HH}, ::Int64, ::Colon)",
     "output_type": "error",
     "traceback": [
      "MethodError: no method matching getindex(::GenesDefineLife{HH}, ::Int64, ::Colon)",
      "",
      "Stacktrace:",
      " [1] (::getfield(Main, Symbol(\"##3#4\")))(::GenesDefineLife{HH}) at .\\none:0",
      " [2] iterate at .\\generator.jl:47 [inlined]",
      " [3] collect(::Base.Generator{Array{GenesDefineLife,1},getfield(Main, Symbol(\"##3#4\"))}) at .\\array.jl:606",
      " [4] top-level scope at In[18]:1"
     ]
    }
   ],
   "source": [
    "plotgenes = [val[2,:] for val in seebase]\n",
    "\n",
    "plot(plotgenes)"
   ]
  },
  {
   "cell_type": "code",
   "execution_count": 3,
   "metadata": {},
   "outputs": [
    {
     "ename": "UndefVarError",
     "evalue": "UndefVarError: Population not defined",
     "output_type": "error",
     "traceback": [
      "UndefVarError: Population not defined",
      "",
      "Stacktrace:",
      " [1] top-level scope at In[3]:1"
     ]
    }
   ],
   "source": [
    "# Pupae\n",
    "function init(pop::Population)\n",
    "    NF = pop.reproduction.NF0;\n",
    "    ϕ = pop.reproduction.ϕ\n",
    "    β = pop.reproduction.β   \n",
    "    \n",
    "    μF =\n",
    "    qP\n",
    "    qE\n",
    "    nE\n",
    "    \n",
    "    \n",
    "    P0 = zeros(6)  \n",
    "    P0[end] = (NF*μF) / (μF*qP*ϕ)    \n",
    "    for i in length(P0)-1:-1:1\n",
    "        P0[i] = ((μP + qP*nP)/(qP*nP)) * P0[i+1]\n",
    "    end   \n",
    "    \n",
    "    E0 = zeros(4)    \n",
    "    # initialize at equilibrium  \n",
    "    E0[1] = β*NF / (μE + qE*nE)   \n",
    "    # obtain values for each day of history based on eq \n",
    "    for i in 2:length(E0)\n",
    "        E0[i] = (qE*nE*E0[i-1]) / (μE + qE*nE)\n",
    "    end  \n",
    "    \n",
    "    L0 = zeros(8)\n",
    "    L0[end] = ((μP + qP*nP)/(qL*nL)) * P0[1] \n",
    "    Lend = L0[end]\n",
    "    Eend = E0[end]  \n",
    "    for i in length(L0)-1:-1:1\n",
    "        L0[i] = ((Lend^(i/nL)) * (Eend^((nL-i)/nL)) * (nE^((nL-i)/nL)) * (qE^((nL-i)/nL))) / \n",
    "        ((nL^((nL-i)/nL)) * (qL^((nL-i)/nL)))\n",
    "    end   \n",
    "    \n",
    "    return P0, E0, L0    \n",
    "end"
   ]
  },
  {
   "cell_type": "code",
   "execution_count": 4,
   "metadata": {},
   "outputs": [
    {
     "ename": "UndefVarError",
     "evalue": "UndefVarError: LifeCycle not defined",
     "output_type": "error",
     "traceback": [
      "UndefVarError: LifeCycle not defined",
      "",
      "Stacktrace:",
      " [1] top-level scope at In[4]:1"
     ]
    }
   ],
   "source": [
    "# Eggs\n",
    "function init(stage::LifeCycle{Egg}, pop::Population, NF::Int64)\n",
    "    # placeholder for each day of history \n",
    "    E0 = zeros(4)    \n",
    "    # initialize at equilibrium  \n",
    "    E0[1] = β*NF / (μE + qE*nE)   \n",
    "    # obtain values for each day of history based on eq \n",
    "    for i in 2:length(E0)\n",
    "        E0[i] = (qE*nE*E0[i-1]) / (μE + qE*nE)\n",
    "    end    \n",
    "    # show result\n",
    "    return E0\n",
    "end"
   ]
  },
  {
   "cell_type": "code",
   "execution_count": 5,
   "metadata": {},
   "outputs": [
    {
     "ename": "UndefVarError",
     "evalue": "UndefVarError: LifeCycle not defined",
     "output_type": "error",
     "traceback": [
      "UndefVarError: LifeCycle not defined",
      "",
      "Stacktrace:",
      " [1] top-level scope at In[5]:1"
     ]
    }
   ],
   "source": [
    "# Larvae \n",
    "function init(stage::LifeCycle{Larvae}, pop::Population)  \n",
    "    L0 = zeros(8)\n",
    "    L0[end] = ((μP + qP*nP)/(qL*nL)) * P0[1] \n",
    "    Lend = L0[end]\n",
    "    Eend = E0[end]  \n",
    "    for i in length(L0)-1:-1:1\n",
    "        L0[i] = ((Lend^(i/nL)) * (Eend^((nL-i)/nL)) * (nE^((nL-i)/nL)) * (qE^((nL-i)/nL))) / \n",
    "        ((nL^((nL-i)/nL)) * (qL^((nL-i)/nL)))\n",
    "    end    \n",
    "    return L0   \n",
    "end"
   ]
  },
  {
   "cell_type": "code",
   "execution_count": null,
   "metadata": {},
   "outputs": [],
   "source": []
  }
 ],
 "metadata": {
  "kernelspec": {
   "display_name": "Julia 1.1.0",
   "language": "julia",
   "name": "julia-1.1"
  },
  "language_info": {
   "file_extension": ".jl",
   "mimetype": "application/julia",
   "name": "julia",
   "version": "1.1.0"
  }
 },
 "nbformat": 4,
 "nbformat_minor": 2
}
