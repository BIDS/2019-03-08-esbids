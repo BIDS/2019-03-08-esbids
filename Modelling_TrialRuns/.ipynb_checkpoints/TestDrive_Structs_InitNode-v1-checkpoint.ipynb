{
 "cells": [
  {
   "cell_type": "code",
   "execution_count": 1,
   "metadata": {},
   "outputs": [],
   "source": [
    "using Random\n",
    "using DifferentialEquations\n",
    "using Plots\n",
    "gr()\n",
    "\n",
    ";"
   ]
  },
  {
   "cell_type": "markdown",
   "metadata": {},
   "source": [
    "### Create structs: Density, stage, genetics, drive, node, network\n",
    "    "
   ]
  },
  {
   "cell_type": "code",
   "execution_count": 2,
   "metadata": {},
   "outputs": [],
   "source": [
    "abstract type LifeStage end\n",
    "abstract type Genotype end\n",
    "# abstract type DensityDependence end \n",
    "\n",
    "# QUESTION: dens dep = ok? "
   ]
  },
  {
   "cell_type": "code",
   "execution_count": 3,
   "metadata": {},
   "outputs": [],
   "source": [
    "# Preserve modularity with Density struct separate from Stage\n",
    "\n",
    "struct Density # {D <: DensityDependence}\n",
    "    K::Union{Nothing, Float64} # Logistic dependence\n",
    "    γ::Union{Nothing, Float64} # Linear dependence\n",
    "end\n",
    "\n",
    "# QUESTION: How to fix this properly?"
   ]
  },
  {
   "cell_type": "code",
   "execution_count": 4,
   "metadata": {},
   "outputs": [],
   "source": [
    "\n",
    "struct Stage{L <: LifeStage}\n",
    "    stage::Type{L}\n",
    "    t::Union{Nothing, Float64} # Total stage duration\n",
    "    q::Union{Nothing, Float64} # 1/duration = total time in each substage \n",
    "    n::Union{Nothing, Int64}   # Number of substages \n",
    "    μ::Float64                 # Mortality \n",
    "    d::Union{Nothing, Float64} # Enables flexible density dependence specification for each stage \n",
    "    N0::Int64                  # Initial count\n",
    "end\n",
    "\n",
    "# QUESTION: How to call density correctly - should it be d::Density? \n",
    "# Should {D <: DensityDependence} be used in actual struct?"
   ]
  },
  {
   "cell_type": "code",
   "execution_count": 5,
   "metadata": {},
   "outputs": [],
   "source": [
    "# Drive = one genotype at a time (subsets Genetics)\n",
    "\n",
    "struct Drive{G <: Genotype} \n",
    "    genotype::Type{G}            # single genotype \n",
    "    cube_slice::Array{Float64,2}      \n",
    "    s::Float64          \n",
    "    τ::Array{Float64,2} \n",
    "    ϕ::Float64            \n",
    "    β::Float64            \n",
    "    η::Float64     \n",
    "end\n",
    "    "
   ]
  },
  {
   "cell_type": "code",
   "execution_count": 6,
   "metadata": {},
   "outputs": [],
   "source": [
    "# All genotype-specific aspects, including Reproduction parameters \n",
    "\n",
    "struct Genetics \n",
    "    \n",
    "    all_genotypes::Array{Drive{<:Genotype}}\n",
    "    cube::Array{Float64, 3}        # offspring likelihoods **, per genotype \n",
    "    S::Vector{Float64}            # fractional reduction in fertility, per genotype \n",
    "    Τ::Array{Float64,3}            # offspring viability, per genotype  \n",
    "    Φ::Vector{Float64}            # male to female emergence ratio (gender), per genotype \n",
    "    Β::Vector{Float64}            # female fecundity, per genotype  \n",
    "    Η::Vector{Float64}            # male mating fitness, per genotype \n",
    "        \n",
    "        function Genetics(all_genotypes::Array{Drive{<:Genotype}}) \n",
    "            \n",
    "            gN = length(all_genotypes) # number of different genes being considered \n",
    "            cube = Array{Float64, 3}(undef, gN, gN, gN)            \n",
    "            S = Vector{Float64}(undef, gN)\n",
    "            Τ = Array{Float64,3}(undef, gN, gN, gN)\n",
    "            Φ = Vector{Float64}(undef, gN)\n",
    "            Β = Vector{Float64}(undef, gN)\n",
    "            Η = Vector{Float64}(undef, gN)\n",
    "        \n",
    "            for (index, g) in enumerate(all_genotypes)\n",
    "                cube[:,:,index] = g.cube_slice\n",
    "                S[index] = g.s\n",
    "                Τ[:,:,index] = g.τ\n",
    "                Φ[index] = g.ϕ\n",
    "                Β[index] = g.β\n",
    "                Η[index] = g.η\n",
    "            end\n",
    "            \n",
    "            new(all_genotypes, cube, S, Τ, Φ, Β, Η)\n",
    "        \n",
    "        end\n",
    "    \n",
    "end\n",
    "   \n",
    "\n",
    "# ** depth = distribution of offspring, horizontal slice = XX offspring for all parental combos\n",
    "# Depth is genetically correct, horizontal slice more convenient mathematically and same result \n",
    "# NB instead of \"Real\" can do Vector{Float64} and Array{Float64,N}"
   ]
  },
  {
   "cell_type": "code",
   "execution_count": 7,
   "metadata": {},
   "outputs": [
    {
     "data": {
      "text/plain": [
       "get_stages (generic function with 1 method)"
      ]
     },
     "execution_count": 7,
     "metadata": {},
     "output_type": "execute_result"
    }
   ],
   "source": [
    "# The fully mixing population in a single patch\n",
    "\n",
    "struct Node \n",
    "    name::Symbol\n",
    "    gene_data::Genetics      \n",
    "    all_stages::Vector{Stage}\n",
    "    location::Tuple{Float64,Float64}\n",
    "    migration::Array{Float64,3} # tensor with each slice applicable to one state's movement  \n",
    "end\n",
    "\n",
    "#accesor functions for Node\n",
    "get_genetics(N::Node) = N.gene_data\n",
    "get_stages(N::Node) = @view N.all_stages[:]"
   ]
  },
  {
   "cell_type": "code",
   "execution_count": 8,
   "metadata": {},
   "outputs": [],
   "source": [
    "# Network = collects all Nodes \n",
    "\n",
    "struct Network\n",
    "    \n",
    "    all_nodes::Vector{Node}\n",
    "    all_locations::Vector{Tuple{Float64, Float64}}                      \n",
    "    net_migration::Array{Float64,4}  # Need one matrix per \"state\" (genotype x stage pair) -> \n",
    "                                     # therefore one cube per node (migration for all states) ->\n",
    "                                     # therefore must add a fourth dimension to encompass network \n",
    "    \n",
    "    function Network(all_nodes::Vector{Node}, n_states::Int64)   \n",
    "        \n",
    "        n_nodes = length(all_nodes)\n",
    "        all_locations = Vector{Tuple{Float64,Float64}}(undef, n_nodes)     \n",
    "        net_migration = Array{Float64,4}(undef, n_nodes, n_states, n_nodes, n_nodes) \n",
    "        \n",
    "        for (index, n) in enumerate(all_nodes) \n",
    "            all_locations[index] = n.location\n",
    "            net_migration[index, :, :, :] = n.migration # returns a 3x3 tensor specific to each node \n",
    "        end\n",
    "        \n",
    "        new(all_nodes, all_locations, net_migration) \n",
    "        \n",
    "    end\n",
    "    \n",
    "end\n",
    "\n",
    "# Question: Best way to save \"meta info\" on eg node name?\n",
    "# Question: How to change migration % at each time point? \n",
    "# Question: Use continuous callbacks to implement -> make sense if also using discrete for releases? Alternatives?"
   ]
  },
  {
   "cell_type": "markdown",
   "metadata": {},
   "source": [
    "### Generate stage/drive specific structs "
   ]
  },
  {
   "cell_type": "code",
   "execution_count": 9,
   "metadata": {},
   "outputs": [],
   "source": [
    "# Stage specific \n",
    "\n",
    "struct Egg <: LifeStage end\n",
    "struct Larvae <: LifeStage end\n",
    "struct Pupae <: LifeStage end\n",
    "struct Male <: LifeStage end\n",
    "struct Female <: LifeStage end\n"
   ]
  },
  {
   "cell_type": "code",
   "execution_count": 10,
   "metadata": {},
   "outputs": [],
   "source": [
    "# Genotype (drive characteristics) specific \n",
    "\n",
    "struct HH <: Genotype end \n",
    "struct Hh <: Genotype end \n",
    "struct HR <: Genotype end\n",
    "struct hh <: Genotype end \n",
    "struct hR <: Genotype end \n",
    "struct RR <: Genotype end\n"
   ]
  },
  {
   "cell_type": "markdown",
   "metadata": {},
   "source": [
    "### Insert data and build out groups "
   ]
  },
  {
   "cell_type": "code",
   "execution_count": 11,
   "metadata": {},
   "outputs": [
    {
     "data": {
      "text/plain": [
       "get_stage (generic function with 2 methods)"
      ]
     },
     "execution_count": 11,
     "metadata": {},
     "output_type": "execute_result"
    }
   ],
   "source": [
    "# Life stages: total duration, substages, mortality, density \n",
    "\n",
    "stages = [\n",
    "    Stage(Egg, 4., (1/4.), 4, 0.5, nothing, 0),\n",
    "    Stage(Larvae, 3., (1/3.), 8, 0.15, 355.0, 0), \n",
    "    Stage(Pupae, 6., (1/6.), 6, 0.05, nothing, 0),\n",
    "    Stage(Male, nothing, nothing, nothing, 0.09, nothing, 0),\n",
    "    Stage(Female, nothing, nothing, nothing, 0.09, nothing, 500),\n",
    "    ]\n",
    "\n",
    "function get_stage(stage_array::Vector{Stage}, life_stage::Type)\n",
    "    \n",
    "    # can be improved (speed): return [s for s in stage_array if isa(s,Stage{life_stage})][1]\n",
    "    Pstage = \n",
    "    \n",
    "    return \n",
    "                \n",
    "end\n",
    "            \n",
    "function get_stage(node::Node, life_stage::Type)\n",
    "    #this find in array by type can be improved in speed\n",
    "    stage_array = get_stages(node)\n",
    "    return get_stage(stage_array, life_stage)\n",
    "end            \n"
   ]
  },
  {
   "cell_type": "code",
   "execution_count": 12,
   "metadata": {},
   "outputs": [
    {
     "data": {
      "text/plain": [
       "Stage{Egg}(Egg, 4.0, 0.25, 4, 0.5, nothing, 0)"
      ]
     },
     "execution_count": 12,
     "metadata": {},
     "output_type": "execute_result"
    }
   ],
   "source": [
    "get_stage(stages, Egg)"
   ]
  },
  {
   "cell_type": "code",
   "execution_count": 13,
   "metadata": {},
   "outputs": [],
   "source": [
    "# Cube slices \n",
    "\n",
    "layer1 = [1.0 1.0 0.50  0  0  0; 1.0 1.0 0.50  0  0  0; 0.5 0.5 0.25  0  0  0; \n",
    "        0.0 0.0 0.00  0  0  0; 0.0 0.0 0.00  0  0  0; 0.0 0.0 0.00  0  0  0]\n",
    "\n",
    "layer2 = [0.0 0.0 0.00 1.0 0.50  0; 0.0 0.0 0.00 1.0 0.50  0; 0.0 0.0 0.00 0.5 0.25  0; \n",
    "        1.0 1.0 0.50 0.0 0.00  0; 0.5 0.5 0.25 0.0 0.00  0; 0.0 0.0 0.00 0.0 0.00  0]\n",
    "\n",
    "layer3 = [0.0 0.0 0.50  0 0.50 1.0; 0.0 0.0 0.50  0 0.50 1.0; 0.5 0.5 0.50  0 0.25 0.5;\n",
    "        0.0 0.0 0.00  0 0.00 0.0; 0.5 0.5 0.25  0 0.00 0.0; 1.0 1.0 0.50  0 0.00 0.0]\n",
    "\n",
    "layer4 = [0  0  0 0.0 0.00  0; 0  0  0 0.0 0.00  0; 0  0  0 0.0 0.00  0; \n",
    "        0  0  0 1.0 0.50  0; 0  0  0 0.5 0.25  0; 0  0  0 0.0 0.00  0]\n",
    "\n",
    "layer5 = [0  0  0 0.0 0.00  0; 0  0  0 0.0 0.00  0; 0  0 0.00 0.5 0.25 0.0; \n",
    "        0  0 0.50 0.0 0.50 1.0; 0  0 0.25 0.5 0.50 0.5; 0  0 0.00 1.0 0.50 0.0]\n",
    "\n",
    "layer6 = [0  0  0 0.0 0.00  0; 0  0  0 0.0 0.00  0; 0  0 0.25  0 0.25 0.5; \n",
    "        0  0 0.00  0 0.00 0.0; 0  0 0.25  0 0.25 0.5; 0  0 0.50  0 0.50 1.0]\n",
    "\n",
    ";"
   ]
  },
  {
   "cell_type": "code",
   "execution_count": 14,
   "metadata": {},
   "outputs": [],
   "source": [
    "# Build drives = genotype, cube_slice, s, τ, ϕ, β, η \n",
    "\n",
    "drives = [\n",
    "    Drive(HH, layer1, 1.0, ones(6,6), 0.5, 16.0, 1.0),\n",
    "    Drive(Hh, layer2, 1.0, ones(6,6), 0.5, 16.0, 1.0), \n",
    "    Drive(HR, layer3, 1.0, ones(6,6), 0.5, 16.0, 1.0),\n",
    "    Drive(hh, layer4, 1.0, ones(6,6), 0.5, 16.0, 1.0),\n",
    "    Drive(hR, layer5, 1.0, ones(6,6), 0.5, 16.0, 1.0),\n",
    "    Drive(RR, layer6, 1.0, ones(6,6), 0.5, 16.0, 1.0)    \n",
    "]\n",
    "\n",
    ";"
   ]
  },
  {
   "cell_type": "code",
   "execution_count": 15,
   "metadata": {},
   "outputs": [],
   "source": [
    "# Put all genetic data together \n",
    "\n",
    "genetics = Genetics(drives)\n",
    "\n",
    ";"
   ]
  },
  {
   "cell_type": "code",
   "execution_count": 16,
   "metadata": {},
   "outputs": [],
   "source": [
    "# migration_matrix = number of states (stages x genotypes), number of nodes, number of nodes\n",
    "\n",
    "migrate_matrix_node1 = rand((6*(4+8+6+1+6)), 2, 2) \n",
    "migrate_matrix_node2 = rand((6*(4+8+6+1+6)), 2, 2)\n",
    "\n",
    "# Name nodes \n",
    "\n",
    "firstnode = :FirstNode\n",
    "secondnode = :SecondNode\n",
    "\n",
    "; "
   ]
  },
  {
   "cell_type": "code",
   "execution_count": 17,
   "metadata": {},
   "outputs": [],
   "source": [
    "# Build nodes = Name, gene_data, stages, location, migration matrix\n",
    "\n",
    "Nodes = [Node(:FirstNode, genetics, stages, (37.87, 122.27), migrate_matrix_node1),\n",
    "         Node(:SecondNode, genetics, stages, (35.87, 120.27), migrate_matrix_node2)]\n",
    "\n",
    ";"
   ]
  },
  {
   "cell_type": "code",
   "execution_count": 18,
   "metadata": {},
   "outputs": [],
   "source": [
    "network = Network(Nodes, 150)\n",
    "\n",
    ";"
   ]
  },
  {
   "cell_type": "code",
   "execution_count": 19,
   "metadata": {},
   "outputs": [
    {
     "data": {
      "text/plain": [
       "Stage{Larvae}(Larvae, 3.0, 0.3333333333333333, 8, 0.15, 355.0, 0)"
      ]
     },
     "execution_count": 19,
     "metadata": {},
     "output_type": "execute_result"
    }
   ],
   "source": [
    "Nodes[1].all_stages[2]"
   ]
  },
  {
   "cell_type": "markdown",
   "metadata": {},
   "source": [
    "### Initial conditions "
   ]
  },
  {
   "cell_type": "code",
   "execution_count": null,
   "metadata": {},
   "outputs": [],
   "source": [
    "##############\n",
    "# PUPAE\n",
    "##############\n",
    "# (NF, μF, nP, qP, ϕ, μP)\n",
    "function init_stage(s::LifeStage{Pupae}, stages, genetics::Genetics, gene_index::Int64)\n",
    "    female = get_stage(stages, Female)\n",
    "    NF = female.N\n",
    "    μF = female.μ\n",
    "    \n",
    "    nP = s.n\n",
    "    qP = s.q\n",
    "    μP = s.μ\n",
    "    \n",
    "    ϕ = genetics.Φ[gene_index] \n",
    "    gN = gene_number(genetics) #this function doesn't exist yet. \n",
    "    \n",
    "    # Vector the length of substages: P0 = zeros(6) \n",
    "    P0 = zeros(nP,gN)  \n",
    "\n",
    "    P0[end, gene_index] = (NF*μF) / (nP*qP*ϕ) \n",
    "    \n",
    "        for i in nP-1:-1:1\n",
    "            P0[i, gene_index] = ((μP + qP*nP)/(qP*nP)) * P0[i+1,gene_index]\n",
    "        end   \n",
    "\n",
    "    return P0\n",
    "\n",
    "end"
   ]
  },
  {
   "cell_type": "code",
   "execution_count": null,
   "metadata": {},
   "outputs": [],
   "source": [
    "    ##############\n",
    "    # EGGS \n",
    "    ##############\n",
    "    \n",
    "    # (β, NF, μE, qE, nE)\n",
    "    function init_E(s::LifeStage{Egg}, stages, genetics::Genetics, gene_index::Int64) \n",
    "        \n",
    "        female = get_stage(stages, Female)\n",
    "        NF = female.N\n",
    "    \n",
    "        nE = s.n\n",
    "        qE = s.q\n",
    "        μE = s.μ\n",
    "        \n",
    "        ϕ = genetics.Φ[gene_index]\n",
    "        β = genetics.Β[gene_index]\n",
    "        gN = gene_number(genetics) #this function doesn't exist yet.\n",
    "    \n",
    "    \n",
    "        #  Vector the length of substages: E0 = zeros(4) \n",
    "        E0 = zeros(nP, gN)    \n",
    "        \n",
    "            # Initialize at equilibrium : E0[1] = β*NF / (μE + qE*nE)   \n",
    "            E0[1] = β*NF / (μE + qE*nE)\n",
    "        \n",
    "            # Obtain values for each day of history based on eq \n",
    "            for i in 2:length(E0)\n",
    "                \n",
    "                # E0[i] = (qE*nE*E0[i-1]) / (μE + qE*nE)\n",
    "                E0[i] = (qE*nE*E0[i-1]) / (μE + qE*nE)\n",
    "            \n",
    "            end    \n",
    "        \n",
    "        # show result\n",
    "        return E0\n",
    "        \n",
    "    end"
   ]
  },
  {
   "cell_type": "code",
   "execution_count": null,
   "metadata": {},
   "outputs": [],
   "source": [
    "\n",
    "    ##############\n",
    "    # LARVAE \n",
    "    ##############\n",
    "\n",
    "    # (μP, qP, nP, qL, nL, P0, qE, nE)  \n",
    "    function init_L(s::LifeStage{Larvae}, stages, genetics::Genetics, gene_index::Int64)  \n",
    "        \n",
    "        female = get_stage(stages, Female)\n",
    "        NF = female.N\n",
    "    \n",
    "        nL = s.n\n",
    "        qL = s.q\n",
    "        μL = s.μ\n",
    "        \n",
    "        ϕ = genetics.Φ[gene_index]\n",
    "        β = genetics.Β[gene_index]\n",
    "        gN = gene_number(genetics) #this function doesn't exist yet.\n",
    "    \n",
    "        # L0 = zeros(8)\n",
    "        L0 = zeros(nL, gN)\n",
    "        \n",
    "        # L0[end] = ((μP + qP*nP)/(qL*nL)) * P0[1] \n",
    "        L0[end] = ((μP + qP*nP)/(qL*nL)) * P0[1] \n",
    "    \n",
    "        Lend = L0[end]\n",
    "        \n",
    "        Eend = E0[end]  \n",
    "        \n",
    "        for i in length(L0)-1:-1:1\n",
    "            \n",
    "            # L0[i] = ((Lend^(i/nL)) * (Eend^((nL-i)/nL)) * (nE^((nL-i)/nL)) * (qE^((nL-i)/nL))) / \n",
    "            # ((nL^((nL-i)/nL)) * (qL^((nL-i)/nL)))\n",
    "            L0[i] = ((Lend^(i/nL)) * (Eend^((nL-i)/nL)) * (nE^((nL-i)/nL)) * (qE^((nL-i)/nL))) / \n",
    "        ((nL^((nL-i)/nL)) * (qL^((nL-i)/nL)))\n",
    "        \n",
    "        end    \n",
    "    \n",
    "        return L0   \n",
    "\n",
    "    end\n",
    "    \n",
    "    # QUESTION: Why is μ for E and L stages not included in these calculations (only μ for P)?"
   ]
  },
  {
   "cell_type": "code",
   "execution_count": null,
   "metadata": {},
   "outputs": [],
   "source": [
    "    ##############\n",
    "    # ADULT MALES\n",
    "    ##############\n",
    "    \n",
    "    # (ϕ, qP, nP, P0, μM)\n",
    "    function init_NM()\n",
    "        \n",
    "        # NM = ((1-ϕ)*qP*nP*P0[end]) / μM\n",
    "        NM = ((1-ϕ)*qP*nP*P0[end]) / μM\n",
    "        \n",
    "        return NM  \n",
    "    \n",
    "        end # end males \n",
    "\n",
    "    # QUESTION: How to specify both genetics and gender -> eg, ϕ for WW males versus HW males, females? Fold \n",
    "    # even MORE into the Genetics function? One has to be a subset of the other in order to designate, right? \n",
    "    \n",
    "end # end fully wrapped function "
   ]
  },
  {
   "cell_type": "code",
   "execution_count": null,
   "metadata": {},
   "outputs": [],
   "source": [
    "    ##############\n",
    "    # ADULT FEMALES\n",
    "    ##############\n",
    "\n",
    "    # EQ FOR FEMALES NOT CALCULATED; SIMPLY ASSIGNED A VALUE (usual guess = 500.0)\n",
    "\n",
    "    # QUESTION: Is there a better way to do this? \n"
   ]
  },
  {
   "cell_type": "code",
   "execution_count": null,
   "metadata": {},
   "outputs": [],
   "source": [
    "function init_node(node::Node, gene_index::Int64)\n",
    "    init_cond = Array{Float64,2}()\n",
    "    genetics = get_genetics(node)\n",
    "    stages = get_stages(node)\n",
    "    \n",
    "    for s in stages\n",
    "        \n",
    "        push!(init_cond,init_stage(s, stages, genetic, gene_index))\n",
    "        \n",
    "    end   \n",
    "        \n",
    "    return init_cond #This returns the whole u0\n",
    "    \n",
    "end    "
   ]
  },
  {
   "cell_type": "code",
   "execution_count": null,
   "metadata": {},
   "outputs": [],
   "source": [
    "u0 = init_node(nodes[1], 4)"
   ]
  },
  {
   "cell_type": "code",
   "execution_count": null,
   "metadata": {},
   "outputs": [],
   "source": []
  },
  {
   "cell_type": "code",
   "execution_count": null,
   "metadata": {},
   "outputs": [],
   "source": []
  },
  {
   "cell_type": "code",
   "execution_count": null,
   "metadata": {},
   "outputs": [],
   "source": []
  },
  {
   "cell_type": "code",
   "execution_count": null,
   "metadata": {},
   "outputs": [],
   "source": []
  },
  {
   "cell_type": "code",
   "execution_count": null,
   "metadata": {},
   "outputs": [],
   "source": []
  }
 ],
 "metadata": {
  "@webio": {
   "lastCommId": null,
   "lastKernelId": null
  },
  "kernelspec": {
   "display_name": "Julia 1.1.0",
   "language": "julia",
   "name": "julia-1.1"
  },
  "language_info": {
   "file_extension": ".jl",
   "mimetype": "application/julia",
   "name": "julia",
   "version": "1.1.0"
  }
 },
 "nbformat": 4,
 "nbformat_minor": 2
}
