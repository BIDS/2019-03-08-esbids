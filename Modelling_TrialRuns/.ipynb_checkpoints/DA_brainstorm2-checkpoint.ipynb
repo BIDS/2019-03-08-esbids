{
 "cells": [
  {
   "cell_type": "code",
   "execution_count": 1,
   "metadata": {},
   "outputs": [],
   "source": [
    "struct LifeParams\n",
    "    T\n",
    "    q\n",
    "    n\n",
    "    μ\n",
    "    k\n",
    "end"
   ]
  },
  {
   "cell_type": "code",
   "execution_count": 2,
   "metadata": {},
   "outputs": [],
   "source": [
    "struct Cube\n",
    "    ih\n",
    "    s\n",
    "    τ\n",
    "    η\n",
    "end"
   ]
  },
  {
   "cell_type": "code",
   "execution_count": 3,
   "metadata": {},
   "outputs": [],
   "source": [
    "struct Reproduction\n",
    "    β\n",
    "    ϕ\n",
    "    cube\n",
    "end"
   ]
  },
  {
   "cell_type": "code",
   "execution_count": 4,
   "metadata": {},
   "outputs": [],
   "source": [
    "struct GenesDefineLife\n",
    "    genotype\n",
    "    lifeparams\n",
    "    reproduction\n",
    "end"
   ]
  },
  {
   "cell_type": "code",
   "execution_count": 5,
   "metadata": {},
   "outputs": [
    {
     "data": {
      "text/plain": [
       "(HH = GenesDefineLife(:HH, LifeParams(24, 35, 6, 3, 7), Reproduction(23.0, 35, Cube(35, 24, 6, 243))), WW = GenesDefineLife(:HH, LifeParams(24, 35, 6, 3, 7), Reproduction(23.0, 35, Cube(35, 24, 6, 243))))"
      ]
     },
     "execution_count": 5,
     "metadata": {},
     "output_type": "execute_result"
    }
   ],
   "source": [
    "p = (HH=GenesDefineLife(:HH, LifeParams(24, 35,6,3,7), \n",
    "        Reproduction(23., 35, Cube(35, 24, 6, 243))),\n",
    "    WW=GenesDefineLife(:HH, LifeParams(24, 35,6,3,7), \n",
    "        Reproduction(23., 35, Cube(35, 24, 6, 243))))"
   ]
  },
  {
   "cell_type": "code",
   "execution_count": 6,
   "metadata": {},
   "outputs": [
    {
     "data": {
      "text/plain": [
       "24"
      ]
     },
     "execution_count": 6,
     "metadata": {},
     "output_type": "execute_result"
    }
   ],
   "source": [
    "p.HH.reproduction.cube.s"
   ]
  },
  {
   "cell_type": "code",
   "execution_count": 7,
   "metadata": {},
   "outputs": [
    {
     "data": {
      "text/plain": [
       "24"
      ]
     },
     "execution_count": 7,
     "metadata": {},
     "output_type": "execute_result"
    }
   ],
   "source": [
    "p[1].reproduction.cube.s"
   ]
  },
  {
   "cell_type": "code",
   "execution_count": 8,
   "metadata": {},
   "outputs": [
    {
     "data": {
      "text/plain": [
       "(:HH, :WW)"
      ]
     },
     "execution_count": 8,
     "metadata": {},
     "output_type": "execute_result"
    }
   ],
   "source": [
    "keys(p)"
   ]
  },
  {
   "cell_type": "code",
   "execution_count": 9,
   "metadata": {},
   "outputs": [
    {
     "data": {
      "text/plain": [
       "7"
      ]
     },
     "execution_count": 9,
     "metadata": {},
     "output_type": "execute_result"
    }
   ],
   "source": [
    "p.WW.lifeparams.k"
   ]
  },
  {
   "cell_type": "code",
   "execution_count": 10,
   "metadata": {},
   "outputs": [
    {
     "name": "stdout",
     "output_type": "stream",
     "text": [
      "7\n",
      "7\n"
     ]
    }
   ],
   "source": [
    "for j in keys(p)\n",
    "    println(p[j].lifeparams.k)\n",
    "end"
   ]
  },
  {
   "cell_type": "code",
   "execution_count": null,
   "metadata": {},
   "outputs": [],
   "source": [
    "\n",
    "const tstop = [25.,26.,35.,36.,45.,46.,55., 56., 65., 66.]\n",
    "\n",
    "function condition_on(u,t,integrator, ison)\n",
    "    ison[25.,35.,45.,55.,65.] ? func_on(u)  : 50  # release\n",
    "end\n",
    "\n",
    "function condition_off(u,t,integrator, ison)\n",
    "    ison[26.,36.,46.,56.,66.] ? func_off(u)  : 1e-12  # stop release (non zero required?)\n",
    "end\n",
    "\n",
    "function effect!(integrator, ison)\n",
    "    # update integrator\n",
    "    ison .= .!ison\n",
    "end\n",
    "\n",
    "# original example = [true,false] \n",
    "# BUT if same as save_positions should be [true,true] \n",
    "ison = [true,true] \n",
    "\n",
    "cb1 = DiscreteCallback((u,t,integrator)->condition_on(u,t,integrator, Ref(ison)), \n",
    "                                            integrator -> affect(integrator, Ref(ison))\n",
    "    \n",
    "cb2 = DiscreteCallback((u,t,integrator)->condition_off(u,t,integrator, Ref(ison)), \n",
    "                                            integrator -> affect(integrator, Ref(ison))\n",
    "        \n",
    "        "
   ]
  },
  {
   "cell_type": "code",
   "execution_count": null,
   "metadata": {},
   "outputs": [],
   "source": []
  }
 ],
 "metadata": {
  "kernelspec": {
   "display_name": "Julia 1.1.0",
   "language": "julia",
   "name": "julia-1.1"
  },
  "language_info": {
   "file_extension": ".jl",
   "mimetype": "application/julia",
   "name": "julia",
   "version": "1.1.0"
  }
 },
 "nbformat": 4,
 "nbformat_minor": 2
}
