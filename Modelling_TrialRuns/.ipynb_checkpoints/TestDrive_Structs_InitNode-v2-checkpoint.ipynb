{
 "cells": [
  {
   "cell_type": "code",
   "execution_count": 7,
   "metadata": {},
   "outputs": [],
   "source": [
    "\n",
    "using Random\n",
    "using DifferentialEquations\n",
    "using Plots\n",
    "gr()\n",
    "\n",
    ";"
   ]
  },
  {
   "cell_type": "code",
   "execution_count": 8,
   "metadata": {},
   "outputs": [],
   "source": [
    "import Base.length "
   ]
  },
  {
   "cell_type": "code",
   "execution_count": 9,
   "metadata": {},
   "outputs": [],
   "source": [
    "### Create structs: Density, stage, genetics, drive, node, network\n",
    "    "
   ]
  },
  {
   "cell_type": "code",
   "execution_count": 10,
   "metadata": {},
   "outputs": [],
   "source": [
    "abstract type LifeStage end \n",
    "\n",
    "struct Stage{L <: LifeStage}\n",
    "    stage::Type{L}\n",
    "    t::Union{Nothing, Float64}         # Total stage duration\n",
    "    q::Union{Nothing, Float64}         # 1/duration = total time in each substage \n",
    "    n::Union{Nothing, Int64}           # Number of substages \n",
    "    μ::Float64                         # Mortality \n",
    "    d::Any    # Enables flexible density dependence specification \n",
    "    N0::Int64                          # Initial count (Question: \"any\" or \"int64\"?) \n",
    "end\n"
   ]
  },
  {
   "cell_type": "code",
   "execution_count": 11,
   "metadata": {},
   "outputs": [],
   "source": [
    "\n",
    "struct Egg <: LifeStage end\n",
    "struct Larvae <: LifeStage end\n"
   ]
  },
  {
   "cell_type": "code",
   "execution_count": 12,
   "metadata": {},
   "outputs": [
    {
     "data": {
      "text/plain": [
       "DataType"
      ]
     },
     "execution_count": 12,
     "metadata": {},
     "output_type": "execute_result"
    }
   ],
   "source": [
    "typeof(Egg)"
   ]
  },
  {
   "cell_type": "code",
   "execution_count": 13,
   "metadata": {},
   "outputs": [
    {
     "data": {
      "text/plain": [
       "density_model (generic function with 2 methods)"
      ]
     },
     "execution_count": 13,
     "metadata": {},
     "output_type": "execute_result"
    }
   ],
   "source": [
    "# Preserve modularity with Density struct separate from Stage\n",
    "\n",
    "abstract type DensityModel end\n",
    "\n",
    "struct Density{D <: DensityModel}\n",
    "    model::Type{D}\n",
    "    param::Float64  # K in case of logistic, γ in case of linear\n",
    "    # stage::Stage    # Stage it applies to -> note this in the lifestage struct instead of here to avoid cicularity \n",
    "end\n",
    "\n",
    "struct Linear <: DensityModel end\n",
    "struct Logistic <: DensityModel end\n",
    "\n",
    "lin_dens = Density(Linear, 5.0)\n",
    "log_dens = Density(Logistic, 9.0)\n",
    "\n",
    "# Test multiple dispatch \n",
    "function density_model(data::Density{Linear}, stage::Stage)\n",
    "    \n",
    "    return data.param * stage  # for gamma value see Hancock and Godfray: \n",
    "                                    # https://www.ncbi.nlm.nih.gov/pmc/articles/PMC1971713/\n",
    "end\n",
    " \n",
    "function density_model(data::Density{Logistic}, Lifeststage::Stage)\n",
    "    \n",
    "    return (1 + (sum(stage)/data.param))\n",
    "    \n",
    "end\n"
   ]
  },
  {
   "cell_type": "code",
   "execution_count": 14,
   "metadata": {},
   "outputs": [],
   "source": [
    "#=\n",
    "density_model(lin_dens, Egg)\n",
    "density_model(log_dens, Larvae)\n",
    "=#"
   ]
  },
  {
   "cell_type": "code",
   "execution_count": 15,
   "metadata": {},
   "outputs": [],
   "source": [
    "# Drive = one genotype at a time (subsets Genetics)\n",
    "\n",
    "abstract type Genotype end\n",
    "\n",
    "struct Drive{G <: Genotype} \n",
    "    genotype::Type{G}            # single genotype \n",
    "    cube_slice::Array{Float64,2} # offspring likelihoods for this genotype     \n",
    "    s::Float64                   # fractional reduction in fertility\n",
    "    τ::Array{Float64,2}          # offspring viability\n",
    "    ϕ::Float64                   # male to female emergence ratio (gender)\n",
    "    β::Float64                   # female fecundity\n",
    "    η::Float64                   # male mating fitness\n",
    "end\n",
    "    "
   ]
  },
  {
   "cell_type": "code",
   "execution_count": 16,
   "metadata": {},
   "outputs": [],
   "source": [
    "# Genetics = All genotype-specific aspects, including Reproduction parameters \n",
    "\n",
    "struct Genetics \n",
    "    \n",
    "    all_genotypes::Array{Drive{<:Genotype}}  # all genotypes in this population \n",
    "    cube::Array{Float64, 3}                  # offspring likelihoods **, per genotype \n",
    "    S::Vector{Float64}                       # fractional reduction in fertility, per genotype \n",
    "    Τ::Array{Float64,3}                      # offspring viability, per genotype  \n",
    "    Φ::Vector{Float64}                       # male to female emergence ratio (gender), per genotype \n",
    "    Β::Vector{Float64}            # female fecundity, per genotype  \n",
    "    Η::Vector{Float64}            # male mating fitness, per genotype \n",
    "        \n",
    "        function Genetics(all_genotypes::Array{Drive{<:Genotype}}) \n",
    "            \n",
    "            gN = length(all_genotypes) # number of different genes being considered \n",
    "            cube = Array{Float64, 3}(undef, gN, gN, gN)            \n",
    "            S = Vector{Float64}(undef, gN)\n",
    "            Τ = Array{Float64,3}(undef, gN, gN, gN)\n",
    "            Φ = Vector{Float64}(undef, gN)\n",
    "            Β = Vector{Float64}(undef, gN)\n",
    "            Η = Vector{Float64}(undef, gN)\n",
    "        \n",
    "            for (index, g) in enumerate(all_genotypes)\n",
    "                cube[:,:,index] = g.cube_slice\n",
    "                S[index] = g.s\n",
    "                Τ[:,:,index] = g.τ\n",
    "                Φ[index] = g.ϕ\n",
    "                Β[index] = g.β\n",
    "                Η[index] = g.η\n",
    "            end\n",
    "            \n",
    "            new(all_genotypes, cube, S, Τ, Φ, Β, Η)\n",
    "        \n",
    "        end\n",
    "    \n",
    "end\n",
    "   \n",
    "\n",
    "# ** depth = distribution of offspring, horizontal slice = XX offspring for all parental combos\n",
    "# Depth is genetically correct, horizontal slice more convenient mathematically and same result \n",
    "# NB instead of \"Real\" can do Vector{Float64} and Array{Float64,N}\n",
    "\n",
    "#=\n",
    "An inner constructor method is like an outer constructor method, except for two differences:\n",
    "\n",
    "1.It is declared inside the block of a type declaration, rather than outside of it like normal methods.\n",
    "2.It has access to a special locally existent function called new that creates objects of the block's type.\n",
    "\n",
    "https://pkg.julialang.org/docs/julia/THl1k/1.1.0/manual/constructors.html\n",
    "=#"
   ]
  },
  {
   "cell_type": "code",
   "execution_count": 17,
   "metadata": {},
   "outputs": [
    {
     "data": {
      "text/plain": [
       "get_allstages (generic function with 1 method)"
      ]
     },
     "execution_count": 17,
     "metadata": {},
     "output_type": "execute_result"
    }
   ],
   "source": [
    "# The fully mixing population in a single patch\n",
    "\n",
    "struct Node \n",
    "    name::Symbol\n",
    "    gene_data::Genetics      \n",
    "    all_stages::Vector{Stage} #Dict{Int64, Stage} #\n",
    "    location::Tuple{Float64,Float64}\n",
    "    migration::Array{Float64,3} # tensor with each slice applicable to one state's movement  \n",
    "end\n",
    "\n",
    "#accesor functions for Node\n",
    "get_genetics(node::Node) = node.gene_data\n",
    "get_allstages(node::Node) = node.all_stages"
   ]
  },
  {
   "cell_type": "code",
   "execution_count": 18,
   "metadata": {},
   "outputs": [
    {
     "name": "stdout",
     "output_type": "stream",
     "text": [
      "Node <: Any\n",
      "  name::Symbol\n",
      "  gene_data::Genetics\n",
      "  all_stages::Array{Stage,1}\n",
      "  location::Tuple{Float64,Float64}\n",
      "  migration::Array{Float64,3}\n"
     ]
    }
   ],
   "source": [
    "dump(Node)"
   ]
  },
  {
   "cell_type": "code",
   "execution_count": 19,
   "metadata": {},
   "outputs": [],
   "source": [
    "# Network = collects all Nodes \n",
    "\n",
    "struct Network\n",
    "    \n",
    "    all_nodes::Vector{Node}\n",
    "    all_locations::Vector{Tuple{Float64, Float64}}                      \n",
    "    net_migration::Array{Float64,4}  # Need one matrix per \"state\" (genotype x stage pair) -> \n",
    "                                     # therefore one cube per node (migration for all states) ->\n",
    "                                     # therefore must add a fourth dimension to encompass network \n",
    "    \n",
    "    function Network(all_nodes::Vector{Node}, n_states::Int64)   \n",
    "        \n",
    "        n_nodes = length(all_nodes)\n",
    "        all_locations = Vector{Tuple{Float64,Float64}}(undef, n_nodes)     \n",
    "        net_migration = Array{Float64,4}(undef, n_nodes, n_states, n_nodes, n_nodes) \n",
    "        \n",
    "        for (index, n) in enumerate(all_nodes) \n",
    "            all_locations[index] = n.location\n",
    "            net_migration[index, :, :, :] = n.migration # returns a 3x3 tensor specific to each node \n",
    "        end\n",
    "        \n",
    "        new(all_nodes, all_locations, net_migration) \n",
    "        \n",
    "    end\n",
    "    \n",
    "end\n",
    "\n",
    "# Question: Best way to save \"meta info\" on eg node name?\n",
    "# Question: How to change migration % at each time point? \n",
    "# Question: Use continuous callbacks to implement -> make sense if also using discrete for releases? Alternatives?"
   ]
  },
  {
   "cell_type": "markdown",
   "metadata": {},
   "source": [
    "### Generate stage/drive specific structs "
   ]
  },
  {
   "cell_type": "code",
   "execution_count": 20,
   "metadata": {},
   "outputs": [],
   "source": [
    "# Stage specific \n",
    "\n",
    "struct Egg <: LifeStage end\n",
    "struct Larvae <: LifeStage end\n",
    "struct Pupae <: LifeStage end\n",
    "struct Male <: LifeStage end\n",
    "struct Female <: LifeStage end\n"
   ]
  },
  {
   "cell_type": "code",
   "execution_count": 21,
   "metadata": {},
   "outputs": [],
   "source": [
    "# Genotype (drive characteristics) specific \n",
    "\n",
    "struct HH <: Genotype end \n",
    "struct Hh <: Genotype end \n",
    "struct HR <: Genotype end\n",
    "struct hh <: Genotype end \n",
    "struct hR <: Genotype end \n",
    "struct RR <: Genotype end\n"
   ]
  },
  {
   "cell_type": "markdown",
   "metadata": {},
   "source": [
    "### Insert data and build out groups "
   ]
  },
  {
   "cell_type": "code",
   "execution_count": 22,
   "metadata": {},
   "outputs": [
    {
     "data": {
      "text/plain": [
       "get_stage (generic function with 2 methods)"
      ]
     },
     "execution_count": 22,
     "metadata": {},
     "output_type": "execute_result"
    }
   ],
   "source": [
    "# Life stages: total duration, substages, mortality, density model type \n",
    "\n",
    "stages = [\n",
    "    Stage(Egg, 4., (1/4.), 4, 0.5, nothing, 0),\n",
    "    Stage(Larvae, 3., (1/3.), 8, 0.15, 355.0, 0), # This should be model type not parameter value \n",
    "    Stage(Pupae, 6., (1/6.), 6, 0.05, nothing, 0),\n",
    "    Stage(Male, nothing, nothing, nothing, 0.09, nothing, 0),\n",
    "    Stage(Female, nothing, nothing, nothing, 0.09, nothing, 500),\n",
    "    ]\n",
    "\n",
    "\n",
    "#=\n",
    "stages_dict = Dict{Int64, Stage}(1 => Stage(Egg, 4., (1/4.), 4, 0.5, nothing, 0),\n",
    "                                 2 => Stage(Larvae, 3., (1/3.), 8, 0.15, 355.0, 0), \n",
    "                                 3 => Stage(Pupae, 6., (1/6.), 6, 0.05, nothing, 0),\n",
    "                                 4 => Stage(Male, nothing, nothing, nothing, 0.09, nothing, 0),\n",
    "                                 5 => Stage(Female, nothing, nothing, nothing, 0.09, nothing, 500),\n",
    ")\n",
    "=# \n",
    "\n",
    "function get_stage(stage_array::Vector{Stage}, life_stage::Type)\n",
    "    \n",
    "    # can be improved (speed): \n",
    "    return [s for s in stage_array if isa(s,Stage{life_stage})][1] # isa = way of getting content of array by time \n",
    "\n",
    "end\n",
    "            \n",
    "function get_stage(node::Node, life_stage::Type)\n",
    "    \n",
    "    # this can also be improved \n",
    "    stage_array = get_allstages(node)\n",
    "                \n",
    "    return get_stage(stage_array, life_stage)\n",
    "                \n",
    "end            \n"
   ]
  },
  {
   "cell_type": "code",
   "execution_count": 23,
   "metadata": {},
   "outputs": [
    {
     "ename": "MethodError",
     "evalue": "MethodError: no method matching get_allstages(::Array{Stage,1}, ::Type{Egg})",
     "output_type": "error",
     "traceback": [
      "MethodError: no method matching get_allstages(::Array{Stage,1}, ::Type{Egg})",
      "",
      "Stacktrace:",
      " [1] top-level scope at In[23]:1"
     ]
    }
   ],
   "source": [
    "get_allstages(stages, Egg)"
   ]
  },
  {
   "cell_type": "code",
   "execution_count": 24,
   "metadata": {},
   "outputs": [],
   "source": [
    "# Cube slices \n",
    "\n",
    "layer1 = [1.0 1.0 0.50  0  0  0; 1.0 1.0 0.50  0  0  0; 0.5 0.5 0.25  0  0  0; \n",
    "        0.0 0.0 0.00  0  0  0; 0.0 0.0 0.00  0  0  0; 0.0 0.0 0.00  0  0  0]\n",
    "\n",
    "layer2 = [0.0 0.0 0.00 1.0 0.50  0; 0.0 0.0 0.00 1.0 0.50  0; 0.0 0.0 0.00 0.5 0.25  0; \n",
    "        1.0 1.0 0.50 0.0 0.00  0; 0.5 0.5 0.25 0.0 0.00  0; 0.0 0.0 0.00 0.0 0.00  0]\n",
    "\n",
    "layer3 = [0.0 0.0 0.50  0 0.50 1.0; 0.0 0.0 0.50  0 0.50 1.0; 0.5 0.5 0.50  0 0.25 0.5;\n",
    "        0.0 0.0 0.00  0 0.00 0.0; 0.5 0.5 0.25  0 0.00 0.0; 1.0 1.0 0.50  0 0.00 0.0]\n",
    "\n",
    "layer4 = [0  0  0 0.0 0.00  0; 0  0  0 0.0 0.00  0; 0  0  0 0.0 0.00  0; \n",
    "        0  0  0 1.0 0.50  0; 0  0  0 0.5 0.25  0; 0  0  0 0.0 0.00  0]\n",
    "\n",
    "layer5 = [0  0  0 0.0 0.00  0; 0  0  0 0.0 0.00  0; 0  0 0.00 0.5 0.25 0.0; \n",
    "        0  0 0.50 0.0 0.50 1.0; 0  0 0.25 0.5 0.50 0.5; 0  0 0.00 1.0 0.50 0.0]\n",
    "\n",
    "layer6 = [0  0  0 0.0 0.00  0; 0  0  0 0.0 0.00  0; 0  0 0.25  0 0.25 0.5; \n",
    "        0  0 0.00  0 0.00 0.0; 0  0 0.25  0 0.25 0.5; 0  0 0.50  0 0.50 1.0]\n",
    "\n",
    ";"
   ]
  },
  {
   "cell_type": "code",
   "execution_count": 25,
   "metadata": {},
   "outputs": [],
   "source": [
    "# Build drives = genotype, cube_slice, s, τ, ϕ, β, η \n",
    "\n",
    "drives = [\n",
    "    Drive(HH, layer1, 1.0, ones(6,6), 0.5, 16.0, 1.0),\n",
    "    Drive(Hh, layer2, 1.0, ones(6,6), 0.5, 16.0, 1.0), \n",
    "    Drive(HR, layer3, 1.0, ones(6,6), 0.5, 16.0, 1.0),\n",
    "    Drive(hh, layer4, 1.0, ones(6,6), 0.5, 16.0, 1.0),\n",
    "    Drive(hR, layer5, 1.0, ones(6,6), 0.5, 16.0, 1.0),\n",
    "    Drive(RR, layer6, 1.0, ones(6,6), 0.5, 16.0, 1.0)    \n",
    "]\n",
    "\n",
    ";"
   ]
  },
  {
   "cell_type": "code",
   "execution_count": 26,
   "metadata": {},
   "outputs": [],
   "source": [
    "# Put all genetic data together \n",
    "\n",
    "genetics = Genetics(drives)\n",
    "\n",
    ";"
   ]
  },
  {
   "cell_type": "code",
   "execution_count": 27,
   "metadata": {},
   "outputs": [],
   "source": [
    "# migration_matrix = number of states (stages x genotypes), number of nodes, number of nodes\n",
    "\n",
    "migrate_matrix_node1 = rand((6*(4+8+6+1+6)), 2, 2) \n",
    "migrate_matrix_node2 = rand((6*(4+8+6+1+6)), 2, 2)\n",
    "\n",
    "# Name nodes \n",
    "\n",
    "firstnode = :FirstNode\n",
    "secondnode = :SecondNode\n",
    "\n",
    "; "
   ]
  },
  {
   "cell_type": "code",
   "execution_count": 28,
   "metadata": {},
   "outputs": [],
   "source": [
    "# Build nodes = Name, gene_data, stages, location, migration matrix\n",
    "\n",
    "nodes = [Node(:FirstNode, genetics, stages, (37.87, 122.27), migrate_matrix_node1),\n",
    "         Node(:SecondNode, genetics, stages, (35.87, 120.27), migrate_matrix_node2)]\n",
    "\n",
    ";"
   ]
  },
  {
   "cell_type": "code",
   "execution_count": 29,
   "metadata": {},
   "outputs": [],
   "source": [
    "network = Network(nodes, 150)\n",
    "\n",
    ";"
   ]
  },
  {
   "cell_type": "code",
   "execution_count": 30,
   "metadata": {},
   "outputs": [
    {
     "data": {
      "text/plain": [
       "0.5"
      ]
     },
     "execution_count": 30,
     "metadata": {},
     "output_type": "execute_result"
    }
   ],
   "source": [
    "nodes[1].gene_data.Φ[3]"
   ]
  },
  {
   "cell_type": "code",
   "execution_count": 31,
   "metadata": {},
   "outputs": [
    {
     "data": {
      "text/plain": [
       "Stage{Egg}(Egg, 4.0, 0.25, 4, 0.5, nothing, 0)"
      ]
     },
     "execution_count": 31,
     "metadata": {},
     "output_type": "execute_result"
    }
   ],
   "source": [
    "test = get_allstages(nodes[1])[1]"
   ]
  },
  {
   "cell_type": "code",
   "execution_count": 32,
   "metadata": {},
   "outputs": [
    {
     "data": {
      "text/plain": [
       "0"
      ]
     },
     "execution_count": 32,
     "metadata": {},
     "output_type": "execute_result"
    }
   ],
   "source": [
    "test.N0"
   ]
  },
  {
   "cell_type": "code",
   "execution_count": 33,
   "metadata": {},
   "outputs": [
    {
     "data": {
      "text/plain": [
       "Stage{Egg}(Egg, 4.0, 0.25, 4, 0.5, nothing, 0)"
      ]
     },
     "execution_count": 33,
     "metadata": {},
     "output_type": "execute_result"
    }
   ],
   "source": [
    "get_stage(nodes[1], Egg)"
   ]
  },
  {
   "cell_type": "code",
   "execution_count": 34,
   "metadata": {},
   "outputs": [
    {
     "data": {
      "text/plain": [
       "Genetics(Drive[Drive{HH}(HH, [1.0 1.0 … 0.0 0.0; 1.0 1.0 … 0.0 0.0; … ; 0.0 0.0 … 0.0 0.0; 0.0 0.0 … 0.0 0.0], 1.0, [1.0 1.0 … 1.0 1.0; 1.0 1.0 … 1.0 1.0; … ; 1.0 1.0 … 1.0 1.0; 1.0 1.0 … 1.0 1.0], 0.5, 16.0, 1.0), Drive{Hh}(Hh, [0.0 0.0 … 0.5 0.0; 0.0 0.0 … 0.5 0.0; … ; 0.5 0.5 … 0.0 0.0; 0.0 0.0 … 0.0 0.0], 1.0, [1.0 1.0 … 1.0 1.0; 1.0 1.0 … 1.0 1.0; … ; 1.0 1.0 … 1.0 1.0; 1.0 1.0 … 1.0 1.0], 0.5, 16.0, 1.0), Drive{HR}(HR, [0.0 0.0 … 0.5 1.0; 0.0 0.0 … 0.5 1.0; … ; 0.5 0.5 … 0.0 0.0; 1.0 1.0 … 0.0 0.0], 1.0, [1.0 1.0 … 1.0 1.0; 1.0 1.0 … 1.0 1.0; … ; 1.0 1.0 … 1.0 1.0; 1.0 1.0 … 1.0 1.0], 0.5, 16.0, 1.0), Drive{hh}(hh, [0.0 0.0 … 0.0 0.0; 0.0 0.0 … 0.0 0.0; … ; 0.0 0.0 … 0.25 0.0; 0.0 0.0 … 0.0 0.0], 1.0, [1.0 1.0 … 1.0 1.0; 1.0 1.0 … 1.0 1.0; … ; 1.0 1.0 … 1.0 1.0; 1.0 1.0 … 1.0 1.0], 0.5, 16.0, 1.0), Drive{hR}(hR, [0.0 0.0 … 0.0 0.0; 0.0 0.0 … 0.0 0.0; … ; 0.0 0.0 … 0.5 0.5; 0.0 0.0 … 0.5 0.0], 1.0, [1.0 1.0 … 1.0 1.0; 1.0 1.0 … 1.0 1.0; … ; 1.0 1.0 … 1.0 1.0; 1.0 1.0 … 1.0 1.0], 0.5, 16.0, 1.0), Drive{RR}(RR, [0.0 0.0 … 0.0 0.0; 0.0 0.0 … 0.0 0.0; … ; 0.0 0.0 … 0.25 0.5; 0.0 0.0 … 0.5 1.0], 1.0, [1.0 1.0 … 1.0 1.0; 1.0 1.0 … 1.0 1.0; … ; 1.0 1.0 … 1.0 1.0; 1.0 1.0 … 1.0 1.0], 0.5, 16.0, 1.0)], [1.0 1.0 … 0.0 0.0; 1.0 1.0 … 0.0 0.0; … ; 0.0 0.0 … 0.0 0.0; 0.0 0.0 … 0.0 0.0]\n",
       "\n",
       "[0.0 0.0 … 0.5 0.0; 0.0 0.0 … 0.5 0.0; … ; 0.5 0.5 … 0.0 0.0; 0.0 0.0 … 0.0 0.0]\n",
       "\n",
       "[0.0 0.0 … 0.5 1.0; 0.0 0.0 … 0.5 1.0; … ; 0.5 0.5 … 0.0 0.0; 1.0 1.0 … 0.0 0.0]\n",
       "\n",
       "[0.0 0.0 … 0.0 0.0; 0.0 0.0 … 0.0 0.0; … ; 0.0 0.0 … 0.25 0.0; 0.0 0.0 … 0.0 0.0]\n",
       "\n",
       "[0.0 0.0 … 0.0 0.0; 0.0 0.0 … 0.0 0.0; … ; 0.0 0.0 … 0.5 0.5; 0.0 0.0 … 0.5 0.0]\n",
       "\n",
       "[0.0 0.0 … 0.0 0.0; 0.0 0.0 … 0.0 0.0; … ; 0.0 0.0 … 0.25 0.5; 0.0 0.0 … 0.5 1.0], [1.0, 1.0, 1.0, 1.0, 1.0, 1.0], [1.0 1.0 … 1.0 1.0; 1.0 1.0 … 1.0 1.0; … ; 1.0 1.0 … 1.0 1.0; 1.0 1.0 … 1.0 1.0]\n",
       "\n",
       "[1.0 1.0 … 1.0 1.0; 1.0 1.0 … 1.0 1.0; … ; 1.0 1.0 … 1.0 1.0; 1.0 1.0 … 1.0 1.0]\n",
       "\n",
       "[1.0 1.0 … 1.0 1.0; 1.0 1.0 … 1.0 1.0; … ; 1.0 1.0 … 1.0 1.0; 1.0 1.0 … 1.0 1.0]\n",
       "\n",
       "[1.0 1.0 … 1.0 1.0; 1.0 1.0 … 1.0 1.0; … ; 1.0 1.0 … 1.0 1.0; 1.0 1.0 … 1.0 1.0]\n",
       "\n",
       "[1.0 1.0 … 1.0 1.0; 1.0 1.0 … 1.0 1.0; … ; 1.0 1.0 … 1.0 1.0; 1.0 1.0 … 1.0 1.0]\n",
       "\n",
       "[1.0 1.0 … 1.0 1.0; 1.0 1.0 … 1.0 1.0; … ; 1.0 1.0 … 1.0 1.0; 1.0 1.0 … 1.0 1.0], [0.5, 0.5, 0.5, 0.5, 0.5, 0.5], [16.0, 16.0, 16.0, 16.0, 16.0, 16.0], [1.0, 1.0, 1.0, 1.0, 1.0, 1.0])"
      ]
     },
     "execution_count": 34,
     "metadata": {},
     "output_type": "execute_result"
    }
   ],
   "source": [
    "testgene = get_genetics(nodes[1])"
   ]
  },
  {
   "cell_type": "code",
   "execution_count": 35,
   "metadata": {},
   "outputs": [
    {
     "data": {
      "text/plain": [
       "0.5"
      ]
     },
     "execution_count": 35,
     "metadata": {},
     "output_type": "execute_result"
    }
   ],
   "source": [
    "testgene.Φ[4]"
   ]
  },
  {
   "cell_type": "code",
   "execution_count": 36,
   "metadata": {},
   "outputs": [
    {
     "data": {
      "text/plain": [
       "(3, [1 2 3])"
      ]
     },
     "execution_count": 36,
     "metadata": {},
     "output_type": "execute_result"
    }
   ],
   "source": [
    "testtuple = (3,[1 2 3])"
   ]
  },
  {
   "cell_type": "code",
   "execution_count": 37,
   "metadata": {},
   "outputs": [
    {
     "data": {
      "text/plain": [
       "Tuple{Int64,Array{Int64,2}}"
      ]
     },
     "execution_count": 37,
     "metadata": {},
     "output_type": "execute_result"
    }
   ],
   "source": [
    "typeof(testtuple)"
   ]
  },
  {
   "cell_type": "code",
   "execution_count": 38,
   "metadata": {},
   "outputs": [
    {
     "data": {
      "text/plain": [
       "1×3 Array{Int64,2}:\n",
       " 1  2  3"
      ]
     },
     "execution_count": 38,
     "metadata": {},
     "output_type": "execute_result"
    }
   ],
   "source": [
    "testtuple[2]"
   ]
  },
  {
   "cell_type": "code",
   "execution_count": 39,
   "metadata": {},
   "outputs": [
    {
     "name": "stdout",
     "output_type": "stream",
     "text": [
      "Genetics <: Any\n",
      "  all_genotypes::Array{Drive{#s4} where #s4<:Genotype,N} where N\n",
      "  cube::Array{Float64,3}\n",
      "  S::Array{Float64,1}\n",
      "  Τ::Array{Float64,3}\n",
      "  Φ::Array{Float64,1}\n",
      "  Β::Array{Float64,1}\n",
      "  Η::Array{Float64,1}\n"
     ]
    }
   ],
   "source": [
    "dump(Genetics)"
   ]
  },
  {
   "cell_type": "code",
   "execution_count": 40,
   "metadata": {},
   "outputs": [
    {
     "data": {
      "text/plain": [
       "0.5"
      ]
     },
     "execution_count": 40,
     "metadata": {},
     "output_type": "execute_result"
    }
   ],
   "source": [
    "genetics.Φ[1]"
   ]
  },
  {
   "cell_type": "code",
   "execution_count": 41,
   "metadata": {},
   "outputs": [
    {
     "name": "stdout",
     "output_type": "stream",
     "text": [
      "UnionAll\n",
      "  var: TypeVar\n",
      "    name: Symbol L\n",
      "    lb: Core.TypeofBottom Union{}\n",
      "    ub: LifeStage <: Any\n",
      "  body: Stage{L<:LifeStage} <: Any\n",
      "    stage::Type{L}\n",
      "    t::Union{Nothing, Float64}\n",
      "    q::Union{Nothing, Float64}\n",
      "    n::Union{Nothing, Int64}\n",
      "    μ::Float64\n",
      "    d::Any\n",
      "    N0::Int64\n"
     ]
    }
   ],
   "source": [
    "dump(Stage)"
   ]
  },
  {
   "cell_type": "markdown",
   "metadata": {},
   "source": [
    "### Initial conditions "
   ]
  },
  {
   "cell_type": "code",
   "execution_count": 42,
   "metadata": {},
   "outputs": [
    {
     "data": {
      "text/plain": [
       "init_stage! (generic function with 1 method)"
      ]
     },
     "execution_count": 42,
     "metadata": {},
     "output_type": "execute_result"
    }
   ],
   "source": [
    "##############\n",
    "# PUPAE\n",
    "##############\n",
    "# (NF, μF, nP, qP, ϕ, μP)\n",
    "\n",
    "function init_stage!(P0::Array{Float64,2}, # Bring in matrix from init_node\n",
    "                     s::Stage{Pupae}, \n",
    "                     stages, \n",
    "                     genetics::Genetics, \n",
    "                     gene_index::Int64)\n",
    "    \n",
    "    # Access external stages via \"stages\"\n",
    "    female = get_stage(stages, Female)\n",
    "    NF = female.N0\n",
    "    μF = female.μ\n",
    "    \n",
    "    # Access necessary genetic info via genetics::Genetics\n",
    "    ϕ = genetics.Φ[gene_index] \n",
    "    \n",
    "    # Access stage-specific info via s::Stage{Pupae}\n",
    "    nP = s.n\n",
    "    qP = s.q\n",
    "    μP = s.μ\n",
    "    \n",
    "    # Initialize at equilibrium: gene_index = each node initialized BY GENE\n",
    "    P0[end, gene_index] = (NF*μF) / (nP*qP*ϕ) \n",
    "    \n",
    "    # Initialize remaining substages\n",
    "    for i in nP-1:-1:1\n",
    "        P0[i, gene_index] = ((μP + qP*nP)/(qP*nP)) * P0[i+1,gene_index]\n",
    "    end   \n",
    "    \n",
    "    # Show result\n",
    "    return\n",
    "\n",
    "end"
   ]
  },
  {
   "cell_type": "code",
   "execution_count": 43,
   "metadata": {},
   "outputs": [
    {
     "data": {
      "text/plain": [
       "init_stage! (generic function with 2 methods)"
      ]
     },
     "execution_count": 43,
     "metadata": {},
     "output_type": "execute_result"
    }
   ],
   "source": [
    "##############\n",
    "# EGGS \n",
    "##############\n",
    "# (β, NF, μE, qE, nE)\n",
    "\n",
    "function init_stage!(E0::Array{Float64,2}, # Bring in matrix from init_node\n",
    "                     s::Stage{Egg}, \n",
    "                     stages, \n",
    "                     genetics::Genetics, \n",
    "                     gene_index::Int64)   # Note each gene initialized individually; \n",
    "                                          # only need wildtype in most cases \n",
    "    \n",
    "    # Access external stages via \"stages\"\n",
    "    female = get_stage(stages, Female)\n",
    "    NF = female.N0\n",
    "    \n",
    "    # Access necessary genetic info via genetics::Genetics\n",
    "    β = genetics.Β[gene_index]\n",
    "    \n",
    "    # Access stage-specific info via s::Stage{Egg}\n",
    "    nE = s.n\n",
    "    qE = s.q\n",
    "    μE = s.μ\n",
    "\n",
    "    # Initialize at equilibrium: gene_index = each node initialized BY GENE\n",
    "    E0[1, gene_index] = β*NF / (μE + qE*nE)\n",
    "\n",
    "    # Initialize remaining substages (populate each i, specific to gene_index)\n",
    "    for i in 2:length(E0)\n",
    "        E0[i, gene_index] = (qE*nE*E0[i-1, gene_index]) / (μE + qE*nE)\n",
    "    end    \n",
    "\n",
    "    # Show result\n",
    "    return\n",
    "\n",
    "end"
   ]
  },
  {
   "cell_type": "code",
   "execution_count": 44,
   "metadata": {},
   "outputs": [
    {
     "data": {
      "text/plain": [
       "init_stage! (generic function with 3 methods)"
      ]
     },
     "execution_count": 44,
     "metadata": {},
     "output_type": "execute_result"
    }
   ],
   "source": [
    "##############\n",
    "# LARVAE \n",
    "##############\n",
    "# (μP, qP, nP, qL, nL, P0, qE, nE, E0)  \n",
    "\n",
    "function init_stage!(L0::Array{Float64,2}, # Bring in matrix from init_node\n",
    "                     s::Stage{Larvae}, \n",
    "                     stages, \n",
    "                     genetics::Genetics, \n",
    "                     gene_index::Int64,\n",
    "                     P0::Array{Float64,2}, # Bring in matrix from init_node\n",
    "                     E0::Array{Float64,2}) # Bring in matrix from init_node\n",
    "    \n",
    "    # Access external stages via \"stages\"\n",
    "    female = get_stage(stages, Female)\n",
    "    NF = female.N0\n",
    "\n",
    "    pupae = get_stage(stages, Pupae)\n",
    "    nP = pupae.n\n",
    "    qP = pupae.q\n",
    "\n",
    "    egg = get_stage(stages, Egg)\n",
    "    nE = egg.n\n",
    "    qE = egg.q\n",
    "    \n",
    "    # Access necessary genetic info via genetics::Genetics\n",
    "    ϕ = genetics.Φ[gene_index]\n",
    "    β = genetics.Β[gene_index]\n",
    "\n",
    "    # Access stage-specific info via s::Stage{Larvae}\n",
    "    nL = s.n\n",
    "    qL = s.q\n",
    "    μL = s.μ\n",
    "\n",
    "    # Initialize final substage of larvae \n",
    "    L0[end, gene_index] = ((μP + qP*nP)/(qL*nL)) * P0[1, gene_index] \n",
    "\n",
    "    # For ease of forloop initialization \n",
    "    Lend = L0[end, gene_index]\n",
    "    Eend = E0[end, gene_index]  \n",
    "\n",
    "    # Initialize remaining substages\n",
    "    for i in nL-1:-1:1\n",
    "        L0[i,gene_index] = ((Lend^(i/nL)) * (Eend^((nL-i)/nL)) * (nE^((nL-i)/nL)) * \n",
    "            (qE^((nL-i)/nL))) / ((nL^((nL-i)/nL)) * (qL^((nL-i)/nL)))\n",
    "\n",
    "    end    \n",
    "    \n",
    "    # Show result\n",
    "    return\n",
    "\n",
    "end\n",
    "    \n",
    "# QUESTION (for Sean): Why is μ for E and L stages not included in these calculations?"
   ]
  },
  {
   "cell_type": "code",
   "execution_count": 45,
   "metadata": {},
   "outputs": [
    {
     "data": {
      "text/plain": [
       "init_stage! (generic function with 4 methods)"
      ]
     },
     "execution_count": 45,
     "metadata": {},
     "output_type": "execute_result"
    }
   ],
   "source": [
    "##############\n",
    "# ADULT MALES\n",
    "##############\n",
    "    \n",
    "# (ϕ, qP, nP, P0, μM)\n",
    "function init_stage!(NM::Vector{Float64}, # Bring in matrix from init_node\n",
    "                     s::Stage{Male}, \n",
    "                     stages, \n",
    "                     genetics::Genetics, \n",
    "                     gene_index::Int64,\n",
    "                     P0::Array{Float64,2}) \n",
    "    \n",
    "    # Access external stages via \"stages\"\n",
    "    pupae = get_stage(stages, Pupae)\n",
    "    nP = pupae.n\n",
    "    qP = pupae.q\n",
    "\n",
    "    # Access necessary genetic info via genetics::Genetics\n",
    "    ϕ = genetics.Φ[gene_index]\n",
    "    \n",
    "    # Access stage-specific info via s::Stage{Male}\n",
    "    μM = s.μ\n",
    "\n",
    "    # Initialize male stage (no substages exist) for specific gene_index\n",
    "    NM0[1, gene_index] = ((1-ϕ)*qP*nP*P0[end]) / μM\n",
    "\n",
    "    # Show result\n",
    "    return\n",
    "\n",
    "end \n"
   ]
  },
  {
   "cell_type": "code",
   "execution_count": 46,
   "metadata": {},
   "outputs": [
    {
     "data": {
      "text/plain": [
       "init_stage! (generic function with 5 methods)"
      ]
     },
     "execution_count": 46,
     "metadata": {},
     "output_type": "execute_result"
    }
   ],
   "source": [
    "##############\n",
    "# ADULT FEMALES\n",
    "##############\n",
    "# Not calculated: value determined by user when creating struct \n",
    "\n",
    "function init_stage!(NF::Array{Float64,2}, # Bring in matrix from init_node\n",
    "                     s::Stage{Female}, \n",
    "                     gene_index::Int64) \n",
    "    \n",
    "    # Access stage-specific info via s::Stage{Female}\n",
    "    NF0 = s.N0\n",
    "\n",
    "    # Initialize female stage (no substages exist) for specific gene_index\n",
    "    NF0[gene_index, gene_index] = NF0\n",
    "\n",
    "    # Show result\n",
    "    return\n",
    "\n",
    "end \n"
   ]
  },
  {
   "cell_type": "code",
   "execution_count": 47,
   "metadata": {},
   "outputs": [],
   "source": [
    "# get_genetics(node::Node) = node.gene_data"
   ]
  },
  {
   "cell_type": "code",
   "execution_count": 48,
   "metadata": {},
   "outputs": [],
   "source": [
    "#= function get_genetics(node::Node)\n",
    "    \n",
    "    # can be improved (speed): \n",
    "    return [gN for gN in all_genotypes if isa(gN,Genetics{life_stage})][1] # isa = way of getting content of array by time \n",
    "\n",
    "end\n",
    "=#"
   ]
  },
  {
   "cell_type": "code",
   "execution_count": 49,
   "metadata": {},
   "outputs": [
    {
     "name": "stdout",
     "output_type": "stream",
     "text": [
      "UnionAll\n",
      "  var: TypeVar\n",
      "    name: Symbol L\n",
      "    lb: Core.TypeofBottom Union{}\n",
      "    ub: LifeStage <: Any\n",
      "  body: Stage{L<:LifeStage} <: Any\n",
      "    stage::Type{L}\n",
      "    t::Union{Nothing, Float64}\n",
      "    q::Union{Nothing, Float64}\n",
      "    n::Union{Nothing, Int64}\n",
      "    μ::Float64\n",
      "    d::Any\n",
      "    N0::Int64\n"
     ]
    }
   ],
   "source": [
    "dump(Stage)"
   ]
  },
  {
   "cell_type": "code",
   "execution_count": 50,
   "metadata": {},
   "outputs": [
    {
     "name": "stdout",
     "output_type": "stream",
     "text": [
      "Genetics <: Any\n",
      "  all_genotypes::Array{Drive{#s4} where #s4<:Genotype,N} where N\n",
      "  cube::Array{Float64,3}\n",
      "  S::Array{Float64,1}\n",
      "  Τ::Array{Float64,3}\n",
      "  Φ::Array{Float64,1}\n",
      "  Β::Array{Float64,1}\n",
      "  Η::Array{Float64,1}\n"
     ]
    }
   ],
   "source": [
    "dump(Genetics)"
   ]
  },
  {
   "cell_type": "code",
   "execution_count": null,
   "metadata": {},
   "outputs": [],
   "source": []
  },
  {
   "cell_type": "code",
   "execution_count": 51,
   "metadata": {},
   "outputs": [
    {
     "data": {
      "text/plain": [
       "length (generic function with 179 methods)"
      ]
     },
     "execution_count": 51,
     "metadata": {},
     "output_type": "execute_result"
    }
   ],
   "source": [
    "#methods for genetics \n",
    "import Base.length\n",
    "length(G::Genetics) = length(G.all_genotypes)"
   ]
  },
  {
   "cell_type": "code",
   "execution_count": 52,
   "metadata": {},
   "outputs": [
    {
     "data": {
      "text/plain": [
       "init_node"
      ]
     },
     "execution_count": 52,
     "metadata": {},
     "output_type": "execute_result"
    }
   ],
   "source": [
    "\"\"\"\n",
    "Order of the Array \"Stage\": \n",
    "\n",
    "5-element Array{Stage,1}:\n",
    " Stage{Egg}(Egg, 4.0, 0.25, 4, 0.5, nothing, 0)                      \n",
    " Stage{Larvae}(Larvae, 3.0, 0.3333333333333333, 8, 0.15, 355.0, 0)   \n",
    " Stage{Pupae}(Pupae, 6.0, 0.16666666666666666, 6, 0.05, nothing, 0)  \n",
    " Stage{Male}(Male, nothing, nothing, nothing, 0.09, nothing, 0)      \n",
    " Stage{Female}(Female, nothing, nothing, nothing, 0.09, nothing, 500)\n",
    "\n",
    "\"\"\"\n",
    "function init_node(node::Node, gene_index::Int64)\n",
    "    \n",
    "    # Get data\n",
    "    genetics = get_genetics(node)\n",
    "    stages = get_allstages(node)\n",
    "    \n",
    "    # Get the length of substages here (QUESTION: how to improve later?)\n",
    "    nE = stages[1].n\n",
    "    nL = stages[2].n\n",
    "    nP = stages[3].n\n",
    "    \n",
    "    # Get the length of genetics (how many different genotypes)\n",
    "    gN = length(genetics) \n",
    "    \n",
    "    # Pre-allocate initialization arrays (QUESTION: how to improve later?)\n",
    "    E0 = Array{Float64,2}(undef, nE, length(genetics))\n",
    "    L0 = Array{Float64,2}(undef, nL, length(genetics))\n",
    "    P0 = Array{Float64,2}(undef, nP, length(genetics))\n",
    "    NM0 = Vector{Float64}(undef, length(genetics))\n",
    "    NF0 = Array{Float64,2}(undef, length(genetics), length(genetics))\n",
    "    \n",
    "    init_stage!(P0, stages[3], genetics, gene_index)\n",
    "    \n",
    "    init_stage!(E0, stages[1], genetics, gene_index)\n",
    "        \n",
    "    init_stage!(L0, stages[2], genetics, gene_index, P0, E0)\n",
    "           \n",
    "    init_stage!(NM0, stages[4], genetics, gene_index, P0)\n",
    "    \n",
    "    init_stage!(NF0, stages[5], gene_index)\n",
    "    \n",
    "    # Return the whole u0\n",
    "    return init_cond \n",
    "    \n",
    "end    "
   ]
  },
  {
   "cell_type": "code",
   "execution_count": 53,
   "metadata": {},
   "outputs": [],
   "source": [
    "testnode = nodes[1]\n",
    ";"
   ]
  },
  {
   "cell_type": "code",
   "execution_count": 72,
   "metadata": {},
   "outputs": [
    {
     "data": {
      "text/plain": [
       "6"
      ]
     },
     "execution_count": 72,
     "metadata": {},
     "output_type": "execute_result"
    }
   ],
   "source": [
    "length(genetics.all_genotypes)"
   ]
  },
  {
   "cell_type": "code",
   "execution_count": 126,
   "metadata": {},
   "outputs": [
    {
     "data": {
      "text/plain": [
       "parameters! (generic function with 1 method)"
      ]
     },
     "execution_count": 126,
     "metadata": {},
     "output_type": "execute_result"
    }
   ],
   "source": [
    "function parameters!(node::Node)\n",
    "    \n",
    "    # Genetic elements \n",
    "    genetics = get_genetics(node)\n",
    "    gN = length(genetics.all_genotypes)# genetics.gN # Question: correct or should it be gN = length(genetics.all_genotypes)\n",
    "    cube = genetics.cube\n",
    "    S = genetics.S\n",
    "    Τ = genetics.Τ\n",
    "    Β = genetics.Β\n",
    "    \n",
    "    return gN, cube, S, Τ, Β # create a tuple, with array holding all genetic params \n",
    "end"
   ]
  },
  {
   "cell_type": "code",
   "execution_count": 131,
   "metadata": {},
   "outputs": [
    {
     "data": {
      "text/plain": [
       "(6, [1.0 1.0 … 0.0 0.0; 1.0 1.0 … 0.0 0.0; … ; 0.0 0.0 … 0.0 0.0; 0.0 0.0 … 0.0 0.0]\n",
       "\n",
       "[0.0 0.0 … 0.5 0.0; 0.0 0.0 … 0.5 0.0; … ; 0.5 0.5 … 0.0 0.0; 0.0 0.0 … 0.0 0.0]\n",
       "\n",
       "[0.0 0.0 … 0.5 1.0; 0.0 0.0 … 0.5 1.0; … ; 0.5 0.5 … 0.0 0.0; 1.0 1.0 … 0.0 0.0]\n",
       "\n",
       "[0.0 0.0 … 0.0 0.0; 0.0 0.0 … 0.0 0.0; … ; 0.0 0.0 … 0.25 0.0; 0.0 0.0 … 0.0 0.0]\n",
       "\n",
       "[0.0 0.0 … 0.0 0.0; 0.0 0.0 … 0.0 0.0; … ; 0.0 0.0 … 0.5 0.5; 0.0 0.0 … 0.5 0.0]\n",
       "\n",
       "[0.0 0.0 … 0.0 0.0; 0.0 0.0 … 0.0 0.0; … ; 0.0 0.0 … 0.25 0.5; 0.0 0.0 … 0.5 1.0], [1.0, 1.0, 1.0, 1.0, 1.0, 1.0], [1.0 1.0 … 1.0 1.0; 1.0 1.0 … 1.0 1.0; … ; 1.0 1.0 … 1.0 1.0; 1.0 1.0 … 1.0 1.0]\n",
       "\n",
       "[1.0 1.0 … 1.0 1.0; 1.0 1.0 … 1.0 1.0; … ; 1.0 1.0 … 1.0 1.0; 1.0 1.0 … 1.0 1.0]\n",
       "\n",
       "[1.0 1.0 … 1.0 1.0; 1.0 1.0 … 1.0 1.0; … ; 1.0 1.0 … 1.0 1.0; 1.0 1.0 … 1.0 1.0]\n",
       "\n",
       "[1.0 1.0 … 1.0 1.0; 1.0 1.0 … 1.0 1.0; … ; 1.0 1.0 … 1.0 1.0; 1.0 1.0 … 1.0 1.0]\n",
       "\n",
       "[1.0 1.0 … 1.0 1.0; 1.0 1.0 … 1.0 1.0; … ; 1.0 1.0 … 1.0 1.0; 1.0 1.0 … 1.0 1.0]\n",
       "\n",
       "[1.0 1.0 … 1.0 1.0; 1.0 1.0 … 1.0 1.0; … ; 1.0 1.0 … 1.0 1.0; 1.0 1.0 … 1.0 1.0], [16.0, 16.0, 16.0, 16.0, 16.0, 16.0])"
      ]
     },
     "execution_count": 131,
     "metadata": {},
     "output_type": "execute_result"
    }
   ],
   "source": [
    "gN, cube, S, Τ, Β = parameters!(nodes[1])"
   ]
  },
  {
   "cell_type": "code",
   "execution_count": 132,
   "metadata": {},
   "outputs": [
    {
     "data": {
      "text/plain": [
       "6"
      ]
     },
     "execution_count": 132,
     "metadata": {},
     "output_type": "execute_result"
    }
   ],
   "source": [
    "gN"
   ]
  },
  {
   "cell_type": "code",
   "execution_count": 134,
   "metadata": {},
   "outputs": [
    {
     "name": "stdout",
     "output_type": "stream",
     "text": [
      "UnionAll\n",
      "  var: TypeVar\n",
      "    name: Symbol D\n",
      "    lb: Core.TypeofBottom Union{}\n",
      "    ub: DensityModel <: Any\n",
      "  body: Density{D<:DensityModel} <: Any\n",
      "    model::Type{D}\n",
      "    param::Float64\n"
     ]
    }
   ],
   "source": [
    "dump(Density) "
   ]
  },
  {
   "cell_type": "code",
   "execution_count": 55,
   "metadata": {},
   "outputs": [],
   "source": [
    "#= use accesor functions for Node, created above\n",
    "get_genetics(node::Node) = node.gene_data\n",
    "get_allstages(node::Node) = @view node.all_stages[:]\n",
    "=# "
   ]
  },
  {
   "cell_type": "code",
   "execution_count": 56,
   "metadata": {},
   "outputs": [
    {
     "ename": "UndefVarError",
     "evalue": "UndefVarError: Nodes not defined",
     "output_type": "error",
     "traceback": [
      "UndefVarError: Nodes not defined",
      "",
      "Stacktrace:",
      " [1] top-level scope at In[56]:1"
     ]
    }
   ],
   "source": [
    "get_allstages(Nodes[1])"
   ]
  },
  {
   "cell_type": "code",
   "execution_count": 57,
   "metadata": {},
   "outputs": [
    {
     "ename": "UndefVarError",
     "evalue": "UndefVarError: Nodes not defined",
     "output_type": "error",
     "traceback": [
      "UndefVarError: Nodes not defined",
      "",
      "Stacktrace:",
      " [1] top-level scope at In[57]:1"
     ]
    }
   ],
   "source": [
    "m = Nodes[1].all_stages[2].d"
   ]
  },
  {
   "cell_type": "code",
   "execution_count": 58,
   "metadata": {},
   "outputs": [
    {
     "data": {
      "text/plain": [
       "get_density (generic function with 1 method)"
      ]
     },
     "execution_count": 58,
     "metadata": {},
     "output_type": "execute_result"
    }
   ],
   "source": [
    "get_density(stage::Stage) = stage.d "
   ]
  },
  {
   "cell_type": "code",
   "execution_count": 135,
   "metadata": {},
   "outputs": [
    {
     "data": {
      "text/plain": [
       "355.0"
      ]
     },
     "execution_count": 135,
     "metadata": {},
     "output_type": "execute_result"
    }
   ],
   "source": [
    "get_density(nodes[1].all_stages[2])"
   ]
  },
  {
   "cell_type": "code",
   "execution_count": 137,
   "metadata": {},
   "outputs": [
    {
     "name": "stdout",
     "output_type": "stream",
     "text": [
      "UnionAll\n",
      "  var: TypeVar\n",
      "    name: Symbol L\n",
      "    lb: Core.TypeofBottom Union{}\n",
      "    ub: LifeStage <: Any\n",
      "  body: Stage{L<:LifeStage} <: Any\n",
      "    stage::Type{L}\n",
      "    t::Union{Nothing, Float64}\n",
      "    q::Union{Nothing, Float64}\n",
      "    n::Union{Nothing, Int64}\n",
      "    μ::Float64\n",
      "    d::Any\n",
      "    N0::Int64\n"
     ]
    }
   ],
   "source": [
    "get_density(node::Node, stage::Stage) = node.all_stages"
   ]
  },
  {
   "cell_type": "code",
   "execution_count": 138,
   "metadata": {},
   "outputs": [
    {
     "name": "stdout",
     "output_type": "stream",
     "text": [
      "Node <: Any\n",
      "  name::Symbol\n",
      "  gene_data::Genetics\n",
      "  all_stages::Array{Stage,1}\n",
      "  location::Tuple{Float64,Float64}\n",
      "  migration::Array{Float64,3}\n"
     ]
    }
   ],
   "source": [
    "dump(Node)"
   ]
  },
  {
   "cell_type": "code",
   "execution_count": 235,
   "metadata": {},
   "outputs": [
    {
     "data": {
      "text/plain": [
       "(6, [1.0 1.0 … 0.0 0.0; 1.0 1.0 … 0.0 0.0; … ; 0.0 0.0 … 0.0 0.0; 0.0 0.0 … 0.0 0.0]\n",
       "\n",
       "[0.0 0.0 … 0.5 0.0; 0.0 0.0 … 0.5 0.0; … ; 0.5 0.5 … 0.0 0.0; 0.0 0.0 … 0.0 0.0]\n",
       "\n",
       "[0.0 0.0 … 0.5 1.0; 0.0 0.0 … 0.5 1.0; … ; 0.5 0.5 … 0.0 0.0; 1.0 1.0 … 0.0 0.0]\n",
       "\n",
       "[0.0 0.0 … 0.0 0.0; 0.0 0.0 … 0.0 0.0; … ; 0.0 0.0 … 0.25 0.0; 0.0 0.0 … 0.0 0.0]\n",
       "\n",
       "[0.0 0.0 … 0.0 0.0; 0.0 0.0 … 0.0 0.0; … ; 0.0 0.0 … 0.5 0.5; 0.0 0.0 … 0.5 0.0]\n",
       "\n",
       "[0.0 0.0 … 0.0 0.0; 0.0 0.0 … 0.0 0.0; … ; 0.0 0.0 … 0.25 0.5; 0.0 0.0 … 0.5 1.0], [1.0, 1.0, 1.0, 1.0, 1.0, 1.0], [1.0 1.0 … 1.0 1.0; 1.0 1.0 … 1.0 1.0; … ; 1.0 1.0 … 1.0 1.0; 1.0 1.0 … 1.0 1.0]\n",
       "\n",
       "[1.0 1.0 … 1.0 1.0; 1.0 1.0 … 1.0 1.0; … ; 1.0 1.0 … 1.0 1.0; 1.0 1.0 … 1.0 1.0]\n",
       "\n",
       "[1.0 1.0 … 1.0 1.0; 1.0 1.0 … 1.0 1.0; … ; 1.0 1.0 … 1.0 1.0; 1.0 1.0 … 1.0 1.0]\n",
       "\n",
       "[1.0 1.0 … 1.0 1.0; 1.0 1.0 … 1.0 1.0; … ; 1.0 1.0 … 1.0 1.0; 1.0 1.0 … 1.0 1.0]\n",
       "\n",
       "[1.0 1.0 … 1.0 1.0; 1.0 1.0 … 1.0 1.0; … ; 1.0 1.0 … 1.0 1.0; 1.0 1.0 … 1.0 1.0]\n",
       "\n",
       "[1.0 1.0 … 1.0 1.0; 1.0 1.0 … 1.0 1.0; … ; 1.0 1.0 … 1.0 1.0; 1.0 1.0 … 1.0 1.0], [16.0, 16.0, 16.0, 16.0, 16.0, 16.0])"
      ]
     },
     "execution_count": 235,
     "metadata": {},
     "output_type": "execute_result"
    }
   ],
   "source": [
    "parameters = (gN, cube, S, Τ, Β)"
   ]
  },
  {
   "cell_type": "code",
   "execution_count": 141,
   "metadata": {},
   "outputs": [
    {
     "data": {
      "text/plain": [
       "5-element Array{Stage,1}:\n",
       " Stage{Egg}(Egg, 4.0, 0.25, 4, 0.5, nothing, 0)                      \n",
       " Stage{Larvae}(Larvae, 3.0, 0.3333333333333333, 8, 0.15, 355.0, 0)   \n",
       " Stage{Pupae}(Pupae, 6.0, 0.16666666666666666, 6, 0.05, nothing, 0)  \n",
       " Stage{Male}(Male, nothing, nothing, nothing, 0.09, nothing, 0)      \n",
       " Stage{Female}(Female, nothing, nothing, nothing, 0.09, nothing, 500)"
      ]
     },
     "execution_count": 141,
     "metadata": {},
     "output_type": "execute_result"
    }
   ],
   "source": [
    "nodes[1].all_stages"
   ]
  },
  {
   "cell_type": "code",
   "execution_count": 236,
   "metadata": {},
   "outputs": [
    {
     "ename": "LoadError",
     "evalue": "syntax: extra token \"for\" after end of expression",
     "output_type": "error",
     "traceback": [
      "syntax: extra token \"for\" after end of expression",
      ""
     ]
    }
   ],
   "source": [
    "get_param(p::P) = x.param"
   ]
  },
  {
   "cell_type": "code",
   "execution_count": 61,
   "metadata": {},
   "outputs": [],
   "source": [
    "# WORKING EXAMPLE OF DENSITY STRUCT + FUNCTION\n",
    "\n",
    "abstract type DensityModel end\n",
    "\n",
    "struct foo{D <: DensityModel}\n",
    "       model::Type{D}\n",
    "       param::Float64\n",
    "       end\n",
    "\n",
    "struct Gamma <: DensityModel end\n",
    "test = foo(Gamma, 10.0)\n",
    "\n",
    "struct Beta <: DensityModel end\n",
    "test1 = foo(Beta, 11.0)\n",
    "\n",
    "function density_model(data::foo{Gamma})\n",
    "    return 2^data.param\n",
    "end\n",
    "\n",
    "function density_model(data::foo{Beta})\n",
    "    return 10^data.param\n",
    "end\n",
    "\n",
    "density_model(test1)\n",
    "\n",
    ";"
   ]
  },
  {
   "cell_type": "code",
   "execution_count": 62,
   "metadata": {},
   "outputs": [
    {
     "data": {
      "text/plain": [
       "foo{Gamma}(Gamma, 10.0)"
      ]
     },
     "execution_count": 62,
     "metadata": {},
     "output_type": "execute_result"
    }
   ],
   "source": [
    "test"
   ]
  },
  {
   "cell_type": "code",
   "execution_count": 63,
   "metadata": {},
   "outputs": [
    {
     "data": {
      "text/plain": [
       "foo{Beta}(Beta, 11.0)"
      ]
     },
     "execution_count": 63,
     "metadata": {},
     "output_type": "execute_result"
    }
   ],
   "source": [
    "test1"
   ]
  },
  {
   "cell_type": "code",
   "execution_count": null,
   "metadata": {},
   "outputs": [],
   "source": []
  },
  {
   "cell_type": "code",
   "execution_count": null,
   "metadata": {},
   "outputs": [],
   "source": []
  }
 ],
 "metadata": {
  "@webio": {
   "lastCommId": null,
   "lastKernelId": null
  },
  "kernelspec": {
   "display_name": "Julia 1.1.0",
   "language": "julia",
   "name": "julia-1.1"
  },
  "language_info": {
   "file_extension": ".jl",
   "mimetype": "application/julia",
   "name": "julia",
   "version": "1.1.0"
  }
 },
 "nbformat": 4,
 "nbformat_minor": 2
}
