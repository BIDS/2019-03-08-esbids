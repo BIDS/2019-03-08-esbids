{
 "cells": [
  {
   "cell_type": "markdown",
   "metadata": {},
   "source": [
    "## Necessary packages "
   ]
  },
  {
   "cell_type": "code",
   "execution_count": 26,
   "metadata": {},
   "outputs": [],
   "source": [
    "using DifferentialEquations \n",
    "using AxisArrays\n",
    "using NLsolve\n",
    "using Plots\n",
    "gr()\n",
    "using LinearAlgebra\n",
    "using RecursiveArrayTools\n",
    "using ParameterizedFunctions\n",
    "using Sundials \n",
    "using DiffEqSensitivity\n",
    ";\n",
    "\n",
    "# using DiffEqUncertainty"
   ]
  },
  {
   "cell_type": "markdown",
   "metadata": {},
   "source": [
    "## Parameter values "
   ]
  },
  {
   "cell_type": "code",
   "execution_count": 55,
   "metadata": {},
   "outputs": [],
   "source": [
    "\n",
    "gN = 6     # number of potential genotypes (mostly used for accounting purposes in females, possibly other stuff too)\n",
    "\n",
    "########### \"Theta\" list of parameters from 4/3/2019 version\n",
    "\n",
    "β = 16.0   # fecundity\n",
    "TE = 4     # Total stage duration \n",
    "qE = 1/TE  # \"q\" vars also called \"r\"; represent total time in each \"bin\"/substage  \n",
    "nE = 4     # number of \"bins\"/substages in this stage \n",
    "μE = 0.05  # mortality aka probability of dying in this stage \n",
    "\n",
    "TL = 3     \n",
    "qL = 1/TL\n",
    "nL = 8\n",
    "μL = 0.15\n",
    "\n",
    "TP = 6\n",
    "qP = 1/TP \n",
    "nP = 6\n",
    "μP = 0.05 \n",
    "\n",
    "NF = 500.0 \n",
    "μF = 0.09 \n",
    "μM = 0.09  \n",
    "ϕ = 0.5    # gender \n",
    "\n",
    "########### Density dependence options \n",
    "γ = 0.001  # linear case; value from Hancock paper\n",
    "K = 355.0  # logistic case; carrying capacity also listed as \"1\" elsewhere \n",
    "\n",
    "########### Include cube-related parameters\n",
    "s = ones(6)\n",
    "β_s = beta_s = β*s\n",
    "τ = tau = ones(6,6,6)\n",
    "η = ones(6)\n",
    "# cube = see construction and values below\n",
    "; \n"
   ]
  },
  {
   "cell_type": "markdown",
   "metadata": {},
   "source": [
    "## Calculate \"guesses\" for NLSolve"
   ]
  },
  {
   "cell_type": "code",
   "execution_count": 56,
   "metadata": {},
   "outputs": [
    {
     "data": {
      "text/plain": [
       "500.0"
      ]
     },
     "execution_count": 56,
     "metadata": {},
     "output_type": "execute_result"
    }
   ],
   "source": [
    "# Pupae\n",
    "function init_P(NF, μF, nP, qP, ϕ, μP)  \n",
    "    P0 = zeros(6)  \n",
    "    P0[end] = (NF*μF) / (nP*qP*ϕ)    \n",
    "    for i in length(P0)-1:-1:1\n",
    "        P0[i] = ((μP + qP*nP)/(qP*nP)) * P0[i+1]\n",
    "    end   \n",
    "    return P0    \n",
    "end\n",
    "\n",
    "\n",
    "# Eggs\n",
    "function init_E(β, NF, μE, qE, nE)\n",
    "    # placeholder for each day of history \n",
    "    E0 = zeros(4)    \n",
    "    # initialize at equilibrium  \n",
    "    E0[1] = β*NF / (μE + qE*nE)   \n",
    "    # obtain values for each day of history based on eq \n",
    "    for i in 2:length(E0)\n",
    "        E0[i] = (qE*nE*E0[i-1]) / (μE + qE*nE)\n",
    "    end    \n",
    "    # show result\n",
    "    return E0\n",
    "end\n",
    "\n",
    "\n",
    "# Larvae \n",
    "function init_L(μP, qP, nP, qL, nL, P0, qE, nE)  \n",
    "    L0 = zeros(8)\n",
    "    L0[end] = ((μP + qP*nP)/(qL*nL)) * P0[1] \n",
    "    Lend = L0[end]\n",
    "    Eend = E0[end]  \n",
    "    for i in length(L0)-1:-1:1\n",
    "        L0[i] = ((Lend^(i/nL)) * (Eend^((nL-i)/nL)) * (nE^((nL-i)/nL)) * (qE^((nL-i)/nL))) / \n",
    "        ((nL^((nL-i)/nL)) * (qL^((nL-i)/nL)))\n",
    "    end    \n",
    "    return L0   \n",
    "end\n",
    "\n",
    "\n",
    "# Adult Males   \n",
    "function init_NM(ϕ, qP, nP, P0, μM)\n",
    "    NM = ((1-ϕ)*qP*nP*P0[end]) / μM\n",
    "    return NM  \n",
    "end\n",
    "\n",
    "# Adult Females: EQ NOT CALCULATED; SIMPLY ASSIGNED A VALUE (NF = 500.0)\n",
    "\n",
    "E0 = init_E(β, NF, μE, qE, nE)\n",
    "P0 = init_P(NF, μF, nP, qP, ϕ, μP) \n",
    "L0 = init_L(μP, qP, nP, qL, nL, P0, qE, nE)\n",
    "NM = init_NM(ϕ, qP, nP, P0, μM)\n",
    "\n",
    "#= Check against comparison values from version of 4-3-2019: correct! \n",
    "$init\n",
    "    E1         E2         E3         E4         L1         L2         L3         L4         L5         L6         L7 \n",
    "7619.04762 7256.23583 6910.70079 6581.61980 1497.07910  908.08277  550.81547  334.10795  202.65975  122.92726 74.56395 \n",
    "    L8         P1         P2         P3         P4         P5         P6         NF         NM \n",
    "45.22823  114.86534  109.39556  104.18625   99.22500   94.50000   90.00000  500.00000  500.00000 \n",
    "=#\n",
    "\n"
   ]
  },
  {
   "cell_type": "markdown",
   "metadata": {},
   "source": [
    "## Create life stage structures; initialize with eq \"guesses\" (wildtype values)"
   ]
  },
  {
   "cell_type": "code",
   "execution_count": 57,
   "metadata": {},
   "outputs": [],
   "source": [
    "\n",
    "# Empty structures\n",
    "eggs = zeros(4,6)\n",
    "larvae = zeros(8,6)\n",
    "pupae = zeros(6,6)\n",
    "NM = zeros(6)\n",
    "NF = zeros(6,6)\n",
    "\n",
    "# Format values from equilibrium equations above \n",
    "init_eggs = [7619.04  7256.24  6910.7  6581.62]'\n",
    "init_larvae = [1497.08  908.083  550.815  334.108  202.66  122.927  74.5639  45.2282]'\n",
    "init_pupae = [114.865  109.396  104.186  99.225  94.5  90.0]'\n",
    "\n",
    "# Insert values \n",
    "eggs[:, 4] = init_eggs\n",
    "larvae[:, 4] = init_larvae\n",
    "pupae[:, 4] = init_pupae\n",
    "NM[4] = 500.0\n",
    "NF[4,4] = 500.0\n",
    ";"
   ]
  },
  {
   "cell_type": "code",
   "execution_count": 58,
   "metadata": {},
   "outputs": [
    {
     "data": {
      "text/plain": [
       "Array{Float64,2}"
      ]
     },
     "execution_count": 58,
     "metadata": {},
     "output_type": "execute_result"
    }
   ],
   "source": [
    "# Put it together (transpose NM for shape alignment)\n",
    "u0_orig = vcat(eggs, larvae, pupae, transpose(NM), NF)\n",
    ";\n",
    "\n",
    "typeof(u0_orig)\n",
    "\n",
    "#u0_array = ArrayPartition(eggs, larvae, pupae, NM, NF)"
   ]
  },
  {
   "cell_type": "code",
   "execution_count": 59,
   "metadata": {},
   "outputs": [
    {
     "data": {
      "text/plain": [
       "25×6 Array{Float64,2}:\n",
       " 0.0  0.0  0.0  7619.04    0.0  0.0\n",
       " 0.0  0.0  0.0  7256.24    0.0  0.0\n",
       " 0.0  0.0  0.0  6910.7     0.0  0.0\n",
       " 0.0  0.0  0.0  6581.62    0.0  0.0\n",
       " 0.0  0.0  0.0  1497.08    0.0  0.0\n",
       " 0.0  0.0  0.0   908.083   0.0  0.0\n",
       " 0.0  0.0  0.0   550.815   0.0  0.0\n",
       " 0.0  0.0  0.0   334.108   0.0  0.0\n",
       " 0.0  0.0  0.0   202.66    0.0  0.0\n",
       " 0.0  0.0  0.0   122.927   0.0  0.0\n",
       " 0.0  0.0  0.0    74.5639  0.0  0.0\n",
       " 0.0  0.0  0.0    45.2282  0.0  0.0\n",
       " 0.0  0.0  0.0   114.865   0.0  0.0\n",
       " 0.0  0.0  0.0   109.396   0.0  0.0\n",
       " 0.0  0.0  0.0   104.186   0.0  0.0\n",
       " 0.0  0.0  0.0    99.225   0.0  0.0\n",
       " 0.0  0.0  0.0    94.5     0.0  0.0\n",
       " 0.0  0.0  0.0    90.0     0.0  0.0\n",
       " 0.0  0.0  0.0   500.0     0.0  0.0\n",
       " 0.0  0.0  0.0     0.0     0.0  0.0\n",
       " 0.0  0.0  0.0     0.0     0.0  0.0\n",
       " 0.0  0.0  0.0     0.0     0.0  0.0\n",
       " 0.0  0.0  0.0   500.0     0.0  0.0\n",
       " 0.0  0.0  0.0     0.0     0.0  0.0\n",
       " 0.0  0.0  0.0     0.0     0.0  0.0"
      ]
     },
     "execution_count": 59,
     "metadata": {},
     "output_type": "execute_result"
    }
   ],
   "source": [
    "u0_orig"
   ]
  },
  {
   "cell_type": "markdown",
   "metadata": {},
   "source": [
    "## Build \"ih\" cube"
   ]
  },
  {
   "cell_type": "code",
   "execution_count": 60,
   "metadata": {},
   "outputs": [],
   "source": [
    "# Create empty cube \n",
    "cube = zeros(6,6,6)  \n",
    "\n",
    "# Make each layer \n",
    "layer1 = [1.0 1.0 0.50  0  0  0; 1.0 1.0 0.50  0  0  0; 0.5 0.5 0.25  0  0  0; \n",
    "        0.0 0.0 0.00  0  0  0; 0.0 0.0 0.00  0  0  0; 0.0 0.0 0.00  0  0  0]\n",
    "\n",
    "layer2 = [0.0 0.0 0.00 1.0 0.50  0; 0.0 0.0 0.00 1.0 0.50  0; 0.0 0.0 0.00 0.5 0.25  0; \n",
    "        1.0 1.0 0.50 0.0 0.00  0; 0.5 0.5 0.25 0.0 0.00  0; 0.0 0.0 0.00 0.0 0.00  0]\n",
    "\n",
    "layer3 = [0.0 0.0 0.50  0 0.50 1.0; 0.0 0.0 0.50  0 0.50 1.0; 0.5 0.5 0.50  0 0.25 0.5;\n",
    "        0.0 0.0 0.00  0 0.00 0.0; 0.5 0.5 0.25  0 0.00 0.0; 1.0 1.0 0.50  0 0.00 0.0]\n",
    "\n",
    "layer4 = [0  0  0 0.0 0.00  0; 0  0  0 0.0 0.00  0; 0  0  0 0.0 0.00  0; \n",
    "        0  0  0 1.0 0.50  0; 0  0  0 0.5 0.25  0; 0  0  0 0.0 0.00  0]\n",
    "\n",
    "layer5 = [0  0  0 0.0 0.00  0; 0  0  0 0.0 0.00  0; 0  0 0.00 0.5 0.25 0.0; \n",
    "        0  0 0.50 0.0 0.50 1.0; 0  0 0.25 0.5 0.50 0.5; 0  0 0.00 1.0 0.50 0.0]\n",
    "\n",
    "layer6 = [0  0  0 0.0 0.00  0; 0  0  0 0.0 0.00  0; 0  0 0.25  0 0.25 0.5; \n",
    "        0  0 0.00  0 0.00 0.0; 0  0 0.25  0 0.25 0.5; 0  0 0.50  0 0.50 1.0]\n",
    "\n",
    "# Populate the cube \n",
    "cube[:,:,1] = layer1\n",
    "cube[:,:,2] = layer2\n",
    "cube[:,:,3] = layer3\n",
    "cube[:,:,4] = layer4\n",
    "cube[:,:,5] = layer5\n",
    "cube[:,:,6] = layer6\n",
    "\n",
    "# Each cell of \"check\" should add to one if correct\n",
    "check = layer1 + layer2 + layer3 + layer4 + layer5 + layer6  \n",
    ";\n"
   ]
  },
  {
   "cell_type": "markdown",
   "metadata": {},
   "source": [
    "## Use NLSolve to check eq values"
   ]
  },
  {
   "cell_type": "code",
   "execution_count": 76,
   "metadata": {},
   "outputs": [],
   "source": [
    "##################\n",
    "## Oviposition \n",
    "##################\n",
    "function function_oviposition(gN::Int64, ext_states::Array, parameters::Array) \n",
    "    for j in 1:gN\n",
    "        eggsnew = sum(cube[:,:,j].*τ[:,:,j].*s*β.*NF)\n",
    "    end\n",
    "    return eggsnew\n",
    "end\n",
    "\n",
    "##################\n",
    "## Eggs\n",
    "##################\n",
    "function function_eggs(gN::Int64, int_states::Array, ext_states::Float64, parameters::Array) \n",
    "    for j in 1:gN\n",
    "        dE[1,j] = eggsnew - E[1,j]*(μE + qE*nE) \n",
    "            for i in 2:size(dE)[1]  \n",
    "               dE[i,j] = qE*nE*E[i-1,j] - E[i,j]*(μE + qE*nE)\n",
    "            end\n",
    "        return dE\n",
    "    end\n",
    "end\n",
    "        \n",
    "##################\n",
    "##Larvae \n",
    "##################\n",
    "function function_larvae(gN::Int64, int_states::Array, ext_states::Array, parameters::Array) \n",
    "    for j in 1:gN\n",
    "        dL[1,j] = qE*nE*E[end,j] - L[1,j]*(μL*(1 + (sum(L)/K)) + qL*nL)\n",
    "            for i in 2:size(dL)[1]\n",
    "                dL[i,j] = qL*nL*L[i-1,j] - L[i,j]*(μL*(1 + (sum(L)/K)) + qL*nL)\n",
    "            end\n",
    "        return dL\n",
    "    end\n",
    "end\n",
    "   \n",
    "\n",
    "##################\n",
    "## Pupae \n",
    "##################\n",
    "function function_pupae(gN::Int64, int_states::Array, ext_states::Array, parameters::Array) \n",
    "    P = zeros(nP, gN)\n",
    "    for j in 1:gN\n",
    "        dP[1,j] = qL*nL*L[end, j] - P[1,j]*(μP + qP*nP)\n",
    "            for i in 2:size(dP)[1]\n",
    "                dP[i,j] = qP*nP*P[i-1,j] - P[i,j]*(μP + qP*nP)\n",
    "            end\n",
    "        return dP\n",
    "    end\n",
    "end\n",
    "\n",
    "\n",
    "##################\n",
    "## Males \n",
    "##################\n",
    "function function_males(gN::Int64, int_states::Array, ext_states::Array, parameters::Array)\n",
    "    NM = zeros(gN)\n",
    "    for j in 1:gN\n",
    "        if j == 1\n",
    "            dNM[j] = (1-ϕ)*qP*nP*P[end,j] - μM*NM[j]\n",
    "        else\n",
    "            dNM[j] = (1-ϕ)*qP*nP*P[end,j] - μM*NM[j]\n",
    "        end\n",
    "        return dNM\n",
    "    end\n",
    "end\n",
    "\n",
    "##################\n",
    "## Mating\n",
    "##################\n",
    "function function_mate_panmictic(ext_states::Array, parameters::Array)\n",
    "    nowmate = NM.*η\n",
    "    nowmate = normalize(nowmate)\n",
    "    matematrix = nowmate*(ϕ*qP*nP*P[end,:]')\n",
    "    return matematrix \n",
    "end\n",
    "    \n",
    "##################\n",
    "## Females\n",
    "##################\n",
    "function function_females(gN::Int64, int_states::Array, ext_states::Array, parameters::Array)\n",
    "    for j in 1:gN\n",
    "        for i in 1:size(dNF)[1]\n",
    "            dNF[i,j] = matematrix[i,j] - μF*NF[i,j]   \n",
    "        end\n",
    "        return dNF\n",
    "    end\n",
    "end\n",
    "\n",
    ";"
   ]
  },
  {
   "cell_type": "code",
   "execution_count": 81,
   "metadata": {},
   "outputs": [
    {
     "ename": "UndefVarError",
     "evalue": "UndefVarError: i not defined",
     "output_type": "error",
     "traceback": [
      "UndefVarError: i not defined",
      "",
      "Stacktrace:",
      " [1] top-level scope at In[81]:36"
     ]
    }
   ],
   "source": [
    "u = u0_orig\n",
    "du = u0_orig\n",
    "\n",
    "    E = u[1:4,:]\n",
    "    dE = @view du[1:4,:]\n",
    "    \n",
    "    # Larvae\n",
    "    L = u[5:12,:]\n",
    "    dL = @view du[5:12,:]\n",
    "\n",
    "    # Pupae\n",
    "    P = u[13:18,:]\n",
    "    dP = @view du[13:18,:]\n",
    "    \n",
    "    # Males \n",
    "    NM = u[19,:]\n",
    "    dNM = @view du[19,:]\n",
    "    \n",
    "    # Females \n",
    "    NF = u[20:25,:]\n",
    "    dNF = @view du[20:25,:]\n",
    "\n",
    "    ##################\n",
    "    # Params \n",
    "    ##################\n",
    "    \n",
    "    gN, qE, nE, μE, qL, nL, μL, qP, nP, μP, μF, μM, ϕ, β, γ, s, τ, cube, η, K = params \n",
    "    \n",
    "    ##################\n",
    "    # Life functions \n",
    "    ##################\n",
    "    \n",
    "    # Oviposition \n",
    "    eggsnew = function_oviposition(6, NF, [cube, τ, s, β])\n",
    "    \n",
    "    # Eggs\n",
    "    dE = function_eggs(6, E, eggsnew, [μE, qE, nE])\n",
    "    \n",
    "    # Larvae \n",
    "    dL = function_larvae(6, L, E, [qE, nE, μL, qL, nL, K])\n",
    "    \n",
    "    # Pupae \n",
    "    dP = function_pupae(6, P, L, [qL, nL, μP, qP, nP])\n",
    "    \n",
    "    # Males \n",
    "    dNM = function_males(6, NM, P, [qP, nP, μM])\n",
    "    \n",
    "    # Mating\n",
    "    matematrix = function_mate_panmictic([NM, P], [η, ϕ, qP, nP])\n",
    "    \n",
    "    # Females\n",
    "    dNF = function_females(6, NF, matematrix, [μF])"
   ]
  },
  {
   "cell_type": "code",
   "execution_count": 68,
   "metadata": {},
   "outputs": [
    {
     "data": {
      "text/plain": [
       "init (generic function with 1 method)"
      ]
     },
     "execution_count": 68,
     "metadata": {},
     "output_type": "execute_result"
    }
   ],
   "source": [
    "function init(du, u, params, t)\n",
    "    \n",
    "    ##################\n",
    "    # State space\n",
    "    ##################\n",
    "    \n",
    "    # QUESTION: Generalizing u[] and du[] did not work - any thoughts?\n",
    "    \n",
    "    # Eggs \n",
    "    E = u[1:4,:]\n",
    "    dE = @view du[1:4,:]\n",
    "    \n",
    "    # Larvae\n",
    "    L = u[5:12,:]\n",
    "    dL = @view du[5:12,:]\n",
    "\n",
    "    # Pupae\n",
    "    P = u[13:18,:]\n",
    "    dP = @view du[13:18,:]\n",
    "    \n",
    "    # Males \n",
    "    NM = u[19,:]\n",
    "    dNM = @view du[19,:]\n",
    "    \n",
    "    # Females \n",
    "    NF = u[20:25,:]\n",
    "    dNF = @view du[20:25,:]\n",
    "    \n",
    "    ##################\n",
    "    # Params \n",
    "    ##################\n",
    "    \n",
    "    gN, qE, nE, μE, qL, nL, μL, qP, nP, μP, μF, μM, ϕ, β, γ, s, τ, cube, η, K = params \n",
    "    \n",
    "    ##################\n",
    "    # Life functions \n",
    "    ##################\n",
    "    \n",
    "    # Oviposition \n",
    "    eggsnew = function_oviposition(6, NF, [cube, τ, s, β])\n",
    "    \n",
    "    # Eggs\n",
    "    dE = function_eggs(6, E, eggsnew, [μE, qE, nE])\n",
    "    \n",
    "    # Larvae \n",
    "    dL = function_larvae(6, L, E, [qE, nE, μL, qL, nL, K])\n",
    "    \n",
    "    # Pupae \n",
    "    dP = function_pupae(6, P, L, [qL, nL, μP, qP, nP])\n",
    "    \n",
    "    # Males \n",
    "    dNM = function_males(6, NM, P, [qP, nP, μM])\n",
    "    \n",
    "    # Mating\n",
    "    matematrix = function_mate_panmictic([NM, P], [η, ϕ, qP, nP])\n",
    "    \n",
    "    # Females\n",
    "    dNF = function_females(6, NF, matematrix, [μF])\n",
    "\n",
    "    @show dNF\n",
    "\n",
    "\n",
    "end # for DiffEq function \n"
   ]
  },
  {
   "cell_type": "code",
   "execution_count": 69,
   "metadata": {},
   "outputs": [
    {
     "ename": "UndefVarError",
     "evalue": "UndefVarError: E not defined",
     "output_type": "error",
     "traceback": [
      "UndefVarError: E not defined",
      "",
      "Stacktrace:",
      " [1] function_eggs(::Int64, ::Array{Float64,2}, ::Float64, ::Array{Float64,1}) at ./In[67]:17",
      " [2] init(::Array{Float64,2}, ::Array{Float64,2}, ::Array{Any,1}, ::Int64) at ./In[68]:43",
      " [3] (::getfield(Main, Symbol(\"##125#126\")))(::Array{Float64,2}, ::Array{Float64,2}) at ./In[69]:5",
      " [4] (::getfield(NLSolversBase, Symbol(\"#fj_finitediff!#21\")){getfield(Main, Symbol(\"##125#126\"))})(::Array{Float64,2}, ::Array{Float64,2}, ::Array{Float64,2}) at /Users/vnvasquez/.julia/packages/NLSolversBase/KG9Ie/src/objective_types/oncedifferentiable.jl:137",
      " [5] value_jacobian!!(::OnceDifferentiable{Array{Float64,2},Array{Float64,2},Array{Float64,2}}, ::Array{Float64,2}, ::Array{Float64,2}, ::Array{Float64,2}) at /Users/vnvasquez/.julia/packages/NLSolversBase/KG9Ie/src/interface.jl:124",
      " [6] value_jacobian!! at /Users/vnvasquez/.julia/packages/NLSolversBase/KG9Ie/src/interface.jl:122 [inlined]",
      " [7] trust_region_(::OnceDifferentiable{Array{Float64,2},Array{Float64,2},Array{Float64,2}}, ::Array{Float64,2}, ::Float64, ::Float64, ::Int64, ::Bool, ::Bool, ::Bool, ::Float64, ::Bool, ::NLsolve.NewtonTrustRegionCache{Array{Float64,2}}) at /Users/vnvasquez/.julia/packages/NLsolve/ltuKE/src/solvers/trust_region.jl:119",
      " [8] trust_region at /Users/vnvasquez/.julia/packages/NLsolve/ltuKE/src/solvers/trust_region.jl:229 [inlined] (repeats 2 times)",
      " [9] #nlsolve#23(::Symbol, ::Float64, ::Float64, ::Int64, ::Bool, ::Bool, ::Bool, ::Static, ::getfield(NLsolve, Symbol(\"##29#31\")), ::Float64, ::Bool, ::Int64, ::Float64, ::typeof(nlsolve), ::OnceDifferentiable{Array{Float64,2},Array{Float64,2},Array{Float64,2}}, ::Array{Float64,2}) at /Users/vnvasquez/.julia/packages/NLsolve/ltuKE/src/nlsolve/nlsolve.jl:24",
      " [10] (::getfield(NLsolve, Symbol(\"#kw##nlsolve\")))(::NamedTuple{(:method, :xtol, :ftol, :iterations, :store_trace, :show_trace, :extended_trace, :linesearch, :factor, :autoscale, :m, :beta, :linsolve),Tuple{Symbol,Float64,Float64,Int64,Bool,Bool,Bool,Static,Float64,Bool,Int64,Float64,getfield(NLsolve, Symbol(\"##29#31\"))}}, ::typeof(nlsolve), ::OnceDifferentiable{Array{Float64,2},Array{Float64,2},Array{Float64,2}}, ::Array{Float64,2}) at ./none:0",
      " [11] #nlsolve#28(::Symbol, ::Float64, ::Float64, ::Int64, ::Bool, ::Bool, ::Bool, ::Static, ::Float64, ::Bool, ::Int64, ::Float64, ::Symbol, ::getfield(NLsolve, Symbol(\"##29#31\")), ::Bool, ::typeof(nlsolve), ::getfield(Main, Symbol(\"##125#126\")), ::Array{Float64,2}) at /Users/vnvasquez/.julia/packages/NLsolve/ltuKE/src/nlsolve/nlsolve.jl:69",
      " [12] nlsolve(::Function, ::Array{Float64,2}) at /Users/vnvasquez/.julia/packages/NLsolve/ltuKE/src/nlsolve/nlsolve.jl:55",
      " [13] top-level scope at In[69]:3"
     ]
    }
   ],
   "source": [
    "# same params as used elswhere in this notebook \n",
    "params = [gN, qE, nE, μE, qL, nL, μL, qP, nP, μP, μF, μM, ϕ, β, γ, s, τ, cube, η, K]\n",
    "\n",
    "# New u0 calculated using NLSolve -> use previous u0 as initial \"guesses\"\n",
    "nlsol = nlsolve((du,u) -> init(du, u, params, 0), u0_orig);\n",
    "\n",
    "# Examine \"new\" u0 \n",
    "u0_new = nlsol.zero \n",
    "\n"
   ]
  },
  {
   "cell_type": "code",
   "execution_count": 89,
   "metadata": {},
   "outputs": [
    {
     "data": {
      "text/plain": [
       "25×6 Array{Float64,2}:\n",
       " 0.0  0.0  0.0  7619.04    0.0  0.0\n",
       " 0.0  0.0  0.0  7256.24    0.0  0.0\n",
       " 0.0  0.0  0.0  6910.7     0.0  0.0\n",
       " 0.0  0.0  0.0  6581.62    0.0  0.0\n",
       " 0.0  0.0  0.0  1497.08    0.0  0.0\n",
       " 0.0  0.0  0.0   908.083   0.0  0.0\n",
       " 0.0  0.0  0.0   550.815   0.0  0.0\n",
       " 0.0  0.0  0.0   334.108   0.0  0.0\n",
       " 0.0  0.0  0.0   202.66    0.0  0.0\n",
       " 0.0  0.0  0.0   122.927   0.0  0.0\n",
       " 0.0  0.0  0.0    74.5639  0.0  0.0\n",
       " 0.0  0.0  0.0    45.2282  0.0  0.0\n",
       " 0.0  0.0  0.0   114.865   0.0  0.0\n",
       " 0.0  0.0  0.0   109.396   0.0  0.0\n",
       " 0.0  0.0  0.0   104.186   0.0  0.0\n",
       " 0.0  0.0  0.0    99.225   0.0  0.0\n",
       " 0.0  0.0  0.0    94.5     0.0  0.0\n",
       " 0.0  0.0  0.0    90.0     0.0  0.0\n",
       " 0.0  0.0  0.0   500.0     0.0  0.0\n",
       " 0.0  0.0  0.0     0.0     0.0  0.0\n",
       " 0.0  0.0  0.0     0.0     0.0  0.0\n",
       " 0.0  0.0  0.0     0.0     0.0  0.0\n",
       " 0.0  0.0  0.0   500.0     0.0  0.0\n",
       " 0.0  0.0  0.0     0.0     0.0  0.0\n",
       " 0.0  0.0  0.0     0.0     0.0  0.0"
      ]
     },
     "execution_count": 89,
     "metadata": {},
     "output_type": "execute_result"
    }
   ],
   "source": [
    "\n",
    "\n",
    "function init(du, u, params, t)\n",
    "    \n",
    "    ##################\n",
    "    # State space\n",
    "    ##################\n",
    "    \n",
    "    # QUESTION FOR DAVID: Generalizing u[] and du[] did not work - any thoughts?\n",
    "    \n",
    "    # Eggs \n",
    "    E = u[1:4,:]\n",
    "    dE = @view du[1:4,:]\n",
    "    \n",
    "    # Larvae\n",
    "    L = u[5:12,:]\n",
    "    dL = @view du[5:12,:]\n",
    "\n",
    "    # Pupae\n",
    "    P = u[13:18,:]\n",
    "    dP = @view du[13:18,:]\n",
    "    \n",
    "    # Males \n",
    "    NM = u[19,:]\n",
    "    dNM = @view du[19,:]\n",
    "    \n",
    "    # Females \n",
    "    NF = u[20:25,:]\n",
    "    dNF = @view du[20:25,:]\n",
    "    \n",
    "    \n",
    "    ##################\n",
    "    # Parameters \n",
    "    ##################\n",
    "    \n",
    "    gN, qE, nE, μE, qL, nL, μL, qP, nP, μP, μF, μM, ϕ, β, γ, s, τ, cube, η, K = params \n",
    "    \n",
    "    ##################\n",
    "    # Equations \n",
    "    ##################\n",
    "    \n",
    "    # Loop over genes in each life stage & substage  \n",
    "    # for j in 1:gN # -> now included in each function \n",
    "        \n",
    "        ## Oviposition \n",
    "        ##################\n",
    "        function function_oviposition(gN::Int64, ext_states::Array, parameters::Array) \n",
    "            for j in 1:gN\n",
    "                eggsnew = sum(cube[:,:,j].*τ[:,:,j].*s*β.*NF)\n",
    "            end\n",
    "            return eggsnew\n",
    "        end\n",
    "        \n",
    "        # QUESTION: WHY NOT KEYWORD ARGS? \n",
    "        # eggsnew = function_oviposition(gN=6, ext_states = NF, parameters = [cube, τ, s, β])\n",
    "        eggsnew = function_oviposition(6, NF, [cube, τ, s, β])\n",
    "    \n",
    "        ##################\n",
    "    \n",
    "          \n",
    "        ## Eggs\n",
    "        ##################\n",
    "        function function_eggs(gN::Int64, int_states::Array, ext_states::Float64, parameters::Array) \n",
    "            for j in 1:gN\n",
    "                dE[1,j] = eggsnew - E[1,j]*(μE + qE*nE) \n",
    "                    for i in 2:size(dE)[1]  \n",
    "                        dE[i,j] = qE*nE*E[i-1,j] - E[i,j]*(μE + qE*nE)\n",
    "                    end\n",
    "                return dE\n",
    "            end\n",
    "        end\n",
    "        \n",
    "        dE = function_eggs(6, E, eggsnew, [μE, qE, nE])\n",
    "        ##################\n",
    "        \n",
    "        \n",
    "        ##Larvae \n",
    "        ##################\n",
    "        function function_larvae(gN::Int64, int_states::Array, ext_states::Array, parameters::Array) \n",
    "            for j in 1:gN\n",
    "                dL[1,j] = qE*nE*E[end,j] - L[1,j]*(μL*(1 + (sum(L)/K)) + qL*nL)\n",
    "                    for i in 2:size(dL)[1]\n",
    "                         dL[i,j] = qL*nL*L[i-1,j] - L[i,j]*(μL*(1 + (sum(L)/K)) + qL*nL)\n",
    "                    end\n",
    "                return dL\n",
    "            end\n",
    "        end\n",
    "        \n",
    "        dL = function_larvae(6, L, E, [qE, nE, μL, qL, nL, K])\n",
    "        ##################\n",
    "     \n",
    "    \n",
    "    \n",
    "        ## Pupae \n",
    "        ##################\n",
    "        function function_pupae(gN::Int64, int_states::Array, ext_states::Array, parameters::Array) \n",
    "            for j in 1:gN\n",
    "                dP[1,j] = qL*nL*L[end, j] - P[1,j]*(μP + qP*nP)\n",
    "                    for i in 2:size(dP)[1]\n",
    "                        dP[i,j] = qP*nP*P[i-1,j] - P[i,j]*(μP + qP*nP)\n",
    "                    end\n",
    "                return dP\n",
    "            end\n",
    "        end\n",
    "    \n",
    "        dP = function_pupae(6, P, L, [qL, nL, μP, qP, nP])\n",
    "        ##################\n",
    "        \n",
    "    \n",
    "    \n",
    "        ## Males \n",
    "        ##################\n",
    "        function function_males(gN::Int64, int_states::Array, ext_states::Array, parameters::Array)\n",
    "            for j in 1:gN\n",
    "                if j == 1\n",
    "                    dNM[j] = (1-ϕ)*qP*nP*P[end,j] - μM*NM[j]\n",
    "                else\n",
    "                    dNM[j] = (1-ϕ)*qP*nP*P[end,j] - μM*NM[j]\n",
    "                end\n",
    "                return dNM\n",
    "            end\n",
    "        end\n",
    "    \n",
    "        dNM = function_males(6, NM, P, [qP, nP, μM])\n",
    "        ##################\n",
    "        \n",
    "    \n",
    "        ## Mating\n",
    "        ##################\n",
    "        function function_mate_panmictic(ext_states::Array, parameters::Array)\n",
    "            nowmate = NM.*η\n",
    "            nowmate = normalize(nowmate)\n",
    "            matematrix = nowmate*(ϕ*qP*nP*P[end,:]')\n",
    "            return matematrix \n",
    "        end\n",
    "    \n",
    "        matematrix = function_mate_panmictic([NM, P], [η, ϕ, qP, nP])\n",
    "        ##################\n",
    "    \n",
    "    \n",
    "    \n",
    "        ## Females\n",
    "        ##################\n",
    "        function function_females(gN::Int64, int_states::Array, ext_states::Array, parameters::Array)\n",
    "            for j in 1:gN\n",
    "                for i in 1:size(dNF)[1]\n",
    "                    dNF[i,j] = matematrix[i,j] - μF*NF[i,j] \n",
    "                end\n",
    "            end\n",
    "        end\n",
    "        \n",
    "        dNF = function_females(6, NF, matematrix, [μF])\n",
    "        ##################\n",
    "\n",
    "   # end #for j loop (genes)   \n",
    "\n",
    "end # for DiffEq function \n",
    "\n",
    "\n",
    "\n",
    "# same params as used elswhere in this notebook \n",
    "params = [gN, qE, nE, μE, qL, nL, μL, qP, nP, μP, μF, μM, ϕ, β, γ, s, τ, cube, η, K]\n",
    "\n",
    "# New u0 calculated using NLSolve -> use previous u0 as initial \"guesses\"\n",
    "nlsol = nlsolve((du,u) -> init(du, u, params, 0), u0_orig);\n",
    "\n",
    "# Examine \"new\" u0 \n",
    "u0_new = nlsol.zero \n",
    "\n",
    "nlsol.initial_x"
   ]
  },
  {
   "cell_type": "markdown",
   "metadata": {},
   "source": [
    "## Create mutable struct employing DEDataVectors"
   ]
  },
  {
   "cell_type": "code",
   "execution_count": 8,
   "metadata": {},
   "outputs": [],
   "source": [
    "mutable struct SimType{T} <: DEDataMatrix{T}\n",
    "    x::Array{T,2}\n",
    "    f1::T\n",
    "end\n",
    "\n",
    "# x::ArrayPartition{T}"
   ]
  },
  {
   "cell_type": "markdown",
   "metadata": {},
   "source": [
    "## Define initial conditions for u.f1 and larger problem "
   ]
  },
  {
   "cell_type": "code",
   "execution_count": 9,
   "metadata": {},
   "outputs": [
    {
     "ename": "UndefVarError",
     "evalue": "UndefVarError: u0_new not defined",
     "output_type": "error",
     "traceback": [
      "UndefVarError: u0_new not defined",
      "",
      "Stacktrace:",
      " [1] top-level scope at In[9]:1"
     ]
    }
   ],
   "source": [
    "# Include the starting point for u.f1 in u0: \n",
    "u0 = SimType(u0_new, 0.0)\n",
    "\n",
    "tspan = (0.0,300.0) \n",
    "\n",
    "params = [gN, qE, nE, μE, qL, nL, μL, qP, nP, μP, μF, μM, ϕ, β, γ, s, τ, cube, η, K]\n",
    "\n",
    "typeof(u0)\n",
    ";"
   ]
  },
  {
   "cell_type": "markdown",
   "metadata": {},
   "source": [
    "## Create modified (u.f1) ODE function"
   ]
  },
  {
   "cell_type": "code",
   "execution_count": 10,
   "metadata": {},
   "outputs": [
    {
     "data": {
      "text/plain": [
       "ode_contNL (generic function with 1 method)"
      ]
     },
     "execution_count": 10,
     "metadata": {},
     "output_type": "execute_result"
    }
   ],
   "source": [
    "function ode_contNL(du, u, params, t)\n",
    "    \n",
    "    ##################\n",
    "    # State space\n",
    "    ##################\n",
    "    \n",
    "    # view(du, 1:4, :) -> constructs abstract syntax tree \n",
    "    # macro = like a function but runs earlier than the code \n",
    "    # macro runs only once \n",
    "    \n",
    "    ###### NB: [nE+1 : nE+nL]  can't do arithmetic to fix length of each stage; throws error: \"nE\" etc not recognized\n",
    "    \n",
    "    # Eggs \n",
    "    E = u[1:4,:]\n",
    "    dE = @view du[1:4,:]\n",
    "    \n",
    "    # Larvae\n",
    "    L = u[5:12,:]\n",
    "    dL = @view du[5:12,:]\n",
    "\n",
    "    # Pupae\n",
    "    P = u[13:18,:]\n",
    "    dP = @view du[13:18,:]\n",
    "    \n",
    "    # Males \n",
    "    NM = u[19,:]\n",
    "    dNM = @view du[19,:]\n",
    "    \n",
    "    # Females \n",
    "    NF = u[20:25,:]\n",
    "    dNF = @view du[20:25,:]\n",
    "    \n",
    "    \n",
    "    ##################\n",
    "    # Parameters \n",
    "    ##################\n",
    "    \n",
    "    gN, qE, nE, μE, qL, nL, μL, qP, nP, μP, μF, μM, ϕ, β, γ, s, τ, cube, η, K = params \n",
    "    \n",
    "    \n",
    "    ##################\n",
    "    # Equations \n",
    "    ##################\n",
    "    \n",
    "    # Loop over genes in each life stage & substage  \n",
    "    for j in 1:6    \n",
    "        \n",
    "        ## Oviposition \n",
    "        eggsnew = sum(cube[:,:,j].*τ[:,:,j].*s*β.*NF)\n",
    "        \n",
    "        ## Eggs\n",
    "        dE[1,j] = eggsnew - E[1,j]*(μE + qE*nE) \n",
    "        \n",
    "        for i in 2:size(dE)[1]  \n",
    "            dE[i,j] = qE*nE*E[i-1,j] - E[i,j]*(μE + qE*nE)\n",
    "        end\n",
    "        \n",
    "        ##Larvae \n",
    "        dL[1,j] = qE*nE*E[end,j] - L[1,j]*(μL*(1 + (sum(L)/K)) + qL*nL)\n",
    "\n",
    "        \n",
    "        for i in 2:size(dL)[1]\n",
    "            dL[i,j] = qL*nL*L[i-1,j] - L[i,j]*(μL*(1 + (sum(L)/K)) + qL*nL)\n",
    "        end\n",
    "        \n",
    "     \n",
    "        ## Pupae \n",
    "        dP[1,j] = qL*nL*L[end, j] - P[1,j]*(μP + qP*nP)\n",
    "        \n",
    "        for i in 2:size(dP)[1]\n",
    "            dP[i,j] = qP*nP*P[i-1,j] - P[i,j]*(μP + qP*nP)\n",
    "        end\n",
    "        \n",
    "        \n",
    "        ## Males \n",
    "        if j == 1\n",
    "            dNM[j] = (1-ϕ)*qP*nP*P[end,j] - μM*NM[j] + u.f1\n",
    "        else\n",
    "            dNM[j] = (1-ϕ)*qP*nP*P[end,j] - μM*NM[j]\n",
    "        end\n",
    "        \n",
    "        #@show t, u.f1\n",
    "    \n",
    "        ## Mating\n",
    "        nowmate = NM.*η\n",
    "        nowmate = normalize(nowmate)\n",
    "        matematrix = nowmate*(ϕ*qP*nP*P[end,:]')\n",
    "\n",
    "    \n",
    "        ## Females\n",
    "        for i in 1:size(dNF)[1]\n",
    "\n",
    "                dNF[i,j] = matematrix[i,j] - μF*NF[i,j] \n",
    "        \n",
    "        end # for i loop (females)\n",
    "\n",
    "    end #for j loop (genes)   \n",
    "\n",
    "end # for function \n"
   ]
  },
  {
   "cell_type": "markdown",
   "metadata": {},
   "source": [
    "## Set up control mechanism"
   ]
  },
  {
   "cell_type": "code",
   "execution_count": 11,
   "metadata": {},
   "outputs": [],
   "source": [
    "# Time points at which f1 will change \n",
    "const tstop1 = [25.]\n",
    "const tstop2 = [26.]\n",
    "const tstop3 = [35.]\n",
    "const tstop4 = [36.]\n",
    "const tstop5 = [45.]\n",
    "const tstop6 = [46.]\n",
    "const tstop7 = [55.]\n",
    "const tstop8 = [56.]\n",
    "const tstop9 = [65.]\n",
    "const tstop10 = [66.]\n",
    "\n",
    "# Use DiscreteCallback interface to encode the conditions \n",
    "function condition1(u, t, integrator)\n",
    "    t in tstop1\n",
    "end\n",
    "\n",
    "function condition2(u, t, integrator)\n",
    "    t in tstop2\n",
    "end\n",
    "\n",
    "function condition3(u, t, integrator)\n",
    "    t in tstop3\n",
    "end\n",
    "\n",
    "function condition4(u, t, integrator)\n",
    "    t in tstop4\n",
    "end\n",
    "\n",
    "function condition5(u, t, integrator)\n",
    "    t in tstop5\n",
    "end\n",
    "\n",
    "function condition6(u, t, integrator)\n",
    "    t in tstop6\n",
    "end\n",
    "\n",
    "function condition7(u, t, integrator)\n",
    "    t in tstop7\n",
    "end\n",
    "\n",
    "function condition8(u, t, integrator)\n",
    "    t in tstop8\n",
    "end\n",
    "\n",
    "function condition9(u, t, integrator)\n",
    "    t in tstop9\n",
    "end\n",
    "\n",
    "function condition10(u, t, integrator)\n",
    "    t in tstop10\n",
    "end\n",
    ";"
   ]
  },
  {
   "cell_type": "markdown",
   "metadata": {},
   "source": [
    "## State the effect of reaching established conditions "
   ]
  },
  {
   "cell_type": "code",
   "execution_count": 12,
   "metadata": {},
   "outputs": [],
   "source": [
    "# The \"conditions\" are reaching the stated time points (above)\n",
    "\n",
    "function effect1!(integrator)\n",
    "    for c in full_cache(integrator)\n",
    "        c.f1 = 50.           \n",
    "    end\n",
    "end\n",
    "    \n",
    "function effect2!(integrator)\n",
    "    for c in full_cache(integrator)\n",
    "        c.f1 = 0.       \n",
    "    end               \n",
    "end                     \n",
    "    \n",
    "function effect3!(integrator)\n",
    "    for c in full_cache(integrator)\n",
    "        c.f1 = 50.           \n",
    "    end\n",
    "end    \n",
    "\n",
    "function effect4!(integrator)\n",
    "    for c in full_cache(integrator)\n",
    "        c.f1 = 0.           \n",
    "    end\n",
    "end    \n",
    "\n",
    "function effect5!(integrator)\n",
    "    for c in full_cache(integrator)\n",
    "        c.f1 = 50.           \n",
    "    end\n",
    "end   \n",
    "\n",
    "function effect6!(integrator)\n",
    "    for c in full_cache(integrator)\n",
    "        c.f1 = 0.           \n",
    "    end\n",
    "end    \n",
    "\n",
    "function effect7!(integrator)\n",
    "    for c in full_cache(integrator)\n",
    "        c.f1 = 50.           \n",
    "    end\n",
    "end  \n",
    "\n",
    "function effect8!(integrator)\n",
    "    for c in full_cache(integrator)\n",
    "        c.f1 = 0.           \n",
    "    end\n",
    "end  \n",
    "\n",
    "function effect9!(integrator)\n",
    "    for c in full_cache(integrator)\n",
    "        c.f1 = 50.           \n",
    "    end\n",
    "end  \n",
    "\n",
    "function effect10!(integrator)\n",
    "    for c in full_cache(integrator)\n",
    "        c.f1 = 0.           \n",
    "    end\n",
    "end  \n",
    "\n",
    ";\n",
    "# QUESTION: if all of these are the same, can I make one function for all effects? \n",
    "# Or best to individualize to preserve flexibility if each effect is unique in the future? "
   ]
  },
  {
   "cell_type": "markdown",
   "metadata": {},
   "source": [
    "## Loop through and update all internal caches"
   ]
  },
  {
   "cell_type": "code",
   "execution_count": 13,
   "metadata": {},
   "outputs": [],
   "source": [
    "# Save all positions! \n",
    "save_positions = (true, true)\n",
    "\n",
    "# Set up each callback \n",
    "cb1 = DiscreteCallback(condition1, effect1!, save_positions=save_positions)                     \n",
    "cb2 = DiscreteCallback(condition2, effect2!, save_positions=save_positions)                         \n",
    "cb3 = DiscreteCallback(condition3, effect3!, save_positions=save_positions)                                         \n",
    "cb4 = DiscreteCallback(condition4, effect4!, save_positions=save_positions)                                           \n",
    "cb5 = DiscreteCallback(condition5, effect5!, save_positions=save_positions)                                            \n",
    "cb6 = DiscreteCallback(condition6, effect6!, save_positions=save_positions)                                           \n",
    "cb7 = DiscreteCallback(condition7, effect7!, save_positions=save_positions)                                          \n",
    "cb8 = DiscreteCallback(condition8, effect8!, save_positions=save_positions)                                         \n",
    "cb9 = DiscreteCallback(condition9, effect9!, save_positions=save_positions)                                    \n",
    "cb10 = DiscreteCallback(condition10, effect10!, save_positions=save_positions)\n",
    "\n",
    "# Put it all together \n",
    "cbs = CallbackSet(cb1, cb2, cb3, cb4, cb5, cb6, cb7, cb8, cb9, cb10)\n",
    "\n",
    ";"
   ]
  },
  {
   "cell_type": "markdown",
   "metadata": {},
   "source": [
    "## Construct ODE control problem "
   ]
  },
  {
   "cell_type": "code",
   "execution_count": 14,
   "metadata": {},
   "outputs": [
    {
     "ename": "UndefVarError",
     "evalue": "UndefVarError: u0 not defined",
     "output_type": "error",
     "traceback": [
      "UndefVarError: u0 not defined",
      "",
      "Stacktrace:",
      " [1] top-level scope at In[14]:1"
     ]
    }
   ],
   "source": [
    "prob_odecontNL = ODEProblem(ode_contNL, u0, tspan, params) "
   ]
  },
  {
   "cell_type": "code",
   "execution_count": 15,
   "metadata": {},
   "outputs": [
    {
     "ename": "UndefVarError",
     "evalue": "UndefVarError: prob_odecontNL not defined",
     "output_type": "error",
     "traceback": [
      "UndefVarError: prob_odecontNL not defined",
      "",
      "Stacktrace:",
      " [1] top-level scope at In[15]:1"
     ]
    }
   ],
   "source": [
    "# Check u0 values -> in DAE algs, Sundials does fine with DEDataArrays so long as u0 are floats. Why?\n",
    "prob_odecontNL.u0"
   ]
  },
  {
   "cell_type": "markdown",
   "metadata": {},
   "source": [
    "## Pass desired tstop values"
   ]
  },
  {
   "cell_type": "code",
   "execution_count": 16,
   "metadata": {},
   "outputs": [],
   "source": [
    "const tstop = [25.,26.,35.,36.,45.,46.,55., 56., 65., 66.]\n",
    ";"
   ]
  },
  {
   "cell_type": "markdown",
   "metadata": {},
   "source": [
    "## Choose algorithm and solve"
   ]
  },
  {
   "cell_type": "code",
   "execution_count": 17,
   "metadata": {},
   "outputs": [
    {
     "ename": "UndefVarError",
     "evalue": "UndefVarError: prob_odecontNL not defined",
     "output_type": "error",
     "traceback": [
      "UndefVarError: prob_odecontNL not defined",
      "",
      "Stacktrace:",
      " [1] top-level scope at In[17]:3"
     ]
    }
   ],
   "source": [
    "#alg = Vern8()\n",
    "alg = Tsit5() \n",
    "#alg = CVODE_Adams()\n",
    "#alg = CVODE_BDF()\n",
    "#IDA for dynamic algebraic \n",
    "\n",
    "sol_odecontNL = solve(prob_odecontNL, alg, callback = cbs, tstops = tstop)\n",
    "\n",
    "\n",
    "#=\n",
    "NB re: Vern8() = These methods when lazy assume that the parameter vector p will be \n",
    "unchanged between the moment of the interval solving and the interpolation. \n",
    "If p is changed in a ContinuousCallback, or in a DiscreteCallback and the \n",
    "continuous solution is used after the full solution, then set lazy=false.\n",
    "\n",
    "http://docs.juliadiffeq.org/latest/solvers/ode_solve.html#Sundials.jl-1\n",
    "\n",
    "=#\n"
   ]
  },
  {
   "cell_type": "markdown",
   "metadata": {},
   "source": [
    "## Examine results"
   ]
  },
  {
   "cell_type": "code",
   "execution_count": 18,
   "metadata": {},
   "outputs": [
    {
     "ename": "UndefVarError",
     "evalue": "UndefVarError: sol_odecontNL not defined",
     "output_type": "error",
     "traceback": [
      "UndefVarError: sol_odecontNL not defined",
      "",
      "Stacktrace:",
      " [1] top-level scope at In[18]:1"
     ]
    }
   ],
   "source": [
    "sol_odecontNL.u[end]"
   ]
  },
  {
   "cell_type": "code",
   "execution_count": 19,
   "metadata": {},
   "outputs": [
    {
     "ename": "UndefVarError",
     "evalue": "UndefVarError: sol_odecontNL not defined",
     "output_type": "error",
     "traceback": [
      "UndefVarError: sol_odecontNL not defined",
      "",
      "Stacktrace:",
      " [1] top-level scope at In[19]:1"
     ]
    }
   ],
   "source": [
    "plot(sol_odecontNL)"
   ]
  },
  {
   "cell_type": "code",
   "execution_count": 20,
   "metadata": {},
   "outputs": [
    {
     "ename": "UndefVarError",
     "evalue": "UndefVarError: sol_odecontNL not defined",
     "output_type": "error",
     "traceback": [
      "UndefVarError: sol_odecontNL not defined",
      "",
      "Stacktrace:",
      " [1] top-level scope at In[20]:1"
     ]
    }
   ],
   "source": [
    "males_HH = [val[19,1] for val in sol_odecontNL.u]\n",
    "males_Hh = [val[19,2] for val in sol_odecontNL.u]\n",
    "males_HR = [val[19,3] for val in sol_odecontNL.u]\n",
    "males_hh = [val[19,4] for val in sol_odecontNL.u]\n",
    "males_hR = [val[19,5] for val in sol_odecontNL.u]\n",
    "males_RR = [val[19,6] for val in sol_odecontNL.u]\n",
    ";"
   ]
  },
  {
   "cell_type": "code",
   "execution_count": 21,
   "metadata": {},
   "outputs": [
    {
     "ename": "UndefVarError",
     "evalue": "UndefVarError: sol_odecontNL not defined",
     "output_type": "error",
     "traceback": [
      "UndefVarError: sol_odecontNL not defined",
      "",
      "Stacktrace:",
      " [1] top-level scope at In[21]:1"
     ]
    }
   ],
   "source": [
    "plot(sol_odecontNL.t, males_HH, label = \"Males_HH\", title = \"Males by Genotype (Full Time)\")\n",
    "plot!(sol_odecontNL.t, males_Hh, label = \"Males_Hh\")\n",
    "plot!(sol_odecontNL.t, males_HR, label = \"Males_HR\")\n",
    "plot!(sol_odecontNL.t, males_hh, label = \"Males_hh\")\n",
    "plot!(sol_odecontNL.t, males_hR, label = \"Males_hR\")\n",
    "plot!(sol_odecontNL.t, males_RR, label = \"Males_RR\")"
   ]
  },
  {
   "cell_type": "code",
   "execution_count": 22,
   "metadata": {},
   "outputs": [
    {
     "ename": "UndefVarError",
     "evalue": "UndefVarError: sol_odecontNL not defined",
     "output_type": "error",
     "traceback": [
      "UndefVarError: sol_odecontNL not defined",
      "",
      "Stacktrace:",
      " [1] top-level scope at In[22]:1"
     ]
    }
   ],
   "source": [
    "# list comprehensions return arrays; hence brackets\n",
    "sumfemales_HH = [sum(val[20,:]) for val in sol_odecontNL.u]   \n",
    "sumfemales_Hh = [sum(val[21,:]) for val in sol_odecontNL.u]\n",
    "sumfemales_HR = [sum(val[22,:]) for val in sol_odecontNL.u]\n",
    "sumfemales_hh = [sum(val[23,:]) for val in sol_odecontNL.u]\n",
    "sumfemales_hR = [sum(val[24,:]) for val in sol_odecontNL.u]\n",
    "sumfemales_RR = [sum(val[25,:]) for val in sol_odecontNL.u]\n",
    ";"
   ]
  },
  {
   "cell_type": "code",
   "execution_count": 23,
   "metadata": {},
   "outputs": [
    {
     "ename": "UndefVarError",
     "evalue": "UndefVarError: sol_odecontNL not defined",
     "output_type": "error",
     "traceback": [
      "UndefVarError: sol_odecontNL not defined",
      "",
      "Stacktrace:",
      " [1] top-level scope at In[23]:1"
     ]
    }
   ],
   "source": [
    "plot(sol_odecontNL.t, sumfemales_HH, label = \"HH\", title = \"All Females by Genotype (Full Time)\")\n",
    "plot!(sol_odecontNL.t, sumfemales_Hh, label = \"Hh\")\n",
    "plot!(sol_odecontNL.t, sumfemales_HR, label = \"HR\")\n",
    "plot!(sol_odecontNL.t, sumfemales_hh, label = \"hh\")\n",
    "plot!(sol_odecontNL.t, sumfemales_hR, label = \"hR\")\n",
    "plot!(sol_odecontNL.t, sumfemales_RR, label = \"RR\")"
   ]
  },
  {
   "cell_type": "code",
   "execution_count": 24,
   "metadata": {},
   "outputs": [],
   "source": [
    "#=\n",
    "\n",
    "# Better way to set up the call backs from \n",
    "# https://discourse.julialang.org/t/integral-saturation-limits-w-differentialequations-jl/22143/8\n",
    "\n",
    "\n",
    "# see also pakg fix at \n",
    "# https://github.com/JuliaDiffEq/DiffEqBase.jl/pull/207/commits/47d87398506e562e13c2e5083545568fb707145b\n",
    "\n",
    "function condition1(u,t,integrator, ison)\n",
    "    ison[1] ? func1(u)  :    # some default non-zero value?\n",
    "end\n",
    "\n",
    "function condition2(u,t,integrator, ison)\n",
    "    ison[2] ? func2(u)  :    # some default non-zero value?\n",
    "end\n",
    "\n",
    "function affect(integrator, ison)\n",
    "    # update integrator\n",
    "    ison .= .!ison\n",
    "end\n",
    "\n",
    "ison = [true, false]\n",
    "cb1 = ContinuousCallback((u,t,integrator)->condition1(u,t,integrator, Ref(ison)), \n",
    "                                            integrator -> affect(integrator, Ref(ison))\n",
    "cb2 = ContinuousCallback((u,t,integrator)->condition2(u,t,integrator, Ref(ison)), \n",
    "                                            integrator -> affect(integrator, Ref(ison))\n",
    "\n",
    "=#\n",
    "\n",
    "# trying alternative to hard-coded du and u matrices \n",
    "\n",
    "    #=\n",
    "    # Eggs \n",
    "    E = u[1:nE,:]   \n",
    "    dE = @view du[1:nE,:]\n",
    "    \n",
    "    # Larvae\n",
    "    L = u[nE+1 : nE+nL, :]             \n",
    "    dL = @view du[nE+1 : nE+nL, :]\n",
    "\n",
    "    # Pupae\n",
    "    P = u[nE+nL+1 : nE+nL+nP,:] \n",
    "    dP = @view du[nE+nL+1 : nE+nL+nP, :]\n",
    "    \n",
    "    # Males \n",
    "    NM = u[nE+nL+nP+1, :]\n",
    "    dNM = @view du[nE+nL+nP+1, :]\n",
    "    \n",
    "    # Females \n",
    "    NF = u[nE+nL+nP+2 : nE+nL+nP+2+gN,:]\n",
    "    dNF = @view du[nE+nL+nP+2 : nE+nL+nP+2+gN,:]\n",
    "    =#"
   ]
  },
  {
   "cell_type": "code",
   "execution_count": 25,
   "metadata": {},
   "outputs": [],
   "source": [
    "\n",
    "#=\n",
    "\n",
    "include(\"filepath_tofoo1\")\n",
    "\n",
    "function foo2()\n",
    "    foo1()\n",
    "end\n",
    "\n",
    "=#"
   ]
  },
  {
   "cell_type": "code",
   "execution_count": null,
   "metadata": {},
   "outputs": [],
   "source": []
  },
  {
   "cell_type": "code",
   "execution_count": null,
   "metadata": {},
   "outputs": [],
   "source": []
  },
  {
   "cell_type": "code",
   "execution_count": null,
   "metadata": {},
   "outputs": [],
   "source": []
  }
 ],
 "metadata": {
  "@webio": {
   "lastCommId": null,
   "lastKernelId": null
  },
  "kernelspec": {
   "display_name": "Julia 1.1.0",
   "language": "julia",
   "name": "julia-1.1"
  },
  "language_info": {
   "file_extension": ".jl",
   "mimetype": "application/julia",
   "name": "julia",
   "version": "1.1.0"
  }
 },
 "nbformat": 4,
 "nbformat_minor": 2
}
