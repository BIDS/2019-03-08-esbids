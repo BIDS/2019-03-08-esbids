{
 "cells": [
  {
   "cell_type": "markdown",
   "metadata": {},
   "source": [
    "### Test generic functions"
   ]
  },
  {
   "cell_type": "code",
   "execution_count": null,
   "metadata": {},
   "outputs": [],
   "source": [
    "\"\"\"\n",
    "Need: \n",
    "(1) both curr_state and prev_state to be generic for plugging in\n",
    "(2) params to be generic for the same reason -> instead of qL, nL just q and n: aka prev_n, prev_q \n",
    "\n",
    "Questions: \n",
    "(1) Include gN in parameters, else include as own argument? If latter, => gN::Int64\n",
    "(2) Density dependence inclusion as K or as generic parameter -> also how to include in whatever state desired?\n",
    "(3) How to effectively handle non-state functions (ovipos + mating) esp. those that require multiple prev_state (mating)\n",
    "\"\"\""
   ]
  },
  {
   "cell_type": "code",
   "execution_count": 2,
   "metadata": {},
   "outputs": [
    {
     "data": {
      "text/plain": [
       "function_eggs (generic function with 1 method)"
      ]
     },
     "execution_count": 2,
     "metadata": {},
     "output_type": "execute_result"
    }
   ],
   "source": [
    "##### EGG\n",
    "#parameters = [gN, EGGSNEW, prev_q, prev_n, curr_μ, curr_q, curr_n]\n",
    "\n",
    "function function_eggs(data::Tuple) \n",
    "    \n",
    "    #prev = data[1]\n",
    "    curr = data[1]\n",
    "    params = data[2] # -> just gN, maybe also eggs_new since that's not a stage proper?\n",
    "     \n",
    "    dE = Array{Float64}(undef, curr.n, params.gN)\n",
    "    \n",
    "    \n",
    "    for gene_index in 1:params.gN\n",
    "        \n",
    "        dE[1,gene_index] = params.eggsnew - curr.stage[1,gene_index]*(curr.μ + curr.q * curr.n) \n",
    "        \n",
    "            for i in 2:size(dE)[1]  \n",
    "            \n",
    "               dE[i,gene_index] = curr.q * curr.n * curr.stage[i-1,gene_index] - curr.stage[i,gene_index] * \n",
    "            (curr.μ + curr.q * curr.n)\n",
    "            \n",
    "            end\n",
    "        \n",
    "    end\n",
    "    \n",
    "    return dE\n",
    "end\n",
    "\n",
    "# NB: tuples can be any dimensions!!\n",
    "# (a,b,c)[3]\n",
    "\n",
    "# QUESTION: how to modify dE \"in place\" later using @view?\n",
    "# QUESTION: Valid = different approaches to u versus du?"
   ]
  },
  {
   "cell_type": "code",
   "execution_count": 3,
   "metadata": {},
   "outputs": [
    {
     "data": {
      "text/plain": [
       "function_larvae (generic function with 1 method)"
      ]
     },
     "execution_count": 3,
     "metadata": {},
     "output_type": "execute_result"
    }
   ],
   "source": [
    "#### LARVAE\n",
    "# parameters = [K, gN, prev_q, prev_n, curr_μ, curr_q, curr_n]\n",
    "\n",
    "function function_larvae(data::Tuple) \n",
    "    \n",
    "    prev = data[1]\n",
    "    curr = data[2]\n",
    "    params = data[3]\n",
    "    \n",
    "    # dL = @view du[1:4,:]\n",
    "    dL = Array{Float64}(undef, curr.n, params.gN)\n",
    "    \n",
    "    for gene_index in 1:params.gN\n",
    "        \n",
    "        dL[1,gene_index] = prev.q * prev.n * prev.stage[end,j] - curr.stage[1,j] * \n",
    "        (curr.μ *(1 + (sum(curr.stage)/K)) + curr.q * curr.n)\n",
    "            \n",
    "            for i in 2:size(dL)[1]\n",
    "            \n",
    "                dL[i,gene_index] = curr.q * curr.n * curr.stage[i-1,j] - curr.stage[i,j] * \n",
    "            (curr.μ *(1 + (sum(curr.stage)/K)) + curr.q * curr.n)\n",
    "            \n",
    "            end\n",
    "    end\n",
    "    \n",
    "    return dL\n",
    "    \n",
    "end\n"
   ]
  },
  {
   "cell_type": "code",
   "execution_count": 4,
   "metadata": {},
   "outputs": [
    {
     "data": {
      "text/plain": [
       "function_pupae (generic function with 1 method)"
      ]
     },
     "execution_count": 4,
     "metadata": {},
     "output_type": "execute_result"
    }
   ],
   "source": [
    "#### PUPAE\n",
    "#parameters = [gN, prev_q, prev_n, curr_μ, curr_q, curr_n]\n",
    "\n",
    "function function_pupae(data::Tuple) \n",
    "    \n",
    "    prev = data[1]\n",
    "    curr = data[2]\n",
    "    params = data[3]\n",
    "    \n",
    "    # QUESTION: how to get around memory allocation AND easily use loops?\n",
    "    # what about: dP = @view du[5:12,:]\n",
    "    dP = Array{Float64}(undef, curr.n, params.gN)\n",
    "    \n",
    "    for gene_index in 1:params.gN\n",
    "        \n",
    "        dP[1,gene_index] = prev.q * prev.n * prev.stage[end, gene_index] - curr.stage[1,gene_index] *\n",
    "         (curr.μ + curr.q * curr.n)\n",
    "        \n",
    "            for i in 2:size(dP)[1]\n",
    "            \n",
    "                dP[i,gene_index] = curr.q * curr.n * curr.stage[i-1,gene_index] - curr.stage[i,gene_index] * \n",
    "            (curr.μ + curr.q * curr.n)\n",
    "            \n",
    "            end\n",
    "    end\n",
    "    \n",
    "    return dP\n",
    "    \n",
    "end"
   ]
  },
  {
   "cell_type": "code",
   "execution_count": null,
   "metadata": {},
   "outputs": [],
   "source": [
    "# QUESTION: store the stages in a dict with integer keys so i know where they are \n",
    "# (this way, never out of order, eggs always 1, males always 4 even if all juveniles removed)\n",
    "\n",
    "stages_dict = Dict{Int64, Stage}(1 => Stage(Egg, 4., (1/4.), 4, 0.5, nothing, 0),\n",
    "                                 2 => Stage(Larvae, 3., (1/3.), 8, 0.15, 355.0, 0), \n",
    "                                 3 => Stage(Pupae, 6., (1/6.), 6, 0.05, nothing, 0),\n",
    "                                 4 => Stage(Male, nothing, nothing, nothing, 0.09, nothing, 0),\n",
    "                                 5 => Stage(Female, nothing, nothing, nothing, 0.09, nothing, 500),\n",
    ")"
   ]
  },
  {
   "cell_type": "markdown",
   "metadata": {},
   "source": [
    "### Put it all together"
   ]
  },
  {
   "cell_type": "code",
   "execution_count": 1,
   "metadata": {},
   "outputs": [
    {
     "data": {
      "text/plain": [
       "init (generic function with 1 method)"
      ]
     },
     "execution_count": 1,
     "metadata": {},
     "output_type": "execute_result"
    }
   ],
   "source": [
    "function init(du, u, params, t)\n",
    "    \n",
    "    ##################\n",
    "    # State space\n",
    "    ##################\n",
    "    \n",
    "    # QUESTION: Generalizing u[] and du[] did not work - any thoughts?\n",
    "    \n",
    "    # Eggs \n",
    "    E = u[1:4,:]\n",
    "    dE = @view du[1:4,:]\n",
    "    \n",
    "    # Larvae\n",
    "    L = u[5:12,:]\n",
    "    dL = @view du[5:12,:]\n",
    "\n",
    "    # Pupae\n",
    "    P = u[13:18,:]\n",
    "    dP = @view du[13:18,:]\n",
    "    \n",
    "    ## Get data\n",
    "    pupae = @view stages_dict[1]\n",
    "    \n",
    "    ##################\n",
    "    # Params \n",
    "    ##################\n",
    "    \n",
    "    gN, ϕ, β, s, τ, cube, η, K, γ = params \n",
    "    \n",
    "    ##################\n",
    "    # Life functions \n",
    "    ##################\n",
    "    \n",
    "    # Eggs\n",
    "    # dE = function_eggs(curr_state::Array, prev_state::Float64, (eggsnew, eggs))\n",
    "    dE = function_eggs(data::Tuple) \n",
    "    \n",
    "    # Larvae \n",
    "    # dL = function_larvae(curr_state::Array, prev_state::Array, (eggs, larvae)) \n",
    "    dL = function_larvae(data::Tuple)\n",
    "    \n",
    "    # Pupae \n",
    "    # dP = function_pupae(curr_state::Array, prev_state::Array, (larvae, pupae)) \n",
    "    dP = function_pupae(data::Tuple)\n",
    "\n",
    "\n",
    "end \n"
   ]
  },
  {
   "cell_type": "code",
   "execution_count": null,
   "metadata": {},
   "outputs": [],
   "source": [
    "# same params as used elswhere in this notebook \n",
    "params = [gN, qE, nE, μE, qL, nL, μL, qP, nP, μP, μF, μM, ϕ, β, γ, s, τ, cube, η, K]\n",
    "\n",
    "# New u0 calculated using NLSolve -> use previous u0 as initial \"guesses\"\n",
    "nlsol = nlsolve((du,u) -> init(du, u, params, 0), u0_orig);\n",
    "\n",
    "# Examine \"new\" u0 \n",
    "u0_new = nlsol.zero "
   ]
  },
  {
   "cell_type": "code",
   "execution_count": null,
   "metadata": {},
   "outputs": [],
   "source": []
  },
  {
   "cell_type": "code",
   "execution_count": 76,
   "metadata": {},
   "outputs": [],
   "source": [
    "#= MAP TO FOLLOW WHILE IMPLEMENTING \n",
    "\n",
    "##################\n",
    "## Oviposition \n",
    "##################\n",
    "function function_oviposition(gN::Int64, ext_states::Array, parameters::Array) \n",
    "    for j in 1:gN\n",
    "        eggsnew = sum(cube[:,:,j].*τ[:,:,j].*s*β.*NF)\n",
    "    end\n",
    "    return eggsnew\n",
    "end\n",
    "\n",
    "\n",
    "##################\n",
    "## Eggs\n",
    "##################\n",
    "function function_eggs(gN::Int64, int_states::Array, ext_states::Float64, parameters::Array) \n",
    "    for j in 1:gN\n",
    "        dE[1,j] = eggsnew - E[1,j]*(μE + qE*nE) \n",
    "            for i in 2:size(dE)[1]  \n",
    "               dE[i,j] = qE*nE*E[i-1,j] - E[i,j]*(μE + qE*nE)\n",
    "            end\n",
    "    end\n",
    "    return dE\n",
    "end\n",
    "        \n",
    "##################\n",
    "##Larvae \n",
    "##################\n",
    "function function_larvae(gN::Int64, int_states::Array, ext_states::Array, parameters::Array) \n",
    "    for j in 1:gN\n",
    "        dL[1,j] = qE*nE*E[end,j] - L[1,j]*(μL*(1 + (sum(L)/K)) + qL*nL)\n",
    "            for i in 2:size(dL)[1]\n",
    "                dL[i,j] = qL*nL*L[i-1,j] - L[i,j]*(μL*(1 + (sum(L)/K)) + qL*nL)\n",
    "            end\n",
    "    end\n",
    "    return dL\n",
    "end\n",
    "\n",
    "##################\n",
    "## Pupae \n",
    "##################\n",
    "function function_pupae(gN::Int64, int_states::Array, ext_states::Array, parameters::Array) \n",
    "    P = zeros(nP, gN)\n",
    "    for j in 1:gN\n",
    "        dP[1,j] = qL*nL*L[end, j] - P[1,j]*(μP + qP*nP)\n",
    "            for i in 2:size(dP)[1]\n",
    "                dP[i,j] = qP*nP*P[i-1,j] - P[i,j]*(μP + qP*nP)\n",
    "            end\n",
    "    end\n",
    "    return dP\n",
    "end\n",
    "\n",
    "##################\n",
    "## Males \n",
    "##################\n",
    "function function_males(gN::Int64, int_states::Array, ext_states::Array, parameters::Array)\n",
    "    NM = zeros(gN)\n",
    "    for j in 1:gN\n",
    "        if j == 1\n",
    "            dNM[j] = (1-ϕ)*qP*nP*P[end,j] - μM*NM[j]\n",
    "        else\n",
    "            dNM[j] = (1-ϕ)*qP*nP*P[end,j] - μM*NM[j]\n",
    "        end\n",
    "    end\n",
    "    return dNM\n",
    "end\n",
    "\n",
    "##################\n",
    "## Mating\n",
    "##################\n",
    "function function_mate_panmictic(ext_states::Array, parameters::Array)\n",
    "    nowmate = NM.*η\n",
    "    nowmate = normalize(nowmate)\n",
    "    matematrix = nowmate*(ϕ*qP*nP*P[end,:]')\n",
    "    return matematrix \n",
    "end\n",
    "    \n",
    "##################\n",
    "## Females\n",
    "##################\n",
    "function function_females(gN::Int64, int_states::Array, ext_states::Array, parameters::Array)\n",
    "    for j in 1:gN\n",
    "        for i in 1:size(dNF)[1]\n",
    "            dNF[i,j] = matematrix[i,j] - μF*NF[i,j]   \n",
    "        end\n",
    "    end\n",
    "    return dNF\n",
    "end\n",
    "\n",
    "=#\n",
    ";"
   ]
  },
  {
   "cell_type": "code",
   "execution_count": 81,
   "metadata": {},
   "outputs": [
    {
     "ename": "UndefVarError",
     "evalue": "UndefVarError: i not defined",
     "output_type": "error",
     "traceback": [
      "UndefVarError: i not defined",
      "",
      "Stacktrace:",
      " [1] top-level scope at In[81]:36"
     ]
    }
   ],
   "source": [
    "#= \n",
    "u = u0_orig\n",
    "du = u0_orig\n",
    "\n",
    "    E = u[1:4,:]\n",
    "    dE = @view du[1:4,:]\n",
    "    \n",
    "    # Larvae\n",
    "    L = u[5:12,:]\n",
    "    dL = @view du[5:12,:]\n",
    "\n",
    "    # Pupae\n",
    "    P = u[13:18,:]\n",
    "    dP = @view du[13:18,:]\n",
    "    \n",
    "    # Males \n",
    "    NM = u[19,:]\n",
    "    dNM = @view du[19,:]\n",
    "    \n",
    "    # Females \n",
    "    NF = u[20:25,:]\n",
    "    dNF = @view du[20:25,:]\n",
    "\n",
    "    ##################\n",
    "    # Params \n",
    "    ##################\n",
    "    \n",
    "    gN, qE, nE, μE, qL, nL, μL, qP, nP, μP, μF, μM, ϕ, β, γ, s, τ, cube, η, K = params \n",
    "    \n",
    "    ##################\n",
    "    # Life functions \n",
    "    ##################\n",
    "    \n",
    "    # Oviposition \n",
    "    eggsnew = function_oviposition(6, NF, [cube, τ, s, β])\n",
    "    \n",
    "    # Eggs\n",
    "    dE = function_eggs(6, E, eggsnew, [μE, qE, nE])\n",
    "    \n",
    "    # Larvae \n",
    "    dL = function_larvae(6, L, E, [qE, nE, μL, qL, nL, K])\n",
    "    \n",
    "    # Pupae \n",
    "    dP = function_pupae(6, P, L, [qL, nL, μP, qP, nP])\n",
    "    \n",
    "    # Males \n",
    "    dNM = function_males(6, NM, P, [qP, nP, μM])\n",
    "    \n",
    "    # Mating\n",
    "    matematrix = function_mate_panmictic([NM, P], [η, ϕ, qP, nP])\n",
    "    \n",
    "    # Females\n",
    "    dNF = function_females(6, NF, matematrix, [μF])\n",
    "=#"
   ]
  }
 ],
 "metadata": {
  "@webio": {
   "lastCommId": null,
   "lastKernelId": null
  },
  "kernelspec": {
   "display_name": "Julia 1.1.1",
   "language": "julia",
   "name": "julia-1.1"
  },
  "language_info": {
   "file_extension": ".jl",
   "mimetype": "application/julia",
   "name": "julia",
   "version": "1.1.1"
  }
 },
 "nbformat": 4,
 "nbformat_minor": 2
}
