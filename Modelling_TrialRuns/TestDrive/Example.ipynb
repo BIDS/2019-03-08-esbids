{
 "cells": [
  {
   "cell_type": "code",
   "execution_count": 1,
   "metadata": {},
   "outputs": [],
   "source": [
    "] activate ."
   ]
  },
  {
   "cell_type": "code",
   "execution_count": 2,
   "metadata": {},
   "outputs": [
    {
     "ename": "LoadError",
     "evalue": "LoadError: UndefVarError: gN not defined\nin expression starting at C:\\Users\\valer\\Dropbox\\Berkeley\\Code\\Modelling_TrialRuns\\TestDrive\\src\\utils\\eqcalc.jl:55",
     "output_type": "error",
     "traceback": [
      "LoadError: UndefVarError: gN not defined\nin expression starting at C:\\Users\\valer\\Dropbox\\Berkeley\\Code\\Modelling_TrialRuns\\TestDrive\\src\\utils\\eqcalc.jl:55",
      "",
      "Stacktrace:",
      " [1] top-level scope at none:0",
      " [2] include at .\\boot.jl:326 [inlined]",
      " [3] include_relative(::Module, ::String) at .\\loading.jl:1038",
      " [4] include(::Module, ::String) at .\\sysimg.jl:29",
      " [5] include(::String) at .\\client.jl:403",
      " [6] top-level scope at none:0",
      " [7] include at .\\boot.jl:326 [inlined]",
      " [8] include_relative(::Module, ::String) at .\\loading.jl:1038",
      " [9] include(::Module, ::String) at .\\sysimg.jl:29",
      " [10] include(::String) at .\\client.jl:403",
      " [11] top-level scope at In[2]:1"
     ]
    }
   ],
   "source": [
    "include(\"src/TestDrive.jl\")"
   ]
  },
  {
   "cell_type": "code",
   "execution_count": null,
   "metadata": {},
   "outputs": [],
   "source": [
    "# Params \n",
    "params = [gN, qE, nE, μE, qL, nL, μL, qP, nP, μP, μF, μM, ϕ, β, γ, s, τ, cube, η, K]\n",
    "\n",
    "# New u0 calculated using NLSolve -> use previous u0 as initial \"guesses\"\n",
    "equilibrated_population = nlsolve((du,u) -> population_model(du, u, params, 0), u0_orig);\n",
    "\n",
    "# Examine \"new\" u0 \n",
    "u0 = equilibrated_population.zero "
   ]
  }
 ],
 "metadata": {
  "kernelspec": {
   "display_name": "Julia 1.1.1",
   "language": "julia",
   "name": "julia-1.1"
  },
  "language_info": {
   "file_extension": ".jl",
   "mimetype": "application/julia",
   "name": "julia",
   "version": "1.1.1"
  }
 },
 "nbformat": 4,
 "nbformat_minor": 2
}
