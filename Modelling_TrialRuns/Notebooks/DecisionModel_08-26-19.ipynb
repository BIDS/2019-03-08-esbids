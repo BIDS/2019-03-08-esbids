{
 "cells": [
  {
   "cell_type": "markdown",
   "metadata": {},
   "source": [
    "## Decision Model Testing \n",
    "Preliminaries for .toml files "
   ]
  },
  {
   "cell_type": "code",
   "execution_count": 1,
   "metadata": {},
   "outputs": [],
   "source": [
    "cd(\"../TestDrive\")"
   ]
  },
  {
   "cell_type": "code",
   "execution_count": 2,
   "metadata": {},
   "outputs": [],
   "source": [
    "] activate ."
   ]
  },
  {
   "cell_type": "code",
   "execution_count": 3,
   "metadata": {},
   "outputs": [],
   "source": [
    "#] add JuMP#master"
   ]
  },
  {
   "cell_type": "code",
   "execution_count": 4,
   "metadata": {},
   "outputs": [],
   "source": [
    "using JuMP, Ipopt, GLPK"
   ]
  },
  {
   "cell_type": "code",
   "execution_count": 5,
   "metadata": {},
   "outputs": [],
   "source": [
    "using PyPlot\n",
    "#using Plots\n",
    "#gr()\n",
    "; "
   ]
  },
  {
   "cell_type": "code",
   "execution_count": 6,
   "metadata": {},
   "outputs": [
    {
     "data": {
      "text/plain": [
       "population_model_network (generic function with 1 method)"
      ]
     },
     "execution_count": 6,
     "metadata": {},
     "output_type": "execute_result"
    }
   ],
   "source": [
    "include(\"src/TestDrive.jl\")"
   ]
  },
  {
   "cell_type": "markdown",
   "metadata": {},
   "source": [
    "### Create scenario\n",
    "To invoke the structs and data used in the popgen model for a single node"
   ]
  },
  {
   "cell_type": "code",
   "execution_count": 7,
   "metadata": {},
   "outputs": [],
   "source": [
    "# REMOVE MIGRATION FROM NODES FOR FUTURE USE - \n",
    "# SHOULD ONLY OCCUR IN NETWORK STRUCT: \n",
    "migrate1 = rand((6*(4+8+6+1+6)), 2, 2) \n",
    "\n",
    "# User-named node  \n",
    "firstnode = :FirstNode\n",
    "\n",
    "# User-constructed node: (name, gene_data, stages, location, migration_matrix)\n",
    "node = Node(:FirstNode, genetics_mcr, stages_aedes, temp_none, (37.87, 122.27), migrate1)\n",
    "\n",
    ";"
   ]
  },
  {
   "cell_type": "markdown",
   "metadata": {},
   "source": [
    "Go as far as initiating the u0: this can be done in the same way for both decision and popgen models"
   ]
  },
  {
   "cell_type": "code",
   "execution_count": 8,
   "metadata": {},
   "outputs": [],
   "source": [
    "# init_node!(desired_node, gene_index)\n",
    "u0 = init_node!(node, 4)\n",
    ";"
   ]
  },
  {
   "cell_type": "markdown",
   "metadata": {},
   "source": [
    "Extract necessary information from scenario "
   ]
  },
  {
   "cell_type": "code",
   "execution_count": 9,
   "metadata": {},
   "outputs": [],
   "source": [
    "# Network elements \n",
    "# node_count = length(get_nodes(network))\n",
    "\n",
    "# Genetics elements \n",
    "genetics = get_genetics(node)\n",
    "gN = length(genetics.all_genotypes)\n",
    "cube = genetics.cube\n",
    "S = genetics.S\n",
    "Τ = genetics.Τ\n",
    "Β = genetics.Β\n",
    "Φ = genetics.Φ\n",
    "Η = genetics.Η\n",
    "\n",
    ";"
   ]
  },
  {
   "cell_type": "code",
   "execution_count": 10,
   "metadata": {},
   "outputs": [],
   "source": [
    "# Lifestage elements \n",
    "(e, l, p, m, f) = get_allstages(node)\n",
    "\n",
    "# Mortality \n",
    "μE = e.μ\n",
    "μL = l.μ\n",
    "μP = p.μ\n",
    "μM = m.μ\n",
    "μF = f.μ\n",
    "\n",
    "# Substages \n",
    "nE = e.n\n",
    "nL = l.n\n",
    "nP = p.n\n",
    "nM = m.n\n",
    "nF = f.n\n",
    "\n",
    "# Duration (only juveniles for now - though this should/might change with migration implemented)\n",
    "qE = e.q\n",
    "qL = l.q\n",
    "qP = p.q\n",
    "\n",
    "# Density \n",
    "densE = e.density\n",
    "densL = l.density \n",
    "densP = p.density \n",
    "densM = m.density\n",
    "densF = f.density \n",
    "\n",
    ";"
   ]
  },
  {
   "cell_type": "code",
   "execution_count": 11,
   "metadata": {},
   "outputs": [],
   "source": [
    "# Controls (callbacks) -> define this later, for now just zero\n",
    "\n",
    "controls = 0\n",
    "\n",
    ";"
   ]
  },
  {
   "cell_type": "markdown",
   "metadata": {},
   "source": [
    "### Define sets \n",
    "Where every set is a dimension, and not all the variables are necessarily subject to all the sets "
   ]
  },
  {
   "cell_type": "code",
   "execution_count": 187,
   "metadata": {},
   "outputs": [],
   "source": [
    "# Time\n",
    "T = 1:10\n",
    "\n",
    "# Stages and substages\n",
    "SE = 1:nE\n",
    "SL = 1:nL\n",
    "SP = 1:nP\n",
    "SM = 1:nM\n",
    "SF = 1:nF*gN\n",
    "\n",
    "# Genetics\n",
    "G = 1:gN\n",
    "\n",
    "# Nodes \n",
    "# N = 1:node_count\n",
    "\n",
    "# Slicing u0 \n",
    "E0 = u0[SE,:]\n",
    "L0 = u0[nE+1:nL+nE,:]\n",
    "P0 = u0[nE+nL+1:nE+nL+nP,:]\n",
    "M0 = u0[nE+nL+nP+1,:]'\n",
    "F0 = u0[nE+nL+nP+2:end,:];"
   ]
  },
  {
   "cell_type": "markdown",
   "metadata": {},
   "source": [
    "### Define model and choose solver \n",
    "NB: Ipopt best for now"
   ]
  },
  {
   "cell_type": "code",
   "execution_count": 188,
   "metadata": {},
   "outputs": [],
   "source": [
    "model = Model(with_optimizer(Ipopt.Optimizer));"
   ]
  },
  {
   "cell_type": "markdown",
   "metadata": {},
   "source": [
    "### Define variables \n",
    "Each state or control that must be calculated using a decision variable"
   ]
  },
  {
   "cell_type": "code",
   "execution_count": 189,
   "metadata": {},
   "outputs": [],
   "source": [
    "# Eggs\n",
    "@variable(model, E[SE, G, T] >= 0)\n",
    "set_start_value.(E[:,:,1].data, E0)\n",
    "\n",
    "# Larvae \n",
    "@variable(model, L[SL, G, T] >= 0)\n",
    "set_start_value.(L[:,:,1].data, L0)\n",
    "\n",
    "# Pupae\n",
    "@variable(model, P[SP, G, T] >= 0)\n",
    "set_start_value.(P[:,:,1].data, P0)\n",
    "\n",
    "# Males \n",
    "@variable(model, M[SM, G, T] >= 0)\n",
    "set_start_value.(M[:,:,1].data, M0)\n",
    "\n",
    "# Females\n",
    "@variable(model, F[SF, G, T] >= 0)\n",
    "set_start_value.(F[:,:,1].data, F0)\n",
    ";"
   ]
  },
  {
   "cell_type": "code",
   "execution_count": 190,
   "metadata": {},
   "outputs": [],
   "source": [
    "# View to check \n",
    "start_value.(P)\n",
    ";"
   ]
  },
  {
   "cell_type": "markdown",
   "metadata": {},
   "source": [
    "### Define constraints \n",
    "The dynamic equations of the model that employ a decision variable"
   ]
  },
  {
   "cell_type": "markdown",
   "metadata": {},
   "source": [
    "EGGS"
   ]
  },
  {
   "cell_type": "code",
   "execution_count": 191,
   "metadata": {},
   "outputs": [],
   "source": [
    "# Eggs\n",
    "@constraint(model, E_con_A0[s = SE[1], g = G, t = T[1]],         \n",
    "                   E[s, g, t] == E0[s, g] + \n",
    "                                 sum(cube[:,:,g].*Τ[:,:,g].*S[g]*Β[g].*F[:,:,t].data) - \n",
    "                                  E[s, g, t] * (μE*compute_density(densE, sum(E[:, :, t])) + qE*nE))\n",
    ";"
   ]
  },
  {
   "cell_type": "code",
   "execution_count": 192,
   "metadata": {},
   "outputs": [],
   "source": [
    "@constraint(model, E_con_A1[s = SE[1], g = G, t = T[2:end]],         \n",
    "                   E[s, g, t] ==  E[s, g, t-1] +\n",
    "                                  sum(cube[:,:,g].*Τ[:,:,g].*S[g]*Β[g].*F[:,:,t].data) - \n",
    "                                  E[s, g, t] * (μE*compute_density(densE, sum(E[:, :, t])) + qE*nE))\n",
    "\n",
    ";"
   ]
  },
  {
   "cell_type": "code",
   "execution_count": 193,
   "metadata": {},
   "outputs": [],
   "source": [
    "# Keep or no? \n",
    "@constraint(model, E_con_B0[s = SE[2:end], g = G, t = T[1]] ,    \n",
    "                  E[s, g, t] ==   E0[s, g] + \n",
    "                                  qE*nE*E[s-1, g, t] - \n",
    "                                  E[s, g, t] * (μE*compute_density(densE, sum(E[:, :, t])) + qE*nE))\n",
    ";"
   ]
  },
  {
   "cell_type": "code",
   "execution_count": 194,
   "metadata": {},
   "outputs": [],
   "source": [
    "@constraint(model, E_con_B1[s = SE[2:end], g = G, t = T[2:end]] ,    \n",
    "                  E[s, g, t] ==   E[s, g, t-1] +\n",
    "                                  qE*nE*E[s-1, g, t] - \n",
    "                                  E[s, g, t] * (μE*compute_density(densE, sum(E[:, :, t])) + qE*nE))\n",
    ";"
   ]
  },
  {
   "cell_type": "markdown",
   "metadata": {},
   "source": [
    "LARVAE"
   ]
  },
  {
   "cell_type": "code",
   "execution_count": 195,
   "metadata": {},
   "outputs": [],
   "source": [
    "# Larvae \n",
    "@constraint(model, L_con_A0[s = SL[1], g = G, t = T[1]],         \n",
    "                   L[s, g, t] ==  L0[s, g] +\n",
    "                                  qE * nE * E[end,g,t] -\n",
    "                                  L[s, g, t] * (μL*compute_density(densL, sum(L[:, :, t])) + qL*nL))\n",
    "\n",
    ";"
   ]
  },
  {
   "cell_type": "code",
   "execution_count": 196,
   "metadata": {},
   "outputs": [],
   "source": [
    "@constraint(model, L_con_A1[s = SL[1], g = G, t = T[2:end]],         \n",
    "                   L[s, g, t] ==  L[s, g, t-1] +\n",
    "                                  qE * nE * E[end,g,t] -\n",
    "                                  L[s, g, t] * (μL*compute_density(densL, sum(L[:, :, t])) + qL*nL))\n",
    "\n",
    ";"
   ]
  },
  {
   "cell_type": "code",
   "execution_count": 197,
   "metadata": {},
   "outputs": [],
   "source": [
    "@constraint(model, L_con_B0[s = SL[2:end], g = G, t = T[1]],  \n",
    "                   L[s, g, t] == L0[s, g] +\n",
    "                                 qL*nL*L[s-1, g, t] - \n",
    "                                 L[s, g, t] * (μL*compute_density(densL, sum(L[:, :, t])) + qL*nL))\n",
    "\n",
    ";"
   ]
  },
  {
   "cell_type": "code",
   "execution_count": 198,
   "metadata": {},
   "outputs": [],
   "source": [
    "@constraint(model, L_con_B1[s = SL[2:end], g = G, t = T[2:end]],  \n",
    "                   L[s, g, t] == L[s, g, t-1] + \n",
    "                                 qL*nL*L[s-1, g, t] - \n",
    "                                 L[s, g, t] * (μL*compute_density(densL, sum(L[:, :, t])) + qL*nL))\n",
    ";"
   ]
  },
  {
   "cell_type": "markdown",
   "metadata": {},
   "source": [
    "PUPAE"
   ]
  },
  {
   "cell_type": "code",
   "execution_count": 199,
   "metadata": {},
   "outputs": [],
   "source": [
    "# Pupae \n",
    "@constraint(model, P_con_A0[s = SP[1], g = G, t = T[1]],         \n",
    "                   P[s, g, t] ==  P0[s, g] +\n",
    "                                  qL * nL * L[end , g ,t] -\n",
    "                                  P[s, g, t] * (μP*compute_density(densP, sum(L[:, :, t])) + qP*nP))\n",
    "\n",
    ";"
   ]
  },
  {
   "cell_type": "code",
   "execution_count": 200,
   "metadata": {},
   "outputs": [],
   "source": [
    "@constraint(model, P_con_A1[s = SP[1], g = G, t = T[2:end]],         \n",
    "                   P[s, g, t] ==  P[s, g, t-1] + \n",
    "                                  qL * nL * L[end , g ,t] -\n",
    "                                  P[s, g, t] * (μP*compute_density(densP, sum(L[:, :, t])) + qP*nP))\n",
    "\n",
    ";"
   ]
  },
  {
   "cell_type": "code",
   "execution_count": 201,
   "metadata": {},
   "outputs": [],
   "source": [
    "@constraint(model, P_con_B0[s = SP[2:end], g = G, t = T[1]] ,  \n",
    "                   P[s, g, t] ==  P0[s, g] + \n",
    "                                  qP*nP*P[s-1, g, t] - \n",
    "                                  P[s, g, t] * (μP*compute_density(densP, sum(L[:, :, t])) + qP*nP))\n",
    "\n",
    ";"
   ]
  },
  {
   "cell_type": "code",
   "execution_count": 202,
   "metadata": {},
   "outputs": [],
   "source": [
    "@constraint(model, P_con_B1[s = SP[2:end], g = G, t = T[2:end]] ,  \n",
    "                   P[s, g, t] ==  P[s, g, t-1] + \n",
    "                                  qP*nP*P[s-1, g, t] - \n",
    "                                  P[s, g, t] * (μP*compute_density(densP, sum(L[:, :, t])) + qP*nP))\n",
    "\n",
    ";"
   ]
  },
  {
   "cell_type": "markdown",
   "metadata": {},
   "source": [
    "MALES"
   ]
  },
  {
   "cell_type": "code",
   "execution_count": 203,
   "metadata": {},
   "outputs": [],
   "source": [
    "# Males \n",
    "\n",
    "@constraint(model, M_con_0[s = SM, g = G, t = T[1]],         \n",
    "                   M[s, g, t] ==  M0[s, g] +\n",
    "                                  (1-Φ[g]) * qP * nP * P[end , g ,t] -\n",
    "                                  μM * M[s, g, t] * compute_density(densM, sum(M[:, :, t]))) # + controls)\n",
    "\n",
    "# TODO: Figure out how to implement controls here correctly\n",
    ";"
   ]
  },
  {
   "cell_type": "code",
   "execution_count": 204,
   "metadata": {},
   "outputs": [],
   "source": [
    "@constraint(model, M_con_1[s = SM, g = G, t = T[2:end]],         \n",
    "                   M[s, g, t] ==  M[s, g, t-1] +\n",
    "                                  (1-Φ[g]) * qP * nP * P[end , g ,t] -\n",
    "                                  μM * M[s, g, t] * compute_density(densM, sum(M[:, :, t]))) # + controls)\n",
    ";"
   ]
  },
  {
   "cell_type": "code",
   "execution_count": 205,
   "metadata": {},
   "outputs": [],
   "source": [
    "M_con_1[:, :, :]\n",
    ";"
   ]
  },
  {
   "cell_type": "markdown",
   "metadata": {},
   "source": [
    "FEMALES"
   ]
  },
  {
   "cell_type": "code",
   "execution_count": 206,
   "metadata": {},
   "outputs": [],
   "source": [
    "@NLconstraint(model, F_con_0[s = SF, g = G, t = T[1]], \n",
    "            F[s, g, t] == F0[s, g] + \n",
    "                        (M[1, g, t]*Η[g]/(1e-6 + sum(M[1, i, t]*Η[i] for i in G))*(Φ[g] * qP * nP * P[end, s, t]) -\n",
    "                         μF * F[s, g, t])) # * compute_density(densF, sum(F[:, :, t])))\n",
    "\n",
    "# Note difference necessary in S index definition between M terms and F terms \n",
    "# Re-include compute_density after reformulating so as not to use @NLconstraint\n",
    ";"
   ]
  },
  {
   "cell_type": "code",
   "execution_count": 207,
   "metadata": {},
   "outputs": [],
   "source": [
    "@NLconstraint(model, F_con_1[s = SF, g = G, t = T[2:end]], \n",
    "            F[s, g, t] == F[s, g, t-1] + \n",
    "                        (M[1, g, t]*Η[g]/(1e-6+sum(M[1, i, t]*Η[i] for i in G))*(Φ[g] * qP * nP * P[end, s, t]) -\n",
    "                         μF * F[s, g, t])) # * compute_density(densF, sum(F[:, :, t])))\n",
    "\n",
    "# See note above re: required difference in S index \n",
    "# See note above re: density in F\n",
    "# NB:  eps() is unrecognized here, used 0.000001 instead\n",
    ";"
   ]
  },
  {
   "cell_type": "markdown",
   "metadata": {},
   "source": [
    "### Define objective function\n",
    "In the case of one-shot optimization with no inequality constraints, can simply optimize!() without an objective function necessary."
   ]
  },
  {
   "cell_type": "code",
   "execution_count": 208,
   "metadata": {},
   "outputs": [
    {
     "name": "stdout",
     "output_type": "stream",
     "text": [
      "This is Ipopt version 3.12.10, running with linear solver mumps.\n",
      "NOTE: Other linear solvers might be more efficient (see Ipopt documentation).\n",
      "\n",
      "Number of nonzeros in equality constraint Jacobian...:    52670\n",
      "Number of nonzeros in inequality constraint Jacobian.:        0\n",
      "Number of nonzeros in Lagrangian Hessian.............:    33120\n",
      "\n",
      "Total number of variables............................:     1500\n",
      "                     variables with only lower bounds:     1500\n",
      "                variables with lower and upper bounds:        0\n",
      "                     variables with only upper bounds:        0\n",
      "Total number of equality constraints.................:     1500\n",
      "Total number of inequality constraints...............:        0\n",
      "        inequality constraints with only lower bounds:        0\n",
      "   inequality constraints with lower and upper bounds:        0\n",
      "        inequality constraints with only upper bounds:        0\n",
      "\n",
      "iter    objective    inf_pr   inf_du lg(mu)  ||d||  lg(rg) alpha_du alpha_pr  ls\n",
      "   0  0.0000000e+00 7.63e+03 1.00e+00  -1.0 0.00e+00    -  0.00e+00 0.00e+00   0\n",
      "   1  0.0000000e+00 7.63e+03 2.02e+00  -1.0 2.73e+04    -  3.62e-07 6.10e-07f  1\n",
      "   2r 0.0000000e+00 7.63e+03 9.99e+02   3.9 0.00e+00    -  0.00e+00 3.17e-09R  2\n",
      "   3r 0.0000000e+00 7.63e+03 2.92e+03   3.9 6.18e+04    -  3.62e-03 2.06e-05f  1\n",
      "   4r 0.0000000e+00 7.51e+03 2.71e+03   1.8 1.72e+03    -  6.71e-02 6.90e-02f  1\n",
      "   5r 0.0000000e+00 6.14e+03 2.60e+03   1.8 1.24e+05    -  8.48e-04 3.02e-02f  1\n",
      "   6r 0.0000000e+00 6.13e+03 3.04e+03   1.8 5.12e+04    -  7.56e-02 7.32e-04f  1\n",
      "   7r 0.0000000e+00 6.13e+03 6.44e+03   1.8 5.09e+01    -  2.78e-01 9.43e-03f  1\n",
      "   8r 0.0000000e+00 6.13e+03 2.03e+03   1.8 8.04e+01    -  1.32e-02 3.18e-01f  1\n",
      "   9r 0.0000000e+00 6.13e+03 2.92e+03   1.8 1.25e+01    -  1.42e-01 4.10e-01f  1\n",
      "iter    objective    inf_pr   inf_du lg(mu)  ||d||  lg(rg) alpha_du alpha_pr  ls\n",
      "  10r 0.0000000e+00 6.13e+03 3.28e+03   1.8 2.18e+01    -  2.08e-01 3.72e-01f  1\n",
      "  11r 0.0000000e+00 6.13e+03 3.57e+03   1.1 5.83e+01    -  9.46e-02 2.39e-01f  1\n",
      "  12r 0.0000000e+00 6.13e+03 3.18e+03   1.1 3.11e+01    -  1.41e-01 1.89e-01f  1\n",
      "  13r 0.0000000e+00 6.13e+03 3.49e+03   1.1 3.46e+01    -  9.50e-02 3.65e-01f  1\n",
      "  14r 0.0000000e+00 6.13e+03 3.06e+03   1.1 3.83e+01    -  2.25e-01 3.08e-01f  1\n",
      "  15r 0.0000000e+00 6.13e+03 3.25e+03   1.1 7.25e+01    -  1.26e-01 2.67e-01f  1\n",
      "  16r 0.0000000e+00 6.14e+03 3.32e+03   1.1 9.33e+01    -  1.33e-01 3.16e-01f  1\n",
      "  17r 0.0000000e+00 6.14e+03 3.11e+03   1.1 1.59e+02    -  1.27e-01 2.49e-01f  1\n",
      "  18r 0.0000000e+00 6.13e+03 3.00e+03   1.1 5.28e+02    -  5.30e-02 1.02e-01f  1\n",
      "  19r 0.0000000e+00 6.13e+03 2.98e+03   1.1 9.18e+03    -  5.61e-03 9.30e-03f  1\n",
      "iter    objective    inf_pr   inf_du lg(mu)  ||d||  lg(rg) alpha_du alpha_pr  ls\n",
      "  20r 0.0000000e+00 6.13e+03 2.97e+03   1.1 7.70e+02   0.0 1.68e-02 1.04e-01f  1\n",
      "  21r 0.0000000e+00 6.12e+03 3.45e+03   1.1 1.62e+02   0.4 5.82e-02 3.89e-01f  1\n",
      "  22r 0.0000000e+00 6.10e+03 3.92e+03   1.1 8.07e+02  -0.1 4.16e-03 1.35e-01f  1\n",
      "  23r 0.0000000e+00 6.10e+03 3.79e+03   1.1 1.01e+04  -0.5 1.52e-02 3.06e-03f  1\n",
      "  24r 0.0000000e+00 6.08e+03 3.57e+03   1.1 6.92e+02  -0.1 6.68e-02 7.26e-02f  1\n",
      "  25r 0.0000000e+00 6.07e+03 3.21e+03   1.1 2.88e+03  -0.6 5.69e-02 3.22e-02f  1\n",
      "  26r 0.0000000e+00 6.06e+03 2.97e+03   1.1 5.33e+03  -1.1 3.73e-02 1.33e-02f  1\n",
      "  27r 0.0000000e+00 6.05e+03 3.02e+03   1.1 1.83e+04    -  1.84e-03 8.49e-03f  1\n",
      "  28r 0.0000000e+00 6.05e+03 2.57e+03   1.1 4.20e+03    -  7.79e-02 1.18e-02f  1\n",
      "  29r 0.0000000e+00 6.04e+03 2.34e+03   1.1 3.74e+03    -  9.04e-02 8.11e-02f  1\n",
      "iter    objective    inf_pr   inf_du lg(mu)  ||d||  lg(rg) alpha_du alpha_pr  ls\n",
      "  30r 0.0000000e+00 6.04e+03 2.61e+03   1.1 2.52e+03    -  1.49e-01 2.42e-02f  1\n",
      "  31r 0.0000000e+00 6.03e+03 2.42e+03   1.1 9.10e+02    -  5.72e-02 6.24e-02f  1\n",
      "  32r 0.0000000e+00 6.01e+03 2.10e+03   1.1 2.19e+02    -  6.35e-02 9.04e-02f  1\n",
      "  33r 0.0000000e+00 5.97e+03 1.32e+03   1.1 1.98e+02    -  8.48e-02 1.95e-01f  1\n",
      "  34r 0.0000000e+00 5.92e+03 9.81e+02   1.1 1.57e+02    -  1.28e-01 4.87e-01f  1\n",
      "  35r 0.0000000e+00 5.92e+03 8.02e+02   1.1 7.34e+00   1.2 4.06e-01 5.55e-01f  1\n",
      "  36r 0.0000000e+00 5.92e+03 7.57e+02   0.4 7.56e+01    -  1.26e-01 1.67e-01f  1\n",
      "  37r 0.0000000e+00 5.89e+03 6.14e+02   0.4 9.83e+02    -  1.73e-01 1.87e-01f  1\n",
      "  38r 0.0000000e+00 5.83e+03 7.85e+02   0.4 7.70e+02    -  1.63e-01 4.94e-01f  1\n",
      "  39r 0.0000000e+00 5.83e+03 3.69e+02   0.4 3.56e+02    -  4.04e-01 1.06e-02f  1\n",
      "iter    objective    inf_pr   inf_du lg(mu)  ||d||  lg(rg) alpha_du alpha_pr  ls\n",
      "  40r 0.0000000e+00 5.80e+03 3.59e+02   0.4 3.55e+02    -  1.75e-01 4.98e-01f  1\n",
      "  41r 0.0000000e+00 5.79e+03 1.57e+02   0.4 1.73e+02    -  5.33e-01 2.96e-01f  1\n",
      "  42r 0.0000000e+00 5.78e+03 8.13e+01   0.4 1.21e+02    -  4.84e-01 4.84e-01f  1\n",
      "  43r 0.0000000e+00 5.77e+03 5.79e+02  -0.3 6.16e+01    -  4.92e-01 6.61e-01f  1\n",
      "  44r 0.0000000e+00 5.73e+03 5.00e+02  -0.3 2.15e+03    -  7.44e-02 1.37e-01f  1\n",
      "  45r 0.0000000e+00 5.73e+03 4.99e+02  -0.3 1.80e+03    -  2.41e-01 1.95e-03f  1\n",
      "  46r 0.0000000e+00 5.68e+03 4.12e+02  -0.3 1.80e+03    -  7.70e-02 1.74e-01f  1\n",
      "  47r 0.0000000e+00 5.66e+03 3.83e+02  -0.3 1.44e+03    -  2.04e-01 6.94e-02f  1\n",
      "  48r 0.0000000e+00 5.63e+03 3.32e+02  -0.3 1.33e+03    -  2.38e-01 1.34e-01f  1\n",
      "  49r 0.0000000e+00 5.63e+03 3.31e+02  -0.3 1.14e+03    -  2.19e-01 2.86e-03f  1\n",
      "iter    objective    inf_pr   inf_du lg(mu)  ||d||  lg(rg) alpha_du alpha_pr  ls\n",
      "  50r 0.0000000e+00 5.60e+03 2.82e+02  -0.3 1.14e+03    -  1.57e-01 1.50e-01f  1\n",
      "  51r 0.0000000e+00 5.59e+03 2.60e+02  -0.3 9.53e+02    -  2.78e-01 7.58e-02f  1\n",
      "  52r 0.0000000e+00 5.57e+03 2.12e+02  -0.3 8.77e+02    -  2.56e-01 1.87e-01f  1\n",
      "  53r 0.0000000e+00 5.56e+03 9.67e+02  -0.3 2.28e+01   0.7 1.00e+00 1.88e-01f  1\n",
      "  54r 0.0000000e+00 5.53e+03 1.97e+02  -0.3 6.24e+01   0.2 1.00e+00 7.53e-01f  1\n",
      "  55r 0.0000000e+00 5.49e+03 8.04e+01  -0.3 1.42e+02  -0.3 8.77e-01 6.36e-01f  1\n",
      "  56r 0.0000000e+00 5.49e+03 4.32e+02  -0.3 2.43e+02  -0.7 1.00e+00 5.25e-03f  1\n",
      "  57r 0.0000000e+00 5.42e+03 6.02e+01  -0.3 3.80e+02  -1.2 7.54e-01 9.85e-01f  1\n",
      "  58r 0.0000000e+00 5.42e+03 1.57e+02  -0.3 7.65e+01  -0.8 1.00e+00 9.76e-01f  1\n",
      "  59r 0.0000000e+00 5.42e+03 1.99e+02  -0.3 2.20e+01  -0.4 4.73e-01 2.46e-01f  1\n",
      "iter    objective    inf_pr   inf_du lg(mu)  ||d||  lg(rg) alpha_du alpha_pr  ls\n",
      "  60r 0.0000000e+00 5.43e+03 2.94e+02  -0.3 9.37e+01    -  2.37e-01 2.08e-01f  1\n",
      "  61r 0.0000000e+00 5.44e+03 2.47e+02  -0.3 7.42e+01    -  3.56e-01 2.58e-01f  1\n",
      "  62r 0.0000000e+00 5.44e+03 2.59e+02  -0.3 5.50e+01    -  2.37e-02 5.02e-03h  4\n",
      "  63r 0.0000000e+00 5.44e+03 2.51e+02  -0.3 5.35e+00   0.1 4.49e-01 4.87e-01h  1\n",
      "  64r 0.0000000e+00 5.44e+03 1.04e+02  -0.3 2.04e+00   0.5 9.70e-01 1.00e+00f  1\n",
      "  65r 0.0000000e+00 5.44e+03 2.15e+01  -0.3 8.75e-01   0.9 1.00e+00 1.00e+00f  1\n",
      "  66r 0.0000000e+00 5.44e+03 6.80e+02  -1.0 6.64e+00   0.4 3.00e-01 4.06e-01f  1\n",
      "  67r 0.0000000e+00 5.43e+03 5.77e+02  -1.0 4.55e+01   0.9 1.45e-01 2.43e-01f  1\n",
      "  68r 0.0000000e+00 5.43e+03 5.66e+02  -1.0 1.44e+02   0.4 9.57e-03 3.18e-02f  1\n",
      "  69r 0.0000000e+00 5.42e+03 4.99e+02  -1.0 5.08e+01   0.8 2.17e-01 2.88e-01f  1\n",
      "iter    objective    inf_pr   inf_du lg(mu)  ||d||  lg(rg) alpha_du alpha_pr  ls\n",
      "  70r 0.0000000e+00 5.42e+03 6.84e+02  -1.0 1.28e+03   0.3 1.58e-03 2.70e-03f  1\n",
      "  71r 0.0000000e+00 5.42e+03 5.61e+02  -1.0 5.68e+01   0.8 3.22e-01 4.13e-02f  1\n",
      "  72r 0.0000000e+00 5.42e+03 6.20e+02  -1.0 6.14e+02   0.3 7.40e-03 2.20e-03f  1\n",
      "  73r 0.0000000e+00 5.41e+03 1.03e+03  -1.0 6.38e+01   0.7 6.72e-01 8.91e-02f  1\n",
      "  74r 0.0000000e+00 5.41e+03 1.02e+03  -1.0 2.99e+02   0.2 1.17e-02 1.33e-02f  1\n",
      "  75r 0.0000000e+00 5.40e+03 7.23e+02  -1.0 7.14e+01   0.7 1.62e-01 2.51e-01f  1\n",
      "  76r 0.0000000e+00 5.40e+03 7.18e+02  -1.0 2.05e+02   0.2 8.35e-03 6.36e-03f  1\n",
      "  77r 0.0000000e+00 5.40e+03 7.36e+02  -1.0 7.97e+01   0.6 6.25e-02 2.71e-03f  1\n",
      "  78r 0.0000000e+00 5.40e+03 7.32e+02  -1.0 2.39e+02   0.1 1.80e-03 4.57e-03f  1\n",
      "  79r 0.0000000e+00 5.40e+03 7.99e+02  -1.0 8.94e+01   0.6 2.65e-01 6.95e-03f  1\n",
      "iter    objective    inf_pr   inf_du lg(mu)  ||d||  lg(rg) alpha_du alpha_pr  ls\n",
      "  80r 0.0000000e+00 5.39e+03 7.61e+02  -1.0 2.56e+02   0.1 1.99e-03 5.16e-02f  1\n",
      "  81r 0.0000000e+00 5.37e+03 6.21e+02  -1.0 9.99e+01   0.5 4.41e-01 2.28e-01f  1\n",
      "  82r 0.0000000e+00 5.36e+03 5.88e+02  -1.0 2.82e+02   0.0 1.61e-02 7.65e-02f  1\n",
      "  83r 0.0000000e+00 5.35e+03 5.61e+02  -1.0 1.11e+02   0.5 1.85e-01 4.47e-02f  1\n",
      "  84r 0.0000000e+00 5.35e+03 5.52e+02  -1.0 3.12e+02  -0.0 2.01e-02 1.39e-02f  1\n",
      "  85r 0.0000000e+00 5.35e+03 5.23e+02  -1.0 1.24e+02   0.4 1.24e-01 4.70e-02f  1\n",
      "  86r 0.0000000e+00 5.35e+03 5.21e+02  -1.0 3.46e+02  -0.1 1.15e-03 9.61e-03f  1\n",
      "  87r 0.0000000e+00 5.34e+03 4.88e+02  -1.0 1.38e+02   0.4 1.31e-01 5.42e-02f  1\n",
      "  88r 0.0000000e+00 5.34e+03 4.87e+02  -1.0 3.84e+02  -0.1 2.09e-03 5.55e-03f  1\n",
      "  89r 0.0000000e+00 5.34e+03 4.78e+02  -1.0 1.54e+02   0.3 3.63e-02 1.35e-02f  1\n",
      "iter    objective    inf_pr   inf_du lg(mu)  ||d||  lg(rg) alpha_du alpha_pr  ls\n",
      "  90r 0.0000000e+00 5.33e+03 4.76e+02  -1.0 4.26e+02  -0.2 4.44e-03 1.49e-02f  1\n",
      "  91r 0.0000000e+00 5.33e+03 4.37e+02  -1.0 1.72e+02   0.3 1.94e-01 3.44e-02f  1\n",
      "  92r 0.0000000e+00 5.33e+03 4.29e+02  -1.0 4.70e+02  -0.2 1.48e-02 1.97e-03f  1\n",
      "  93r 0.0000000e+00 5.33e+03 4.30e+02  -1.0 1.43e+03  -0.7 7.72e-04 2.02e-03f  1\n",
      "  94r 0.0000000e+00 5.33e+03 4.23e+02  -1.0 5.20e+02  -0.3 1.31e-02 7.03e-03f  1\n",
      "  95r 0.0000000e+00 5.32e+03 4.22e+02  -1.0 1.23e+03  -0.8 2.92e-03 2.98e-03f  1\n",
      "  96r 0.0000000e+00 5.32e+03 4.22e+02  -1.0 1.31e+04  -1.2 6.29e-05 1.97e-04f  1\n",
      "  97r 0.0000000e+00 5.32e+03 4.20e+02  -1.0 6.87e+03    -  5.72e-04 9.73e-05f  1\n",
      "  98r 0.0000000e+00 5.32e+03 4.21e+02  -1.0 1.25e+04  -1.7 1.46e-05 2.23e-04f  1\n",
      "  99r 0.0000000e+00 5.32e+03 4.21e+02  -1.0 2.43e+03  -1.3 7.69e-04 9.70e-04f  1\n",
      "iter    objective    inf_pr   inf_du lg(mu)  ||d||  lg(rg) alpha_du alpha_pr  ls\n",
      " 100r 0.0000000e+00 5.32e+03 4.21e+02  -1.0 2.10e+04    -  1.68e-04 9.88e-05f  1\n",
      " 101r 0.0000000e+00 5.32e+03 3.64e+02  -1.0 4.37e+03    -  3.79e-02 5.60e-04f  1\n",
      " 102r 0.0000000e+00 5.32e+03 5.74e+02  -1.0 4.37e+03    -  5.89e-02 9.86e-03f  1\n",
      " 103r 0.0000000e+00 5.28e+03 5.41e+02  -1.0 4.32e+03    -  5.76e-02 5.76e-02f  1\n",
      " 104r 0.0000000e+00 5.27e+03 5.32e+02  -1.0 4.06e+03    -  4.78e-02 3.11e-02f  1\n",
      " 105r 0.0000000e+00 5.26e+03 5.26e+02  -1.0 3.93e+03    -  4.16e-02 1.63e-02f  1\n",
      " 106r 0.0000000e+00 5.25e+03 5.24e+02  -1.0 3.86e+03    -  1.14e-01 1.52e-02f  1\n",
      " 107r 0.0000000e+00 5.21e+03 5.16e+02  -1.0 3.80e+03    -  1.38e-01 7.23e-02f  1\n",
      " 108r 0.0000000e+00 5.21e+03 7.64e+02  -1.0 3.52e+03    -  1.93e-01 1.22e-02f  1\n",
      " 109r 0.0000000e+00 5.20e+03 1.27e+03  -1.0 3.47e+03    -  2.55e-01 1.39e-02f  1\n",
      "iter    objective    inf_pr   inf_du lg(mu)  ||d||  lg(rg) alpha_du alpha_pr  ls\n",
      " 110r 0.0000000e+00 5.17e+03 1.15e+03  -1.0 3.42e+03    -  6.43e-02 7.53e-02f  1\n",
      " 111r 0.0000000e+00 5.10e+03 1.32e+03  -1.0 3.16e+03    -  6.28e-01 1.49e-01f  1\n",
      " 112r 0.0000000e+00 4.99e+03 1.11e+03  -1.0 2.68e+03    -  8.89e-01 3.17e-01f  1\n",
      " 113r 0.0000000e+00 4.94e+03 9.18e+02  -1.0 1.82e+03    -  1.00e+00 2.05e-01f  1\n",
      " 114r 0.0000000e+00 4.94e+03 9.16e+02  -1.0 1.43e+03    -  1.00e+00 2.62e-03f  1\n",
      " 115r 0.0000000e+00 4.93e+03 9.06e+02  -1.0 8.36e+02    -  1.00e+00 1.10e-02f  1\n",
      " 116r 0.0000000e+00 4.42e+03 1.56e+02  -1.0 8.28e+02    -  1.00e+00 8.28e-01f  1\n",
      " 117r 0.0000000e+00 4.42e+03 2.29e+02  -1.0 1.41e+02    -  1.00e+00 4.84e-02f  1\n",
      " 118r 0.0000000e+00 4.42e+03 2.57e+02  -1.0 1.34e+02    -  1.00e+00 8.19e-03f  1\n",
      " 119r 0.0000000e+00 4.40e+03 3.24e+00  -1.0 1.33e+02    -  1.00e+00 9.91e-01f  1\n",
      "iter    objective    inf_pr   inf_du lg(mu)  ||d||  lg(rg) alpha_du alpha_pr  ls\n",
      " 120r 0.0000000e+00 4.40e+03 6.40e+02  -1.7 1.17e+00    -  1.00e+00 8.87e-01f  1\n",
      " 121r 0.0000000e+00 4.33e+03 6.01e+02  -1.7 6.17e+03    -  3.94e-01 5.99e-02f  1\n",
      " 122r 0.0000000e+00 4.05e+03 4.44e+02  -1.7 5.78e+03    -  1.00e+00 2.61e-01f  1\n",
      " 123r 0.0000000e+00 4.05e+03 4.43e+02  -1.7 4.21e+03    -  7.60e-01 3.58e-03f  1\n",
      " 124r 0.0000000e+00 4.05e+03 1.69e+03  -1.7 4.12e+03    -  1.00e+00 3.91e-04f  1\n",
      " 125r 0.0000000e+00 3.85e+03 1.70e+03  -1.7 4.12e+03    -  1.00e+00 8.29e-02f  1\n",
      " 126r 0.0000000e+00 3.78e+03 1.66e+03  -1.7 3.76e+03    -  8.20e-01 3.01e-02f  1\n",
      " 127r 0.0000000e+00 2.76e+03 8.68e+02  -1.7 3.65e+03    -  4.16e-02 4.76e-01f  1\n",
      " 128r 0.0000000e+00 2.75e+03 8.58e+02  -1.7 1.89e+03    -  3.91e-01 9.18e-03f  1\n",
      " 129r 0.0000000e+00 2.75e+03 8.29e+02  -1.7 1.78e+03    -  1.00e+00 2.60e-04f  1\n",
      "iter    objective    inf_pr   inf_du lg(mu)  ||d||  lg(rg) alpha_du alpha_pr  ls\n",
      " 130r 0.0000000e+00 1.14e+03 2.08e+02  -1.7 2.16e+03    -  1.00e+00 7.45e-01f  1\n",
      " 131r 0.0000000e+00 5.94e+02 1.55e-01  -1.7 5.46e+02    -  1.00e+00 1.00e+00f  1\n",
      " 132r 0.0000000e+00 5.95e+02 1.12e-04  -1.7 1.42e-01    -  1.00e+00 1.00e+00f  1\n",
      " 133r 0.0000000e+00 5.95e+02 6.62e+02  -3.8 5.80e-01    -  9.77e-01 7.89e-01f  1\n",
      " 134r 0.0000000e+00 5.45e+02 6.59e+02  -3.8 1.43e+05    -  1.97e-02 4.16e-03f  1\n",
      " 135r 0.0000000e+00 5.45e+02 6.59e+02  -3.8 1.40e+05    -  1.56e-03 6.04e-07f  1\n",
      " 136r 0.0000000e+00 5.45e+02 6.59e+02  -3.8 1.49e+02    -  3.17e-03 1.63e-05f  1\n",
      " 137r 0.0000000e+00 5.45e+02 6.41e+02  -3.8 1.48e+02    -  7.51e-04 2.77e-02f  1\n",
      " 138r 0.0000000e+00 5.45e+02 6.39e+02  -3.8 8.99e+01    -  1.01e-02 2.50e-03f  1\n",
      " 139r 0.0000000e+00 5.45e+02 6.39e+02  -3.8 4.57e+01    -  7.49e-04 6.42e-06f  1\n",
      "iter    objective    inf_pr   inf_du lg(mu)  ||d||  lg(rg) alpha_du alpha_pr  ls\n",
      " 140r 0.0000000e+00 5.45e+02 6.37e+02  -3.8 4.41e+01    -  5.25e-03 3.78e-03f  1\n",
      " 141r 0.0000000e+00 5.45e+02 6.35e+02  -3.8 2.57e+01    -  6.01e-03 2.29e-03f  1\n",
      " 142r 0.0000000e+00 5.45e+02 6.33e+02  -3.8 1.66e+01    -  2.32e-02 4.16e-03f  1\n",
      " 143r 0.0000000e+00 5.45e+02 6.21e+02  -3.8 6.37e+00    -  4.70e-02 1.80e-02f  1\n",
      " 144r 0.0000000e+00 5.45e+02 1.13e+03  -3.8 1.69e+00    -  8.75e-02 3.25e-02f  1\n",
      " 145r 0.0000000e+00 5.45e+02 1.27e+03  -3.8 7.56e-01    -  1.68e-02 3.18e-03f  1\n",
      " 146r 0.0000000e+00 5.45e+02 6.59e+02  -3.8 1.52e+02    -  2.56e-06 5.23e-02f  1\n",
      " 147r 0.0000000e+00 5.45e+02 5.50e+02  -3.8 3.20e+03    -  7.67e-03 3.23e-02f  1\n",
      " 148r 0.0000000e+00 5.45e+02 1.16e+03  -3.8 3.10e+03    -  8.88e-02 1.34e-02f  1\n",
      " 149r 0.0000000e+00 5.45e+02 1.76e+03  -3.8 3.05e+03    -  1.00e-01 3.28e-02f  1\n",
      "iter    objective    inf_pr   inf_du lg(mu)  ||d||  lg(rg) alpha_du alpha_pr  ls\n",
      " 150r 0.0000000e+00 5.45e+02 9.99e+02  -3.8 2.95e+03    -  4.35e-02 1.10e-01f  1\n",
      " 151r 0.0000000e+00 5.45e+02 1.33e+03  -3.8 2.62e+03    -  4.34e-02 2.02e-03f  1\n",
      " 152r 0.0000000e+00 5.45e+02 1.41e+03  -3.8 6.12e+02    -  9.43e-03 1.23e-06f  1\n",
      " 153r 0.0000000e+00 5.45e+02 8.78e+02  -3.8 1.81e-01    -  1.11e-02 1.34e-01f  1\n",
      " 154r 0.0000000e+00 5.45e+02 9.07e+02  -3.8 1.27e-01    -  1.04e-01 1.93e-02f  1\n",
      " 155r 0.0000000e+00 5.45e+02 5.86e+02  -3.8 1.19e-01    -  1.03e-01 1.32e-01f  1\n",
      " 156r 0.0000000e+00 5.45e+02 9.81e+02  -3.8 1.04e-01    -  2.43e-01 4.04e-01f  1\n",
      " 157r 0.0000000e+00 5.45e+02 8.07e+02  -3.8 6.20e-02    -  8.76e-02 1.78e-02f  1\n",
      " 158r 0.0000000e+00 5.45e+02 1.29e+03  -3.8 1.42e+01    -  1.38e-05 2.50e-01f  1\n",
      " 159r 0.0000000e+00 5.45e+02 1.49e+03  -3.8 1.17e+03    -  3.44e-02 1.17e-01f  1\n",
      "iter    objective    inf_pr   inf_du lg(mu)  ||d||  lg(rg) alpha_du alpha_pr  ls\n",
      " 160r 0.0000000e+00 5.45e+02 8.67e+02  -3.8 1.03e+03    -  2.44e-01 1.44e-01f  1\n",
      " 161r 0.0000000e+00 5.45e+02 6.20e+02  -3.8 8.81e+02    -  6.82e-01 3.54e-01f  1\n",
      " 162r 0.0000000e+00 5.45e+02 1.24e+03  -3.8 5.68e+02    -  8.05e-01 7.82e-05f  1\n",
      " 163r 0.0000000e+00 5.45e+02 1.37e+03  -3.8 4.17e-01    -  6.70e-01 4.53e-03h  1\n",
      " 164r 0.0000000e+00 5.45e+02 4.31e+02  -3.8 4.02e-01    -  2.90e-04 6.84e-01f  1\n",
      " 165r 0.0000000e+00 5.45e+02 4.36e+02  -3.8 1.41e+02    -  4.55e-01 3.05e-01f  1\n",
      " 166r 0.0000000e+00 5.45e+02 5.92e+02  -3.8 9.81e+01    -  2.24e-01 1.65e-01f  1\n",
      " 167r 0.0000000e+00 5.45e+02 1.43e+03  -3.8 8.19e+01    -  2.65e-01 5.90e-01f  1\n",
      " 168r 0.0000000e+00 5.45e+02 1.42e+03  -3.8 3.36e+01    -  2.47e-01 3.18e-01f  1\n",
      " 169r 0.0000000e+00 5.45e+02 4.26e+02  -3.8 2.29e+01    -  2.98e-01 1.00e+00f  1\n",
      "iter    objective    inf_pr   inf_du lg(mu)  ||d||  lg(rg) alpha_du alpha_pr  ls\n",
      " 170r 0.0000000e+00 5.45e+02 4.51e+01  -3.8 3.64e-03    -  8.10e-01 1.00e+00h  1\n",
      " 171r 0.0000000e+00 5.45e+02 1.78e-08  -3.8 6.82e-06    -  1.00e+00 1.00e+00h  1\n",
      " 172r 0.0000000e+00 5.45e+02 5.58e+01  -5.8 9.14e-04    -  1.00e+00 9.81e-01f  1\n",
      " 173r 0.0000000e+00 5.45e+02 5.34e+01  -5.8 9.72e+03    -  1.45e-02 4.38e-02f  1\n",
      " 174r 0.0000000e+00 5.45e+02 5.34e+01  -5.8 9.23e+03    -  6.95e-02 7.84e-08f  1\n",
      " 175r 0.0000000e+00 5.45e+02 8.43e+01  -5.8 1.15e+00    -  1.92e-01 2.69e-01h  1\n",
      " 176r 0.0000000e+00 5.45e+02 2.40e+02  -5.8 1.35e+00    -  4.03e-07 1.92e-01f  1\n",
      " 177r 0.0000000e+00 5.45e+02 2.31e+02  -5.8 6.35e+03    -  2.47e-02 8.49e-02f  1\n",
      " 178r 0.0000000e+00 5.45e+02 2.20e+02  -5.8 5.77e+03    -  8.56e-02 1.59e-07f  1\n",
      " 179r 0.0000000e+00 5.45e+02 6.89e+02  -5.8 3.13e+00    -  2.06e-01 9.01e-01f  1\n",
      "iter    objective    inf_pr   inf_du lg(mu)  ||d||  lg(rg) alpha_du alpha_pr  ls\n",
      " 180r 0.0000000e+00 5.45e+02 7.08e+02  -5.8 2.56e+00    -  4.42e-07 2.06e-01f  1\n",
      " 181r 0.0000000e+00 5.45e+02 6.22e+02  -5.8 4.23e+03    -  7.60e-02 1.22e-01f  1\n",
      " 182r 0.0000000e+00 5.45e+02 6.22e+02  -5.8 3.72e+03    -  1.23e-01 2.37e-07f  1\n",
      " 183r 0.0000000e+00 5.45e+02 5.85e+02  -5.8 2.73e+00    -  2.49e-01 9.24e-01f  1\n",
      " 184r 0.0000000e+00 5.45e+02 5.97e+02  -5.8 1.80e+00    -  5.63e-07 2.49e-01f  1\n",
      " 185r 0.0000000e+00 5.45e+02 4.91e+02  -5.8 2.85e+03    -  2.31e-01 1.77e-01f  1\n",
      " 186r 0.0000000e+00 5.45e+02 4.91e+02  -5.8 2.35e+03    -  1.77e-01 3.65e-07f  1\n",
      " 187r 0.0000000e+00 5.45e+02 4.50e+02  -5.8 2.35e+00    -  3.00e-01 1.00e+00f  1\n",
      " 188r 0.0000000e+00 5.45e+02 4.50e+02  -5.8 1.16e+00    -  7.30e-07 3.00e-01f  1\n",
      " 189r 0.0000000e+00 5.45e+02 3.23e+02  -5.8 1.76e+03    -  7.67e-01 2.82e-01f  1\n",
      "iter    objective    inf_pr   inf_du lg(mu)  ||d||  lg(rg) alpha_du alpha_pr  ls\n",
      " 190r 0.0000000e+00 5.45e+02 3.23e+02  -5.8 1.26e+03    -  2.83e-01 6.69e-07f  1\n",
      " 191r 0.0000000e+00 5.45e+02 2.19e+02  -5.8 1.93e+00    -  3.76e-01 1.00e+00f  1\n",
      " 192r 0.0000000e+00 5.45e+02 2.19e+02  -5.8 6.98e-01    -  1.03e-06 3.77e-01f  1\n",
      " 193r 0.0000000e+00 5.45e+02 7.85e+01  -5.8 7.69e+02    -  1.00e+00 6.41e-01f  1\n",
      " 194r 0.0000000e+00 5.45e+02 7.85e+01  -5.8 2.75e+02    -  6.42e-01 3.05e-06h  1\n",
      " 195r 0.0000000e+00 5.45e+02 8.09e+00  -5.8 1.65e+00    -  8.98e-01 1.00e+00f  1\n",
      " 196r 0.0000000e+00 5.45e+02 8.03e+00  -5.8 2.09e-01    -  1.51e-05 8.99e-01f  1\n",
      " 197r 0.0000000e+00 5.43e+02 1.11e-03  -5.8 2.67e+01    -  1.00e+00 1.00e+00f  1\n",
      " 198r 0.0000000e+00 5.43e+02 1.03e-08  -5.8 4.59e-03    -  1.00e+00 1.00e+00h  1\n",
      " 199r 0.0000000e+00 5.43e+02 8.36e+01  -8.7 7.94e-06    -  1.00e+00 6.33e-01f  1\n",
      "iter    objective    inf_pr   inf_du lg(mu)  ||d||  lg(rg) alpha_du alpha_pr  ls\n",
      " 200r 0.0000000e+00 2.75e+02 1.04e+02  -8.7 1.00e+05    -  2.68e-04 3.25e-02f  1\n",
      " 201r 0.0000000e+00 2.76e+02 1.39e+03  -8.7 8.49e+04    -  4.34e-02 3.50e-03f  1\n",
      " 202r 0.0000000e+00 2.80e+02 1.67e+03  -8.7 8.48e+04    -  1.80e-02 7.76e-03f  1\n",
      " 203r 0.0000000e+00 2.85e+02 1.65e+03  -8.7 8.45e+04    -  3.83e-02 9.45e-03f  1\n",
      " 204r 0.0000000e+00 2.93e+02 1.63e+03  -8.7 8.41e+04    -  2.94e-02 1.09e-02f  1\n",
      " 205r 0.0000000e+00 2.93e+02 1.63e+03  -8.7 8.31e+04    -  7.38e-03 2.45e-11f  1\n",
      " 206r 0.0000000e+00 2.72e+02 1.51e+03  -8.7 4.51e+01    -  1.83e-01 7.05e-02h  1\n",
      " 207r 0.0000000e+00 2.72e+02 1.51e+03  -8.7 4.20e+01    -  4.52e-02 1.47e-03h  1\n",
      " 208r 0.0000000e+00 2.69e+02 1.50e+03  -8.7 4.19e+01    -  4.29e-02 9.37e-03h  1\n",
      " 209r 0.0000000e+00 2.37e+02 1.34e+03  -8.7 4.16e+01    -  3.31e-02 1.19e-01h  1\n",
      "iter    objective    inf_pr   inf_du lg(mu)  ||d||  lg(rg) alpha_du alpha_pr  ls\n",
      " 210r 0.0000000e+00 2.26e+02 1.26e+03  -8.7 3.67e+01    -  2.58e-01 4.52e-02h  1\n",
      " 211r 0.0000000e+00 1.96e+02 1.09e+03  -8.7 3.51e+01    -  3.04e-02 1.34e-01h  1\n",
      " 212r 0.0000000e+00 1.61e+02 1.67e+03  -8.7 3.05e+01    -  6.37e-02 1.80e-01h  1\n",
      " 213r 0.0000000e+00 1.49e+02 1.25e+03  -8.7 2.51e+01    -  1.85e-01 7.45e-02h  1\n",
      " 214r 0.0000000e+00 1.22e+02 2.74e+03  -8.7 2.32e+01    -  4.38e-02 1.82e-01h  1\n",
      " 215r 0.0000000e+00 6.50e+01 1.39e+03  -8.7 1.90e+01    -  1.41e-01 4.67e-01h  1\n",
      " 216r 0.0000000e+00 3.77e+01 8.02e+02  -8.7 1.02e+01    -  4.46e-01 4.20e-01h  1\n",
      " 217r 0.0000000e+00 2.72e+01 5.78e+02  -8.7 5.94e+00    -  7.82e-01 2.80e-01h  1\n",
      " 218r 0.0000000e+00 1.26e+01 2.68e+02  -8.7 4.28e+00    -  1.00e+00 5.37e-01h  1\n",
      " 219r 0.0000000e+00 3.09e+00 1.10e+02  -8.7 1.99e+00    -  2.58e-01 7.55e-01h  1\n",
      "iter    objective    inf_pr   inf_du lg(mu)  ||d||  lg(rg) alpha_du alpha_pr  ls\n",
      " 220r 0.0000000e+00 4.06e-04 1.46e+02  -8.7 4.88e-01    -  5.82e-01 1.00e+00h  1\n",
      " 221r 0.0000000e+00 1.78e-11 1.73e-07  -8.7 9.26e-05    -  1.00e+00 1.00e+00h  1\n",
      "\n",
      "Number of Iterations....: 221\n",
      "\n",
      "                                   (scaled)                 (unscaled)\n",
      "Objective...............:   0.0000000000000000e+00    0.0000000000000000e+00\n",
      "Dual infeasibility......:   0.0000000000000000e+00    0.0000000000000000e+00\n",
      "Constraint violation....:   1.7777413532677859e-11    1.7777413532677859e-11\n",
      "Complementarity.........:   0.0000000000000000e+00    0.0000000000000000e+00\n",
      "Overall NLP error.......:   1.7777413532677859e-11    1.7777413532677859e-11\n",
      "\n",
      "\n",
      "Number of objective function evaluations             = 228\n",
      "Number of objective gradient evaluations             = 4\n",
      "Number of equality constraint evaluations            = 228\n",
      "Number of inequality constraint evaluations          = 0\n",
      "Number of equality constraint Jacobian evaluations   = 223\n",
      "Number of inequality constraint Jacobian evaluations = 0\n",
      "Number of Lagrangian Hessian evaluations             = 221\n",
      "Total CPU secs in IPOPT (w/o function evaluations)   =      4.802\n",
      "Total CPU secs in NLP function evaluations           =      0.493\n",
      "\n",
      "EXIT: Optimal Solution Found.\n"
     ]
    }
   ],
   "source": [
    "result = optimize!(model)"
   ]
  },
  {
   "cell_type": "code",
   "execution_count": 209,
   "metadata": {},
   "outputs": [
    {
     "data": {
      "text/plain": [
       "3-dimensional DenseAxisArray{Float64,3,...} with index sets:\n",
       "    Dimension 1, 1:1\n",
       "    Dimension 2, 1:6\n",
       "    Dimension 3, 1:10\n",
       "And data, a 1×6×10 Array{Float64,3}:\n",
       "[:, :, 1] =\n",
       " 3.35531e-13  3.35542e-13  3.21704e-13  500.404  1.25932e-13  3.11418e-13\n",
       "\n",
       "[:, :, 2] =\n",
       " 6.61729e-13  6.61843e-13  6.36811e-13  500.404  2.28406e-13  6.20602e-13\n",
       "\n",
       "[:, :, 3] =\n",
       " 9.53596e-13  9.54185e-13  9.19936e-13  500.404  3.04574e-13  8.98236e-13\n",
       "\n",
       "[:, :, 4] =\n",
       " 1.19724e-12  1.19934e-12  1.15807e-12  500.404  3.57065e-13  1.12801e-12\n",
       "\n",
       "[:, :, 5] =\n",
       " 1.38702e-12  1.39294e-12  1.34745e-12  500.404  3.90592e-13  1.30244e-12\n",
       "\n",
       "[:, :, 6] =\n",
       " 1.52474e-12  1.53881e-12  1.49271e-12  500.404  4.1156e-13  1.42154e-12\n",
       "\n",
       "[:, :, 7] =\n",
       " 1.61847e-12  1.64778e-12  1.60534e-12  500.404  4.2764e-13  1.49121e-12\n",
       "\n",
       "[:, :, 8] =\n",
       " 1.68093e-12  1.736e-12  1.70157e-12  500.404  4.47168e-13  1.52154e-12\n",
       "\n",
       "[:, :, 9] =\n",
       " 1.7274e-12  1.82255e-12  1.79971e-12  500.404  4.78365e-13  1.52502e-12\n",
       "\n",
       "[:, :, 10] =\n",
       " 1.77349e-12  1.92687e-12  1.91727e-12  500.404  5.2846e-13  1.5147e-12"
      ]
     },
     "execution_count": 209,
     "metadata": {},
     "output_type": "execute_result"
    }
   ],
   "source": [
    "value.(M)"
   ]
  },
  {
   "cell_type": "code",
   "execution_count": 211,
   "metadata": {},
   "outputs": [
    {
     "data": {
      "text/plain": [
       "2-dimensional DenseAxisArray{Float64,2,...} with index sets:\n",
       "    Dimension 1, 1:6\n",
       "    Dimension 2, 1:10\n",
       "And data, a 6×10 Array{Float64,2}:\n",
       "   3.78003e-13    7.44777e-13    1.07918e-12  …    2.034e-12      2.06347e-12\n",
       "   3.78021e-13    7.44909e-13    1.07979e-12       2.12918e-12    2.21687e-12\n",
       "   3.2148e-13     6.25509e-13    9.30349e-13       2.01633e-12    2.12436e-12\n",
       " 500.404        500.404        500.404           500.404        500.404      \n",
       "   0.0            0.0            0.0               0.0            4.38129e-14\n",
       "   2.64842e-13    4.21221e-13    6.98972e-13  …    1.65131e-12    1.63861e-12"
      ]
     },
     "execution_count": 211,
     "metadata": {},
     "output_type": "execute_result"
    }
   ],
   "source": [
    "value.(F)[:, 4, :]"
   ]
  },
  {
   "cell_type": "code",
   "execution_count": null,
   "metadata": {},
   "outputs": [],
   "source": [
    "# SET THE OBJECTIVE FUNCTION FOR ONE-SHOT OPTIMIZATION\n",
    "\n",
    "# how to correctly define? \n",
    "#@NLobjective(m, Min, sum(     )ˆ2 + 1e-6 * controls[t] for t = T[1:end]))\n"
   ]
  },
  {
   "cell_type": "code",
   "execution_count": null,
   "metadata": {},
   "outputs": [],
   "source": [
    "# PRINT AND VIEW OBJECTIVE VALUE\n",
    "\n",
    "#println(\"Objective value: \", getobjectivevalue(m))"
   ]
  },
  {
   "cell_type": "code",
   "execution_count": null,
   "metadata": {},
   "outputs": [],
   "source": []
  }
 ],
 "metadata": {
  "kernelspec": {
   "display_name": "Julia 1.1.0",
   "language": "julia",
   "name": "julia-1.1"
  },
  "language_info": {
   "file_extension": ".jl",
   "mimetype": "application/julia",
   "name": "julia",
   "version": "1.1.0"
  }
 },
 "nbformat": 4,
 "nbformat_minor": 2
}
