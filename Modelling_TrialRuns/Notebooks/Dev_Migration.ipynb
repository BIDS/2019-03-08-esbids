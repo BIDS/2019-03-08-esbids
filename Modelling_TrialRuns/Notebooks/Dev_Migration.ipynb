{
 "cells": [
  {
   "cell_type": "code",
   "execution_count": null,
   "metadata": {},
   "outputs": [],
   "source": [
    "cd(\"../TestDrive\")"
   ]
  },
  {
   "cell_type": "code",
   "execution_count": null,
   "metadata": {},
   "outputs": [],
   "source": [
    "] activate . "
   ]
  },
  {
   "cell_type": "code",
   "execution_count": null,
   "metadata": {},
   "outputs": [],
   "source": [
    "include(\"src/TestDrive.jl\")"
   ]
  },
  {
   "cell_type": "code",
   "execution_count": null,
   "metadata": {},
   "outputs": [],
   "source": [
    "# User-specified fake migration matrices \n",
    "migrate1 = rand((6*(4+8+6+1+6)), 2, 2) \n",
    "migrate2 = rand((6*(4+8+6+1+6)), 2, 2)\n",
    "\n",
    "# User-named nodes  \n",
    "firstnode = :FirstNode\n",
    "secondnode = :SecondNode\n",
    "\n",
    "# User-constructed nodes: [name, gene_data, stages, location, migration_matrix]\n",
    "example_nodes = [Node(:FirstNode, genetics_mcr, stages_aedes, temp_none, (37.87, 122.27), migrate1),\n",
    "    Node(:SecondNode, genetics_mcr, stages_aedes, temp_none, (35.87, 120.27), migrate2)]\n",
    "\n",
    "# User-constructed network: [nodes, total states (# genotypes x stages in each lifestage)] \n",
    "example_network = Network(example_nodes, 150)\n",
    ";"
   ]
  },
  {
   "cell_type": "code",
   "execution_count": null,
   "metadata": {},
   "outputs": [],
   "source": [
    "# Create init network function \n",
    "function init_network!(network::Network)\n",
    "    genetics = get_genetics(example_network.all_nodes[1])\n",
    "    n_genes = length(genetics.all_genotypes)\n",
    "    \n",
    "    n_nodes = length(network.all_nodes)\n",
    "    \n",
    "    # Way to improve? n_genes = accounts for female subtypes; \n",
    "    # But sampling first node not necessarily always accurate since could differ. \n",
    "    n_states= sum(get_substages(network.all_nodes[1])) + n_genes\n",
    "    \n",
    "    u0 = Array{Float64,3}(undef, n_states, n_genes, n_nodes)\n",
    "    \n",
    "    for (index,node) in enumerate(network.all_nodes)\n",
    "        \n",
    "        # How to avoid hardcoding + make it such that different nodes can \n",
    "        # start with different genetic types (beyond individual init_node runs)\n",
    "        gene_index = 4\n",
    "        \n",
    "        u0[:,:,index] = init_node!(node, gene_index)\n",
    "        \n",
    "    end\n",
    "    \n",
    "    return u0\n",
    "\n",
    "end\n",
    "\n",
    "# Initialize all nodes in network simultaneously \n",
    "u0 = init_network!(example_network)\n",
    ";\n"
   ]
  },
  {
   "cell_type": "code",
   "execution_count": null,
   "metadata": {},
   "outputs": [],
   "source": [
    "tspan = (0.0,10.0) \n",
    "controls = [0.0] # necessary even when not using controls bc of the way function is written \n",
    "ode_model = diffeq.ODEProblem(population_model_network, u0, tspan, (example_network, controls))"
   ]
  },
  {
   "cell_type": "code",
   "execution_count": null,
   "metadata": {},
   "outputs": [],
   "source": [
    "ode_model.problem_type"
   ]
  },
  {
   "cell_type": "code",
   "execution_count": null,
   "metadata": {},
   "outputs": [],
   "source": [
    "alg = OrdinaryDiffEq.Tsit5() \n",
    "sol_ode = diffeq.solve(ode_model, alg)\n",
    ";"
   ]
  },
  {
   "cell_type": "code",
   "execution_count": null,
   "metadata": {},
   "outputs": [],
   "source": [
    "#sol_ode.u[end][:,4]\n",
    "#sol_ode.u[end]\n",
    "sol_ode.u[end][:,:,2]\n",
    ";"
   ]
  },
  {
   "cell_type": "code",
   "execution_count": null,
   "metadata": {},
   "outputs": [],
   "source": [
    "using Plots\n",
    "gr()\n",
    ";"
   ]
  },
  {
   "cell_type": "code",
   "execution_count": null,
   "metadata": {},
   "outputs": [],
   "source": [
    "plot(sol_ode, title = \"Migration: Two-Node MCR Population at Equilibrium\") "
   ]
  },
  {
   "cell_type": "code",
   "execution_count": null,
   "metadata": {},
   "outputs": [],
   "source": [
    "tspan = (0.0,300.0) \n",
    "controls = [0.0]\n",
    "\n",
    "# Construct ODE control problem \n",
    "control_model = diffeq.ODEProblem(population_model_network, u0, tspan, (example_network, controls))"
   ]
  },
  {
   "cell_type": "code",
   "execution_count": null,
   "metadata": {},
   "outputs": [],
   "source": [
    "#alg = Vern8()\n",
    "#alg = OrdinaryDiffEq.Tsit5() \n",
    "alg = Sundials.CVODE_Adams()\n",
    "#alg = CVODE_BDF()\n",
    "\n",
    "sol_control = diffeq.solve(control_model, alg, callback = cbs, tstops = tstop)\n",
    ";"
   ]
  },
  {
   "cell_type": "code",
   "execution_count": null,
   "metadata": {},
   "outputs": [],
   "source": [
    "sol_control.u[end]\n",
    ";"
   ]
  },
  {
   "cell_type": "code",
   "execution_count": null,
   "metadata": {},
   "outputs": [],
   "source": [
    "# Question - full plotting routines here in Example file or elsewhere? Check PVCR example. \n",
    "# Question - use other plotting packages to make it nice; which? and choose appropriate backend. \n",
    "\n",
    "plot(sol_control, title = \"Migration: Two-Node MCR Population with Releases\")"
   ]
  },
  {
   "cell_type": "code",
   "execution_count": null,
   "metadata": {},
   "outputs": [],
   "source": []
  }
 ],
 "metadata": {
  "kernelspec": {
   "display_name": "Julia 1.1.1",
   "language": "julia",
   "name": "julia-1.1"
  },
  "language_info": {
   "file_extension": ".jl",
   "mimetype": "application/julia",
   "name": "julia",
   "version": "1.1.1"
  }
 },
 "nbformat": 4,
 "nbformat_minor": 2
}
