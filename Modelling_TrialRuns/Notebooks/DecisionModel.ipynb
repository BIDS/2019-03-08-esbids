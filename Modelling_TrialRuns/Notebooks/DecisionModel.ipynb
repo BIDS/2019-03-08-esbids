{
 "cells": [
  {
   "cell_type": "markdown",
   "metadata": {},
   "source": [
    "## Decision Model Testing \n",
    "Preliminaries for .toml files "
   ]
  },
  {
   "cell_type": "code",
   "execution_count": null,
   "metadata": {},
   "outputs": [],
   "source": [
    "cd(\"../TestDrive\")"
   ]
  },
  {
   "cell_type": "code",
   "execution_count": null,
   "metadata": {},
   "outputs": [],
   "source": [
    "] activate ."
   ]
  },
  {
   "cell_type": "code",
   "execution_count": null,
   "metadata": {},
   "outputs": [],
   "source": [
    "using JuMP, MathOptInterface, Clp, Ipopt, GLPK"
   ]
  },
  {
   "cell_type": "code",
   "execution_count": null,
   "metadata": {},
   "outputs": [],
   "source": [
    "using PyPlot\n",
    "#using Plots\n",
    "#gr()\n",
    "; "
   ]
  },
  {
   "cell_type": "code",
   "execution_count": null,
   "metadata": {},
   "outputs": [],
   "source": [
    "] up "
   ]
  },
  {
   "cell_type": "code",
   "execution_count": null,
   "metadata": {},
   "outputs": [],
   "source": [
    "include(\"src/TestDrive.jl\")"
   ]
  },
  {
   "cell_type": "markdown",
   "metadata": {},
   "source": [
    "### Create scenario\n",
    "To invoke the structs and data used in the popgen model for a single node"
   ]
  },
  {
   "cell_type": "code",
   "execution_count": null,
   "metadata": {},
   "outputs": [],
   "source": [
    "# REMOVE MIGRATION FROM NODES FOR FUTURE USE - \n",
    "# SHOULD ONLY OCCUR IN NETWORK STRUCT: \n",
    "migrate1 = rand((6*(4+8+6+1+6)), 2, 2) \n",
    "\n",
    "# User-named node  \n",
    "firstnode = :FirstNode\n",
    "\n",
    "# User-constructed node: (name, gene_data, stages, location, migration_matrix)\n",
    "node = Node(:FirstNode, genetics_mcr, stages_aedes, temp_none, (37.87, 122.27), migrate1)\n",
    "\n",
    ";"
   ]
  },
  {
   "cell_type": "markdown",
   "metadata": {},
   "source": [
    "Go as far as initiating the u0: this can be done in the same way for both decision and popgen models"
   ]
  },
  {
   "cell_type": "code",
   "execution_count": null,
   "metadata": {},
   "outputs": [],
   "source": [
    "# init_node!(desired_node, gene_index)\n",
    "u0 = init_node!(node, 4)\n",
    ";"
   ]
  },
  {
   "cell_type": "markdown",
   "metadata": {},
   "source": [
    "Extract necessary information from scenario "
   ]
  },
  {
   "cell_type": "code",
   "execution_count": null,
   "metadata": {},
   "outputs": [],
   "source": [
    "# Network elements \n",
    "# node_count = length(get_nodes(network))\n",
    "\n",
    "# Genetics elements \n",
    "genetics = get_genetics(node)\n",
    "gN = length(genetics.all_genotypes)\n",
    "cube = genetics.cube\n",
    "S = genetics.S\n",
    "Τ = genetics.Τ\n",
    "Β = genetics.Β\n",
    "Φ = genetics.Φ\n",
    "Η = genetics.Η\n",
    "\n",
    ";"
   ]
  },
  {
   "cell_type": "code",
   "execution_count": null,
   "metadata": {},
   "outputs": [],
   "source": [
    "# Lifestage elements \n",
    "(e, l, p, m, f) = get_allstages(node)\n",
    "\n",
    "# Mortality \n",
    "μE = e.μ\n",
    "μL = l.μ\n",
    "μP = p.μ\n",
    "μM = m.μ\n",
    "μF = f.μ\n",
    "\n",
    "# Substages \n",
    "nE = e.n\n",
    "nL = l.n\n",
    "nP = p.n\n",
    "nM = m.n\n",
    "nF = f.n\n",
    "\n",
    "# Duration (only juveniles for now - though this should/might change with migration implemented)\n",
    "qE = e.q\n",
    "qL = l.q\n",
    "qP = p.q\n",
    "\n",
    "# Density \n",
    "densE = e.density\n",
    "densL = l.density \n",
    "densP = p.density \n",
    "densM = m.density\n",
    "densF = f.density \n",
    "\n",
    "; "
   ]
  },
  {
   "cell_type": "code",
   "execution_count": null,
   "metadata": {},
   "outputs": [],
   "source": [
    "l.density"
   ]
  },
  {
   "cell_type": "markdown",
   "metadata": {},
   "source": [
    "### Create model\n",
    "Create model object and define solver"
   ]
  },
  {
   "cell_type": "code",
   "execution_count": null,
   "metadata": {},
   "outputs": [],
   "source": [
    "model = Model(with_optimizer(Ipopt.Optimizer))\n",
    ";"
   ]
  },
  {
   "cell_type": "markdown",
   "metadata": {},
   "source": [
    "### Define sets \n",
    "Where every set is a dimension, and not all the variables are necessarily subject to all the sets "
   ]
  },
  {
   "cell_type": "code",
   "execution_count": null,
   "metadata": {},
   "outputs": [],
   "source": [
    "# Time\n",
    "T = 1:10\n",
    "\n",
    "# Stages and substages\n",
    "SE = 1:nE\n",
    "SL = 1:nL\n",
    "SP = 1:nP\n",
    "SM = 1:nM\n",
    "SF = 1:nF*gN  \n",
    "\n",
    "# Genetics\n",
    "G = 1:gN\n",
    "\n",
    "# Nodes \n",
    "# N = 1:node_count\n",
    "\n",
    ";"
   ]
  },
  {
   "cell_type": "markdown",
   "metadata": {},
   "source": [
    "### Define variables \n",
    "Each state or control that must be calculated using a decision variable"
   ]
  },
  {
   "cell_type": "code",
   "execution_count": null,
   "metadata": {},
   "outputs": [],
   "source": [
    "# Oviposition (produce eggsnew)\n",
    "@variable(model, V[G,T] >= 0) ### Check that these sets are correct: Lacking any?\n",
    "\n",
    "# Eggs\n",
    "@variable(model, E[SE,G,T] >= 0)\n",
    "\n",
    "# Larvae \n",
    "@variable(model, L[SL,G,T] >= 0)\n",
    "\n",
    "# Pupae\n",
    "@variable(model, P[SP,G,T] >= 0)\n",
    "\n",
    "# Males \n",
    "@variable(model, M[SM,G,T] >= 0)\n",
    "\n",
    "# Mating (produce matematrix)\n",
    "@variable(model, X[G,T] >= 0) ### Check that these sets are correct: Need SP here?\n",
    "\n",
    "# Females\n",
    "@variable(model, F[SF,G,T] >= 0)\n",
    ";"
   ]
  },
  {
   "cell_type": "code",
   "execution_count": null,
   "metadata": {},
   "outputs": [],
   "source": [
    "E[se = [1:2], :, :]\n",
    "\n",
    "#[g = [\"hulk\"],t =T[1]]"
   ]
  },
  {
   "cell_type": "code",
   "execution_count": null,
   "metadata": {},
   "outputs": [],
   "source": [
    "#@variable(m, x_t <= 1)\n",
    "#has_upper_bound(x_t)\n",
    "lower_bound.(F) # have to change syntax because mine contains sets, example x_t does not. \n",
    ";"
   ]
  },
  {
   "cell_type": "markdown",
   "metadata": {},
   "source": [
    "### Define constraints \n",
    "The dynamic equations of the model that employ a decision variable"
   ]
  },
  {
   "cell_type": "code",
   "execution_count": null,
   "metadata": {},
   "outputs": [],
   "source": [
    "# Oviposition (produce eggsnew)\n",
    "#@constraint(model,con, V[:,:] == sum(cube.*Τ.*S*Β.*F)) \n",
    "### Check: including sets in defining constraint \"V\" throws an error - why?\n",
    "\n",
    "# Eggs\n",
    "#@constraint(model,con, E[1, :, :] == V[#= should there be indices here? =#] - E[2,:,:] * (μL * densE + qE * nE))\n",
    "\n",
    "#eggb[g = [\"bruce\"],t = T[2:end]],\n",
    "\n",
    "\n",
    "@constraint(model,con, E[SE, G, T] ==  qE*nE*E[:,:,:] - E[:,:,:]*(μL*densE + qE*nE))\n",
    "\n",
    "# Larvae \n",
    "\n",
    "\n",
    "# Pupae\n",
    "\n",
    "\n"
   ]
  },
  {
   "cell_type": "code",
   "execution_count": null,
   "metadata": {},
   "outputs": [],
   "source": [
    "# Males \n",
    "\n",
    "\n",
    "# Mating (produce matematrix)\n",
    "\n",
    "\n",
    "# Females \n",
    "\n",
    "\n"
   ]
  }
 ],
 "metadata": {
  "kernelspec": {
   "display_name": "Julia 1.1.0",
   "language": "julia",
   "name": "julia-1.1"
  },
  "language_info": {
   "file_extension": ".jl",
   "mimetype": "application/julia",
   "name": "julia",
   "version": "1.1.0"
  }
 },
 "nbformat": 4,
 "nbformat_minor": 2
}
