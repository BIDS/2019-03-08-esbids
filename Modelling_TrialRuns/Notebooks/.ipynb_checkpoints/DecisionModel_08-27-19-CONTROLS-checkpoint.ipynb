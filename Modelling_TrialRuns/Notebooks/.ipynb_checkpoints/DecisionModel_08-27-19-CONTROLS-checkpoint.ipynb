{
 "cells": [
  {
   "cell_type": "markdown",
   "metadata": {},
   "source": [
    "## Decision Model Testing \n",
    "Preliminaries for .toml files "
   ]
  },
  {
   "cell_type": "code",
   "execution_count": 310,
   "metadata": {},
   "outputs": [],
   "source": [
    "cd(\"../TestDrive\")"
   ]
  },
  {
   "cell_type": "code",
   "execution_count": 311,
   "metadata": {},
   "outputs": [],
   "source": [
    "] activate ."
   ]
  },
  {
   "cell_type": "code",
   "execution_count": 312,
   "metadata": {},
   "outputs": [],
   "source": [
    "using JuMP, Ipopt, GLPK"
   ]
  },
  {
   "cell_type": "code",
   "execution_count": 313,
   "metadata": {},
   "outputs": [],
   "source": [
    "using PyPlot\n",
    "#using Plots\n",
    "#gr()\n",
    "; "
   ]
  },
  {
   "cell_type": "code",
   "execution_count": 314,
   "metadata": {},
   "outputs": [
    {
     "name": "stderr",
     "output_type": "stream",
     "text": [
      "WARNING: redefining constant tstop1\n",
      "WARNING: redefining constant tstop2\n",
      "WARNING: redefining constant tstop3\n",
      "WARNING: redefining constant tstop4\n",
      "WARNING: redefining constant tstop5\n",
      "WARNING: redefining constant tstop6\n",
      "WARNING: redefining constant tstop7\n",
      "WARNING: redefining constant tstop8\n",
      "WARNING: redefining constant tstop9\n",
      "WARNING: redefining constant tstop10\n",
      "WARNING: redefining constant tstop\n"
     ]
    },
    {
     "data": {
      "text/plain": [
       "population_model_network (generic function with 1 method)"
      ]
     },
     "execution_count": 314,
     "metadata": {},
     "output_type": "execute_result"
    }
   ],
   "source": [
    "include(\"src/TestDrive.jl\")"
   ]
  },
  {
   "cell_type": "markdown",
   "metadata": {},
   "source": [
    "### Create scenario\n",
    "To invoke the structs and data used in the popgen model for a single node"
   ]
  },
  {
   "cell_type": "code",
   "execution_count": 315,
   "metadata": {},
   "outputs": [],
   "source": [
    "# REMOVE MIGRATION FROM NODES FOR FUTURE USE - \n",
    "# SHOULD ONLY OCCUR IN NETWORK STRUCT: \n",
    "migrate1 = rand((6*(4+8+6+1+6)), 2, 2) \n",
    "\n",
    "# User-named node  \n",
    "firstnode = :FirstNode\n",
    "\n",
    "# User-constructed node: (name, gene_data, stages, location, migration_matrix)\n",
    "node = Node(:FirstNode, genetics_mcr, stages_aedes, temp_none, (37.87, 122.27), migrate1)\n",
    "\n",
    ";"
   ]
  },
  {
   "cell_type": "markdown",
   "metadata": {},
   "source": [
    "Go as far as initiating the u0: this can be done in the same way for both decision and popgen models"
   ]
  },
  {
   "cell_type": "code",
   "execution_count": 316,
   "metadata": {},
   "outputs": [],
   "source": [
    "# init_node!(desired_node, gene_index)\n",
    "u0 = init_node!(node, 4)\n",
    ";"
   ]
  },
  {
   "cell_type": "markdown",
   "metadata": {},
   "source": [
    "Extract necessary information from scenario "
   ]
  },
  {
   "cell_type": "code",
   "execution_count": 317,
   "metadata": {},
   "outputs": [],
   "source": [
    "# Network elements \n",
    "# node_count = length(get_nodes(network))\n",
    "\n",
    "# Genetics elements \n",
    "genetics = get_genetics(node)\n",
    "gN = length(genetics.all_genotypes)\n",
    "cube = genetics.cube\n",
    "S = genetics.S\n",
    "Τ = genetics.Τ\n",
    "Β = genetics.Β\n",
    "Φ = genetics.Φ\n",
    "Η = genetics.Η\n",
    "\n",
    ";"
   ]
  },
  {
   "cell_type": "code",
   "execution_count": 318,
   "metadata": {},
   "outputs": [],
   "source": [
    "# Lifestage elements \n",
    "(e, l, p, m, f) = get_allstages(node)\n",
    "\n",
    "# Mortality \n",
    "μE = e.μ\n",
    "μL = l.μ\n",
    "μP = p.μ\n",
    "μM = m.μ\n",
    "μF = f.μ\n",
    "\n",
    "# Substages \n",
    "nE = e.n\n",
    "nL = l.n\n",
    "nP = p.n\n",
    "nM = m.n\n",
    "nF = f.n\n",
    "\n",
    "# Duration (only juveniles for now - though this should/might change with migration implemented)\n",
    "qE = e.q\n",
    "qL = l.q\n",
    "qP = p.q\n",
    "\n",
    "# Density \n",
    "densE = e.density\n",
    "densL = l.density \n",
    "densP = p.density \n",
    "densM = m.density\n",
    "densF = f.density \n",
    "\n",
    ";"
   ]
  },
  {
   "cell_type": "markdown",
   "metadata": {},
   "source": [
    "### Define sets \n",
    "Where every set is a dimension, and not all the variables are necessarily subject to all the sets "
   ]
  },
  {
   "cell_type": "code",
   "execution_count": 397,
   "metadata": {},
   "outputs": [],
   "source": [
    "# Time\n",
    "T = 1:10\n",
    "\n",
    "# Stages and substages\n",
    "SE = 1:nE\n",
    "SL = 1:nL\n",
    "SP = 1:nP\n",
    "SM = 1:nM\n",
    "SF = 1:nF*gN\n",
    "\n",
    "# Genetics\n",
    "G = 1:gN\n",
    "\n",
    "# Nodes \n",
    "# N = 1:node_count\n",
    "\n",
    "# Slicing u0 \n",
    "E0 = u0[SE,:]\n",
    "L0 = u0[nE+1:nL+nE,:]\n",
    "P0 = u0[nE+nL+1:nE+nL+nP,:]\n",
    "M0 = u0[nE+nL+nP+1,:]'\n",
    "F0 = u0[nE+nL+nP+2:end,:];"
   ]
  },
  {
   "cell_type": "markdown",
   "metadata": {},
   "source": [
    "### Define model and choose solver \n",
    "NB: Ipopt best for now"
   ]
  },
  {
   "cell_type": "code",
   "execution_count": 463,
   "metadata": {},
   "outputs": [],
   "source": [
    "model = Model(with_optimizer(Ipopt.Optimizer));"
   ]
  },
  {
   "cell_type": "markdown",
   "metadata": {},
   "source": [
    "### Define variables \n",
    "Each state or control that must be calculated using a decision variable"
   ]
  },
  {
   "cell_type": "code",
   "execution_count": 464,
   "metadata": {},
   "outputs": [],
   "source": [
    "# Eggs\n",
    "@variable(model, E[SE, G, T] >= 0)\n",
    "set_start_value.(E[:,:,1].data, E0)\n",
    "\n",
    "# Larvae \n",
    "@variable(model, L[SL, G, T] >= 0)\n",
    "set_start_value.(L[:,:,1].data, L0)\n",
    "\n",
    "# Pupae\n",
    "@variable(model, P[SP, G, T] >= 0)\n",
    "set_start_value.(P[:,:,1].data, P0)\n",
    "\n",
    "# Males \n",
    "@variable(model, M[SM, G, T] >= 0)\n",
    "set_start_value.(M[:,:,1].data, M0)\n",
    "\n",
    "# Females\n",
    "@variable(model, F[SF, G, T] >= 0)\n",
    "set_start_value.(F[:,:,1].data, F0)\n",
    "\n",
    "# test the addition of modified organisms \n",
    "@variable(model, 20 >= control[G, T] >= 0)   \n",
    "set_start_value.(control[:,1].data, zeros(gN))\n",
    ";"
   ]
  },
  {
   "cell_type": "code",
   "execution_count": 465,
   "metadata": {},
   "outputs": [],
   "source": [
    "# View to check \n",
    "start_value.(P)\n",
    ";"
   ]
  },
  {
   "cell_type": "markdown",
   "metadata": {},
   "source": [
    "### Define constraints \n",
    "The dynamic equations of the model that employ a decision variable"
   ]
  },
  {
   "cell_type": "markdown",
   "metadata": {},
   "source": [
    "EGGS"
   ]
  },
  {
   "cell_type": "code",
   "execution_count": 466,
   "metadata": {},
   "outputs": [],
   "source": [
    "# Eggs\n",
    "@constraint(model, E_con_A0[s = SE[1], g = G, t = T[1]],         \n",
    "                   E[s, g, t] == E0[s, g] + \n",
    "                                 sum(cube[:,:,g].*Τ[:,:,g].*S[g]*Β[g].*F[:,:,t].data) - \n",
    "                                  E[s, g, t] * (μE*compute_density(densE, sum(E[:, :, t])) + qE*nE))\n",
    ";"
   ]
  },
  {
   "cell_type": "code",
   "execution_count": 467,
   "metadata": {},
   "outputs": [],
   "source": [
    "@constraint(model, E_con_A1[s = SE[1], g = G, t = T[2:end]],         \n",
    "                   E[s, g, t] ==  E[s, g, t-1] +\n",
    "                                  sum(cube[:,:,g].*Τ[:,:,g].*S[g]*Β[g].*F[:,:,t].data) - \n",
    "                                  E[s, g, t] * (μE*compute_density(densE, sum(E[:, :, t])) + qE*nE))\n",
    "\n",
    ";"
   ]
  },
  {
   "cell_type": "code",
   "execution_count": 468,
   "metadata": {},
   "outputs": [],
   "source": [
    "# Keep or no? \n",
    "@constraint(model, E_con_B0[s = SE[2:end], g = G, t = T[1]] ,    \n",
    "                  E[s, g, t] ==   E0[s, g] + \n",
    "                                  qE*nE*E[s-1, g, t] - \n",
    "                                  E[s, g, t] * (μE*compute_density(densE, sum(E[:, :, t])) + qE*nE))\n",
    ";"
   ]
  },
  {
   "cell_type": "code",
   "execution_count": 469,
   "metadata": {},
   "outputs": [],
   "source": [
    "@constraint(model, E_con_B1[s = SE[2:end], g = G, t = T[2:end]] ,    \n",
    "                  E[s, g, t] ==   E[s, g, t-1] +\n",
    "                                  qE*nE*E[s-1, g, t] - \n",
    "                                  E[s, g, t] * (μE*compute_density(densE, sum(E[:, :, t])) + qE*nE))\n",
    ";"
   ]
  },
  {
   "cell_type": "markdown",
   "metadata": {},
   "source": [
    "LARVAE"
   ]
  },
  {
   "cell_type": "code",
   "execution_count": 470,
   "metadata": {},
   "outputs": [],
   "source": [
    "# Larvae \n",
    "@constraint(model, L_con_A0[s = SL[1], g = G, t = T[1]],         \n",
    "                   L[s, g, t] ==  L0[s, g] +\n",
    "                                  qE * nE * E[end,g,t] -\n",
    "                                  L[s, g, t] * (μL*compute_density(densL, sum(L[:, :, t])) + qL*nL))\n",
    "\n",
    ";"
   ]
  },
  {
   "cell_type": "code",
   "execution_count": 471,
   "metadata": {},
   "outputs": [],
   "source": [
    "@constraint(model, L_con_A1[s = SL[1], g = G, t = T[2:end]],         \n",
    "                   L[s, g, t] ==  L[s, g, t-1] +\n",
    "                                  qE * nE * E[end,g,t] -\n",
    "                                  L[s, g, t] * (μL*compute_density(densL, sum(L[:, :, t])) + qL*nL))\n",
    "\n",
    ";"
   ]
  },
  {
   "cell_type": "code",
   "execution_count": 472,
   "metadata": {},
   "outputs": [],
   "source": [
    "@constraint(model, L_con_B0[s = SL[2:end], g = G, t = T[1]],  \n",
    "                   L[s, g, t] == L0[s, g] +\n",
    "                                 qL*nL*L[s-1, g, t] - \n",
    "                                 L[s, g, t] * (μL*compute_density(densL, sum(L[:, :, t])) + qL*nL))\n",
    "\n",
    ";"
   ]
  },
  {
   "cell_type": "code",
   "execution_count": 473,
   "metadata": {},
   "outputs": [],
   "source": [
    "@constraint(model, L_con_B1[s = SL[2:end], g = G, t = T[2:end]],  \n",
    "                   L[s, g, t] == L[s, g, t-1] + \n",
    "                                 qL*nL*L[s-1, g, t] - \n",
    "                                 L[s, g, t] * (μL*compute_density(densL, sum(L[:, :, t])) + qL*nL))\n",
    ";"
   ]
  },
  {
   "cell_type": "markdown",
   "metadata": {},
   "source": [
    "PUPAE"
   ]
  },
  {
   "cell_type": "code",
   "execution_count": 474,
   "metadata": {},
   "outputs": [],
   "source": [
    "# Pupae \n",
    "@constraint(model, P_con_A0[s = SP[1], g = G, t = T[1]],         \n",
    "                   P[s, g, t] ==  P0[s, g] +\n",
    "                                  qL * nL * L[end , g ,t] -\n",
    "                                  P[s, g, t] * (μP*compute_density(densP, sum(L[:, :, t])) + qP*nP))\n",
    "\n",
    ";"
   ]
  },
  {
   "cell_type": "code",
   "execution_count": 475,
   "metadata": {},
   "outputs": [],
   "source": [
    "@constraint(model, P_con_A1[s = SP[1], g = G, t = T[2:end]],         \n",
    "                   P[s, g, t] ==  P[s, g, t-1] + \n",
    "                                  qL * nL * L[end , g ,t] -\n",
    "                                  P[s, g, t] * (μP*compute_density(densP, sum(L[:, :, t])) + qP*nP))\n",
    "\n",
    ";"
   ]
  },
  {
   "cell_type": "code",
   "execution_count": 476,
   "metadata": {},
   "outputs": [],
   "source": [
    "@constraint(model, P_con_B0[s = SP[2:end], g = G, t = T[1]] ,  \n",
    "                   P[s, g, t] ==  P0[s, g] + \n",
    "                                  qP*nP*P[s-1, g, t] - \n",
    "                                  P[s, g, t] * (μP*compute_density(densP, sum(L[:, :, t])) + qP*nP))\n",
    "\n",
    ";"
   ]
  },
  {
   "cell_type": "code",
   "execution_count": 477,
   "metadata": {},
   "outputs": [],
   "source": [
    "@constraint(model, P_con_B1[s = SP[2:end], g = G, t = T[2:end]] ,  \n",
    "                   P[s, g, t] ==  P[s, g, t-1] + \n",
    "                                  qP*nP*P[s-1, g, t] - \n",
    "                                  P[s, g, t] * (μP*compute_density(densP, sum(L[:, :, t])) + qP*nP))\n",
    "\n",
    ";"
   ]
  },
  {
   "cell_type": "markdown",
   "metadata": {},
   "source": [
    "MALES"
   ]
  },
  {
   "cell_type": "code",
   "execution_count": 478,
   "metadata": {},
   "outputs": [],
   "source": [
    "# Males \n",
    "\n",
    "@constraint(model, M_con_0[s = SM, g = G, t = T[1]],         \n",
    "                   M[s, g, t] ==  M0[s, g] +\n",
    "                                  (1-Φ[g]) * qP * nP * P[end , g ,t] -\n",
    "                                  μM * M[s, g, t] * compute_density(densM, sum(M[:, :, t])) + control[1, t])\n",
    "\n",
    "# TODO: Figure out how to implement controls here correctly\n",
    ";"
   ]
  },
  {
   "cell_type": "code",
   "execution_count": 479,
   "metadata": {},
   "outputs": [],
   "source": [
    "@constraint(model, M_con_1[s = SM, g = G, t = T[2:end]],         \n",
    "                   M[s, g, t] ==  M[s, g, t-1] +\n",
    "                                  (1-Φ[g]) * qP * nP * P[end , g ,t] -\n",
    "                                  μM * M[s, g, t] * compute_density(densM, sum(M[:, :, t])) + control[1, t])\n",
    ";"
   ]
  },
  {
   "cell_type": "code",
   "execution_count": 501,
   "metadata": {},
   "outputs": [
    {
     "data": {
      "text/plain": [
       "3-dimensional DenseAxisArray{ConstraintRef{Model,C,Shape} where Shape<:AbstractShape where C,3,...} with index sets:\n",
       "    Dimension 1, 1:1\n",
       "    Dimension 2, 1:6\n",
       "    Dimension 3, 1\n",
       "And data, a 1×6×1 Array{ConstraintRef{Model,C,Shape} where Shape<:AbstractShape where C,3}:\n",
       "[:, :, 1] =\n",
       " M_con_0[1,1,1] : 1.09 M[1,1,1] - 0.5 P[6,1,1] - control[1,1] = -1.0977469173431637e-19  …  M_con_0[1,6,1] : 1.09 M[1,6,1] - 0.5 P[6,6,1] - control[1,1] = 0.0"
      ]
     },
     "execution_count": 501,
     "metadata": {},
     "output_type": "execute_result"
    }
   ],
   "source": [
    "M_con_0[:, :, :]\n"
   ]
  },
  {
   "cell_type": "markdown",
   "metadata": {},
   "source": [
    "FEMALES"
   ]
  },
  {
   "cell_type": "code",
   "execution_count": 481,
   "metadata": {},
   "outputs": [],
   "source": [
    "@NLconstraint(model, F_con_0[s = SF, g = G, t = T[1]], \n",
    "            F[s, g, t] == F0[s, g] + \n",
    "                        (M[1, g, t]*Η[g]/(1e-6 + sum(M[1, i, t]*Η[i] for i in G))*(Φ[g] * qP * nP * P[end, s, t]) -\n",
    "                         μF * F[s, g, t])) # * compute_density(densF, sum(F[:, :, t])))\n",
    "\n",
    "# Note difference necessary in S index definition between M terms and F terms + indexing fix addressing transpose of P values (s vs g)\n",
    "# Re-include compute_density after reformulating so as not to use @NLconstraint\n",
    ";"
   ]
  },
  {
   "cell_type": "code",
   "execution_count": 482,
   "metadata": {},
   "outputs": [],
   "source": [
    "@NLconstraint(model, F_con_1[s = SF, g = G, t = T[2:end]], \n",
    "            F[s, g, t] == F[s, g, t-1] + \n",
    "                        (M[1, g, t]*Η[g]/(1e-6+sum(M[1, i, t]*Η[i] for i in G))*(Φ[g] * qP * nP * P[end, s, t]) -\n",
    "                         μF * F[s, g, t])) # * compute_density(densF, sum(F[:, :, t])))\n",
    "\n",
    "# See note above re: required difference in S index \n",
    "# See note above re: density in F\n",
    "# NB:  eps() is unrecognized here, used 0.000001 instead\n",
    ";"
   ]
  },
  {
   "cell_type": "markdown",
   "metadata": {},
   "source": [
    "### Define objective function\n",
    "In the case of one-shot optimization with no inequality constraints on equations OR variables, can simply optimize!() without an objective function necessary."
   ]
  },
  {
   "cell_type": "code",
   "execution_count": 483,
   "metadata": {},
   "outputs": [],
   "source": [
    "# No objective function (comment out the control in this case)\n",
    "# optimize!(model)"
   ]
  },
  {
   "cell_type": "markdown",
   "metadata": {},
   "source": [
    "When inequality constraints are included, define an objective function."
   ]
  },
  {
   "cell_type": "code",
   "execution_count": 504,
   "metadata": {},
   "outputs": [
    {
     "ename": "ErrorException",
     "evalue": "The objective function `GenericQuadExpr{Float64,VariableRef}[M[1,4,1]² - 2 M[1,1,1]*M[1,4,1] + M[1,1,1]² + M[1,4,2]² - 2 M[1,1,2]*M[1,4,2] + M[1,1,2]² + M[1,4,3]² - 2 M[1,1,3]*M[1,4,3] + M[1,1,3]² + M[1,4,4]² - 2 M[1,1,4]*M[1,4,4] + M[1,1,4]² + M[1,4,5]² - 2 M[1,1,5]*M[1,4,5] + M[1,1,5]² + M[1,4,6]² - 2 M[1,1,6]*M[1,4,6] + M[1,1,6]² + M[1,4,7]² - 2 M[1,1,7]*M[1,4,7] + M[1,1,7]² + M[1,4,8]² - 2 M[1,1,8]*M[1,4,8] + M[1,1,8]² + M[1,4,9]² - 2 M[1,1,9]*M[1,4,9] + M[1,1,9]² + M[1,4,10]² - 2 M[1,1,10]*M[1,4,10] + M[1,1,10]² + 1.0e-6 control[1,1] + 1.0e-6 control[1,2] + 1.0e-6 control[1,3] + 1.0e-6 control[1,4] + 1.0e-6 control[1,5] + 1.0e-6 control[1,6] + 1.0e-6 control[1,7] + 1.0e-6 control[1,8] + 1.0e-6 control[1,9] + 1.0e-6 control[1,10]]` is not supported by JuMP.",
     "output_type": "error",
     "traceback": [
      "The objective function `GenericQuadExpr{Float64,VariableRef}[M[1,4,1]² - 2 M[1,1,1]*M[1,4,1] + M[1,1,1]² + M[1,4,2]² - 2 M[1,1,2]*M[1,4,2] + M[1,1,2]² + M[1,4,3]² - 2 M[1,1,3]*M[1,4,3] + M[1,1,3]² + M[1,4,4]² - 2 M[1,1,4]*M[1,4,4] + M[1,1,4]² + M[1,4,5]² - 2 M[1,1,5]*M[1,4,5] + M[1,1,5]² + M[1,4,6]² - 2 M[1,1,6]*M[1,4,6] + M[1,1,6]² + M[1,4,7]² - 2 M[1,1,7]*M[1,4,7] + M[1,1,7]² + M[1,4,8]² - 2 M[1,1,8]*M[1,4,8] + M[1,1,8]² + M[1,4,9]² - 2 M[1,1,9]*M[1,4,9] + M[1,1,9]² + M[1,4,10]² - 2 M[1,1,10]*M[1,4,10] + M[1,1,10]² + 1.0e-6 control[1,1] + 1.0e-6 control[1,2] + 1.0e-6 control[1,3] + 1.0e-6 control[1,4] + 1.0e-6 control[1,5] + 1.0e-6 control[1,6] + 1.0e-6 control[1,7] + 1.0e-6 control[1,8] + 1.0e-6 control[1,9] + 1.0e-6 control[1,10]]` is not supported by JuMP.",
      "",
      "Stacktrace:",
      " [1] error(::String) at ./error.jl:33",
      " [2] set_objective(::Model, ::MathOptInterface.OptimizationSense, ::Array{GenericQuadExpr{Float64,VariableRef},1}) at /Users/vnvasquez/.julia/packages/JuMP/iGamg/src/objective.jl:101",
      " [3] macro expansion at /Users/vnvasquez/.julia/packages/JuMP/iGamg/src/macros.jl:979 [inlined]",
      " [4] top-level scope at ./In[504]:1"
     ]
    }
   ],
   "source": [
    "# When control is included \n",
    "#@objective(model, Min, sum((M[:,4,i].data - M[:,1,i].data).^2 + 1e-6 * control[1,i] for i in T))\n",
    "#@objective(model, Min, sum((M[:,4,i].data - M[:,1,i].data).^2 for i in T))\n",
    "#@objective(model, Min, sum((M[:,1,i].data + control[1,i]) for i in T))\n",
    "#@objective(model, Min, sum(control[1,i] for i in T))\n",
    "\n",
    "\n",
    "@objective(model, Min, sum((M[:,4,t].data - M[:,1,t].data).^2 + 1e-6 * control[1,t] for t = T[1:end]))\n",
    "\n"
   ]
  },
  {
   "cell_type": "code",
   "execution_count": 500,
   "metadata": {},
   "outputs": [
    {
     "name": "stdout",
     "output_type": "stream",
     "text": [
      "This is Ipopt version 3.12.10, running with linear solver mumps.\n",
      "NOTE: Other linear solvers might be more efficient (see Ipopt documentation).\n",
      "\n",
      "Number of nonzeros in equality constraint Jacobian...:    52730\n",
      "Number of nonzeros in inequality constraint Jacobian.:        0\n",
      "Number of nonzeros in Lagrangian Hessian.............:    33120\n",
      "\n",
      "Total number of variables............................:     1560\n",
      "                     variables with only lower bounds:     1500\n",
      "                variables with lower and upper bounds:       60\n",
      "                     variables with only upper bounds:        0\n",
      "Total number of equality constraints.................:     1500\n",
      "Total number of inequality constraints...............:        0\n",
      "        inequality constraints with only lower bounds:        0\n",
      "   inequality constraints with lower and upper bounds:        0\n",
      "        inequality constraints with only upper bounds:        0\n",
      "\n",
      "iter    objective    inf_pr   inf_du lg(mu)  ||d||  lg(rg) alpha_du alpha_pr  ls\n",
      "   0  9.9999900e-02 7.63e+03 9.85e-01  -1.0 0.00e+00    -  0.00e+00 0.00e+00   0\n",
      "   1  9.9153757e-02 7.63e+03 6.65e+00  -1.0 2.44e+04    -  4.06e-07 1.43e-06f  1\n",
      "   2  1.0040654e-01 7.63e+03 1.15e+01  -1.0 1.91e+04    -  2.33e-06 2.20e-07f  1\n",
      "   3  1.1209168e-01 7.63e+03 1.70e+01  -1.0 1.81e+04    -  2.28e-06 1.86e-06f  1\n",
      "   4  1.1651447e-01 7.63e+03 2.12e+01  -1.0 1.75e+04    -  3.09e-06 1.81e-06f  1\n",
      "   5  1.2069895e-01 7.63e+03 2.26e+01  -1.0 1.70e+04    -  8.22e-08 1.64e-06f  1\n",
      "   6  1.2335476e-01 7.63e+03 2.29e+01  -1.0 1.59e+04    -  3.23e-08 5.16e-07f  1\n",
      "   7  1.2657365e-01 7.63e+03 2.28e+01  -1.0 1.58e+04    -  1.64e-06 6.09e-07f  1\n",
      "   8  1.3497753e-01 7.63e+03 2.35e+01  -1.0 1.59e+04    -  5.63e-08 1.84e-06f  1\n",
      "   9  1.3973484e-01 7.63e+03 2.37e+01  -1.0 1.58e+04    -  1.54e-06 1.22e-06f  1\n",
      "iter    objective    inf_pr   inf_du lg(mu)  ||d||  lg(rg) alpha_du alpha_pr  ls\n",
      "  10  1.5367119e-01 7.63e+03 3.37e+01  -1.0 1.58e+04    -  1.35e-06 4.11e-06f  1\n",
      "  11  1.6079766e-01 7.63e+03 3.89e+01  -1.0 1.56e+04    -  3.77e-08 3.10e-06f  1\n",
      "  12  1.6214449e-01 7.63e+03 7.84e+01  -1.0 1.54e+04    -  4.06e-06 6.19e-07f  1\n",
      "  13  1.6841845e-01 7.63e+03 3.52e+01  -1.0 1.52e+04    -  3.68e-08 3.45e-06f  1\n",
      "  14  1.7019068e-01 7.63e+03 4.07e+01  -1.0 1.53e+04    -  2.86e-08 3.59e-06f  1\n",
      "  15  1.7274818e-01 7.63e+03 4.49e+01  -1.0 1.52e+04    -  4.01e-06 5.08e-06f  1\n",
      "  16  1.7697171e-01 7.63e+03 3.60e+01  -1.0 1.50e+04    -  1.11e-05 7.49e-06f  1\n",
      "  17  1.7859728e-01 7.63e+03 1.16e+02  -1.0 1.45e+04    -  2.28e-05 2.32e-06f  1\n",
      "  18  1.8957859e-01 7.63e+03 9.83e+01  -1.0 1.55e+04    -  6.69e-06 7.66e-06f  1\n",
      "  19  2.0207922e-01 7.63e+03 7.43e+01  -1.0 1.68e+04    -  6.35e-08 7.54e-06f  1\n",
      "iter    objective    inf_pr   inf_du lg(mu)  ||d||  lg(rg) alpha_du alpha_pr  ls\n",
      "  20  2.0761732e-01 7.63e+03 1.38e+02  -1.0 1.64e+04    -  3.09e-07 3.92e-06f  1\n",
      "  21  2.0874326e-01 7.63e+03 1.02e+02  -1.0 1.94e+04    -  1.15e-06 4.85e-07f  2\n",
      "  22  2.1262239e-01 7.63e+03 2.10e+02  -1.0 2.01e+04    -  1.06e-08 1.79e-06f  1\n",
      "  23  2.0826454e-01 7.63e+03 2.82e+02  -1.0 1.70e+04    -  5.79e-07 6.26e-06f  1\n",
      "  24r 2.0826454e-01 7.63e+03 9.99e+02   3.9 0.00e+00    -  0.00e+00 1.06e-07R  2\n",
      "  25r 2.4374786e-01 7.63e+03 9.99e+02   3.9 1.08e+05    -  4.42e-07 1.74e-06f  1\n",
      "  26r 2.5078821e-01 7.62e+03 9.99e+02   1.8 3.29e+03    -  6.84e-03 3.31e-04f  1\n",
      "  27r 4.1010778e-01 7.61e+03 9.90e+02   1.8 1.92e+03    -  2.86e-03 8.31e-03f  1\n",
      "  28r 7.4516256e-01 7.59e+03 9.82e+02   1.8 2.01e+03    -  1.29e-02 8.94e-03f  1\n",
      "  29r 2.6013109e+00 7.49e+03 9.39e+02   1.8 2.27e+03    -  9.17e-03 4.34e-02f  1\n",
      "iter    objective    inf_pr   inf_du lg(mu)  ||d||  lg(rg) alpha_du alpha_pr  ls\n",
      "  30r 4.2175533e+00 7.32e+03 8.95e+02   1.8 3.68e+03    -  3.98e-02 4.71e-02f  1\n",
      "  31r 4.3256358e+00 6.13e+03 8.86e+02   1.8 3.48e+05    -  7.79e-04 1.03e-02f  1\n",
      "  32  4.3882227e+00 6.13e+03 2.00e+01  -1.0 1.40e+04    -  5.07e-05 5.76e-05f  1\n",
      "  33  4.4300093e+00 6.13e+03 2.00e+01  -1.0 1.37e+04    -  1.65e-05 3.30e-05f  1\n",
      "  34  6.3416705e+00 6.12e+03 2.05e+01  -1.0 1.36e+04    -  1.03e-04 1.53e-03f  1\n",
      "  35  6.3783067e+00 6.12e+03 2.04e+01  -1.0 1.47e+04    -  2.36e-04 3.93e-05f  1\n",
      "  36  6.4350521e+00 6.12e+03 2.04e+01  -1.0 1.52e+04    -  4.20e-06 3.56e-05f  1\n",
      "  37  9.7783084e+00 6.11e+03 3.46e+02  -1.0 1.54e+04    -  6.59e-04 2.08e-03f  1\n",
      "  38  9.9450511e+00 6.11e+03 2.62e+02  -1.0 1.55e+04    -  1.74e-03 9.63e-05h  1\n",
      "  39  1.2808578e+01 6.10e+03 2.72e+02  -1.0 1.57e+04    -  6.68e-04 1.59e-03f  1\n",
      "iter    objective    inf_pr   inf_du lg(mu)  ||d||  lg(rg) alpha_du alpha_pr  ls\n",
      "  40  1.2867981e+01 6.10e+03 2.34e+02  -1.0 1.48e+04    -  8.81e-04 3.20e-05h  1\n",
      "  41  1.3129420e+01 6.10e+03 8.70e+02  -1.0 1.25e+04    -  7.88e-04 1.52e-04f  1\n",
      "  42  1.5823365e+01 6.09e+03 6.99e+02  -1.0 1.22e+04    -  8.61e-06 1.41e-03f  1\n",
      "  43  2.4161307e+01 6.07e+03 1.92e+03  -1.0 1.27e+04    -  5.97e-04 3.16e-03f  1\n",
      "  44  2.7255866e+01 6.06e+03 3.40e+03  -1.0 1.01e+04    -  3.03e-04 1.38e-03f  1\n",
      "  45  3.6730960e+01 6.03e+03 9.36e+03  -1.0 9.94e+03    -  2.31e-04 4.20e-03f  1\n",
      "  46  4.2394362e+01 6.02e+03 1.01e+04  -1.0 9.33e+03    -  1.33e-03 1.83e-03h  1\n",
      "  47  4.3226468e+01 6.02e+03 1.33e+04  -1.0 9.24e+03    -  1.19e-02 2.73e-04h  1\n",
      "  48  4.3379784e+01 6.02e+03 1.34e+04  -1.0 8.97e+03    -  6.22e-05 3.45e-05h  1\n",
      "  49  4.8906894e+01 6.01e+03 1.04e+04  -1.0 9.00e+03    -  4.26e-05 1.22e-03h  1\n",
      "iter    objective    inf_pr   inf_du lg(mu)  ||d||  lg(rg) alpha_du alpha_pr  ls\n",
      "  50  4.8981735e+01 6.01e+03 3.45e+04  -1.0 8.95e+03    -  8.37e-03 1.47e-05h  1\n",
      "  51  4.9122221e+01 6.01e+03 3.96e+04  -1.0 9.22e+03    -  3.39e-06 2.23e-05h  1\n",
      "  52  6.1565356e+01 6.00e+03 3.22e+04  -1.0 9.15e+03    -  1.66e-05 1.95e-03h  1\n",
      "  53  6.1736985e+01 6.00e+03 6.65e+04  -1.0 9.04e+03    -  2.08e-03 2.16e-05h  1\n",
      "  54  6.3088319e+01 6.00e+03 5.87e+04  -1.0 1.21e+04    -  1.71e-05 1.81e-04h  1\n",
      "  55  6.5283884e+01 6.00e+03 5.49e+04  -1.0 1.31e+04    -  1.84e-04 2.84e-04h  1\n",
      "  56r 6.5283884e+01 6.00e+03 1.00e+03   3.8 0.00e+00    -  0.00e+00 2.86e-07R  4\n",
      "  57r 6.5316837e+01 6.00e+03 1.91e+03   3.8 7.90e+03    -  1.90e-03 1.28e-05f  1\n",
      "  58r 6.4669166e+01 5.98e+03 1.87e+03   1.7 1.86e+04    -  3.14e-02 1.39e-02f  1\n",
      "  59r 6.4619018e+01 5.98e+03 1.85e+03   1.7 3.51e+04    -  1.33e-02 1.72e-04f  1\n",
      "iter    objective    inf_pr   inf_du lg(mu)  ||d||  lg(rg) alpha_du alpha_pr  ls\n",
      "  60r 6.2536446e+01 5.92e+03 1.83e+03   1.7 2.05e+04    -  8.57e-03 9.48e-03f  1\n",
      "  61r 6.2236219e+01 5.89e+03 1.80e+03   1.7 2.14e+04    -  1.95e-02 3.12e-03f  1\n",
      "  62r 6.2103400e+01 5.77e+03 1.76e+03   1.7 2.42e+04    -  2.74e-02 1.12e-02f  1\n",
      "  63r 6.3237005e+01 5.70e+03 1.72e+03   1.7 3.74e+04    -  1.96e-02 6.95e-03f  1\n",
      "  64r 6.5540558e+01 5.64e+03 1.69e+03   1.7 3.90e+04    -  3.75e-02 9.06e-03f  1\n",
      "  65r 6.8350599e+01 5.51e+03 2.40e+03   1.7 4.61e+04    -  8.49e-02 2.06e-02f  1\n",
      "  66r 6.8451735e+01 5.30e+03 2.48e+03   1.7 4.28e+04    -  4.40e-02 2.96e-02f  1\n",
      "  67  6.8564345e+01 5.29e+03 1.14e+01  -1.0 4.25e+03    -  1.02e-04 1.17e-03f  1\n",
      "  68  6.8656975e+01 5.29e+03 1.14e+01  -1.0 5.69e+03    -  2.34e-05 1.07e-04f  1\n",
      "  69  6.9108692e+01 5.29e+03 1.14e+01  -1.0 6.28e+03    -  8.01e-05 5.07e-04f  1\n",
      "iter    objective    inf_pr   inf_du lg(mu)  ||d||  lg(rg) alpha_du alpha_pr  ls\n",
      "  70  6.9579612e+01 5.29e+03 1.14e+01  -1.0 6.44e+03    -  5.61e-04 5.95e-04f  1\n",
      "  71  6.9587603e+01 5.29e+03 1.92e+02  -1.0 6.61e+03    -  1.12e-03 1.34e-05h  1\n",
      "  72  8.0001596e+01 5.16e+03 7.46e+03  -1.0 6.73e+03    -  1.35e-03 2.45e-02h  1\n",
      "  73  8.1803420e+01 5.13e+03 5.87e+03  -1.0 6.65e+03    -  1.75e-02 5.57e-03h  1\n",
      "  74  8.3174773e+01 5.10e+03 4.20e+03  -1.0 6.62e+03    -  3.09e-02 4.85e-03h  1\n",
      "  75  8.3224151e+01 5.10e+03 6.68e+03  -1.0 6.59e+03    -  1.95e-02 9.95e-05h  1\n",
      "  76  9.5314536e+01 5.02e+03 3.39e+03  -1.0 6.59e+03    -  1.08e-02 1.71e-02h  1\n",
      "  77  9.5470495e+01 5.01e+03 1.67e+04  -1.0 6.48e+03    -  1.32e-02 1.95e-04h  1\n",
      "  78  9.7038199e+01 5.01e+03 1.39e+04  -1.0 6.46e+03    -  4.58e-05 7.97e-04h  1\n",
      "  79  1.0331908e+02 5.00e+03 1.22e+04  -1.0 6.46e+03    -  2.39e-03 3.08e-03h  1\n",
      "iter    objective    inf_pr   inf_du lg(mu)  ||d||  lg(rg) alpha_du alpha_pr  ls\n",
      "  80  1.0339091e+02 5.00e+03 1.38e+05  -1.0 6.43e+03    -  2.97e-02 3.20e-05h  1\n",
      "  81  1.0347189e+02 4.99e+03 3.34e+05  -1.0 1.10e+04    -  6.92e-04 1.59e-04h  1\n",
      "  82  1.0347955e+02 4.99e+03 2.19e+06  -1.0 1.05e+04    -  1.86e-03 1.36e-05h  1\n",
      "  83  1.0350236e+02 4.99e+03 6.32e+06  -1.0 9.10e+03    -  6.44e-04 6.37e-05h  1\n",
      "  84  1.0353162e+02 4.99e+03 3.52e+06  -1.0 2.31e+04    -  1.97e-04 3.63e-04h  1\n",
      "  85  1.0355511e+02 4.99e+03 9.64e+06  -1.0 1.09e+05    -  1.24e-04 5.71e-05h  1\n",
      "  86r 1.0355511e+02 4.99e+03 1.00e+03   3.7 0.00e+00    -  0.00e+00 3.32e-07R  4\n",
      "  87r 1.0355162e+02 4.99e+03 1.06e+03   3.7 5.58e+04    -  8.35e-04 7.31e-05f  1\n",
      "  88r 1.0314763e+02 4.95e+03 1.04e+03   1.6 5.81e+04    -  2.21e-02 8.07e-03f  1\n",
      "  89r 9.9907951e+01 4.53e+03 1.04e+03   1.6 3.28e+05    -  4.79e-03 3.13e-03f  1\n",
      "iter    objective    inf_pr   inf_du lg(mu)  ||d||  lg(rg) alpha_du alpha_pr  ls\n",
      "  90r 9.9868558e+01 4.52e+03 1.03e+03   1.6 1.86e+05    -  1.11e-02 6.30e-05f  1\n",
      "  91r 9.9373759e+01 3.28e+03 1.01e+03   1.6 2.04e+05    -  1.30e-02 6.62e-03f  1\n",
      "  92  9.9377442e+01 3.28e+03 4.13e+00  -1.0 6.20e+03    -  2.60e-06 1.08e-05h  1\n",
      "  93  9.9789675e+01 3.27e+03 4.98e+00  -1.0 6.54e+03    -  1.29e-05 1.13e-03h  1\n",
      "  94  9.9794585e+01 3.27e+03 9.10e+01  -1.0 6.56e+03    -  1.73e-03 2.26e-05h  1\n",
      "  95  1.0038670e+02 3.24e+03 3.88e+02  -1.0 6.60e+03    -  4.85e-03 9.32e-03h  1\n",
      "  96  1.0039410e+02 3.24e+03 1.02e+03  -1.0 6.54e+03    -  1.53e-02 1.00e-04h  1\n",
      "  97  1.0058563e+02 3.24e+03 6.71e+03  -1.0 6.57e+03    -  1.80e-03 1.59e-04h  1\n",
      "  98  1.0429849e+02 3.23e+03 1.78e+04  -1.0 6.58e+03    -  5.40e-03 3.02e-03h  1\n",
      "  99  1.0433799e+02 3.23e+03 1.84e+04  -1.0 6.72e+03    -  1.22e-04 2.90e-05h  1\n",
      "iter    objective    inf_pr   inf_du lg(mu)  ||d||  lg(rg) alpha_du alpha_pr  ls\n",
      " 100r 1.0433799e+02 3.23e+03 1.00e+03   3.5 0.00e+00    -  0.00e+00 3.44e-07R  2\n",
      " 101r 1.0432814e+02 3.23e+03 1.95e+03   3.5 6.20e+04    -  3.09e-03 3.39e-05f  1\n",
      " 102r 1.0394965e+02 3.12e+03 1.94e+03   1.4 5.61e+04    -  9.42e-03 6.67e-03f  1\n",
      " 103r 1.0393925e+02 3.09e+03 1.93e+03   1.4 4.19e+05    -  9.30e-03 1.28e-04f  1\n",
      " 104r 1.0384737e+02 2.35e+03 1.91e+03   1.4 3.28e+05    -  1.10e-02 2.93e-03f  1\n",
      " 105  1.0384876e+02 2.35e+03 4.24e+00  -1.0 3.60e+03    -  2.80e-06 1.19e-05h  1\n",
      " 106  1.0547110e+02 2.34e+03 1.00e+01  -1.0 6.51e+03    -  8.01e-06 4.71e-03h  1\n",
      " 107  1.1044612e+02 2.31e+03 9.88e+00  -1.0 6.49e+03    -  9.12e-03 1.50e-02h  1\n",
      " 108  1.1464793e+02 2.27e+03 1.08e+01  -1.0 6.42e+03    -  7.50e-03 1.58e-02h  1\n",
      " 109  1.1469511e+02 2.27e+03 3.06e+01  -1.0 6.37e+03    -  3.26e-03 2.32e-04h  1\n",
      "iter    objective    inf_pr   inf_du lg(mu)  ||d||  lg(rg) alpha_du alpha_pr  ls\n",
      " 110  1.1484042e+02 2.24e+03 1.53e+03  -1.0 6.37e+03    -  4.07e-02 1.19e-02h  1\n",
      " 111  1.1484241e+02 2.24e+03 8.68e+03  -1.0 6.30e+03    -  2.45e-02 1.25e-04h  1\n",
      " 112r 1.1484241e+02 2.24e+03 1.00e+03   3.4 0.00e+00    -  0.00e+00 2.73e-07R  5\n",
      " 113r 1.1479655e+02 2.24e+03 9.99e+02   3.4 7.81e+04    -  1.84e-03 7.84e-05f  1\n",
      " 114r 1.1386869e+02 1.77e+03 9.89e+02   1.3 7.96e+04    -  5.54e-03 1.01e-02f  1\n",
      " 115  1.1407093e+02 1.77e+03 1.25e+00  -1.0 6.31e+03    -  6.62e-04 8.28e-04h  1\n",
      " 116  1.1407227e+02 1.77e+03 9.10e+02  -1.0 6.34e+03    -  1.69e-02 6.27e-05h  1\n",
      " 117  1.1391965e+02 1.73e+03 2.90e+01  -1.0 6.37e+03    -  2.05e-03 1.98e-02h  1\n",
      " 118  1.1391947e+02 1.73e+03 2.35e+03  -1.0 6.26e+03    -  3.71e-02 2.08e-04h  1\n",
      " 119  1.1391881e+02 1.73e+03 3.10e+06  -1.0 6.16e+03    -  4.46e-02 3.52e-05h  1\n",
      "iter    objective    inf_pr   inf_du lg(mu)  ||d||  lg(rg) alpha_du alpha_pr  ls\n",
      " 120  1.1391454e+02 1.73e+03 3.33e+08  -1.0 6.15e+03    -  4.95e-02 4.62e-04h  1\n",
      " 121r 1.1391454e+02 1.73e+03 1.00e+03   3.2 0.00e+00    -  0.00e+00 3.25e-07R  5\n",
      " 122r 1.1386545e+02 1.72e+03 5.14e+03   3.2 8.83e+04    -  2.10e-02 1.63e-04f  1\n",
      " 123r 1.1269222e+02 5.37e+02 5.06e+03   1.8 9.25e+04    -  1.73e-02 1.56e-02f  1\n",
      " 124  1.1291764e+02 5.36e+02 2.69e+00  -1.0 6.36e+03    -  3.65e-04 9.89e-04h  1\n",
      " 125  1.1472020e+02 5.32e+02 2.71e+00  -1.0 6.36e+03    -  1.37e-03 7.97e-03h  1\n",
      " 126  1.1652334e+02 5.27e+02 4.72e+00  -1.0 6.33e+03    -  2.45e-02 8.59e-03h  1\n",
      " 127  1.1961688e+02 5.19e+02 8.64e+00  -1.0 6.31e+03    -  1.90e-02 1.53e-02h  1\n",
      " 128  1.1964467e+02 5.19e+02 4.25e+03  -1.0 6.21e+03    -  1.86e-02 1.63e-04h  1\n",
      " 129r 1.1964467e+02 5.19e+02 1.00e+03   2.7 0.00e+00    -  0.00e+00 4.93e-07R  4\n",
      "iter    objective    inf_pr   inf_du lg(mu)  ||d||  lg(rg) alpha_du alpha_pr  ls\n",
      " 130r 1.1960513e+02 5.19e+02 1.00e+03   2.7 9.03e+04    -  6.74e-04 2.49e-04f  1\n",
      " 131r 1.1947029e+02 5.22e+02 9.99e+02   1.3 7.36e+04    -  1.18e-02 3.24e-03f  1\n",
      " 132r 1.2110911e+02 5.29e+02 9.92e+02   1.3 1.03e+04    -  2.60e-02 8.34e-03f  1\n",
      " 133r 1.2351936e+02 5.37e+02 9.78e+02   1.3 9.10e+03    -  3.57e-02 1.18e-02f  1\n",
      " 134r 1.2352023e+02 5.37e+02 9.75e+02   1.3 5.00e+03    -  9.72e-03 6.99e-04f  1\n",
      " 135r 1.2333491e+02 5.37e+02 9.51e+02   1.3 4.89e+03    -  6.64e-02 2.42e-02f  1\n",
      " 136r 1.2240185e+02 5.37e+02 9.21e+02   1.3 3.07e+03    -  1.02e-02 3.58e-02f  1\n",
      " 137r 1.2231425e+02 5.37e+02 8.94e+02   1.3 2.94e+03    -  6.76e-02 2.51e-02f  1\n",
      " 138r 1.2475288e+02 5.37e+02 8.45e+02   1.3 3.22e+03    -  2.08e-02 5.51e-02f  1\n",
      " 139r 1.2485353e+02 5.37e+02 8.43e+02   1.3 2.00e+03    -  4.53e-01 2.71e-03f  1\n",
      "iter    objective    inf_pr   inf_du lg(mu)  ||d||  lg(rg) alpha_du alpha_pr  ls\n",
      " 140r 1.3384198e+02 5.37e+02 6.34e+02   1.3 1.68e+03    -  1.42e-01 2.47e-01f  1\n",
      " 141r 1.3389403e+02 5.37e+02 6.31e+02   1.3 1.17e+03    -  2.66e-01 4.98e-03f  1\n",
      " 142r 1.2987425e+02 4.56e+02 4.45e+02   1.3 1.23e+03    -  5.28e-02 4.74e-01f  1\n",
      " 143  1.3478062e+02 4.38e+02 4.14e+01  -1.0 6.03e+03    -  9.84e-03 3.88e-02h  2\n",
      " 144  1.3907850e+02 4.21e+02 3.99e+01  -1.0 5.83e+03    -  8.36e-02 3.87e-02h  2\n",
      " 145  1.4476339e+02 3.91e+02 3.72e+01  -1.0 5.63e+03    -  1.25e-01 7.28e-02h  2\n",
      " 146  1.4925120e+02 3.54e+02 3.38e+01  -1.0 5.23e+03    -  1.26e-01 9.31e-02h  3\n",
      " 147  1.5169265e+02 3.14e+02 3.08e+01  -1.0 4.75e+03    -  3.09e-01 1.15e-01h  3\n",
      " 148  1.4767326e+02 6.10e+01 2.13e+01  -1.0 4.20e+03    -  4.14e-01 8.06e-01H  1\n",
      " 149  1.3138550e+02 1.09e+01 6.93e+01  -1.0 8.18e+02    -  3.50e-01 9.01e-01h  1\n",
      "iter    objective    inf_pr   inf_du lg(mu)  ||d||  lg(rg) alpha_du alpha_pr  ls\n",
      " 150  1.1791749e+02 4.77e+00 2.29e+02  -1.0 1.22e+02    -  5.29e-01 5.65e-01h  1\n",
      " 151  1.1598198e+02 4.49e+00 2.34e+03  -1.0 1.47e+02    -  6.34e-01 5.91e-02h  1\n",
      " 152  9.9897712e+01 3.27e+00 1.72e+03  -1.0 2.83e+02    -  9.00e-02 2.73e-01h  1\n",
      " 153  9.9542807e+01 3.02e+00 1.61e+03  -1.0 4.86e+01    -  2.95e-01 7.40e-02h  1\n",
      " 154  8.0402824e+01 1.76e+00 1.01e+03  -1.0 2.86e+02    -  6.19e-02 4.18e-01h  1\n",
      " 155  8.0050177e+01 1.58e+00 8.88e+02  -1.0 4.83e+01    -  3.95e-01 1.02e-01h  1\n",
      " 156  6.0773414e+01 5.34e-01 6.40e+02  -1.0 2.42e+02    -  9.64e-01 6.67e-01h  1\n",
      " 157  6.0825084e+01 6.40e-03 1.96e+03  -1.0 2.32e+01    -  5.53e-01 9.89e-01h  1\n",
      " 158  5.9960059e+01 1.65e-03 1.11e+03  -1.0 8.94e+00    -  1.00e+00 9.99e-01h  1\n",
      " 159  6.0879556e+01 1.86e-03 5.88e+06  -1.0 2.40e+01    -  1.00e+00 3.81e-01h  2\n",
      "iter    objective    inf_pr   inf_du lg(mu)  ||d||  lg(rg) alpha_du alpha_pr  ls\n",
      " 160  6.1511022e+01 3.86e-04 5.70e+03  -1.0 6.00e+00    -  1.00e+00 1.00e+00h  1\n",
      " 161  5.9896501e+01 2.73e-03 7.31e+05  -1.7 1.00e+02    -  2.39e-01 1.48e-01f  1\n",
      " 162  4.0518223e+01 4.65e-01 3.10e+06  -1.7 3.24e+02    -  3.71e-02 5.95e-01f  1\n",
      " 163  4.0318037e+01 4.55e-01 1.15e+06  -1.7 1.42e+02    -  7.36e-01 2.12e-02h  1\n",
      " 164  3.0491340e+01 1.57e-01 1.51e+06  -1.7 1.51e+02    -  2.57e-02 1.00e+00f  1\n",
      " 165  2.2335299e+01 1.45e-01 1.31e+04  -1.7 1.30e+02    -  1.00e+00 1.00e+00f  1\n",
      " 166  2.2246758e+01 1.92e-05 1.64e+01  -1.7 8.45e+00    -  1.00e+00 1.00e+00h  1\n",
      " 167  2.0235561e+01 9.91e-03 7.58e+05  -3.8 3.26e+02    -  4.84e-01 1.02e-01f  1\n",
      " 168  2.0148032e+01 8.80e-03 7.76e+05  -3.8 1.20e+01    -  2.13e-01 1.12e-01h  1\n",
      " 169  1.2339913e+01 1.60e-01 1.38e+05  -3.8 2.86e+02    -  4.40e-03 4.81e-01f  1\n",
      "iter    objective    inf_pr   inf_du lg(mu)  ||d||  lg(rg) alpha_du alpha_pr  ls\n",
      " 170  1.2300498e+01 1.59e-01 3.78e+06  -3.8 1.12e+02    -  1.00e+00 7.42e-03h  1\n",
      " 171  7.7465308e+00 7.79e-02 5.23e+05  -3.8 1.05e+02    -  1.00e+00 9.20e-01f  1\n",
      " 172  5.0885052e+00 4.25e-02 1.96e+08  -3.8 7.53e+01    -  5.91e-02 7.80e-01f  1\n",
      " 173  4.6735398e+00 3.72e-02 8.13e+07  -3.8 6.68e+01    -  1.00e+00 1.41e-01f  1\n",
      " 174  2.5091405e+00 2.80e-02 1.74e+07  -3.8 6.55e+01    -  1.00e+00 7.50e-01f  1\n",
      " 175  2.5086400e+00 2.80e-02 1.56e+08  -3.8 1.29e+02    -  7.82e-03 9.01e-05h  1\n",
      " 176  1.2503023e+00 6.70e-03 6.70e+07  -3.8 3.00e+01    -  3.23e-04 1.00e+00f  1\n",
      " 177  7.4603067e-01 1.11e-03 3.12e+05  -3.8 1.21e+01    -  7.71e-02 1.00e+00f  1\n",
      " 178  6.4308481e-01 1.16e-03 3.10e+05  -3.8 7.52e+02    -  2.94e-02 3.22e-03f  2\n",
      " 179  6.4498115e-01 1.15e-03 2.11e+05  -3.8 1.10e+01    -  3.23e-01 5.33e-03h  7\n",
      "iter    objective    inf_pr   inf_du lg(mu)  ||d||  lg(rg) alpha_du alpha_pr  ls\n",
      " 180  5.4862921e-01 7.97e-04 1.54e+04  -3.8 6.55e+00    -  1.00e+00 3.40e-01f  1\n",
      " 181  3.0827141e-01 2.59e-04 5.02e+01  -3.8 5.71e+00    -  1.00e+00 1.00e+00f  1\n",
      " 182  1.9987326e-01 5.27e-05 4.86e+01  -3.8 2.58e+00    -  1.00e+00 1.00e+00f  1\n",
      " 183  1.6434306e-01 5.68e-06 6.45e+00  -3.8 8.46e-01    -  1.00e+00 1.00e+00h  1\n",
      " 184  1.6258700e-01 1.36e-08 3.38e-02  -3.8 4.19e-02    -  1.00e+00 1.00e+00h  1\n",
      " 185  8.1234798e-02 2.93e-05 8.87e+03  -5.7 4.77e+00    -  1.00e+00 4.04e-01f  1\n",
      " 186  4.1205971e-02 6.97e-06 6.90e+02  -5.7 9.48e-01    -  9.26e-01 1.00e+00f  1\n",
      " 187  3.1509888e-02 4.39e-06 2.84e+03  -5.7 5.35e-01    -  1.00e+00 4.29e-01f  1\n",
      " 188  1.5586234e-02 1.11e-06 4.13e+00  -5.7 3.77e-01    -  1.00e+00 1.00e+00f  1\n",
      " 189  1.0661571e-02 5.45e-07 6.61e+03  -5.7 1.92e-01    -  1.00e+00 6.10e-01f  1\n",
      "iter    objective    inf_pr   inf_du lg(mu)  ||d||  lg(rg) alpha_du alpha_pr  ls\n",
      " 190  4.9190447e-03 1.49e-07 2.16e+00  -5.7 1.37e-01    -  1.00e+00 1.00e+00f  1\n",
      " 191  2.5965669e-03 7.07e-08 1.54e+04  -5.7 8.02e-02    -  1.00e+00 6.89e-01f  1\n",
      " 192  1.3112094e-03 4.81e-08 4.07e+04  -5.7 7.19e-02    -  1.00e+00 4.25e-01f  2\n",
      " 193  1.5741765e-05 4.03e-08 6.71e+03  -5.7 9.70e-02    -  3.68e-01 3.17e-01h  1\n",
      " 194  6.2067353e-04 1.63e-09 8.92e+04  -5.7 1.44e-02    -  1.95e-01 1.00e+00f  1\n",
      " 195  8.4466248e-04 2.24e-10 1.36e+03  -5.7 5.32e-03    -  9.41e-01 1.00e+00h  1\n",
      " 196  8.9711104e-04 1.26e-11 1.31e-03  -5.7 1.25e-03    -  1.00e+00 1.00e+00h  1\n",
      " 197  8.9591052e-04 2.06e-12 4.35e-08  -5.7 2.86e-05    -  1.00e+00 1.00e+00h  1\n",
      " 198  3.3549149e-07 3.46e-09 3.15e+00  -8.6 2.15e-02    -  1.00e+00 9.83e-01f  1\n",
      " 199  1.0019932e-06 3.68e-10 1.29e+00  -8.6 2.04e-05    -  9.20e-01 8.94e-01f  1\n",
      "iter    objective    inf_pr   inf_du lg(mu)  ||d||  lg(rg) alpha_du alpha_pr  ls\n",
      " 200  8.5321048e-07 2.73e-12 1.02e-07  -8.6 3.24e-06    -  1.00e+00 1.00e+00f  1\n",
      " 201  8.4672838e-07 2.73e-12 4.04e-12  -8.6 1.51e-07    -  1.00e+00 1.00e+00h  1\n",
      "\n",
      "Number of Iterations....: 201\n",
      "\n",
      "                                   (scaled)                 (unscaled)\n",
      "Objective...............:   8.4672837921085616e-07    8.4672837921085616e-07\n",
      "Dual infeasibility......:   4.0412673207868011e-12    4.0412673207868011e-12\n",
      "Constraint violation....:   2.7284841053187847e-12    2.7284841053187847e-12\n",
      "Complementarity.........:   2.7553365117876685e-09    2.7553365117876685e-09\n",
      "Overall NLP error.......:   2.7553365117876685e-09    2.7553365117876685e-09\n",
      "\n",
      "\n",
      "Number of objective function evaluations             = 261\n",
      "Number of objective gradient evaluations             = 166\n",
      "Number of equality constraint evaluations            = 261\n",
      "Number of inequality constraint evaluations          = 0\n",
      "Number of equality constraint Jacobian evaluations   = 209\n",
      "Number of inequality constraint Jacobian evaluations = 0\n",
      "Number of Lagrangian Hessian evaluations             = 201\n",
      "Total CPU secs in IPOPT (w/o function evaluations)   =      4.084\n",
      "Total CPU secs in NLP function evaluations           =      0.491\n",
      "\n",
      "EXIT: Optimal Solution Found.\n"
     ]
    }
   ],
   "source": [
    "optimize!(model)"
   ]
  },
  {
   "cell_type": "code",
   "execution_count": 486,
   "metadata": {},
   "outputs": [
    {
     "name": "stdout",
     "output_type": "stream",
     "text": [
      "Objective value: 8.467283792108562e-7\n"
     ]
    }
   ],
   "source": [
    "println(\"Objective value: \", objective_value(model))"
   ]
  },
  {
   "cell_type": "code",
   "execution_count": 493,
   "metadata": {},
   "outputs": [
    {
     "data": {
      "text/plain": [
       "2-dimensional DenseAxisArray{Float64,2,...} with index sets:\n",
       "    Dimension 1, 1:6\n",
       "    Dimension 2, 1:10\n",
       "And data, a 6×10 Array{Float64,2}:\n",
       "  9.00693e-7   0.0   0.0   0.0   0.0   0.0   0.0   0.0   0.0   0.0\n",
       " 10.0         10.0  10.0  10.0  10.0  10.0  10.0  10.0  10.0  10.0\n",
       " 10.0         10.0  10.0  10.0  10.0  10.0  10.0  10.0  10.0  10.0\n",
       " 10.0         10.0  10.0  10.0  10.0  10.0  10.0  10.0  10.0  10.0\n",
       " 10.0         10.0  10.0  10.0  10.0  10.0  10.0  10.0  10.0  10.0\n",
       " 10.0         10.0  10.0  10.0  10.0  10.0  10.0  10.0  10.0  10.0"
      ]
     },
     "execution_count": 493,
     "metadata": {},
     "output_type": "execute_result"
    }
   ],
   "source": [
    "value.(control)"
   ]
  },
  {
   "cell_type": "code",
   "execution_count": 488,
   "metadata": {},
   "outputs": [
    {
     "data": {
      "text/plain": [
       "2-dimensional DenseAxisArray{Float64,2,...} with index sets:\n",
       "    Dimension 1, 1:8\n",
       "    Dimension 2, 1:6\n",
       "And data, a 8×6 Array{Float64,2}:\n",
       " 5.10487e-17  1.83006e-6  6.12854e-17  1498.29    1.45358e-6  1.63102e-17\n",
       " 2.83638e-17  1.08456e-6  3.40721e-17   908.817   8.61881e-7  9.06861e-18\n",
       " 1.57404e-17  6.41897e-7  1.89205e-17   551.261   5.10345e-7  5.0363e-18 \n",
       " 8.72454e-18  3.79389e-7  1.04946e-17   334.378   3.01767e-7  2.79369e-18\n",
       " 4.83e-18     2.2392e-7   5.81436e-18   202.824   1.78178e-7  1.54792e-18\n",
       " 2.67075e-18  1.3197e-7   3.21773e-18   123.027   1.0505e-7   8.56697e-19\n",
       " 1.47502e-18  7.76626e-8  1.77875e-18    74.6242  6.18417e-8  4.7361e-19 \n",
       " 8.1367e-19   4.56343e-8  9.82207e-19    45.2648  3.63495e-8  2.61539e-19"
      ]
     },
     "execution_count": 488,
     "metadata": {},
     "output_type": "execute_result"
    }
   ],
   "source": [
    "value.(L)[:, :, end]"
   ]
  },
  {
   "cell_type": "code",
   "execution_count": 489,
   "metadata": {},
   "outputs": [
    {
     "data": {
      "text/plain": [
       "2-dimensional DenseAxisArray{Float64,2,...} with index sets:\n",
       "    Dimension 1, 1:6\n",
       "    Dimension 2, 1:6\n",
       "And data, a 6×6 Array{Float64,2}:\n",
       " 1.44026e-18  9.98438e-8  1.74696e-18  114.958   7.96008e-8  4.65257e-19\n",
       " 9.43969e-19  8.01472e-8  1.15326e-18  109.484   6.39407e-8  3.07186e-19\n",
       " 6.10443e-19  6.29935e-8  7.54009e-19  104.27    5.02814e-8  2.00865e-19\n",
       " 3.88872e-19  4.85251e-8  4.88516e-19   99.3052  3.87481e-8  1.30153e-19\n",
       " 2.4329e-19   3.66748e-8  3.13807e-19   94.5764  2.92944e-8  8.36136e-20\n",
       " 1.48658e-19  2.72259e-8  1.99959e-19   90.0727  2.17522e-8  5.3283e-20 "
      ]
     },
     "execution_count": 489,
     "metadata": {},
     "output_type": "execute_result"
    }
   ],
   "source": [
    "value.(P)[:, :, end]"
   ]
  },
  {
   "cell_type": "code",
   "execution_count": 490,
   "metadata": {},
   "outputs": [
    {
     "data": {
      "text/plain": [
       "2-dimensional DenseAxisArray{Float64,2,...} with index sets:\n",
       "    Dimension 1, 1:1\n",
       "    Dimension 2, 1:6\n",
       "And data, a 1×6 Array{Float64,2}:\n",
       " 3.42628e-7  3.72979e-7  3.42628e-7  500.404  3.66887e-7  3.42628e-7"
      ]
     },
     "execution_count": 490,
     "metadata": {},
     "output_type": "execute_result"
    }
   ],
   "source": [
    "value.(M)[:, :, end]"
   ]
  },
  {
   "cell_type": "code",
   "execution_count": 491,
   "metadata": {},
   "outputs": [
    {
     "data": {
      "text/plain": [
       "1-dimensional DenseAxisArray{Float64,1,...} with index sets:\n",
       "    Dimension 1, 1:6\n",
       "And data, a 6-element Array{Float64,1}:\n",
       "   9.509098856574278e-20 \n",
       "   3.035110841201071e-8  \n",
       "   1.5695163512787512e-19\n",
       " 500.4040156921546       \n",
       "   2.425931833151782e-8  \n",
       "   4.182889945701641e-20 "
      ]
     },
     "execution_count": 491,
     "metadata": {},
     "output_type": "execute_result"
    }
   ],
   "source": [
    "value.(F)[:, 4, end]"
   ]
  },
  {
   "cell_type": "code",
   "execution_count": null,
   "metadata": {},
   "outputs": [],
   "source": []
  }
 ],
 "metadata": {
  "kernelspec": {
   "display_name": "Julia 1.1.0",
   "language": "julia",
   "name": "julia-1.1"
  },
  "language_info": {
   "file_extension": ".jl",
   "mimetype": "application/julia",
   "name": "julia",
   "version": "1.1.0"
  }
 },
 "nbformat": 4,
 "nbformat_minor": 2
}
