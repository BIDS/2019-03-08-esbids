{
 "cells": [
  {
   "cell_type": "markdown",
   "metadata": {},
   "source": [
    "## Decision Model Testing \n",
    "Preliminaries for .toml files "
   ]
  },
  {
   "cell_type": "code",
   "execution_count": 1,
   "metadata": {},
   "outputs": [],
   "source": [
    "cd(\"../TestDrive\")"
   ]
  },
  {
   "cell_type": "code",
   "execution_count": 2,
   "metadata": {},
   "outputs": [],
   "source": [
    "] activate ."
   ]
  },
  {
   "cell_type": "code",
   "execution_count": 14,
   "metadata": {},
   "outputs": [
    {
     "name": "stderr",
     "output_type": "stream",
     "text": [
      "┌ Info: Precompiling JuMP [4076af6c-e467-56ae-b986-b466b2749572]\n",
      "└ @ Base loading.jl:1186\n",
      "┌ Info: Precompiling Clp [e2554f3b-3117-50c0-817c-e040a3ddf72d]\n",
      "└ @ Base loading.jl:1186\n",
      "┌ Info: Recompiling stale cache file C:\\Users\\valer\\.julia\\compiled\\v1.1\\Ipopt\\yMQMo.ji for Ipopt [b6b21f68-93f8-5de0-b562-5493be1d77c9]\n",
      "└ @ Base loading.jl:1184\n",
      "┌ Info: Precompiling GLPK [60bf3e95-4087-53dc-ae20-288a0d20c6a6]\n",
      "└ @ Base loading.jl:1186\n"
     ]
    }
   ],
   "source": [
    "using JuMP, MathOptInterface, Clp, Ipopt, GLPK"
   ]
  },
  {
   "cell_type": "code",
   "execution_count": 15,
   "metadata": {},
   "outputs": [],
   "source": [
    "using PyPlot\n",
    "#using Plots\n",
    "#gr()\n",
    "; "
   ]
  },
  {
   "cell_type": "code",
   "execution_count": 16,
   "metadata": {},
   "outputs": [
    {
     "name": "stdout",
     "output_type": "stream",
     "text": [
      "\u001b[32m\u001b[1m  Updating\u001b[22m\u001b[39m registry at `C:\\Users\\valer\\.julia\\registries\\General`\n",
      "\u001b[32m\u001b[1m  Updating\u001b[22m\u001b[39m git-repo `https://github.com/JuliaRegistries/General.git`\n",
      "\u001b[?25l\u001b[2K\u001b[?25h\u001b[32m\u001b[1m  Updating\u001b[22m\u001b[39m git-repo `https://github.com/JuliaOpt/GLPK.jl.git`\n",
      "\u001b[?25l\u001b[2K\u001b[?25h\u001b[32m\u001b[1m  Updating\u001b[22m\u001b[39m git-repo `https://github.com/JuliaOpt/JuMP.jl.git`\n",
      "\u001b[?25l\u001b[2K\u001b[?25h\u001b[32m\u001b[1m  Updating\u001b[22m\u001b[39m git-repo `https://github.com/JuliaOpt/Ipopt.jl.git`\n",
      "\u001b[?25l\u001b[2K\u001b[?25h\u001b[32m\u001b[1m  Updating\u001b[22m\u001b[39m git-repo `https://github.com/JuliaOpt/MathOptInterface.jl.git`\n",
      "\u001b[?25l\u001b[2K\u001b[?25h\u001b[32m\u001b[1m Resolving\u001b[22m\u001b[39m package versions...\n",
      "\u001b[32m\u001b[1m  Updating\u001b[22m\u001b[39m `C:\\Users\\valer\\Dropbox\\Berkeley\\Code\\Modelling_TrialRuns\\TestDrive\\Project.toml`\n",
      "\u001b[90m [no changes]\u001b[39m\n",
      "\u001b[32m\u001b[1m  Updating\u001b[22m\u001b[39m `C:\\Users\\valer\\Dropbox\\Berkeley\\Code\\Modelling_TrialRuns\\TestDrive\\Manifest.toml`\n",
      "\u001b[90m [no changes]\u001b[39m\n"
     ]
    }
   ],
   "source": [
    "] up "
   ]
  },
  {
   "cell_type": "code",
   "execution_count": 17,
   "metadata": {},
   "outputs": [
    {
     "name": "stderr",
     "output_type": "stream",
     "text": [
      "WARNING: redefining constant tstop1\n",
      "WARNING: redefining constant tstop2\n",
      "WARNING: redefining constant tstop3\n",
      "WARNING: redefining constant tstop4\n",
      "WARNING: redefining constant tstop5\n",
      "WARNING: redefining constant tstop6\n",
      "WARNING: redefining constant tstop7\n",
      "WARNING: redefining constant tstop8\n",
      "WARNING: redefining constant tstop9\n",
      "WARNING: redefining constant tstop10\n",
      "WARNING: redefining constant tstop\n"
     ]
    },
    {
     "data": {
      "text/plain": [
       "population_model_network (generic function with 1 method)"
      ]
     },
     "execution_count": 17,
     "metadata": {},
     "output_type": "execute_result"
    }
   ],
   "source": [
    "include(\"src/TestDrive.jl\")"
   ]
  },
  {
   "cell_type": "markdown",
   "metadata": {},
   "source": [
    "### Create scenario\n",
    "To invoke the structs and data used in the popgen model for a single node"
   ]
  },
  {
   "cell_type": "code",
   "execution_count": 18,
   "metadata": {},
   "outputs": [],
   "source": [
    "# REMOVE MIGRATION FROM NODES FOR FUTURE USE - \n",
    "# SHOULD ONLY OCCUR IN NETWORK STRUCT: \n",
    "migrate1 = rand((6*(4+8+6+1+6)), 2, 2) \n",
    "\n",
    "# User-named node  \n",
    "firstnode = :FirstNode\n",
    "\n",
    "# User-constructed node: (name, gene_data, stages, location, migration_matrix)\n",
    "node = Node(:FirstNode, genetics_mcr, stages_aedes, temp_none, (37.87, 122.27), migrate1)\n",
    "\n",
    ";"
   ]
  },
  {
   "cell_type": "markdown",
   "metadata": {},
   "source": [
    "Go as far as initiating the u0: this can be done in the same way for both decision and popgen models"
   ]
  },
  {
   "cell_type": "code",
   "execution_count": 19,
   "metadata": {},
   "outputs": [],
   "source": [
    "# init_node!(desired_node, gene_index)\n",
    "u0 = init_node!(node, 4)\n",
    ";"
   ]
  },
  {
   "cell_type": "markdown",
   "metadata": {},
   "source": [
    "Extract necessary information from scenario "
   ]
  },
  {
   "cell_type": "code",
   "execution_count": 20,
   "metadata": {},
   "outputs": [],
   "source": [
    "# Network elements \n",
    "# node_count = length(get_nodes(network))\n",
    "\n",
    "# Genetics elements \n",
    "genetics = get_genetics(node)\n",
    "gN = length(genetics.all_genotypes)\n",
    "cube = genetics.cube\n",
    "S = genetics.S\n",
    "Τ = genetics.Τ\n",
    "Β = genetics.Β\n",
    "Φ = genetics.Φ\n",
    "Η = genetics.Η\n",
    "\n",
    ";"
   ]
  },
  {
   "cell_type": "code",
   "execution_count": 21,
   "metadata": {},
   "outputs": [],
   "source": [
    "# Lifestage elements \n",
    "(e, l, p, m, f) = get_allstages(node)\n",
    "\n",
    "# Mortality \n",
    "μE = e.μ\n",
    "μL = l.μ\n",
    "μP = p.μ\n",
    "μM = m.μ\n",
    "μF = f.μ\n",
    "\n",
    "# Substages \n",
    "nE = e.n\n",
    "nL = l.n\n",
    "nP = p.n\n",
    "nM = m.n\n",
    "nF = f.n\n",
    "\n",
    "# Duration (only juveniles for now - though this should/might change with migration implemented)\n",
    "qE = e.q\n",
    "qL = l.q\n",
    "qP = p.q\n",
    "\n",
    "# Density \n",
    "densE = e.density\n",
    "densL = l.density \n",
    "densP = p.density \n",
    "densM = m.density\n",
    "densF = f.density \n",
    "\n",
    ";"
   ]
  },
  {
   "cell_type": "code",
   "execution_count": 22,
   "metadata": {},
   "outputs": [
    {
     "data": {
      "text/plain": [
       "Density{LogisticDens}(LogisticDens, 355.0)"
      ]
     },
     "execution_count": 22,
     "metadata": {},
     "output_type": "execute_result"
    }
   ],
   "source": [
    "l.density"
   ]
  },
  {
   "cell_type": "markdown",
   "metadata": {},
   "source": [
    "### Create model\n",
    "Create model object and define solver"
   ]
  },
  {
   "cell_type": "code",
   "execution_count": 11,
   "metadata": {},
   "outputs": [
    {
     "ename": "UndefVarError",
     "evalue": "UndefVarError: Ipopt not defined",
     "output_type": "error",
     "traceback": [
      "UndefVarError: Ipopt not defined",
      "",
      "Stacktrace:",
      " [1] top-level scope at In[11]:1"
     ]
    }
   ],
   "source": [
    "model = Model(with_optimizer(Ipopt.Optimizer))\n",
    ";"
   ]
  },
  {
   "cell_type": "markdown",
   "metadata": {},
   "source": [
    "### Define sets \n",
    "Where every set is a dimension, and not all the variables are necessarily subject to all the sets "
   ]
  },
  {
   "cell_type": "code",
   "execution_count": 12,
   "metadata": {},
   "outputs": [],
   "source": [
    "# Time\n",
    "T = 1:10\n",
    "\n",
    "# Stages and substages\n",
    "SE = 1:nE\n",
    "SL = 1:nL\n",
    "SP = 1:nP\n",
    "SM = 1:nM\n",
    "SF = 1:nF*gN  \n",
    "\n",
    "# Genetics\n",
    "G = 1:gN\n",
    "\n",
    "# Nodes \n",
    "# N = 1:node_count\n",
    "\n",
    ";"
   ]
  },
  {
   "cell_type": "markdown",
   "metadata": {},
   "source": [
    "### Define variables \n",
    "Each state or control that must be calculated using a decision variable"
   ]
  },
  {
   "cell_type": "code",
   "execution_count": 13,
   "metadata": {},
   "outputs": [],
   "source": [
    "# Oviposition (produce eggsnew)\n",
    "@variable(model, V[G,T] >= 0) ### Check that these sets are correct: Lacking any?\n",
    "\n",
    "# Eggs\n",
    "@variable(model, E[SE,G,T] >= 0)\n",
    "\n",
    "# Larvae \n",
    "@variable(model, L[SL,G,T] >= 0)\n",
    "\n",
    "# Pupae\n",
    "@variable(model, P[SP,G,T] >= 0)\n",
    "\n",
    "# Males \n",
    "@variable(model, M[SM,G,T] >= 0)\n",
    "\n",
    "# Mating (produce matematrix)\n",
    "@variable(model, X[G,T] >= 0) ### Check that these sets are correct: Need SP here?\n",
    "\n",
    "# Females\n",
    "@variable(model, F[SF,G,T] >= 0)\n",
    ";"
   ]
  },
  {
   "cell_type": "code",
   "execution_count": null,
   "metadata": {},
   "outputs": [],
   "source": [
    "E[se = [1:2], :, :]\n",
    "\n",
    "#[g = [\"hulk\"],t =T[1]]"
   ]
  },
  {
   "cell_type": "code",
   "execution_count": null,
   "metadata": {},
   "outputs": [],
   "source": [
    "#@variable(m, x_t <= 1)\n",
    "#has_upper_bound(x_t)\n",
    "lower_bound.(F) # have to change syntax because mine contains sets, example x_t does not. \n",
    ";"
   ]
  },
  {
   "cell_type": "markdown",
   "metadata": {},
   "source": [
    "### Define constraints \n",
    "The dynamic equations of the model that employ a decision variable"
   ]
  },
  {
   "cell_type": "code",
   "execution_count": 38,
   "metadata": {},
   "outputs": [
    {
     "ename": "ErrorException",
     "evalue": "Broadcast operations with multiple DenseAxisArrays are not yet supported.",
     "output_type": "error",
     "traceback": [
      "Broadcast operations with multiple DenseAxisArrays are not yet supported.",
      "",
      "Stacktrace:",
      " [1] error(::String) at ./error.jl:33",
      " [2] broadcasted at /Users/vnvasquez/.julia/packages/JuMP/Gt8tC/src/Containers/DenseAxisArray.jl:242 [inlined]",
      " [3] broadcasted at ./broadcast.jl:1167 [inlined]",
      " [4] broadcast at ./broadcast.jl:707 [inlined]",
      " [5] destructive_add!(::JuMP.Containers.DenseAxisArray{VariableRef,3,Tuple{UnitRange{Int64},UnitRange{Int64},UnitRange{Int64}},Tuple{Dict{Int64,Int64},Dict{Int64,Int64},Dict{Int64,Int64}}}, ::Float64, ::JuMP.Containers.DenseAxisArray{VariableRef,3,Tuple{UnitRange{Int64},UnitRange{Int64},UnitRange{Int64}},Tuple{Dict{Int64,Int64},Dict{Int64,Int64},Dict{Int64,Int64}}}) at /Users/vnvasquez/.julia/packages/JuMP/Gt8tC/src/parse_expr.jl:309",
      " [6] macro expansion at /Users/vnvasquez/.julia/packages/JuMP/Gt8tC/src/parse_expr.jl:331 [inlined]",
      " [7] _destructive_add_with_reorder!(::JuMP.Containers.DenseAxisArray{VariableRef,3,Tuple{UnitRange{Int64},UnitRange{Int64},UnitRange{Int64}},Tuple{Dict{Int64,Int64},Dict{Int64,Int64},Dict{Int64,Int64}}}, ::Float64, ::Float64, ::Int64, ::JuMP.Containers.DenseAxisArray{VariableRef,3,Tuple{UnitRange{Int64},UnitRange{Int64},UnitRange{Int64}},Tuple{Dict{Int64,Int64},Dict{Int64,Int64},Dict{Int64,Int64}}}) at /Users/vnvasquez/.julia/packages/JuMP/Gt8tC/src/parse_expr.jl:331",
      " [8] top-level scope at /Users/vnvasquez/.julia/packages/JuMP/Gt8tC/src/macros.jl:390",
      " [9] top-level scope at In[38]:1"
     ]
    }
   ],
   "source": [
    "# Oviposition (produce eggsnew)\n",
    "#@constraint(model,con, V[:,:] == sum(cube.*Τ.*S*Β.*F)) \n",
    "### Check: including sets in defining constraint \"V\" throws an error - why?\n",
    "\n",
    "# Eggs\n",
    "#@constraint(model,con, E[1, :, :] == V[#= should there be indices here? =#] - E[2,:,:] * (μL * densE + qE * nE))\n",
    "\n",
    "#eggb[g = [\"bruce\"],t = T[2:end]],\n",
    "\n",
    "\n",
    "@constraint(model,con, E[SE, G, T] ==  qE*nE*E[:,:,:] - E[:,:,:]*(μL*densE + qE*nE))\n",
    "\n",
    "# Larvae \n",
    "\n",
    "\n",
    "# Pupae\n",
    "\n",
    "\n"
   ]
  },
  {
   "cell_type": "code",
   "execution_count": null,
   "metadata": {},
   "outputs": [],
   "source": [
    "# Males \n",
    "\n",
    "\n",
    "# Mating (produce matematrix)\n",
    "\n",
    "\n",
    "# Females \n",
    "\n",
    "\n"
   ]
  }
 ],
 "metadata": {
  "kernelspec": {
   "display_name": "Julia 1.1.0",
   "language": "julia",
   "name": "julia-1.1"
  },
  "language_info": {
   "file_extension": ".jl",
   "mimetype": "application/julia",
   "name": "julia",
   "version": "1.1.0"
  }
 },
 "nbformat": 4,
 "nbformat_minor": 2
}
