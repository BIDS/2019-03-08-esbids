{
 "cells": [
  {
   "cell_type": "markdown",
   "metadata": {},
   "source": [
    "## Decision Model Testing \n",
    "Preliminaries for .toml files "
   ]
  },
  {
   "cell_type": "code",
   "execution_count": 1,
   "metadata": {},
   "outputs": [],
   "source": [
    "cd(\"../TestDrive\")"
   ]
  },
  {
   "cell_type": "code",
   "execution_count": 2,
   "metadata": {},
   "outputs": [],
   "source": [
    "] activate ."
   ]
  },
  {
   "cell_type": "code",
   "execution_count": 3,
   "metadata": {},
   "outputs": [],
   "source": [
    "using JuMP, Ipopt, GLPK"
   ]
  },
  {
   "cell_type": "code",
   "execution_count": 4,
   "metadata": {},
   "outputs": [],
   "source": [
    "using PyPlot\n",
    "#using Plots\n",
    "#gr()\n",
    "; "
   ]
  },
  {
   "cell_type": "code",
   "execution_count": 5,
   "metadata": {},
   "outputs": [
    {
     "data": {
      "text/plain": [
       "population_model_network (generic function with 1 method)"
      ]
     },
     "execution_count": 5,
     "metadata": {},
     "output_type": "execute_result"
    }
   ],
   "source": [
    "include(\"src/TestDrive.jl\")"
   ]
  },
  {
   "cell_type": "markdown",
   "metadata": {},
   "source": [
    "### Create scenario\n",
    "To invoke the structs and data used in the popgen model for a single node"
   ]
  },
  {
   "cell_type": "code",
   "execution_count": 6,
   "metadata": {},
   "outputs": [],
   "source": [
    "# REMOVE MIGRATION FROM NODES FOR FUTURE USE - \n",
    "# SHOULD ONLY OCCUR IN NETWORK STRUCT: \n",
    "migrate1 = rand((6*(4+8+6+1+6)), 2, 2) \n",
    "\n",
    "# User-named node  \n",
    "firstnode = :FirstNode\n",
    "\n",
    "# User-constructed node: (name, gene_data, stages, location, migration_matrix)\n",
    "node = Node(:FirstNode, genetics_mcr, stages_aedes, temp_none, (37.87, 122.27), migrate1)\n",
    "\n",
    ";"
   ]
  },
  {
   "cell_type": "markdown",
   "metadata": {},
   "source": [
    "Go as far as initiating the u0: this can be done in the same way for both decision and popgen models"
   ]
  },
  {
   "cell_type": "code",
   "execution_count": 7,
   "metadata": {},
   "outputs": [],
   "source": [
    "# init_node!(desired_node, gene_index)\n",
    "u0 = init_node!(node, 4)\n",
    ";"
   ]
  },
  {
   "cell_type": "markdown",
   "metadata": {},
   "source": [
    "Extract necessary information from scenario "
   ]
  },
  {
   "cell_type": "code",
   "execution_count": 8,
   "metadata": {},
   "outputs": [],
   "source": [
    "# Network elements \n",
    "# node_count = length(get_nodes(network))\n",
    "\n",
    "# Genetics elements \n",
    "genetics = get_genetics(node)\n",
    "gN = length(genetics.all_genotypes)\n",
    "cube = genetics.cube\n",
    "S = genetics.S\n",
    "Τ = genetics.Τ\n",
    "Β = genetics.Β\n",
    "Φ = genetics.Φ\n",
    "Η = genetics.Η\n",
    "\n",
    ";"
   ]
  },
  {
   "cell_type": "code",
   "execution_count": 9,
   "metadata": {},
   "outputs": [],
   "source": [
    "# Lifestage elements \n",
    "(e, l, p, m, f) = get_allstages(node)\n",
    "\n",
    "# Mortality \n",
    "μE = e.μ\n",
    "μL = l.μ\n",
    "μP = p.μ\n",
    "μM = m.μ\n",
    "μF = f.μ\n",
    "\n",
    "# Substages \n",
    "nE = e.n\n",
    "nL = l.n\n",
    "nP = p.n\n",
    "nM = m.n\n",
    "nF = f.n\n",
    "\n",
    "# Duration (only juveniles for now - though this should/might change with migration implemented)\n",
    "qE = e.q\n",
    "qL = l.q\n",
    "qP = p.q\n",
    "\n",
    "# Density \n",
    "densE = e.density\n",
    "densL = l.density \n",
    "densP = p.density \n",
    "densM = m.density\n",
    "densF = f.density \n",
    "\n",
    ";"
   ]
  },
  {
   "cell_type": "markdown",
   "metadata": {},
   "source": [
    "### Define sets \n",
    "Where every set is a dimension, and not all the variables are necessarily subject to all the sets "
   ]
  },
  {
   "cell_type": "code",
   "execution_count": 239,
   "metadata": {},
   "outputs": [],
   "source": [
    "# Time\n",
    "T = 1:15\n",
    "\n",
    "# Stages and substages\n",
    "SE = 1:nE\n",
    "SL = 1:nL\n",
    "SP = 1:nP\n",
    "SM = 1:nM\n",
    "SF = 1:nF*gN\n",
    "\n",
    "# Genetics\n",
    "G = 1:gN\n",
    "\n",
    "# Nodes \n",
    "# N = 1:node_count\n",
    "\n",
    "# Slicing u0 \n",
    "E0 = u0[SE,:]\n",
    "L0 = u0[nE+1:nL+nE,:]\n",
    "P0 = u0[nE+nL+1:nE+nL+nP,:]\n",
    "M0 = u0[nE+nL+nP+1,:]'\n",
    "F0 = u0[nE+nL+nP+2:end,:];"
   ]
  },
  {
   "cell_type": "markdown",
   "metadata": {},
   "source": [
    "### Define model and choose solver \n",
    "NB: Ipopt best for now"
   ]
  },
  {
   "cell_type": "code",
   "execution_count": 240,
   "metadata": {},
   "outputs": [],
   "source": [
    "model = Model(with_optimizer(Ipopt.Optimizer));"
   ]
  },
  {
   "cell_type": "markdown",
   "metadata": {},
   "source": [
    "### Define variables \n",
    "Each state or control that must be calculated using a decision variable"
   ]
  },
  {
   "cell_type": "code",
   "execution_count": 241,
   "metadata": {},
   "outputs": [],
   "source": [
    "# Eggs\n",
    "@variable(model, E[SE, G, T] >= 0)\n",
    "#set_start_value.(E[:,:,1].data, E0)\n",
    "\n",
    "# Larvae \n",
    "@variable(model, L[SL, G, T] >= 0)\n",
    "#set_start_value.(L[:,:,1].data, L0)\n",
    "\n",
    "# Pupae\n",
    "@variable(model, P[SP, G, T] >= 0)\n",
    "#set_start_value.(P[:,:,1].data, P0)\n",
    "\n",
    "# Males \n",
    "@variable(model, M[SM, G, T] >= 0)\n",
    "#set_start_value.(M[:,:,1].data, M0)\n",
    "\n",
    "# Females\n",
    "@variable(model, F[SF, G, T] >= 0)\n",
    "#set_start_value.(F[:,:,1].data, F0)\n",
    "\n",
    "# test the addition of modified organisms \n",
    "#@variable(model, 0.0 <= control[G, T] <= 20) \n",
    "@variable(model, 0.0 <= control[G, T]) \n",
    "\n",
    "# Fix the control so that only HH (g = 1) can be added to system \n",
    "for g in G[2:end] \n",
    "    fix.(control[g, :], 0.0; force = true)\n",
    "end\n",
    "fix.(control[:, 1], 0.0; force = true)\n",
    ";"
   ]
  },
  {
   "cell_type": "code",
   "execution_count": 242,
   "metadata": {},
   "outputs": [],
   "source": [
    "for t in T\n",
    "    set_start_value.(E[:,:,t].data, E0)\n",
    "    set_start_value.(F[:,:,t].data, F0)\n",
    "    set_start_value.(M[:,:,t].data, M0)\n",
    "    set_start_value.(L[:,:,t].data, L0)\n",
    "    set_start_value.(P[:,:,t].data, P0)\n",
    "end"
   ]
  },
  {
   "cell_type": "markdown",
   "metadata": {},
   "source": [
    "### Define constraints \n",
    "The dynamic equations of the model that employ a decision variable"
   ]
  },
  {
   "cell_type": "markdown",
   "metadata": {},
   "source": [
    "EGGS"
   ]
  },
  {
   "cell_type": "code",
   "execution_count": 243,
   "metadata": {},
   "outputs": [],
   "source": [
    "# Eggs\n",
    "@constraint(model, E_con_A0[s = SE[1], g = G, t = T[1]],         \n",
    "                   E[s, g, t] == E0[s, g] + \n",
    "                                 sum(cube[:,:,g].*Τ[:,:,g].*S[g]*Β[g].*F[:,:,t].data) - \n",
    "                                  E[s, g, t] * (μE*compute_density(densE, sum(E[:, :, t])) + qE*nE))\n",
    ";"
   ]
  },
  {
   "cell_type": "code",
   "execution_count": 244,
   "metadata": {},
   "outputs": [],
   "source": [
    "@constraint(model, E_con_A1[s = SE[1], g = G, t = T[2:end]],         \n",
    "                   E[s, g, t] ==  E[s, g, t-1] +\n",
    "                                  sum(cube[:,:,g].*Τ[:,:,g].*S[g]*Β[g].*F[:,:,t].data) - \n",
    "                                  E[s, g, t] * (μE*compute_density(densE, sum(E[:, :, t])) + qE*nE))\n",
    "\n",
    ";"
   ]
  },
  {
   "cell_type": "code",
   "execution_count": 245,
   "metadata": {},
   "outputs": [],
   "source": [
    "# Keep or no? \n",
    "@constraint(model, E_con_B0[s = SE[2:end], g = G, t = T[1]] ,    \n",
    "                  E[s, g, t] ==   E0[s, g] + \n",
    "                                  qE*nE*E[s-1, g, t] - \n",
    "                                  E[s, g, t] * (μE*compute_density(densE, sum(E[:, :, t])) + qE*nE))\n",
    ";"
   ]
  },
  {
   "cell_type": "code",
   "execution_count": 246,
   "metadata": {},
   "outputs": [],
   "source": [
    "@constraint(model, E_con_B1[s = SE[2:end], g = G, t = T[2:end]] ,    \n",
    "                  E[s, g, t] ==   E[s, g, t-1] +\n",
    "                                  qE*nE*E[s-1, g, t] - \n",
    "                                  E[s, g, t] * (μE*compute_density(densE, sum(E[:, :, t])) + qE*nE))\n",
    ";"
   ]
  },
  {
   "cell_type": "markdown",
   "metadata": {},
   "source": [
    "LARVAE"
   ]
  },
  {
   "cell_type": "code",
   "execution_count": 247,
   "metadata": {},
   "outputs": [],
   "source": [
    "# Larvae \n",
    "@constraint(model, L_con_A0[s = SL[1], g = G, t = T[1]],         \n",
    "                   L[s, g, t] ==  L0[s, g] +\n",
    "                                  qE * nE * E[end,g,t] -\n",
    "                                  L[s, g, t] * (μL*compute_density(densL, sum(L[:, :, t])) + qL*nL))\n",
    "\n",
    ";"
   ]
  },
  {
   "cell_type": "code",
   "execution_count": 248,
   "metadata": {},
   "outputs": [],
   "source": [
    "@constraint(model, L_con_A1[s = SL[1], g = G, t = T[2:end]],         \n",
    "                   L[s, g, t] ==  L[s, g, t-1] +\n",
    "                                  qE * nE * E[end,g,t] -\n",
    "                                  L[s, g, t] * (μL*compute_density(densL, sum(L[:, :, t])) + qL*nL))\n",
    "\n",
    ";"
   ]
  },
  {
   "cell_type": "code",
   "execution_count": 249,
   "metadata": {},
   "outputs": [],
   "source": [
    "@constraint(model, L_con_B0[s = SL[2:end], g = G, t = T[1]],  \n",
    "                   L[s, g, t] == L0[s, g] +\n",
    "                                 qL*nL*L[s-1, g, t] - \n",
    "                                 L[s, g, t] * (μL*compute_density(densL, sum(L[:, :, t])) + qL*nL))\n",
    "\n",
    ";"
   ]
  },
  {
   "cell_type": "code",
   "execution_count": 250,
   "metadata": {},
   "outputs": [],
   "source": [
    "@constraint(model, L_con_B1[s = SL[2:end], g = G, t = T[2:end]],  \n",
    "                   L[s, g, t] == L[s, g, t-1] + \n",
    "                                 qL*nL*L[s-1, g, t] - \n",
    "                                 L[s, g, t] * (μL*compute_density(densL, sum(L[:, :, t])) + qL*nL))\n",
    ";"
   ]
  },
  {
   "cell_type": "markdown",
   "metadata": {},
   "source": [
    "PUPAE"
   ]
  },
  {
   "cell_type": "code",
   "execution_count": 251,
   "metadata": {},
   "outputs": [],
   "source": [
    "# Pupae \n",
    "@constraint(model, P_con_A0[s = SP[1], g = G, t = T[1]],         \n",
    "                   P[s, g, t] ==  P0[s, g] +\n",
    "                                  qL * nL * L[end , g ,t] -\n",
    "                                  P[s, g, t] * (μP*compute_density(densP, sum(L[:, :, t])) + qP*nP))\n",
    "\n",
    ";"
   ]
  },
  {
   "cell_type": "code",
   "execution_count": 252,
   "metadata": {},
   "outputs": [],
   "source": [
    "@constraint(model, P_con_A1[s = SP[1], g = G, t = T[2:end]],         \n",
    "                   P[s, g, t] ==  P[s, g, t-1] + \n",
    "                                  qL * nL * L[end , g ,t] -\n",
    "                                  P[s, g, t] * (μP*compute_density(densP, sum(L[:, :, t])) + qP*nP))\n",
    "\n",
    ";"
   ]
  },
  {
   "cell_type": "code",
   "execution_count": 253,
   "metadata": {},
   "outputs": [],
   "source": [
    "@constraint(model, P_con_B0[s = SP[2:end], g = G, t = T[1]] ,  \n",
    "                   P[s, g, t] ==  P0[s, g] + \n",
    "                                  qP*nP*P[s-1, g, t] - \n",
    "                                  P[s, g, t] * (μP*compute_density(densP, sum(L[:, :, t])) + qP*nP))\n",
    "\n",
    ";"
   ]
  },
  {
   "cell_type": "code",
   "execution_count": 254,
   "metadata": {},
   "outputs": [],
   "source": [
    "@constraint(model, P_con_B1[s = SP[2:end], g = G, t = T[2:end]] ,  \n",
    "                   P[s, g, t] ==  P[s, g, t-1] + \n",
    "                                  qP*nP*P[s-1, g, t] - \n",
    "                                  P[s, g, t] * (μP*compute_density(densP, sum(L[:, :, t])) + qP*nP))\n",
    "\n",
    ";"
   ]
  },
  {
   "cell_type": "markdown",
   "metadata": {},
   "source": [
    "MALES"
   ]
  },
  {
   "cell_type": "code",
   "execution_count": 255,
   "metadata": {},
   "outputs": [],
   "source": [
    "# Males \n",
    "\n",
    "@constraint(model, M_con_0[s = SM, g = G, t = T[1]],         \n",
    "                   M[s, g, t] ==  M0[s, g] +\n",
    "                                  (1-Φ[g]) * qP * nP * P[end , g ,t] -\n",
    "                                  μM * M[s, g, t] * compute_density(densM, sum(M[:, :, t])))\n",
    "\n",
    "# TODO: Figure out how to implement controls here correctly\n",
    ";"
   ]
  },
  {
   "cell_type": "code",
   "execution_count": 256,
   "metadata": {},
   "outputs": [],
   "source": [
    "@constraint(model, M_con_1[s = SM, g = G, t = T[2:end]],         \n",
    "                   M[s, g, t] ==  M[s, g, t-1] +\n",
    "                                  (1-Φ[g]) * qP * nP * P[end , g ,t] -\n",
    "                                  μM * M[s, g, t] * compute_density(densM, sum(M[:, :, t])) + control[g, t])\n",
    ";"
   ]
  },
  {
   "cell_type": "markdown",
   "metadata": {},
   "source": [
    "FEMALES"
   ]
  },
  {
   "cell_type": "code",
   "execution_count": 257,
   "metadata": {},
   "outputs": [],
   "source": [
    "#= getting rid of the NLconstraint, attempt1\n",
    "@constraint(model, F_con_test0[s = SF, g = G, t = T[1]], \n",
    "    \n",
    "    F[s,g,t]*sum(M[1, g, t]*Η[g]) == F0[s, g]*sum(M[1,g,t]*Η[g]) + \n",
    "    \n",
    "    (M[1,s,t]*Η[s])*(Φ[g]*qP*nP*P[end,g,t]) -\n",
    "    \n",
    "    μF*F[s, g, t]*sum(M[1, g, t]*Η[g])) \n",
    "    \n",
    "    # * compute_density(densF, sum(F[:, :, t])) * sum(M[1, g, t]*Η[g]))\n",
    "=#\n",
    "\n",
    ";"
   ]
  },
  {
   "cell_type": "code",
   "execution_count": 258,
   "metadata": {},
   "outputs": [],
   "source": [
    "#original stage 0F\n",
    "\n",
    "@NLconstraint(model, F_con_0[s = SF, g = G, t = T[1]], \n",
    "            F[s, g, t] == F0[s, g] + \n",
    "                        (M[1, s, t]*Η[s]/(1e-6 + sum(M[1, i, t]*Η[i] for i in G))*(Φ[g] * qP * nP * P[end, g, t]) -\n",
    "                         μF * F[s, g, t])) # * compute_density(densF, sum(F[:, :, t])))\n",
    "\n",
    "\n",
    "\n",
    "# Note difference necessary in S index definition between M terms and F terms + indexing fix addressing transpose of M values (s vs g)\n",
    "# Re-include compute_density after reformulating so as not to use @NLconstraint\n",
    "\n",
    "# Notes on next steps: Need to figure out how to make the division of the sum of a vector into a quadratic. \n",
    "# This will enable to problem to become a convex QCQP (quadratic in the constraint as well as objective function)\n",
    "# Values here are all positive -> therefore convex, and won't blow up because doesn't cross 0.\n",
    "# For confirmation see: https://math.stackexchange.com/questions/1622113/proving-1-x-is-convex-without-differentiating\n",
    "# Original thought doesn't work: log of a quotient = log(numerator) - log(denominator) \n",
    ";"
   ]
  },
  {
   "cell_type": "code",
   "execution_count": 259,
   "metadata": {},
   "outputs": [],
   "source": [
    "#= getting rid of the NLconstraint, attempt1\n",
    "@constraint(model, F_con_test1[s = SF, g = G, t = T[2:end]], \n",
    "    \n",
    "    F[s,g,t]*sum(M[1, g, t]*Η[g]) == F[s, g, t-1]*sum(M[1,g,t]*Η[g]) + \n",
    "    \n",
    "    (M[1,s,t]*Η[s])*(Φ[g]*qP*nP*P[end,g,t]) -\n",
    "    \n",
    "    μF*F[s, g, t]*sum(M[1, g, t]*Η[g])) \n",
    "    \n",
    "    # * compute_density(densF, sum(F[:, :, t])) * sum(M[1, g, t]*Η[g]))\n",
    "=#\n",
    ";"
   ]
  },
  {
   "cell_type": "code",
   "execution_count": 260,
   "metadata": {},
   "outputs": [],
   "source": [
    "#original stage 1F\n",
    "\n",
    "@NLconstraint(model, F_con_1[s = SF, g = G, t = T[2:end]], \n",
    "            F[s, g, t] == F[s, g, t-1] + \n",
    "                        (M[1, s, t]*Η[s]/(1e-6+sum(M[1, i, t]*Η[i] for i in G))*(Φ[s] * qP * nP * P[end, g, t]) -\n",
    "                         μF * F[s, g, t])) # * compute_density(densF, sum(F[:, :, t])))\n",
    "\n",
    "\n",
    "# See note above re: required difference in S index \n",
    "# See note above re: density in F\n",
    "# NB:  eps() is unrecognized here, used 1e-6 instead\n",
    ";"
   ]
  },
  {
   "cell_type": "markdown",
   "metadata": {},
   "source": [
    "### Place a constraint on the controls \n",
    "NB that this goes beyond the variable constraint, which applies per time step, to put a cap on total controls permitted over the entire time period. "
   ]
  },
  {
   "cell_type": "code",
   "execution_count": 261,
   "metadata": {},
   "outputs": [
    {
     "data": {
      "text/latex": [
       "control_limits : $ control_{1,1} + control_{2,1} + control_{3,1} + control_{4,1} + control_{5,1} + control_{6,1} + control_{1,2} + control_{2,2} + control_{3,2} + control_{4,2} + control_{5,2} + control_{6,2} + control_{1,3} + control_{2,3} + control_{3,3} + control_{4,3} + control_{5,3} + control_{6,3} + control_{1,4} + control_{2,4} + control_{3,4} + control_{4,4} + control_{5,4} + control_{6,4} + control_{1,5} + control_{2,5} + control_{3,5} + control_{4,5} + control_{5,5} + control_{6,5} + control_{1,6} + control_{2,6} + control_{3,6} + control_{4,6} + control_{5,6} + control_{6,6} + control_{1,7} + control_{2,7} + control_{3,7} + control_{4,7} + control_{5,7} + control_{6,7} + control_{1,8} + control_{2,8} + control_{3,8} + control_{4,8} + control_{5,8} + control_{6,8} + control_{1,9} + control_{2,9} + control_{3,9} + control_{4,9} + control_{5,9} + control_{6,9} + control_{1,10} + control_{2,10} + control_{3,10} + control_{4,10} + control_{5,10} + control_{6,10} + control_{1,11} + control_{2,11} + control_{3,11} + control_{4,11} + control_{5,11} + control_{6,11} + control_{1,12} + control_{2,12} + control_{3,12} + control_{4,12} + control_{5,12} + control_{6,12} + control_{1,13} + control_{2,13} + control_{3,13} + control_{4,13} + control_{5,13} + control_{6,13} + control_{1,14} + control_{2,14} + control_{3,14} + control_{4,14} + control_{5,14} + control_{6,14} + control_{1,15} + control_{2,15} + control_{3,15} + control_{4,15} + control_{5,15} + control_{6,15} \\leq 500.0 $"
      ],
      "text/plain": [
       "control_limits : control[1,1] + control[2,1] + control[3,1] + control[4,1] + control[5,1] + control[6,1] + control[1,2] + control[2,2] + control[3,2] + control[4,2] + control[5,2] + control[6,2] + control[1,3] + control[2,3] + control[3,3] + control[4,3] + control[5,3] + control[6,3] + control[1,4] + control[2,4] + control[3,4] + control[4,4] + control[5,4] + control[6,4] + control[1,5] + control[2,5] + control[3,5] + control[4,5] + control[5,5] + control[6,5] + control[1,6] + control[2,6] + control[3,6] + control[4,6] + control[5,6] + control[6,6] + control[1,7] + control[2,7] + control[3,7] + control[4,7] + control[5,7] + control[6,7] + control[1,8] + control[2,8] + control[3,8] + control[4,8] + control[5,8] + control[6,8] + control[1,9] + control[2,9] + control[3,9] + control[4,9] + control[5,9] + control[6,9] + control[1,10] + control[2,10] + control[3,10] + control[4,10] + control[5,10] + control[6,10] + control[1,11] + control[2,11] + control[3,11] + control[4,11] + control[5,11] + control[6,11] + control[1,12] + control[2,12] + control[3,12] + control[4,12] + control[5,12] + control[6,12] + control[1,13] + control[2,13] + control[3,13] + control[4,13] + control[5,13] + control[6,13] + control[1,14] + control[2,14] + control[3,14] + control[4,14] + control[5,14] + control[6,14] + control[1,15] + control[2,15] + control[3,15] + control[4,15] + control[5,15] + control[6,15] <= 500.0"
      ]
     },
     "execution_count": 261,
     "metadata": {},
     "output_type": "execute_result"
    }
   ],
   "source": [
    "@constraint(model, control_limits, sum(control) <= 500)"
   ]
  },
  {
   "cell_type": "markdown",
   "metadata": {},
   "source": [
    "### Define objective function\n",
    "In the case of one-shot optimization with no inequality constraints on equations OR variables, can simply optimize!() without an objective function necessary."
   ]
  },
  {
   "cell_type": "code",
   "execution_count": 262,
   "metadata": {},
   "outputs": [],
   "source": [
    "# No objective function (comment out the control in this case)\n",
    "# optimize!(model)"
   ]
  },
  {
   "cell_type": "markdown",
   "metadata": {},
   "source": [
    "When inequality constraints are included, define an objective function."
   ]
  },
  {
   "cell_type": "code",
   "execution_count": 263,
   "metadata": {},
   "outputs": [],
   "source": [
    "# When control is included \n",
    "@objective(model, Min, (sum(M[:,4,:].data.^2) + 1e-6*sum(control))); \n",
    "\n",
    "# For next step: try both with and without the square term -> \n",
    "# (with the square the alg is more rounded, easier to find solution in space)"
   ]
  },
  {
   "cell_type": "code",
   "execution_count": 264,
   "metadata": {},
   "outputs": [
    {
     "name": "stdout",
     "output_type": "stream",
     "text": [
      "This is Ipopt version 3.12.10, running with linear solver mumps.\n",
      "NOTE: Other linear solvers might be more efficient (see Ipopt documentation).\n",
      "\n",
      "Number of nonzeros in equality constraint Jacobian...:    79094\n",
      "Number of nonzeros in inequality constraint Jacobian.:       14\n",
      "Number of nonzeros in Lagrangian Hessian.............:    49695\n",
      "\n",
      "Total number of variables............................:     2264\n",
      "                     variables with only lower bounds:     2264\n",
      "                variables with lower and upper bounds:        0\n",
      "                     variables with only upper bounds:        0\n",
      "Total number of equality constraints.................:     2250\n",
      "Total number of inequality constraints...............:        1\n",
      "        inequality constraints with only lower bounds:        0\n",
      "   inequality constraints with lower and upper bounds:        0\n",
      "        inequality constraints with only upper bounds:        1\n",
      "\n",
      "iter    objective    inf_pr   inf_du lg(mu)  ||d||  lg(rg) alpha_du alpha_pr  ls\n",
      "   0  3.7560627e+06 1.59e+00 2.54e-01  -1.0 0.00e+00    -  0.00e+00 0.00e+00   0\n",
      "   1  3.7560610e+06 1.30e+00 1.34e+00  -1.0 2.03e-01    -  9.55e-02 1.81e-01h  1\n",
      "   2  3.7560595e+06 1.12e+00 1.11e+00  -1.0 4.18e-01    -  1.90e-01 1.39e-01h  1\n",
      "   3  3.7560568e+06 9.37e-01 9.39e-01  -1.0 7.69e-01    -  1.61e-01 1.64e-01h  1\n",
      "   4  3.7560502e+06 6.77e-01 5.32e+00  -1.0 1.14e+00    -  1.61e-01 2.78e-01h  1\n",
      "   5  3.7560148e+06 2.65e-02 1.64e+01  -1.0 1.79e+00    -  2.81e-01 9.61e-01h  1\n",
      "   6  3.7559545e+06 6.59e-03 5.06e+02  -1.0 3.36e+00    -  5.37e-01 7.51e-01h  1\n",
      "   7  3.7559440e+06 6.38e-03 5.22e+04  -1.0 1.27e+01    -  2.26e-01 3.21e-02h  1\n",
      "   8  3.7559300e+06 5.88e-03 7.14e+06  -1.0 5.22e+00    -  9.83e-01 7.84e-02h  1\n",
      "   9  3.7559223e+06 1.58e-03 2.94e+06  -1.0 2.41e-01    -  9.96e-01 7.32e-01h  1\n",
      "iter    objective    inf_pr   inf_du lg(mu)  ||d||  lg(rg) alpha_du alpha_pr  ls\n",
      "  10  3.7559216e+06 1.47e-05 4.21e+05  -1.0 2.15e-02    -  1.00e+00 9.91e-01h  1\n",
      "  11  3.7558794e+06 1.21e-05 1.41e+07  -1.0 8.96e+00    -  2.88e-01 1.73e-01h  2\n",
      "  12  3.7558296e+06 2.21e-05 1.31e+08  -1.0 1.98e+01    -  2.23e-01 9.15e-02f  1\n",
      "  13  3.7558106e+06 2.16e-05 5.41e+09  -1.0 6.09e+00    -  1.00e+00 1.12e-01h  1\n",
      "  14  3.7557648e+06 2.75e-05 3.32e+09  -1.0 6.69e+00    -  5.75e-01 2.50e-01h  3\n",
      "  15  3.7557340e+06 2.92e-05 5.71e+09  -1.0 8.93e+00    -  1.00e+00 1.25e-01h  4\n",
      "  16  3.7556989e+06 3.22e-05 4.91e+09  -1.0 1.02e+01    -  4.97e-01 1.25e-01h  4\n",
      "  17  3.7556788e+06 3.24e-05 7.43e+09  -1.0 1.17e+01    -  1.00e+00 6.25e-02h  5\n",
      "  18  3.7556573e+06 3.29e-05 6.77e+09  -1.0 1.24e+01    -  5.02e-01 6.25e-02h  5\n",
      "  19  3.7556345e+06 3.37e-05 8.12e+09  -1.0 1.33e+01    -  1.00e+00 6.25e-02h  5\n",
      "iter    objective    inf_pr   inf_du lg(mu)  ||d||  lg(rg) alpha_du alpha_pr  ls\n",
      "  20  3.7556223e+06 3.34e-05 7.73e+09  -1.0 1.42e+01    -  4.95e-01 3.12e-02f  6\n",
      "  21  3.7555971e+06 3.48e-05 8.75e+09  -1.0 1.46e+01    -  1.00e+00 6.25e-02f  5\n",
      "  22  3.7555702e+06 3.65e-05 8.06e+09  -1.0 1.56e+01    -  4.92e-01 6.25e-02f  5\n",
      "  23  3.7555415e+06 3.87e-05 9.50e+09  -1.0 1.66e+01    -  9.66e-01 6.25e-02f  5\n",
      "  24  3.7550526e+06 1.29e-03 1.94e+08  -1.0 1.77e+01    -  4.94e-01 1.00e+00w  1\n",
      "  25  3.7538975e+06 7.19e-03 2.69e+13  -1.0 4.21e+01    -  5.99e-04 1.00e+00f  1\n",
      "  26  3.7536056e+06 5.04e-04 2.31e+11  -1.0 1.09e+01    -  3.30e-01 1.00e+00f  1\n",
      "  27  3.7523935e+06 7.97e-03 1.02e+08  -1.0 4.44e+01    -  5.12e-01 1.00e+00f  1\n",
      "  28  3.7493286e+06 2.37e-03 8.85e+07  -1.0 1.27e+02    -  1.29e-01 1.00e+00F  1\n",
      "  29  3.7425486e+06 2.43e-01 6.29e+07  -1.0 2.53e+02    -  2.89e-01 1.00e+00f  1\n",
      "iter    objective    inf_pr   inf_du lg(mu)  ||d||  lg(rg) alpha_du alpha_pr  ls\n",
      "  30  3.7311472e+06 7.32e-01 5.26e+07  -1.0 4.41e+02    -  1.64e-01 1.00e+00f  1\n",
      "  31  3.7070654e+06 3.15e+00 4.42e+07  -1.0 9.86e+02    -  1.60e-01 1.00e+00f  1\n",
      "  32  3.7044558e+06 2.95e+00 3.68e+07  -1.0 1.43e+03    -  1.68e-01 8.53e-02f  1\n",
      "  33  3.7044328e+06 2.95e+00 2.77e+07  -1.0 1.18e+03    -  3.74e-01 9.38e-04f  1\n",
      "  34  3.7053910e+06 2.45e+00 2.30e+07  -1.0 1.95e+02    -  1.00e+00 1.71e-01h  1\n",
      "  35  3.7101598e+06 1.02e-03 1.41e+03  -1.0 1.66e+02    -  1.00e+00 1.00e+00h  1\n",
      "  36  3.7101466e+06 2.84e-06 2.06e+05  -5.7 3.64e-01    -  9.87e-01 1.00e+00f  1\n",
      "  37  3.7101462e+06 2.97e-09 5.85e-03  -5.7 1.20e-02    -  1.00e+00 1.00e+00f  1\n",
      "  38  3.7101462e+06 1.82e-12 1.11e-09  -5.7 6.35e-06    -  1.00e+00 1.00e+00h  1\n",
      "  39  3.7101462e+06 1.82e-12 6.59e-05  -8.6 7.11e-06    -  1.00e+00 1.00e+00f  1\n",
      "iter    objective    inf_pr   inf_du lg(mu)  ||d||  lg(rg) alpha_du alpha_pr  ls\n",
      "  40  3.7101462e+06 1.82e-12 1.37e-13  -8.6 3.78e-12    -  1.00e+00 1.00e+00h  1\n",
      "\n",
      "Number of Iterations....: 40\n",
      "\n",
      "                                   (scaled)                 (unscaled)\n",
      "Objective...............:   3.7071506473385461e+05    3.7101461572588030e+06\n",
      "Dual infeasibility......:   1.3653270460152171e-13    1.3664302789560390e-12\n",
      "Constraint violation....:   1.8189894035458565e-12    1.8189894035458565e-12\n",
      "Complementarity.........:   2.5059195411253143e-09    2.5079444134757799e-08\n",
      "Overall NLP error.......:   2.5059195411253143e-09    2.5079444134757799e-08\n",
      "\n",
      "\n",
      "Number of objective function evaluations             = 93\n",
      "Number of objective gradient evaluations             = 41\n",
      "Number of equality constraint evaluations            = 93\n",
      "Number of inequality constraint evaluations          = 93\n",
      "Number of equality constraint Jacobian evaluations   = 41\n",
      "Number of inequality constraint Jacobian evaluations = 41\n",
      "Number of Lagrangian Hessian evaluations             = 40\n",
      "Total CPU secs in IPOPT (w/o function evaluations)   =     12.477\n",
      "Total CPU secs in NLP function evaluations           =      0.344\n",
      "\n",
      "EXIT: Optimal Solution Found.\n"
     ]
    }
   ],
   "source": [
    "optimize!(model)"
   ]
  },
  {
   "cell_type": "code",
   "execution_count": 265,
   "metadata": {},
   "outputs": [
    {
     "name": "stdout",
     "output_type": "stream",
     "text": [
      "Objective value: 3.710146157258803e6\n"
     ]
    }
   ],
   "source": [
    "println(\"Objective value: \", objective_value(model))"
   ]
  },
  {
   "cell_type": "code",
   "execution_count": 266,
   "metadata": {},
   "outputs": [
    {
     "data": {
      "text/plain": [
       "LinearAlgebra.Adjoint{Float64,JuMP.Containers.DenseAxisArray{Float64,2,Tuple{UnitRange{Int64},UnitRange{Int64}},Tuple{Dict{Int64,Int64},Dict{Int64,Int64}}}} with indices 1:15×1:6:\n",
       "   0.0  0.0  0.0  0.0  0.0  0.0\n",
       " 500.0  0.0  0.0  0.0  0.0  0.0\n",
       "   0.0  0.0  0.0  0.0  0.0  0.0\n",
       "   0.0  0.0  0.0  0.0  0.0  0.0\n",
       "   0.0  0.0  0.0  0.0  0.0  0.0\n",
       "   0.0  0.0  0.0  0.0  0.0  0.0\n",
       "   0.0  0.0  0.0  0.0  0.0  0.0\n",
       "   0.0  0.0  0.0  0.0  0.0  0.0\n",
       "   0.0  0.0  0.0  0.0  0.0  0.0\n",
       "   0.0  0.0  0.0  0.0  0.0  0.0\n",
       "   0.0  0.0  0.0  0.0  0.0  0.0\n",
       "   0.0  0.0  0.0  0.0  0.0  0.0\n",
       "   0.0  0.0  0.0  0.0  0.0  0.0\n",
       "   0.0  0.0  0.0  0.0  0.0  0.0\n",
       "   0.0  0.0  0.0  0.0  0.0  0.0"
      ]
     },
     "execution_count": 266,
     "metadata": {},
     "output_type": "execute_result"
    }
   ],
   "source": [
    "value.(control)'"
   ]
  },
  {
   "cell_type": "code",
   "execution_count": 267,
   "metadata": {},
   "outputs": [
    {
     "data": {
      "text/plain": [
       "2-dimensional DenseAxisArray{Float64,2,...} with index sets:\n",
       "    Dimension 1, 1:4\n",
       "    Dimension 2, 1:6\n",
       "And data, a 4×6 Array{Float64,2}:\n",
       " 47.388   1807.04  2.14608e-38  5770.77  3.29056e-36  3.06467e-37\n",
       " 36.755   1672.92  3.89153e-37  5552.42  3.51859e-36  3.08137e-37\n",
       " 28.1472  1538.96  5.54376e-37  5349.18  3.51103e-36  2.46001e-37\n",
       " 21.2896  1404.47  6.32104e-37  5161.17  3.22524e-36  1.78786e-37"
      ]
     },
     "execution_count": 267,
     "metadata": {},
     "output_type": "execute_result"
    }
   ],
   "source": [
    "value.(E)[:, :, end]"
   ]
  },
  {
   "cell_type": "code",
   "execution_count": 268,
   "metadata": {},
   "outputs": [
    {
     "data": {
      "text/plain": [
       "2-dimensional DenseAxisArray{Float64,2,...} with index sets:\n",
       "    Dimension 1, 1:8\n",
       "    Dimension 2, 1:6\n",
       "And data, a 8×6 Array{Float64,2}:\n",
       " 4.55585   316.015    1.46363e-37  1177.72    7.23692e-37  3.77193e-38\n",
       " 2.59722   189.512    8.99443e-38   716.708   4.30559e-37  2.10784e-38\n",
       " 1.47918   113.584    5.49779e-38   436.197   2.54689e-37  1.17723e-38\n",
       " 0.841599   68.0366   3.34009e-38   265.5     1.49754e-37  6.62507e-39\n",
       " 0.478368   40.7283   2.01572e-38   161.617   8.75092e-38  3.8179e-39 \n",
       " 0.27164    24.365    1.20814e-38    98.39    5.08015e-38  2.26118e-39\n",
       " 0.154099   14.566    7.19043e-39    59.9041  2.92869e-38  1.37421e-39\n",
       " 0.087334    8.70172  4.20793e-39    36.4757  1.6897e-38   8.91002e-40"
      ]
     },
     "execution_count": 268,
     "metadata": {},
     "output_type": "execute_result"
    }
   ],
   "source": [
    "value.(L)[:, :, end]"
   ]
  },
  {
   "cell_type": "code",
   "execution_count": 269,
   "metadata": {},
   "outputs": [
    {
     "data": {
      "text/plain": [
       "2-dimensional DenseAxisArray{Float64,2,...} with index sets:\n",
       "    Dimension 1, 1:6\n",
       "    Dimension 2, 1:6\n",
       "And data, a 6×6 Array{Float64,2}:\n",
       " 0.16945    20.5006   9.46982e-39  94.2881  3.06142e-38  5.04781e-39\n",
       " 0.121963   17.8612   8.05928e-39  91.5008  1.66624e-38  9.17099e-39\n",
       " 0.0868781  15.3344   6.79367e-39  88.8492  3.63683e-39  1.59827e-38\n",
       " 0.0612741  12.9665   5.09544e-39  86.2774  0.0          1.02023e-38\n",
       " 0.042807   10.7965   2.75363e-39  83.737   0.0          2.76984e-38\n",
       " 0.0296348   8.85228  0.0          81.1908  0.0          1.25843e-39"
      ]
     },
     "execution_count": 269,
     "metadata": {},
     "output_type": "execute_result"
    }
   ],
   "source": [
    "value.(P)[:, :, end]"
   ]
  },
  {
   "cell_type": "code",
   "execution_count": 270,
   "metadata": {},
   "outputs": [
    {
     "data": {
      "text/plain": [
       "2-dimensional DenseAxisArray{Float64,2,...} with index sets:\n",
       "    Dimension 1, 1:1\n",
       "    Dimension 2, 1:6\n",
       "And data, a 1×6 Array{Float64,2}:\n",
       " 149.652  13.67  1.482e-38  486.705  0.0  0.0"
      ]
     },
     "execution_count": 270,
     "metadata": {},
     "output_type": "execute_result"
    }
   ],
   "source": [
    "value.(M)[:, :, end]"
   ]
  },
  {
   "cell_type": "code",
   "execution_count": 271,
   "metadata": {},
   "outputs": [
    {
     "data": {
      "text/plain": [
       "1-dimensional DenseAxisArray{Float64,1,...} with index sets:\n",
       "    Dimension 1, 1:6\n",
       "And data, a 6-element Array{Float64,1}:\n",
       " 109.22689142821375     \n",
       "   2.2565885082514225   \n",
       "   1.769842202519787e-38\n",
       " 375.22190246443915     \n",
       "   0.0                  \n",
       "   0.0                  "
      ]
     },
     "execution_count": 271,
     "metadata": {},
     "output_type": "execute_result"
    }
   ],
   "source": [
    "value.(F)[:, 4, end]"
   ]
  },
  {
   "cell_type": "code",
   "execution_count": 272,
   "metadata": {},
   "outputs": [],
   "source": [
    "using DataFrames\n",
    "df = DataFrame()\n",
    "for (k, v) in model.obj_dict\n",
    "    if eltype(v) == VariableRef\n",
    "        if length(axes(v)) == 3\n",
    "            for g in axes(v)[2]            \n",
    "                col_symbol = Symbol(k,\"_G$(g)\")\n",
    "                if occursin(\"F\", String(k)) \n",
    "                    df[!, col_symbol] = sum(value.(v[g,:,:]).data, dims = 1)[1,:] \n",
    "                    continue\n",
    "                end\n",
    "                df[!,col_symbol] = value.(v[end,g,:])\n",
    "            end\n",
    "        end\n",
    "        if length(axes(v)) == 2\n",
    "            for g in axes(v)[1]\n",
    "                col_symbol = Symbol(k,\"_G$(g)\")\n",
    "                df[!,col_symbol] = value.(v[g,:])\n",
    "            end\n",
    "        end\n",
    "    end\n",
    "end"
   ]
  },
  {
   "cell_type": "code",
   "execution_count": 273,
   "metadata": {},
   "outputs": [],
   "source": [
    "# ERROR: key 5 not found \n",
    "#=\n",
    "df = DataFrame()\n",
    "for (k, v) in model.obj_dict\n",
    "    if eltype(v) == VariableRef\n",
    "        if length(axes(v)) == 3\n",
    "            for g in axes(v)[2]            \n",
    "                col_symbol = Symbol(k,\"_G$(g)\")\n",
    "                df[!, col_symbol] = sum(value.(v[g,:,:]).data, dims = 1)[1,:] \n",
    "            end\n",
    "        end\n",
    "        if length(axes(v)) == 2\n",
    "            for g in axes(v)[1]\n",
    "                col_symbol = Symbol(k,\"_G$(g)\")\n",
    "                df[!,col_symbol] = value.(v[g,:])\n",
    "            end\n",
    "        end\n",
    "    end\n",
    "end\n",
    "=#"
   ]
  },
  {
   "cell_type": "code",
   "execution_count": 274,
   "metadata": {},
   "outputs": [
    {
     "data": {
      "image/png": "[encoded data removed]",
      "text/plain": [
       "Figure(PyObject <Figure size 640x480 with 1 Axes>)"
      ]
     },
     "metadata": {},
     "output_type": "display_data"
    },
    {
     "data": {
      "text/plain": [
       "PyObject <matplotlib.legend.Legend object at 0x0000000065787908>"
      ]
     },
     "execution_count": 274,
     "metadata": {},
     "output_type": "execute_result"
    }
   ],
   "source": [
    "for (ix, arr) in eachcol(df, true)\n",
    "    plot(arr, label=String(ix))\n",
    "end\n",
    "legend(bbox_to_anchor=[1.05,1],loc=2,borderaxespad=0)"
   ]
  },
  {
   "cell_type": "code",
   "execution_count": 275,
   "metadata": {},
   "outputs": [
    {
     "data": {
      "text/html": [
       "<table class=\"data-frame\"><thead><tr><th></th><th>F_G1</th><th>F_G2</th><th>F_G3</th><th>F_G4</th><th>F_G5</th><th>F_G6</th><th>E_G1</th></tr><tr><th></th><th>Float64</th><th>Float64</th><th>Float64</th><th>Float64</th><th>Float64</th><th>Float64</th><th>Float64</th></tr></thead><tbody><p>15 rows × 36 columns (omitted printing of 29 columns)</p><tr><th>1</th><td>2.07582e-19</td><td>3.95277e-35</td><td>8.01435e-41</td><td>500.404</td><td>1.13785e-40</td><td>0.0</td><td>2.51935e-18</td></tr><tr><th>2</th><td>19.7609</td><td>1.69502e-5</td><td>4.65696e-40</td><td>480.643</td><td>1.85204e-40</td><td>1.3226e-40</td><td>0.000170486</td></tr><tr><th>3</th><td>37.004</td><td>0.000177031</td><td>1.1309e-40</td><td>463.4</td><td>9.46157e-41</td><td>2.83399e-41</td><td>0.00182977</td></tr><tr><th>4</th><td>51.9435</td><td>0.000978304</td><td>0.0</td><td>448.46</td><td>1.01342e-40</td><td>3.13442e-41</td><td>0.0103045</td></tr><tr><th>5</th><td>64.7796</td><td>0.00380636</td><td>2.066e-41</td><td>435.621</td><td>8.08942e-41</td><td>0.0</td><td>0.0405397</td></tr><tr><th>6</th><td>75.6985</td><td>0.0117086</td><td>0.0</td><td>424.694</td><td>3.36914e-38</td><td>0.0</td><td>0.12518</td></tr><tr><th>7</th><td>84.8741</td><td>0.0303211</td><td>0.0</td><td>415.5</td><td>3.08693e-38</td><td>0.0</td><td>0.323222</td></tr><tr><th>8</th><td>92.4686</td><td>0.0687484</td><td>1.26692e-39</td><td>407.867</td><td>7.59395e-39</td><td>0.0</td><td>0.726176</td></tr><tr><th>9</th><td>98.633</td><td>0.140167</td><td>4.23702e-37</td><td>401.631</td><td>2.72879e-37</td><td>5.39586e-38</td><td>1.45875</td></tr><tr><th>10</th><td>103.508</td><td>0.261968</td><td>3.95992e-37</td><td>396.634</td><td>2.50151e-37</td><td>4.94988e-38</td><td>2.67248</td></tr><tr><th>11</th><td>107.225</td><td>0.45534</td><td>3.5117e-37</td><td>392.724</td><td>2.29435e-37</td><td>1.77572e-38</td><td>4.53274</td></tr><tr><th>12</th><td>109.905</td><td>0.744336</td><td>5.28263e-37</td><td>389.755</td><td>2.79021e-37</td><td>1.59419e-38</td><td>7.20175</td></tr><tr><th>13</th><td>111.661</td><td>1.15453</td><td>6.03201e-37</td><td>387.588</td><td>2.55289e-37</td><td>1.41872e-38</td><td>10.821</td></tr><tr><th>14</th><td>112.598</td><td>1.71146</td><td>3.80242e-37</td><td>386.094</td><td>2.33194e-37</td><td>1.24494e-38</td><td>15.4965</td></tr><tr><th>15</th><td>112.814</td><td>2.43905</td><td>3.49783e-37</td><td>385.151</td><td>2.12723e-37</td><td>1.07862e-38</td><td>21.2896</td></tr></tbody></table>"
      ],
      "text/latex": [
       "\\begin{tabular}{r|cccccccc}\n",
       "\t& F\\_G1 & F\\_G2 & F\\_G3 & F\\_G4 & F\\_G5 & F\\_G6 & E\\_G1 & \\\\\n",
       "\t\\hline\n",
       "\t& Float64 & Float64 & Float64 & Float64 & Float64 & Float64 & Float64 & \\\\\n",
       "\t\\hline\n",
       "\t1 & 2.07582e-19 & 3.95277e-35 & 8.01435e-41 & 500.404 & 1.13785e-40 & 0.0 & 2.51935e-18 & $\\dots$ \\\\\n",
       "\t2 & 19.7609 & 1.69502e-5 & 4.65696e-40 & 480.643 & 1.85204e-40 & 1.3226e-40 & 0.000170486 & $\\dots$ \\\\\n",
       "\t3 & 37.004 & 0.000177031 & 1.1309e-40 & 463.4 & 9.46157e-41 & 2.83399e-41 & 0.00182977 & $\\dots$ \\\\\n",
       "\t4 & 51.9435 & 0.000978304 & 0.0 & 448.46 & 1.01342e-40 & 3.13442e-41 & 0.0103045 & $\\dots$ \\\\\n",
       "\t5 & 64.7796 & 0.00380636 & 2.066e-41 & 435.621 & 8.08942e-41 & 0.0 & 0.0405397 & $\\dots$ \\\\\n",
       "\t6 & 75.6985 & 0.0117086 & 0.0 & 424.694 & 3.36914e-38 & 0.0 & 0.12518 & $\\dots$ \\\\\n",
       "\t7 & 84.8741 & 0.0303211 & 0.0 & 415.5 & 3.08693e-38 & 0.0 & 0.323222 & $\\dots$ \\\\\n",
       "\t8 & 92.4686 & 0.0687484 & 1.26692e-39 & 407.867 & 7.59395e-39 & 0.0 & 0.726176 & $\\dots$ \\\\\n",
       "\t9 & 98.633 & 0.140167 & 4.23702e-37 & 401.631 & 2.72879e-37 & 5.39586e-38 & 1.45875 & $\\dots$ \\\\\n",
       "\t10 & 103.508 & 0.261968 & 3.95992e-37 & 396.634 & 2.50151e-37 & 4.94988e-38 & 2.67248 & $\\dots$ \\\\\n",
       "\t11 & 107.225 & 0.45534 & 3.5117e-37 & 392.724 & 2.29435e-37 & 1.77572e-38 & 4.53274 & $\\dots$ \\\\\n",
       "\t12 & 109.905 & 0.744336 & 5.28263e-37 & 389.755 & 2.79021e-37 & 1.59419e-38 & 7.20175 & $\\dots$ \\\\\n",
       "\t13 & 111.661 & 1.15453 & 6.03201e-37 & 387.588 & 2.55289e-37 & 1.41872e-38 & 10.821 & $\\dots$ \\\\\n",
       "\t14 & 112.598 & 1.71146 & 3.80242e-37 & 386.094 & 2.33194e-37 & 1.24494e-38 & 15.4965 & $\\dots$ \\\\\n",
       "\t15 & 112.814 & 2.43905 & 3.49783e-37 & 385.151 & 2.12723e-37 & 1.07862e-38 & 21.2896 & $\\dots$ \\\\\n",
       "\\end{tabular}\n"
      ],
      "text/plain": [
       "15×36 DataFrame. Omitted printing of 31 columns\n",
       "│ Row │ F_G1        │ F_G2        │ F_G3        │ F_G4    │ F_G5        │\n",
       "│     │ \u001b[90mFloat64\u001b[39m     │ \u001b[90mFloat64\u001b[39m     │ \u001b[90mFloat64\u001b[39m     │ \u001b[90mFloat64\u001b[39m │ \u001b[90mFloat64\u001b[39m     │\n",
       "├─────┼─────────────┼─────────────┼─────────────┼─────────┼─────────────┤\n",
       "│ 1   │ 2.07582e-19 │ 3.95277e-35 │ 8.01435e-41 │ 500.404 │ 1.13785e-40 │\n",
       "│ 2   │ 19.7609     │ 1.69502e-5  │ 4.65696e-40 │ 480.643 │ 1.85204e-40 │\n",
       "│ 3   │ 37.004      │ 0.000177031 │ 1.1309e-40  │ 463.4   │ 9.46157e-41 │\n",
       "│ 4   │ 51.9435     │ 0.000978304 │ 0.0         │ 448.46  │ 1.01342e-40 │\n",
       "│ 5   │ 64.7796     │ 0.00380636  │ 2.066e-41   │ 435.621 │ 8.08942e-41 │\n",
       "│ 6   │ 75.6985     │ 0.0117086   │ 0.0         │ 424.694 │ 3.36914e-38 │\n",
       "│ 7   │ 84.8741     │ 0.0303211   │ 0.0         │ 415.5   │ 3.08693e-38 │\n",
       "│ 8   │ 92.4686     │ 0.0687484   │ 1.26692e-39 │ 407.867 │ 7.59395e-39 │\n",
       "│ 9   │ 98.633      │ 0.140167    │ 4.23702e-37 │ 401.631 │ 2.72879e-37 │\n",
       "│ 10  │ 103.508     │ 0.261968    │ 3.95992e-37 │ 396.634 │ 2.50151e-37 │\n",
       "│ 11  │ 107.225     │ 0.45534     │ 3.5117e-37  │ 392.724 │ 2.29435e-37 │\n",
       "│ 12  │ 109.905     │ 0.744336    │ 5.28263e-37 │ 389.755 │ 2.79021e-37 │\n",
       "│ 13  │ 111.661     │ 1.15453     │ 6.03201e-37 │ 387.588 │ 2.55289e-37 │\n",
       "│ 14  │ 112.598     │ 1.71146     │ 3.80242e-37 │ 386.094 │ 2.33194e-37 │\n",
       "│ 15  │ 112.814     │ 2.43905     │ 3.49783e-37 │ 385.151 │ 2.12723e-37 │"
      ]
     },
     "execution_count": 275,
     "metadata": {},
     "output_type": "execute_result"
    }
   ],
   "source": [
    "df"
   ]
  },
  {
   "cell_type": "code",
   "execution_count": null,
   "metadata": {},
   "outputs": [],
   "source": [
    "# check whatever outputs here against the pop modle to ensure the dynamics are fundamentally the same\n",
    "# can also go the reverse way and force control constraints here to emulate what is done in the popmodel "
   ]
  },
  {
   "cell_type": "code",
   "execution_count": null,
   "metadata": {},
   "outputs": [],
   "source": []
  }
 ],
 "metadata": {
  "kernelspec": {
   "display_name": "Julia 1.1.1",
   "language": "julia",
   "name": "julia-1.1"
  },
  "language_info": {
   "file_extension": ".jl",
   "mimetype": "application/julia",
   "name": "julia",
   "version": "1.1.1"
  }
 },
 "nbformat": 4,
 "nbformat_minor": 2
}
