{
 "cells": [
  {
   "cell_type": "markdown",
   "metadata": {},
   "source": [
    "## Decision Model Testing \n",
    "Preliminaries for .toml files "
   ]
  },
  {
   "cell_type": "code",
   "execution_count": 1,
   "metadata": {},
   "outputs": [],
   "source": [
    "cd(\"../TestDrive\")"
   ]
  },
  {
   "cell_type": "code",
   "execution_count": 2,
   "metadata": {},
   "outputs": [],
   "source": [
    "] activate ."
   ]
  },
  {
   "cell_type": "code",
   "execution_count": 3,
   "metadata": {},
   "outputs": [],
   "source": [
    "#] add JuMP#master"
   ]
  },
  {
   "cell_type": "code",
   "execution_count": 4,
   "metadata": {},
   "outputs": [],
   "source": [
    "using JuMP, Clp, Ipopt, GLPK"
   ]
  },
  {
   "cell_type": "code",
   "execution_count": 5,
   "metadata": {},
   "outputs": [],
   "source": [
    "using PyPlot\n",
    "#using Plots\n",
    "#gr()\n",
    "; "
   ]
  },
  {
   "cell_type": "code",
   "execution_count": 6,
   "metadata": {},
   "outputs": [
    {
     "data": {
      "text/plain": [
       "population_model_network (generic function with 1 method)"
      ]
     },
     "execution_count": 6,
     "metadata": {},
     "output_type": "execute_result"
    }
   ],
   "source": [
    "include(\"src/TestDrive.jl\")"
   ]
  },
  {
   "cell_type": "markdown",
   "metadata": {},
   "source": [
    "### Create scenario\n",
    "To invoke the structs and data used in the popgen model for a single node"
   ]
  },
  {
   "cell_type": "code",
   "execution_count": 7,
   "metadata": {},
   "outputs": [],
   "source": [
    "# REMOVE MIGRATION FROM NODES FOR FUTURE USE - \n",
    "# SHOULD ONLY OCCUR IN NETWORK STRUCT: \n",
    "migrate1 = rand((6*(4+8+6+1+6)), 2, 2) \n",
    "\n",
    "# User-named node  \n",
    "firstnode = :FirstNode\n",
    "\n",
    "# User-constructed node: (name, gene_data, stages, location, migration_matrix)\n",
    "node = Node(:FirstNode, genetics_mcr, stages_aedes, temp_none, (37.87, 122.27), migrate1)\n",
    "\n",
    ";"
   ]
  },
  {
   "cell_type": "markdown",
   "metadata": {},
   "source": [
    "Go as far as initiating the u0: this can be done in the same way for both decision and popgen models"
   ]
  },
  {
   "cell_type": "code",
   "execution_count": 8,
   "metadata": {},
   "outputs": [],
   "source": [
    "# init_node!(desired_node, gene_index)\n",
    "u0 = init_node!(node, 4)\n",
    ";"
   ]
  },
  {
   "cell_type": "markdown",
   "metadata": {},
   "source": [
    "Extract necessary information from scenario "
   ]
  },
  {
   "cell_type": "code",
   "execution_count": 9,
   "metadata": {},
   "outputs": [],
   "source": [
    "# Network elements \n",
    "# node_count = length(get_nodes(network))\n",
    "\n",
    "# Genetics elements \n",
    "genetics = get_genetics(node)\n",
    "gN = length(genetics.all_genotypes)\n",
    "cube = genetics.cube\n",
    "S = genetics.S\n",
    "Τ = genetics.Τ\n",
    "Β = genetics.Β\n",
    "Φ = genetics.Φ\n",
    "Η = genetics.Η\n",
    "\n",
    ";"
   ]
  },
  {
   "cell_type": "code",
   "execution_count": 10,
   "metadata": {},
   "outputs": [],
   "source": [
    "# Lifestage elements \n",
    "(e, l, p, m, f) = get_allstages(node)\n",
    "\n",
    "# Mortality \n",
    "μE = e.μ\n",
    "μL = l.μ\n",
    "μP = p.μ\n",
    "μM = m.μ\n",
    "μF = f.μ\n",
    "\n",
    "# Substages \n",
    "nE = e.n\n",
    "nL = l.n\n",
    "nP = p.n\n",
    "nM = m.n\n",
    "nF = f.n\n",
    "\n",
    "# Duration (only juveniles for now - though this should/might change with migration implemented)\n",
    "qE = e.q\n",
    "qL = l.q\n",
    "qP = p.q\n",
    "\n",
    "# Density \n",
    "densE = e.density\n",
    "densL = l.density \n",
    "densP = p.density \n",
    "densM = m.density\n",
    "densF = f.density \n",
    "\n",
    ";"
   ]
  },
  {
   "cell_type": "code",
   "execution_count": 68,
   "metadata": {},
   "outputs": [],
   "source": [
    "# Controls (callbacks) -> define this later, for now just zero\n",
    "\n",
    "controls = 0\n",
    "\n",
    ";"
   ]
  },
  {
   "cell_type": "markdown",
   "metadata": {},
   "source": [
    "### Create model\n",
    "Create model object and define solver"
   ]
  },
  {
   "cell_type": "markdown",
   "metadata": {},
   "source": [
    "### Define sets \n",
    "Where every set is a dimension, and not all the variables are necessarily subject to all the sets "
   ]
  },
  {
   "cell_type": "code",
   "execution_count": 382,
   "metadata": {},
   "outputs": [],
   "source": [
    "# Time\n",
    "T = 1:10\n",
    "\n",
    "# Stages and substages\n",
    "SE = 1:nE\n",
    "SL = 1:nL\n",
    "SP = 1:nP\n",
    "SM = 1:nM\n",
    "SF = 1:nF*gN  \n",
    "\n",
    "# Genetics\n",
    "G = 1:gN\n",
    "\n",
    "# Nodes \n",
    "# N = 1:node_count\n",
    "\n",
    "# Slicing u0 \n",
    "E0 = u0[SE,:]\n",
    "L0 = u0[nE+1:nL+nE,:]\n",
    "P0 = u0[nE+nL+1:nE+nL+nP,:]\n",
    "M0 = u0[nE+nL+nP+1,:]\n",
    "F0 = u0[nE+nL+nP+2:end,:];"
   ]
  },
  {
   "cell_type": "code",
   "execution_count": 383,
   "metadata": {},
   "outputs": [
    {
     "data": {
      "text/plain": [
       "1×6 LinearAlgebra.Adjoint{Float64,Array{Float64,1}}:\n",
       " -2.54006e-19  -3.72212e-19  0.0  500.404  0.0  0.0"
      ]
     },
     "execution_count": 383,
     "metadata": {},
     "output_type": "execute_result"
    }
   ],
   "source": [
    "# Momentary hack to get around original error message in males\n",
    "M0 = M0'"
   ]
  },
  {
   "cell_type": "markdown",
   "metadata": {},
   "source": [
    "### Define model and solver \n",
    "NB: Ipopt most likely for now"
   ]
  },
  {
   "cell_type": "code",
   "execution_count": 525,
   "metadata": {},
   "outputs": [],
   "source": [
    "model = Model(with_optimizer(Ipopt.Optimizer));"
   ]
  },
  {
   "cell_type": "markdown",
   "metadata": {},
   "source": [
    "### Define variables \n",
    "Each state or control that must be calculated using a decision variable"
   ]
  },
  {
   "cell_type": "code",
   "execution_count": 526,
   "metadata": {},
   "outputs": [],
   "source": [
    "# Eggs\n",
    "@variable(model, E[SE, G, T] >= 0)\n",
    "# Larvae \n",
    "@variable(model, L[SL, G, T] >= 0)\n",
    "# Pupae\n",
    "@variable(model, P[SP, G, T] >= 0)\n",
    "# Males \n",
    "@variable(model, M[SM, G, T] >= 0)\n",
    "# Females\n",
    "@variable(model, F[SF, G, T] >= 0)\n",
    ";"
   ]
  },
  {
   "cell_type": "markdown",
   "metadata": {},
   "source": [
    "### Define constraints \n",
    "The dynamic equations of the model that employ a decision variable"
   ]
  },
  {
   "cell_type": "code",
   "execution_count": 527,
   "metadata": {},
   "outputs": [],
   "source": [
    "# Eggs\n",
    "@constraint(model, E_con1[s = SE, g = G, t = 1],         \n",
    "                   E[s, g, t] ==  E0[s, g] + \n",
    "                                  sum(cube[:,:,g].*Τ[:,:,g].*S[g]*Β[g].*F[:,:,t].data) - \n",
    "                                  E[s, g, t] * (μL*compute_density(densE, sum(E[:, :, t])) + qE*nE))\n",
    "@constraint(model, E_con[s = SE, g = G, t = T[2:end]] ,  \n",
    "                  E[s, g, t] ==  qE*nE*E[s, g, t-1] - \n",
    "                                  E[s, g, t] * (μL*compute_density(densE, sum(E[:, :, t])) + qE*nE))\n",
    ";"
   ]
  },
  {
   "cell_type": "code",
   "execution_count": 528,
   "metadata": {},
   "outputs": [],
   "source": [
    "# Larvae \n",
    "@constraint(model, L_con1[s = SL, g = G, t = 1],         \n",
    "                   L[s, g, t] ==  L0[s, g] +\n",
    "                                  qE * nE * E[end , g ,t] -\n",
    "                                  L[s, g, t] * (μL*compute_density(densL, sum(L[:, :, t])) + qL*nL))\n",
    "@constraint(model, L_con[s = SL, g = G, t = T[2:end]] ,  \n",
    "                   L[s, g, t] ==  qL*nL*L[s, g, t-1] - \n",
    "                                  L[s, g, t] * (μL*compute_density(densL, sum(L[:, :, t])) + qL*nL))\n",
    ";"
   ]
  },
  {
   "cell_type": "code",
   "execution_count": 529,
   "metadata": {},
   "outputs": [],
   "source": [
    "# Pupae \n",
    "@constraint(model, P_con1[s = SP, g = G, t = 1],         \n",
    "                   P[s, g, t] ==  P0[s, g] +\n",
    "                                  qL * nL * L[end , g ,t] -\n",
    "                                  P[s, g, t] * (μP*compute_density(densP, sum(L[:, :, t])) + qP*nP))\n",
    "@constraint(model, P_con[s = SP, g = G, t = T[2:end]] ,  \n",
    "                   P[s, g, t] ==  qP*nP*P[s, g, t-1] - \n",
    "                                  P[s, g, t] * (μP*compute_density(densP, sum(L[:, :, t])) + qP*nP))\n",
    "\n",
    ";"
   ]
  },
  {
   "cell_type": "code",
   "execution_count": 530,
   "metadata": {},
   "outputs": [],
   "source": [
    "# Males \n",
    "\n",
    "# Question: How to implement controls here (eg if gene_index == 1, or similar)? \n",
    "# For some reason right now runs 6x instead of 1x and releases 500 at gene four but 0.0 in all other cases.\n",
    "@constraint(model, M_con1[s = SM, g = G, t = 1],         \n",
    "                   M[s, g, t] ==  M0[s, g] +\n",
    "                                  (1-Φ[g]) * qP * nP * P[end , g ,t] -\n",
    "                                  μM * M[s, g, t] * compute_density(densM, sum(M[:, :, t])) + controls)\n",
    "\n",
    "# Note: when M0 = M0', works but if not throws error about access 6,1 array at 1,2 - another workaround? \n",
    "@constraint(model, M_con[s = SM, g = G, t = T[2:end]],  \n",
    "                   M[s, g, t] ==  (1-Φ[g]) * qP * nP * P[end , g ,t] -\n",
    "                                  μM * M[s, g, t] * compute_density(densM, sum(M[:, :, t])))\n",
    "\n",
    ";"
   ]
  },
  {
   "cell_type": "markdown",
   "metadata": {},
   "source": [
    "### Register personal functions for @NLconstraint \n",
    "Each state or control that must be calculated using a decision variable"
   ]
  },
  {
   "cell_type": "code",
   "execution_count": 531,
   "metadata": {},
   "outputs": [
    {
     "data": {
      "text/plain": [
       "my_normalize (generic function with 2 methods)"
      ]
     },
     "execution_count": 531,
     "metadata": {},
     "output_type": "execute_result"
    }
   ],
   "source": [
    "# As discussed here: \n",
    "# https://github.com/JuliaOpt/JuMP.jl/blob/3d177c40a9da5035e33968c27f45bb0c77942dc8/docs/src/nlp.md\n",
    "\n",
    "function my_normalize(x, y)\n",
    "    return (x*y)/sum(x*y)\n",
    "end\n",
    "\n",
    ";"
   ]
  },
  {
   "cell_type": "code",
   "execution_count": 532,
   "metadata": {},
   "outputs": [],
   "source": [
    "register(model, :my_normalize, 2, my_normalize, autodiff=true)\n",
    "register(model, :compute_density, 2, compute_density, autodiff=true)\n",
    ";"
   ]
  },
  {
   "cell_type": "code",
   "execution_count": 533,
   "metadata": {},
   "outputs": [
    {
     "ename": "KeyError",
     "evalue": "KeyError: key 2 not found",
     "output_type": "error",
     "traceback": [
      "KeyError: key 2 not found",
      "",
      "Stacktrace:",
      " [1] getindex at ./dict.jl:478 [inlined]",
      " [2] lookup_index at /Users/vnvasquez/.julia/packages/JuMP/iGamg/src/Containers/DenseAxisArray.jl:136 [inlined]",
      " [3] _to_index_tuple at /Users/vnvasquez/.julia/packages/JuMP/iGamg/src/Containers/DenseAxisArray.jl:145 [inlined]",
      " [4] to_index at /Users/vnvasquez/.julia/packages/JuMP/iGamg/src/Containers/DenseAxisArray.jl:163 [inlined]",
      " [5] getindex(::JuMP.Containers.DenseAxisArray{VariableRef,3,Tuple{UnitRange{Int64},UnitRange{Int64},UnitRange{Int64}},Tuple{Dict{Int64,Int64},Dict{Int64,Int64},Dict{Int64,Int64}}}, ::Int64, ::Int64, ::Int64) at /Users/vnvasquez/.julia/packages/JuMP/iGamg/src/Containers/DenseAxisArray.jl:177",
      " [6] macro expansion at /Users/vnvasquez/.julia/packages/JuMP/iGamg/src/parse_nlp.jl:111 [inlined]",
      " [7] macro expansion at /Users/vnvasquez/.julia/packages/JuMP/iGamg/src/macros.jl:1552 [inlined]",
      " [8] top-level scope at ./In[533]:1"
     ]
    }
   ],
   "source": [
    "# Females \n",
    "\n",
    "# Question: OK not to have _con1 term, go straight to all T? \n",
    "@NLconstraint(model, F_conNL[s = SF, g = G, t = T], \n",
    "    \n",
    "    F[s, g, t] == F0[s, g] + \n",
    "    \n",
    "    # Question: how to correctly incorporate the mating? \n",
    "    # Question: OK to index into H even if this is not done in the popgen model?\n",
    "    \n",
    "    #M[s, g, t] * Η[g]/sum(M[s, g, t] * Η[g] for g in 1:6) * Φ[g] * qP * nP * P[end,g,t]' -  \n",
    "    \n",
    "    my_normalize(M[s,g,t],Η[g]) * (Φ[g] * qP * nP *  P[end,g,t]') -\n",
    "    \n",
    "    #LinearAlgebra.normalize(M[s,g,t]*Η[g]) * (Φ[g] * qP * nP *  P[end,g,t]') -\n",
    "    #(M[s,g,t]*Η[g])/(LinearAlgebra.norm(M[s,g,t]*Η[g]) * (Φ[g] * qP * nP *  P[end,g,t]')) -\n",
    "    \n",
    "    μF * F[s, g, t] )   # * compute_density(densF, sum(F[:, :, t])))\n",
    "\n",
    "\n",
    "\n",
    "#=\n",
    "\n",
    "@NLconstraint(m, eggh[g = [\"hulk\"],t = T[2:end]], E[g,t] ==\n",
    "E[g,t-1]*(1-mu_e) - \n",
    "E[g,t-1]*lambda_e + \n",
    "lambda_ad*(sum(Af[i,t-1] for i in G))*(Am[\"hulk\",t-1]/(Am[\"hulk\",t-1]+Am[\"bruce\",t-1]+infstop)))\n",
    "\n",
    "=#\n",
    "\n"
   ]
  },
  {
   "cell_type": "code",
   "execution_count": 540,
   "metadata": {},
   "outputs": [
    {
     "ename": "MethodError",
     "evalue": "MethodError: no method matching /(::Int64, ::Array{GenericAffExpr{Float64,VariableRef},2})\n\nYou might have used a 2d row vector where a 1d column vector was required.\nNote the difference between 1d column vector [1,2,3] and 2d row vector [1 2 3].\nYou can convert to a column vector with the vec() function.\nClosest candidates are:\n  /(!Matched::PyCall.PyObject, ::Any) at /Users/vnvasquez/.julia/packages/PyCall/ttONZ/src/pyoperators.jl:13\n  /(::Union{Int128, Int16, Int32, Int64, Int8, UInt128, UInt16, UInt32, UInt64, UInt8}, !Matched::Union{Int128, Int16, Int32, Int64, Int8, UInt128, UInt16, UInt32, UInt64, UInt8}) at int.jl:59\n  /(::Union{Int16, Int32, Int64, Int8, UInt16, UInt32, UInt64, UInt8}, !Matched::BigInt) at gmp.jl:457\n  ...",
     "output_type": "error",
     "traceback": [
      "MethodError: no method matching /(::Int64, ::Array{GenericAffExpr{Float64,VariableRef},2})\n\nYou might have used a 2d row vector where a 1d column vector was required.\nNote the difference between 1d column vector [1,2,3] and 2d row vector [1 2 3].\nYou can convert to a column vector with the vec() function.\nClosest candidates are:\n  /(!Matched::PyCall.PyObject, ::Any) at /Users/vnvasquez/.julia/packages/PyCall/ttONZ/src/pyoperators.jl:13\n  /(::Union{Int128, Int16, Int32, Int64, Int8, UInt128, UInt16, UInt32, UInt64, UInt8}, !Matched::Union{Int128, Int16, Int32, Int64, Int8, UInt128, UInt16, UInt32, UInt64, UInt8}) at int.jl:59\n  /(::Union{Int16, Int32, Int64, Int8, UInt16, UInt32, UInt64, UInt8}, !Matched::BigInt) at gmp.jl:457\n  ...",
      "",
      "Stacktrace:",
      " [1] top-level scope at /Users/vnvasquez/.julia/packages/JuMP/iGamg/src/macros.jl:482",
      " [2] top-level scope at In[540]:1"
     ]
    }
   ],
   "source": [
    "@constraint(model, F_conL1[s = SF, g = G, t = T], \n",
    "    \n",
    "    F[s, g, t] == F0[s, g] + \n",
    "    \n",
    "    # Question: how to correctly incorporate the mating? \n",
    "    # Question: OK to index into H even if this is not done in the popgen model?\n",
    "    \n",
    "    M[s, g, t] * Η[g]/sum(M[:, :, t].data * Η[g] for g in 1:6) * Φ[g] * qP * nP * P[end,g,t]' -  \n",
    "    \n",
    "    # M[s, g, t] * Η[g]/sum(M[s, g, t] * Η[g] for g in 1:6) * Φ[g] * qP * nP * P[end,g,t]' -  \n",
    "    \n",
    "    #(M[s,g,t]*Η[g])/(LinearAlgebra.norm(M[s,g,t]*Η[g]) * (Φ[g] * qP * nP *  P[end,g,t]')) -\n",
    "    \n",
    "    #my_normalize(M[s,g,t],Η[g]) * (Φ[g] * qP * nP *  P[end,g,t]') -\n",
    "    \n",
    "    #LinearAlgebra.normalize(M[s,g,t]*Η[g]) * (Φ[g] * qP * nP *  P[end,g,t]') -\n",
    "    \n",
    "    \n",
    "    μF * F[s, g, t]  * compute_density(densF, sum(F[:, :, t])))"
   ]
  },
  {
   "cell_type": "code",
   "execution_count": 431,
   "metadata": {},
   "outputs": [],
   "source": [
    "# FIGURING OUT HOW/WHETHER/WHAT\n",
    "\n",
    "Η\n",
    "\n",
    "matematrix = [0.0 0.0 0.0 0.0 0.0 0.0; \n",
    "    0.0 0.0 0.0 0.0 0.0 0.0; \n",
    "    0.0 0.0 0.0 0.0 0.0 0.0; \n",
    "    0.0 0.0 0.0 45.0 0.0 0.0; \n",
    "    0.0 0.0 0.0 0.0 0.0 0.0; \n",
    "    0.0 0.0 0.0 0.0 0.0 0.0]\n",
    "\n",
    "@constraint(model, F_conTESTING[s = SF, g = G, t = 1], \n",
    "    #@showA\n",
    "    F[s, g, t] == F0[s, g] +\n",
    "    matematrix[s, g] - \n",
    "    μF * F[s, g, t] * compute_density(densF, sum(F[:, :, t])))\n",
    "\n",
    ";"
   ]
  },
  {
   "cell_type": "code",
   "execution_count": null,
   "metadata": {},
   "outputs": [],
   "source": []
  },
  {
   "cell_type": "markdown",
   "metadata": {},
   "source": [
    "### Define objective function\n",
    "Applicable to one-shot optimization"
   ]
  },
  {
   "cell_type": "code",
   "execution_count": null,
   "metadata": {},
   "outputs": [],
   "source": [
    "# SET THE OBJECTIVE FUNCTION FOR ONE-SHOT OPTIMIZATION\n",
    "\n",
    "# how to correctly define? \n",
    "#@NLobjective(m, Min, sum(     )ˆ2 + 1e-6 * controls[t] for t = T[1:end]))\n"
   ]
  },
  {
   "cell_type": "code",
   "execution_count": null,
   "metadata": {},
   "outputs": [],
   "source": [
    "# PRINT AND VIEW OBJECTIVE VALUE\n",
    "\n",
    "#println(\"Objective value: \", getobjectivevalue(m))"
   ]
  }
 ],
 "metadata": {
  "kernelspec": {
   "display_name": "Julia 1.1.0",
   "language": "julia",
   "name": "julia-1.1"
  },
  "language_info": {
   "file_extension": ".jl",
   "mimetype": "application/julia",
   "name": "julia",
   "version": "1.1.0"
  }
 },
 "nbformat": 4,
 "nbformat_minor": 2
}
