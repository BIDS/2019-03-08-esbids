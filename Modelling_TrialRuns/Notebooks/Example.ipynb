{
 "cells": [
  {
   "cell_type": "markdown",
   "metadata": {},
   "source": [
    "Preliminaries for .toml files"
   ]
  },
  {
   "cell_type": "code",
   "execution_count": 6,
   "metadata": {},
   "outputs": [],
   "source": [
    "# ] add package#branch"
   ]
  },
  {
   "cell_type": "code",
   "execution_count": 12,
   "metadata": {},
   "outputs": [],
   "source": [
    "cd(\"../TestDrive\")"
   ]
  },
  {
   "cell_type": "code",
   "execution_count": 13,
   "metadata": {},
   "outputs": [],
   "source": [
    "] activate . "
   ]
  },
  {
   "cell_type": "code",
   "execution_count": 14,
   "metadata": {},
   "outputs": [
    {
     "name": "stdout",
     "output_type": "stream",
     "text": [
      "\u001b[32m\u001b[1m  Updating\u001b[22m\u001b[39m registry at `C:\\Users\\valer\\.julia\\registries\\General`\n",
      "\u001b[32m\u001b[1m  Updating\u001b[22m\u001b[39m git-repo `https://github.com/JuliaRegistries/General.git`\n",
      "\u001b[2K\u001b[36m\u001b[1mFetching:\u001b[22m\u001b[39m [========================================>]  100.0 %.0 %\u001b[?25h\u001b[32m\u001b[1m  Updating\u001b[22m\u001b[39m git-repo `https://github.com/JuliaOpt/GLPK.jl.git`\n",
      "\u001b[?25l\u001b[2K\u001b[?25h\u001b[32m\u001b[1m  Updating\u001b[22m\u001b[39m git-repo `https://github.com/JuliaOpt/JuMP.jl.git`\n",
      "\u001b[2K\u001b[36m\u001b[1mFetching:\u001b[22m\u001b[39m [========================================>]  100.0 %.0 %0.0 %\u001b[36m\u001b[1mFetching:\u001b[22m\u001b[39m [======================================>  ]  93.3 %\u001b[?25h\u001b[32m\u001b[1m  Updating\u001b[22m\u001b[39m git-repo `https://github.com/JuliaOpt/Ipopt.jl.git`\n",
      "\u001b[?25l\u001b[2K\u001b[?25h\u001b[32m\u001b[1m  Updating\u001b[22m\u001b[39m git-repo `https://github.com/JuliaOpt/MathOptInterface.jl.git`\n",
      "\u001b[?25l\u001b[2K\u001b[?25h\u001b[32m\u001b[1m Resolving\u001b[22m\u001b[39m package versions...\n",
      "\u001b[32m\u001b[1m  Updating\u001b[22m\u001b[39m `C:\\Users\\valer\\Dropbox\\Berkeley\\Code\\Modelling_TrialRuns\\TestDrive\\Project.toml`\n",
      " \u001b[90m [4076af6c]\u001b[39m\u001b[93m ↑ JuMP v0.19.2 #master (https://github.com/JuliaOpt/JuMP.jl.git) ⇒ v0.20.0 #master (https://github.com/JuliaOpt/JuMP.jl.git)\u001b[39m\n",
      "\u001b[32m\u001b[1m  Updating\u001b[22m\u001b[39m `C:\\Users\\valer\\Dropbox\\Berkeley\\Code\\Modelling_TrialRuns\\TestDrive\\Manifest.toml`\n",
      " \u001b[90m [4076af6c]\u001b[39m\u001b[93m ↑ JuMP v0.19.2 #master (https://github.com/JuliaOpt/JuMP.jl.git) ⇒ v0.20.0 #master (https://github.com/JuliaOpt/JuMP.jl.git)\u001b[39m\n"
     ]
    }
   ],
   "source": [
    "] up"
   ]
  },
  {
   "cell_type": "code",
   "execution_count": 15,
   "metadata": {},
   "outputs": [
    {
     "name": "stderr",
     "output_type": "stream",
     "text": [
      "┌ Info: Precompiling Plots [91a5bcdd-55d7-5caf-9e0b-520d859cae80]\n",
      "└ @ Base loading.jl:1186\n",
      "ERROR: LoadError: UndefVarError: ffmpeg not defined\n",
      "Stacktrace:\n",
      " [1] top-level scope at none:0\n",
      " [2] include at .\\boot.jl:326 [inlined]\n",
      " [3] include_relative(::Module, ::String) at .\\loading.jl:1038\n",
      " [4] include(::Module, ::String) at .\\sysimg.jl:29\n",
      " [5] top-level scope at none:2\n",
      " [6] eval at .\\boot.jl:328 [inlined]\n",
      " [7] eval(::Expr) at .\\client.jl:404\n",
      " [8] top-level scope at .\\none:3\n",
      "in expression starting at C:\\Users\\valer\\.julia\\packages\\FFMPEG\\9JQpZ\\src\\FFMPEG.jl:55\n",
      "ERROR: LoadError: Failed to precompile FFMPEG [c87230d0-a227-11e9-1b43-d7ebe4e7570a] to C:\\Users\\valer\\.julia\\compiled\\v1.1\\FFMPEG\\TGvga.ji.\n",
      "Stacktrace:\n",
      " [1] error(::String) at .\\error.jl:33\n",
      " [2] compilecache(::Base.PkgId, ::String) at .\\loading.jl:1197\n",
      " [3] _require(::Base.PkgId) at .\\loading.jl:960\n",
      " [4] require(::Base.PkgId) at .\\loading.jl:858\n",
      " [5] require(::Module, ::Symbol) at .\\loading.jl:853\n",
      " [6] include at .\\boot.jl:326 [inlined]\n",
      " [7] include_relative(::Module, ::String) at .\\loading.jl:1038\n",
      " [8] include(::Module, ::String) at .\\sysimg.jl:29\n",
      " [9] top-level scope at none:2\n",
      " [10] eval at .\\boot.jl:328 [inlined]\n",
      " [11] eval(::Expr) at .\\client.jl:404\n",
      " [12] top-level scope at .\\none:3\n",
      "in expression starting at C:\\Users\\valer\\.julia\\packages\\Plots\\nGTMN\\src\\Plots.jl:11\n"
     ]
    },
    {
     "ename": "ErrorException",
     "evalue": "Failed to precompile Plots [91a5bcdd-55d7-5caf-9e0b-520d859cae80] to C:\\Users\\valer\\.julia\\compiled\\v1.1\\Plots\\ld3vC.ji.",
     "output_type": "error",
     "traceback": [
      "Failed to precompile Plots [91a5bcdd-55d7-5caf-9e0b-520d859cae80] to C:\\Users\\valer\\.julia\\compiled\\v1.1\\Plots\\ld3vC.ji.",
      "",
      "Stacktrace:",
      " [1] error(::String) at .\\error.jl:33",
      " [2] compilecache(::Base.PkgId, ::String) at .\\loading.jl:1197",
      " [3] _require(::Base.PkgId) at .\\loading.jl:960",
      " [4] require(::Base.PkgId) at .\\loading.jl:858",
      " [5] require(::Module, ::Symbol) at .\\loading.jl:853",
      " [6] top-level scope at In[15]:1"
     ]
    }
   ],
   "source": [
    "using Plots\n",
    "gr()\n",
    ";"
   ]
  },
  {
   "cell_type": "markdown",
   "metadata": {},
   "source": [
    "Main file "
   ]
  },
  {
   "cell_type": "code",
   "execution_count": 16,
   "metadata": {},
   "outputs": [
    {
     "name": "stderr",
     "output_type": "stream",
     "text": [
      "WARNING: redefining constant tstop1\n",
      "WARNING: redefining constant tstop2\n",
      "WARNING: redefining constant tstop3\n",
      "WARNING: redefining constant tstop4\n",
      "WARNING: redefining constant tstop5\n",
      "WARNING: redefining constant tstop6\n",
      "WARNING: redefining constant tstop7\n",
      "WARNING: redefining constant tstop8\n",
      "WARNING: redefining constant tstop9\n",
      "WARNING: redefining constant tstop10\n",
      "WARNING: redefining constant tstop\n"
     ]
    },
    {
     "data": {
      "text/plain": [
       "population_model_network (generic function with 1 method)"
      ]
     },
     "execution_count": 16,
     "metadata": {},
     "output_type": "execute_result"
    }
   ],
   "source": [
    "include(\"src/TestDrive.jl\")"
   ]
  },
  {
   "cell_type": "markdown",
   "metadata": {},
   "source": [
    "Specify migration (could also select from pre-existing migration matrices in data files)"
   ]
  },
  {
   "cell_type": "code",
   "execution_count": 17,
   "metadata": {},
   "outputs": [],
   "source": [
    "# User-specified fake migration matrices \n",
    "\n",
    "migrate1 = rand((6*(4+8+6+1+6)), 2, 2) \n",
    "migrate2 = rand((6*(4+8+6+1+6)), 2, 2)\n",
    ";"
   ]
  },
  {
   "cell_type": "markdown",
   "metadata": {},
   "source": [
    "Define insect details, genetic construct, and population structure for experimentation"
   ]
  },
  {
   "cell_type": "code",
   "execution_count": 18,
   "metadata": {},
   "outputs": [],
   "source": [
    "# This uses pre-existing stage data (aedes) and genetics (MCR) -> if desired, user could specify new. \n",
    "\n",
    "# User-named nodes  \n",
    "firstnode = :FirstNode\n",
    "secondnode = :SecondNode\n",
    "\n",
    "# User-constructed nodes: [name, gene_data, stages, location, migration_matrix]\n",
    "example_nodes = [Node(:FirstNode, genetics_mcr, stages_aedes, temp_none, (37.87, 122.27), migrate1),\n",
    "    Node(:SecondNode, genetics_mcr, stages_aedes, temp_none, (35.87, 120.27), migrate2)]\n",
    "\n",
    "# User-constructed network: [nodes, total states (# genotypes x states in each lifestage)] \n",
    "example_network = Network(example_nodes, 150)\n",
    ";"
   ]
  },
  {
   "cell_type": "markdown",
   "metadata": {},
   "source": [
    "\"True\" equilibrium: use analytic guesses in NLSolve"
   ]
  },
  {
   "cell_type": "code",
   "execution_count": 19,
   "metadata": {},
   "outputs": [],
   "source": [
    "# NB can also initialize each stage separately \n",
    "# (for now - working on way to do all at once) if want to have different genotypes in different stages\n",
    "# init_node!(desired_node, gene_index)\n",
    "u0 = init_node!(example_nodes[1], 4)\n",
    ";"
   ]
  },
  {
   "cell_type": "markdown",
   "metadata": {},
   "source": [
    "DiffEq: ODE without controls "
   ]
  },
  {
   "cell_type": "code",
   "execution_count": 20,
   "metadata": {},
   "outputs": [
    {
     "data": {
      "text/plain": [
       "\u001b[36mODEProblem\u001b[0m with uType \u001b[36mArray{Float64,2}\u001b[0m and tType \u001b[36mFloat64\u001b[0m. In-place: \u001b[36mtrue\u001b[0m\n",
       "timespan: (0.0, 300.0)\n",
       "u0: [1.76687e-18 -1.73706e-18 … 0.0 0.0; 1.68273e-18 -1.65435e-18 … 0.0 0.0; … ; 0.0 0.0 … 0.0 0.0; 0.0 0.0 … 0.0 0.0]"
      ]
     },
     "execution_count": 20,
     "metadata": {},
     "output_type": "execute_result"
    }
   ],
   "source": [
    "tspan = (0.0,300.0) \n",
    "controls = [0.0] # necessary even when not using controls bc of the way function is written \n",
    "ode_model = diffeq.ODEProblem(population_model_node, u0, tspan, (example_nodes[1], controls))"
   ]
  },
  {
   "cell_type": "code",
   "execution_count": 21,
   "metadata": {},
   "outputs": [],
   "source": [
    "alg = OrdinaryDiffEq.Tsit5() \n",
    "sol_ode = diffeq.solve(ode_model, alg)\n",
    ";"
   ]
  },
  {
   "cell_type": "markdown",
   "metadata": {},
   "source": [
    "Analyze result and plot"
   ]
  },
  {
   "cell_type": "code",
   "execution_count": 22,
   "metadata": {},
   "outputs": [
    {
     "data": {
      "text/plain": [
       "25-element Array{Float64,1}:\n",
       " 7625.200711632755        \n",
       " 7262.0959284002465       \n",
       " 6916.281847206621        \n",
       " 6586.9351010350065       \n",
       " 1498.2853517561823       \n",
       "  908.8192733559194       \n",
       "  551.2556065697543       \n",
       "  334.3831589441913       \n",
       "  202.81786221895192      \n",
       "  123.03099310503568      \n",
       "   74.62254090787292      \n",
       "   45.261394984956006     \n",
       "  114.96076760597006      \n",
       "  109.48320192694933      \n",
       "  104.27054349867802      \n",
       "   99.30510191607539      \n",
       "   94.57632751892713      \n",
       "   90.07268205756431      \n",
       "  500.4037962568068       \n",
       "   -1.8653440482592828e-30\n",
       "   -2.5678786029510796e-14\n",
       "    0.0                   \n",
       "  500.40379625680686      \n",
       "    0.0                   \n",
       "    0.0                   "
      ]
     },
     "execution_count": 22,
     "metadata": {},
     "output_type": "execute_result"
    }
   ],
   "source": [
    "sol_ode.u[end][:,4]\n"
   ]
  },
  {
   "cell_type": "code",
   "execution_count": 23,
   "metadata": {},
   "outputs": [
    {
     "ename": "UndefVarError",
     "evalue": "UndefVarError: plot not defined",
     "output_type": "error",
     "traceback": [
      "UndefVarError: plot not defined",
      "",
      "Stacktrace:",
      " [1] top-level scope at In[23]:1"
     ]
    }
   ],
   "source": [
    "plot(sol_ode, title = \"MCR Population at Equilibrium\") "
   ]
  },
  {
   "cell_type": "markdown",
   "metadata": {},
   "source": [
    "DiffEq: ODE with controls "
   ]
  },
  {
   "cell_type": "code",
   "execution_count": 24,
   "metadata": {},
   "outputs": [
    {
     "data": {
      "text/plain": [
       "\u001b[36mODEProblem\u001b[0m with uType \u001b[36mArray{Float64,2}\u001b[0m and tType \u001b[36mFloat64\u001b[0m. In-place: \u001b[36mtrue\u001b[0m\n",
       "timespan: (0.0, 300.0)\n",
       "u0: [1.76687e-18 -1.73706e-18 … 0.0 0.0; 1.68273e-18 -1.65435e-18 … 0.0 0.0; … ; 0.0 0.0 … 0.0 0.0; 0.0 0.0 … 0.0 0.0]"
      ]
     },
     "execution_count": 24,
     "metadata": {},
     "output_type": "execute_result"
    }
   ],
   "source": [
    "tspan = (0.0,300.0) \n",
    "controls = [0.0]\n",
    "\n",
    "# Construct ODE control problem \n",
    "control_model = diffeq.ODEProblem(population_model_node, u0, tspan, (example_nodes[1], controls))"
   ]
  },
  {
   "cell_type": "markdown",
   "metadata": {},
   "source": [
    "Choose algorithm and solve"
   ]
  },
  {
   "cell_type": "code",
   "execution_count": 25,
   "metadata": {},
   "outputs": [],
   "source": [
    "#alg = Vern8()\n",
    "#alg = OrdinaryDiffEq.Tsit5() \n",
    "alg = Sundials.CVODE_Adams()\n",
    "#alg = CVODE_BDF()\n",
    "\n",
    "sol_control = diffeq.solve(control_model, alg, callback = cbs, tstops = tstop)\n",
    ";"
   ]
  },
  {
   "cell_type": "markdown",
   "metadata": {},
   "source": [
    "Spot-check results "
   ]
  },
  {
   "cell_type": "code",
   "execution_count": 26,
   "metadata": {},
   "outputs": [
    {
     "data": {
      "text/plain": [
       "25×6 Array{Float64,2}:\n",
       " 7631.7        1.11067     0.0  0.00618558   0.0  0.0\n",
       " 7268.69       1.13906     0.0  0.00644327   0.0  0.0\n",
       " 6922.98       1.16805     0.0  0.00671169   0.0  0.0\n",
       " 6593.73       1.19766     0.0  0.00699129   0.0  0.0\n",
       " 1499.5        0.277066    0.0  0.00162311   0.0  0.0\n",
       "  909.332      0.170918    0.0  0.00100483   0.0  0.0\n",
       "  551.452      0.10544     0.0  0.000622093  0.0  0.0\n",
       "  334.415      0.0650439   0.0  0.000385126  0.0  0.0\n",
       "  202.782      0.0401212   0.0  0.000238407  0.0  0.0\n",
       "  123.006      0.0247573   0.0  0.00014764   0.0  0.0\n",
       "   74.5342     0.0152584   0.0  9.13172e-5   0.0  0.0\n",
       "   45.2836     0.00943233  0.0  5.66555e-5   0.0  0.0\n",
       "  114.819      0.0257336   0.0  0.000157068  0.0  0.0\n",
       "  109.378      0.0263792   0.0  0.000163637  0.0  0.0\n",
       "  104.156      0.0270275   0.0  0.000170413  0.0  0.0\n",
       "   99.19       0.0276902   0.0  0.00017748   0.0  0.0\n",
       "   94.459      0.0283652   0.0  0.000184835  0.0  0.0\n",
       "   89.9534     0.029053    0.0  0.000192492  0.0  0.0\n",
       "  498.388      0.610012    0.0  0.0100881    0.0  0.0\n",
       "  498.369      0.607439    0.0  0.00963605   0.0  0.0\n",
       "    1.80836    0.019209    0.0  0.00132351   0.0  0.0\n",
       "    0.0        0.0         0.0  0.0          0.0  0.0\n",
       "    0.0543452  0.00237547  0.0  0.000371137  0.0  0.0\n",
       "    0.0        0.0         0.0  0.0          0.0  0.0\n",
       "    0.0        0.0         0.0  0.0          0.0  0.0"
      ]
     },
     "execution_count": 26,
     "metadata": {},
     "output_type": "execute_result"
    }
   ],
   "source": [
    "sol_control.u[end]\n"
   ]
  },
  {
   "cell_type": "markdown",
   "metadata": {},
   "source": [
    "Plot"
   ]
  },
  {
   "cell_type": "code",
   "execution_count": 27,
   "metadata": {},
   "outputs": [
    {
     "ename": "UndefVarError",
     "evalue": "UndefVarError: plot not defined",
     "output_type": "error",
     "traceback": [
      "UndefVarError: plot not defined",
      "",
      "Stacktrace:",
      " [1] top-level scope at In[27]:1"
     ]
    }
   ],
   "source": [
    "# Question - full plotting routines here in Example file or elsewhere? Check PVCR example. \n",
    "# Question - use other plotting packages to make it nice; which? and choose appropriate backend. \n",
    "\n",
    "plot(sol_control, title = \"MCR Population with Releases\")"
   ]
  },
  {
   "cell_type": "code",
   "execution_count": 28,
   "metadata": {},
   "outputs": [],
   "source": [
    "males_HH = [val[19,1] for val in sol_control.u]\n",
    "males_Hh = [val[19,2] for val in sol_control.u]\n",
    "males_HR = [val[19,3] for val in sol_control.u]\n",
    "males_hh = [val[19,4] for val in sol_control.u]\n",
    "males_hR = [val[19,5] for val in sol_control.u]\n",
    "males_RR = [val[19,6] for val in sol_control.u]\n",
    ";"
   ]
  },
  {
   "cell_type": "code",
   "execution_count": 29,
   "metadata": {},
   "outputs": [
    {
     "ename": "UndefVarError",
     "evalue": "UndefVarError: plot not defined",
     "output_type": "error",
     "traceback": [
      "UndefVarError: plot not defined",
      "",
      "Stacktrace:",
      " [1] top-level scope at In[29]:1"
     ]
    }
   ],
   "source": [
    "plot(sol_control.t, males_HH, label = \"Males_HH\", title = \"MCR Males by Genotype\")\n",
    "plot!(sol_control.t, males_Hh, label = \"Males_Hh\")\n",
    "plot!(sol_control.t, males_HR, label = \"Males_HR\")\n",
    "plot!(sol_control.t, males_hh, label = \"Males_hh\")\n",
    "plot!(sol_control.t, males_hR, label = \"Males_hR\")\n",
    "plot!(sol_control.t, males_RR, label = \"Males_RR\")"
   ]
  },
  {
   "cell_type": "code",
   "execution_count": 30,
   "metadata": {},
   "outputs": [],
   "source": [
    "# list comprehensions return arrays; hence brackets\n",
    "sumfemales_HH = [sum(val[20,:]) for val in sol_control.u]   \n",
    "sumfemales_Hh = [sum(val[21,:]) for val in sol_control.u]\n",
    "sumfemales_HR = [sum(val[22,:]) for val in sol_control.u]\n",
    "sumfemales_hh = [sum(val[23,:]) for val in sol_control.u]\n",
    "sumfemales_hR = [sum(val[24,:]) for val in sol_control.u]\n",
    "sumfemales_RR = [sum(val[25,:]) for val in sol_control.u]\n",
    ";"
   ]
  },
  {
   "cell_type": "code",
   "execution_count": 31,
   "metadata": {},
   "outputs": [
    {
     "ename": "UndefVarError",
     "evalue": "UndefVarError: plot not defined",
     "output_type": "error",
     "traceback": [
      "UndefVarError: plot not defined",
      "",
      "Stacktrace:",
      " [1] top-level scope at In[31]:1"
     ]
    }
   ],
   "source": [
    "plot(sol_control.t, sumfemales_HH, label = \"HH\", title = \"MCR Females by Genotype\")\n",
    "plot!(sol_control.t, sumfemales_Hh, label = \"Hh\")\n",
    "plot!(sol_control.t, sumfemales_HR, label = \"HR\")\n",
    "plot!(sol_control.t, sumfemales_hh, label = \"hh\")\n",
    "plot!(sol_control.t, sumfemales_hR, label = \"hR\")\n",
    "plot!(sol_control.t, sumfemales_RR, label = \"RR\")"
   ]
  },
  {
   "cell_type": "code",
   "execution_count": null,
   "metadata": {},
   "outputs": [],
   "source": []
  },
  {
   "cell_type": "code",
   "execution_count": null,
   "metadata": {},
   "outputs": [],
   "source": []
  },
  {
   "cell_type": "code",
   "execution_count": null,
   "metadata": {},
   "outputs": [],
   "source": []
  },
  {
   "cell_type": "code",
   "execution_count": null,
   "metadata": {},
   "outputs": [],
   "source": []
  },
  {
   "cell_type": "code",
   "execution_count": null,
   "metadata": {},
   "outputs": [],
   "source": []
  }
 ],
 "metadata": {
  "kernelspec": {
   "display_name": "Julia 1.1.1",
   "language": "julia",
   "name": "julia-1.1"
  },
  "language_info": {
   "file_extension": ".jl",
   "mimetype": "application/julia",
   "name": "julia",
   "version": "1.1.1"
  }
 },
 "nbformat": 4,
 "nbformat_minor": 2
}
